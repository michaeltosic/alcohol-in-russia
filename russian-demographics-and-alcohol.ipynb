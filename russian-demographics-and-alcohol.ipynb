{
 "cells": [
  {
   "cell_type": "code",
   "execution_count": 238,
   "id": "cbcafab3",
   "metadata": {},
   "outputs": [],
   "source": [
    "import numpy as np\n",
    "import pandas as pd\n",
    "import matplotlib.pyplot as plt\n",
    "%matplotlib inline\n",
    "import seaborn as sns\n",
    "import plotly.express as px\n",
    "\n",
    "pd.options.display.float_format = '{:,.2f}'.format\n",
    "\n",
    "df_alc = pd.read_csv('./russia_alcohol.csv')\n",
    "df_dem = pd.read_csv('./russian_demography.csv')\n",
    "col_list = [\n",
    " 'Dim1',\n",
    " 'FactValueNumeric',\n",
    " #'FactValueNumericHigh',\n",
    " #'FactValueNumericLow',\n",
    " 'Location'#, 'Value'\n",
    "]\n",
    "df_2016_temp = pd.read_csv('./UN_data_2016.csv', usecols=col_list)\n",
    "df_2016_temp.rename(columns={\"Location\": \"country\", \"Dim1\": \"group\", \"FactValueNumeric\": \"value\"}, inplace=True)\n"
   ]
  },
  {
   "cell_type": "markdown",
   "id": "29011d68",
   "metadata": {},
   "source": [
    "# 1. A look at the data"
   ]
  },
  {
   "cell_type": "code",
   "execution_count": 240,
   "id": "475737ae",
   "metadata": {},
   "outputs": [
    {
     "data": {
      "text/html": [
       "<div>\n",
       "<style scoped>\n",
       "    .dataframe tbody tr th:only-of-type {\n",
       "        vertical-align: middle;\n",
       "    }\n",
       "\n",
       "    .dataframe tbody tr th {\n",
       "        vertical-align: top;\n",
       "    }\n",
       "\n",
       "    .dataframe thead th {\n",
       "        text-align: right;\n",
       "    }\n",
       "</style>\n",
       "<table border=\"1\" class=\"dataframe\">\n",
       "  <thead>\n",
       "    <tr style=\"text-align: right;\">\n",
       "      <th></th>\n",
       "      <th>country</th>\n",
       "      <th>group</th>\n",
       "      <th>value</th>\n",
       "    </tr>\n",
       "  </thead>\n",
       "  <tbody>\n",
       "    <tr>\n",
       "      <th>0</th>\n",
       "      <td>Kuwait</td>\n",
       "      <td>Both sexes</td>\n",
       "      <td>0.00</td>\n",
       "    </tr>\n",
       "    <tr>\n",
       "      <th>1</th>\n",
       "      <td>Kuwait</td>\n",
       "      <td>Female</td>\n",
       "      <td>0.00</td>\n",
       "    </tr>\n",
       "    <tr>\n",
       "      <th>2</th>\n",
       "      <td>Kuwait</td>\n",
       "      <td>Male</td>\n",
       "      <td>0.00</td>\n",
       "    </tr>\n",
       "    <tr>\n",
       "      <th>3</th>\n",
       "      <td>Mauritania</td>\n",
       "      <td>Both sexes</td>\n",
       "      <td>0.00</td>\n",
       "    </tr>\n",
       "    <tr>\n",
       "      <th>4</th>\n",
       "      <td>Mauritania</td>\n",
       "      <td>Female</td>\n",
       "      <td>0.00</td>\n",
       "    </tr>\n",
       "  </tbody>\n",
       "</table>\n",
       "</div>"
      ],
      "text/plain": [
       "      country       group  value\n",
       "0      Kuwait  Both sexes   0.00\n",
       "1      Kuwait      Female   0.00\n",
       "2      Kuwait        Male   0.00\n",
       "3  Mauritania  Both sexes   0.00\n",
       "4  Mauritania      Female   0.00"
      ]
     },
     "execution_count": 240,
     "metadata": {},
     "output_type": "execute_result"
    }
   ],
   "source": [
    "df_2016_temp.head()"
   ]
  },
  {
   "cell_type": "code",
   "execution_count": 173,
   "id": "f2ece65f",
   "metadata": {},
   "outputs": [
    {
     "data": {
      "text/html": [
       "<div>\n",
       "<style scoped>\n",
       "    .dataframe tbody tr th:only-of-type {\n",
       "        vertical-align: middle;\n",
       "    }\n",
       "\n",
       "    .dataframe tbody tr th {\n",
       "        vertical-align: top;\n",
       "    }\n",
       "\n",
       "    .dataframe thead th {\n",
       "        text-align: right;\n",
       "    }\n",
       "</style>\n",
       "<table border=\"1\" class=\"dataframe\">\n",
       "  <thead>\n",
       "    <tr style=\"text-align: right;\">\n",
       "      <th></th>\n",
       "      <th>year</th>\n",
       "      <th>region</th>\n",
       "      <th>npg</th>\n",
       "      <th>birth_rate</th>\n",
       "      <th>death_rate</th>\n",
       "      <th>gdw</th>\n",
       "      <th>urbanization</th>\n",
       "    </tr>\n",
       "  </thead>\n",
       "  <tbody>\n",
       "    <tr>\n",
       "      <th>0</th>\n",
       "      <td>1990</td>\n",
       "      <td>Republic of Adygea</td>\n",
       "      <td>1.90</td>\n",
       "      <td>14.20</td>\n",
       "      <td>12.30</td>\n",
       "      <td>84.66</td>\n",
       "      <td>52.42</td>\n",
       "    </tr>\n",
       "    <tr>\n",
       "      <th>1</th>\n",
       "      <td>1990</td>\n",
       "      <td>Altai Krai</td>\n",
       "      <td>1.80</td>\n",
       "      <td>12.90</td>\n",
       "      <td>11.10</td>\n",
       "      <td>80.24</td>\n",
       "      <td>58.07</td>\n",
       "    </tr>\n",
       "    <tr>\n",
       "      <th>2</th>\n",
       "      <td>1990</td>\n",
       "      <td>Amur Oblast</td>\n",
       "      <td>7.60</td>\n",
       "      <td>16.20</td>\n",
       "      <td>8.60</td>\n",
       "      <td>69.55</td>\n",
       "      <td>68.37</td>\n",
       "    </tr>\n",
       "    <tr>\n",
       "      <th>3</th>\n",
       "      <td>1990</td>\n",
       "      <td>Arkhangelsk Oblast</td>\n",
       "      <td>3.70</td>\n",
       "      <td>13.50</td>\n",
       "      <td>9.80</td>\n",
       "      <td>73.26</td>\n",
       "      <td>73.63</td>\n",
       "    </tr>\n",
       "    <tr>\n",
       "      <th>4</th>\n",
       "      <td>1990</td>\n",
       "      <td>Astrakhan Oblast</td>\n",
       "      <td>4.70</td>\n",
       "      <td>15.10</td>\n",
       "      <td>10.40</td>\n",
       "      <td>77.05</td>\n",
       "      <td>68.01</td>\n",
       "    </tr>\n",
       "  </tbody>\n",
       "</table>\n",
       "</div>"
      ],
      "text/plain": [
       "   year              region  npg  birth_rate  death_rate   gdw  urbanization\n",
       "0  1990  Republic of Adygea 1.90       14.20       12.30 84.66         52.42\n",
       "1  1990          Altai Krai 1.80       12.90       11.10 80.24         58.07\n",
       "2  1990         Amur Oblast 7.60       16.20        8.60 69.55         68.37\n",
       "3  1990  Arkhangelsk Oblast 3.70       13.50        9.80 73.26         73.63\n",
       "4  1990    Astrakhan Oblast 4.70       15.10       10.40 77.05         68.01"
      ]
     },
     "execution_count": 173,
     "metadata": {},
     "output_type": "execute_result"
    }
   ],
   "source": [
    "df_dem.head()"
   ]
  },
  {
   "cell_type": "code",
   "execution_count": 174,
   "id": "91690828",
   "metadata": {},
   "outputs": [
    {
     "data": {
      "text/html": [
       "<div>\n",
       "<style scoped>\n",
       "    .dataframe tbody tr th:only-of-type {\n",
       "        vertical-align: middle;\n",
       "    }\n",
       "\n",
       "    .dataframe tbody tr th {\n",
       "        vertical-align: top;\n",
       "    }\n",
       "\n",
       "    .dataframe thead th {\n",
       "        text-align: right;\n",
       "    }\n",
       "</style>\n",
       "<table border=\"1\" class=\"dataframe\">\n",
       "  <thead>\n",
       "    <tr style=\"text-align: right;\">\n",
       "      <th></th>\n",
       "      <th>year</th>\n",
       "      <th>npg</th>\n",
       "      <th>birth_rate</th>\n",
       "      <th>death_rate</th>\n",
       "      <th>gdw</th>\n",
       "      <th>urbanization</th>\n",
       "    </tr>\n",
       "  </thead>\n",
       "  <tbody>\n",
       "    <tr>\n",
       "      <th>count</th>\n",
       "      <td>2,380.00</td>\n",
       "      <td>2,317.00</td>\n",
       "      <td>2,317.00</td>\n",
       "      <td>2,315.00</td>\n",
       "      <td>2,330.00</td>\n",
       "      <td>2,330.00</td>\n",
       "    </tr>\n",
       "    <tr>\n",
       "      <th>mean</th>\n",
       "      <td>2,003.50</td>\n",
       "      <td>-2.34</td>\n",
       "      <td>11.55</td>\n",
       "      <td>13.90</td>\n",
       "      <td>68.47</td>\n",
       "      <td>69.15</td>\n",
       "    </tr>\n",
       "    <tr>\n",
       "      <th>std</th>\n",
       "      <td>8.08</td>\n",
       "      <td>6.06</td>\n",
       "      <td>3.23</td>\n",
       "      <td>3.50</td>\n",
       "      <td>10.45</td>\n",
       "      <td>13.35</td>\n",
       "    </tr>\n",
       "    <tr>\n",
       "      <th>min</th>\n",
       "      <td>1,990.00</td>\n",
       "      <td>-15.90</td>\n",
       "      <td>6.20</td>\n",
       "      <td>3.20</td>\n",
       "      <td>37.50</td>\n",
       "      <td>23.63</td>\n",
       "    </tr>\n",
       "    <tr>\n",
       "      <th>25%</th>\n",
       "      <td>1,996.75</td>\n",
       "      <td>-6.20</td>\n",
       "      <td>9.30</td>\n",
       "      <td>12.10</td>\n",
       "      <td>61.38</td>\n",
       "      <td>62.79</td>\n",
       "    </tr>\n",
       "    <tr>\n",
       "      <th>50%</th>\n",
       "      <td>2,003.50</td>\n",
       "      <td>-3.10</td>\n",
       "      <td>11.00</td>\n",
       "      <td>14.10</td>\n",
       "      <td>68.53</td>\n",
       "      <td>69.58</td>\n",
       "    </tr>\n",
       "    <tr>\n",
       "      <th>75%</th>\n",
       "      <td>2,010.25</td>\n",
       "      <td>0.70</td>\n",
       "      <td>13.00</td>\n",
       "      <td>16.10</td>\n",
       "      <td>76.90</td>\n",
       "      <td>77.62</td>\n",
       "    </tr>\n",
       "    <tr>\n",
       "      <th>max</th>\n",
       "      <td>2,017.00</td>\n",
       "      <td>24.80</td>\n",
       "      <td>29.90</td>\n",
       "      <td>24.90</td>\n",
       "      <td>97.53</td>\n",
       "      <td>100.00</td>\n",
       "    </tr>\n",
       "  </tbody>\n",
       "</table>\n",
       "</div>"
      ],
      "text/plain": [
       "          year      npg  birth_rate  death_rate      gdw  urbanization\n",
       "count 2,380.00 2,317.00    2,317.00    2,315.00 2,330.00      2,330.00\n",
       "mean  2,003.50    -2.34       11.55       13.90    68.47         69.15\n",
       "std       8.08     6.06        3.23        3.50    10.45         13.35\n",
       "min   1,990.00   -15.90        6.20        3.20    37.50         23.63\n",
       "25%   1,996.75    -6.20        9.30       12.10    61.38         62.79\n",
       "50%   2,003.50    -3.10       11.00       14.10    68.53         69.58\n",
       "75%   2,010.25     0.70       13.00       16.10    76.90         77.62\n",
       "max   2,017.00    24.80       29.90       24.90    97.53        100.00"
      ]
     },
     "execution_count": 174,
     "metadata": {},
     "output_type": "execute_result"
    }
   ],
   "source": [
    "df_dem.describe()"
   ]
  },
  {
   "cell_type": "code",
   "execution_count": 175,
   "id": "e14cda58",
   "metadata": {},
   "outputs": [
    {
     "data": {
      "text/html": [
       "<div>\n",
       "<style scoped>\n",
       "    .dataframe tbody tr th:only-of-type {\n",
       "        vertical-align: middle;\n",
       "    }\n",
       "\n",
       "    .dataframe tbody tr th {\n",
       "        vertical-align: top;\n",
       "    }\n",
       "\n",
       "    .dataframe thead th {\n",
       "        text-align: right;\n",
       "    }\n",
       "</style>\n",
       "<table border=\"1\" class=\"dataframe\">\n",
       "  <thead>\n",
       "    <tr style=\"text-align: right;\">\n",
       "      <th></th>\n",
       "      <th>year</th>\n",
       "      <th>region</th>\n",
       "      <th>wine</th>\n",
       "      <th>beer</th>\n",
       "      <th>vodka</th>\n",
       "      <th>champagne</th>\n",
       "      <th>brandy</th>\n",
       "    </tr>\n",
       "  </thead>\n",
       "  <tbody>\n",
       "    <tr>\n",
       "      <th>0</th>\n",
       "      <td>1998</td>\n",
       "      <td>Republic of Adygea</td>\n",
       "      <td>1.90</td>\n",
       "      <td>8.80</td>\n",
       "      <td>3.40</td>\n",
       "      <td>0.30</td>\n",
       "      <td>0.10</td>\n",
       "    </tr>\n",
       "    <tr>\n",
       "      <th>1</th>\n",
       "      <td>1998</td>\n",
       "      <td>Altai Krai</td>\n",
       "      <td>3.30</td>\n",
       "      <td>19.20</td>\n",
       "      <td>11.30</td>\n",
       "      <td>1.10</td>\n",
       "      <td>0.10</td>\n",
       "    </tr>\n",
       "    <tr>\n",
       "      <th>2</th>\n",
       "      <td>1998</td>\n",
       "      <td>Amur Oblast</td>\n",
       "      <td>2.10</td>\n",
       "      <td>21.20</td>\n",
       "      <td>17.30</td>\n",
       "      <td>0.70</td>\n",
       "      <td>0.40</td>\n",
       "    </tr>\n",
       "    <tr>\n",
       "      <th>3</th>\n",
       "      <td>1998</td>\n",
       "      <td>Arkhangelsk Oblast</td>\n",
       "      <td>4.30</td>\n",
       "      <td>10.60</td>\n",
       "      <td>11.70</td>\n",
       "      <td>0.40</td>\n",
       "      <td>0.30</td>\n",
       "    </tr>\n",
       "    <tr>\n",
       "      <th>4</th>\n",
       "      <td>1998</td>\n",
       "      <td>Astrakhan Oblast</td>\n",
       "      <td>2.90</td>\n",
       "      <td>18.00</td>\n",
       "      <td>9.50</td>\n",
       "      <td>0.80</td>\n",
       "      <td>0.20</td>\n",
       "    </tr>\n",
       "  </tbody>\n",
       "</table>\n",
       "</div>"
      ],
      "text/plain": [
       "   year              region  wine  beer  vodka  champagne  brandy\n",
       "0  1998  Republic of Adygea  1.90  8.80   3.40       0.30    0.10\n",
       "1  1998          Altai Krai  3.30 19.20  11.30       1.10    0.10\n",
       "2  1998         Amur Oblast  2.10 21.20  17.30       0.70    0.40\n",
       "3  1998  Arkhangelsk Oblast  4.30 10.60  11.70       0.40    0.30\n",
       "4  1998    Astrakhan Oblast  2.90 18.00   9.50       0.80    0.20"
      ]
     },
     "execution_count": 175,
     "metadata": {},
     "output_type": "execute_result"
    }
   ],
   "source": [
    "df_alc.head()"
   ]
  },
  {
   "cell_type": "code",
   "execution_count": 176,
   "id": "efa71454",
   "metadata": {},
   "outputs": [
    {
     "data": {
      "text/html": [
       "<div>\n",
       "<style scoped>\n",
       "    .dataframe tbody tr th:only-of-type {\n",
       "        vertical-align: middle;\n",
       "    }\n",
       "\n",
       "    .dataframe tbody tr th {\n",
       "        vertical-align: top;\n",
       "    }\n",
       "\n",
       "    .dataframe thead th {\n",
       "        text-align: right;\n",
       "    }\n",
       "</style>\n",
       "<table border=\"1\" class=\"dataframe\">\n",
       "  <thead>\n",
       "    <tr style=\"text-align: right;\">\n",
       "      <th></th>\n",
       "      <th>year</th>\n",
       "      <th>wine</th>\n",
       "      <th>beer</th>\n",
       "      <th>vodka</th>\n",
       "      <th>champagne</th>\n",
       "      <th>brandy</th>\n",
       "    </tr>\n",
       "  </thead>\n",
       "  <tbody>\n",
       "    <tr>\n",
       "      <th>count</th>\n",
       "      <td>1,615.00</td>\n",
       "      <td>1,552.00</td>\n",
       "      <td>1,557.00</td>\n",
       "      <td>1,554.00</td>\n",
       "      <td>1,552.00</td>\n",
       "      <td>1,549.00</td>\n",
       "    </tr>\n",
       "    <tr>\n",
       "      <th>mean</th>\n",
       "      <td>2,007.00</td>\n",
       "      <td>5.63</td>\n",
       "      <td>51.26</td>\n",
       "      <td>11.82</td>\n",
       "      <td>1.31</td>\n",
       "      <td>0.53</td>\n",
       "    </tr>\n",
       "    <tr>\n",
       "      <th>std</th>\n",
       "      <td>5.48</td>\n",
       "      <td>2.81</td>\n",
       "      <td>25.37</td>\n",
       "      <td>5.13</td>\n",
       "      <td>0.80</td>\n",
       "      <td>0.40</td>\n",
       "    </tr>\n",
       "    <tr>\n",
       "      <th>min</th>\n",
       "      <td>1,998.00</td>\n",
       "      <td>0.10</td>\n",
       "      <td>0.40</td>\n",
       "      <td>0.05</td>\n",
       "      <td>0.10</td>\n",
       "      <td>0.00</td>\n",
       "    </tr>\n",
       "    <tr>\n",
       "      <th>25%</th>\n",
       "      <td>2,002.00</td>\n",
       "      <td>3.58</td>\n",
       "      <td>32.40</td>\n",
       "      <td>8.30</td>\n",
       "      <td>0.80</td>\n",
       "      <td>0.20</td>\n",
       "    </tr>\n",
       "    <tr>\n",
       "      <th>50%</th>\n",
       "      <td>2,007.00</td>\n",
       "      <td>5.40</td>\n",
       "      <td>49.97</td>\n",
       "      <td>11.50</td>\n",
       "      <td>1.20</td>\n",
       "      <td>0.40</td>\n",
       "    </tr>\n",
       "    <tr>\n",
       "      <th>75%</th>\n",
       "      <td>2,012.00</td>\n",
       "      <td>7.38</td>\n",
       "      <td>67.40</td>\n",
       "      <td>15.00</td>\n",
       "      <td>1.67</td>\n",
       "      <td>0.70</td>\n",
       "    </tr>\n",
       "    <tr>\n",
       "      <th>max</th>\n",
       "      <td>2,016.00</td>\n",
       "      <td>18.10</td>\n",
       "      <td>207.30</td>\n",
       "      <td>40.60</td>\n",
       "      <td>5.56</td>\n",
       "      <td>2.30</td>\n",
       "    </tr>\n",
       "  </tbody>\n",
       "</table>\n",
       "</div>"
      ],
      "text/plain": [
       "          year     wine     beer    vodka  champagne   brandy\n",
       "count 1,615.00 1,552.00 1,557.00 1,554.00   1,552.00 1,549.00\n",
       "mean  2,007.00     5.63    51.26    11.82       1.31     0.53\n",
       "std       5.48     2.81    25.37     5.13       0.80     0.40\n",
       "min   1,998.00     0.10     0.40     0.05       0.10     0.00\n",
       "25%   2,002.00     3.58    32.40     8.30       0.80     0.20\n",
       "50%   2,007.00     5.40    49.97    11.50       1.20     0.40\n",
       "75%   2,012.00     7.38    67.40    15.00       1.67     0.70\n",
       "max   2,016.00    18.10   207.30    40.60       5.56     2.30"
      ]
     },
     "execution_count": 176,
     "metadata": {},
     "output_type": "execute_result"
    }
   ],
   "source": [
    "df_alc.describe()"
   ]
  },
  {
   "cell_type": "markdown",
   "id": "ea73b2b5",
   "metadata": {},
   "source": [
    "Checking if the spelling of the regions is the same in all data sets:"
   ]
  },
  {
   "cell_type": "code",
   "execution_count": 177,
   "id": "3d8e3c4d",
   "metadata": {},
   "outputs": [
    {
     "name": "stdout",
     "output_type": "stream",
     "text": [
      "Unique Regions: 85\n",
      "Unique Regions: 85\n",
      "Intersection of the sets of regions: {'Orenburg Oblast', 'Oryol Oblast', 'Chukotka Autonomous Okrug', 'Khabarovsk Krai', 'Chuvash Republic', 'Tomsk Oblast', 'Irkutsk Oblast', 'Vologda Oblast', 'Kurgan Oblast', 'Belgorod Oblast', 'Chechen Republic', 'Pskov Oblast', 'Kursk Oblast', 'Ryazan Oblast', 'Murmansk Oblast', 'Sakhalin Oblast', 'Republic of Buryatia', 'Republic of Tatarstan', 'Tyumen Oblast', 'Republic of Adygea', 'Novosibirsk Oblast', 'Stavropol Krai', 'Republic of North Ossetia-Alania', 'Tuva Republic', 'Ivanovo Oblast', 'Moscow', 'Kaliningrad Oblast', 'Republic of Kalmykia', 'Saint Petersburg', 'Saratov Oblast', 'Republic of Karelia', 'Karachay-Cherkess Republic', 'Astrakhan Oblast', 'Volgograd Oblast', 'Altai Krai', 'Amur Oblast', 'Nenets Autonomous Okrug', 'Nizhny Novgorod Oblast', 'Chelyabinsk Oblast', 'Bryansk Oblast', 'Ulyanovsk Oblast', 'Altai Republic', 'Kamchatka Krai', 'Moscow Oblast', 'Yaroslavl Oblast', 'Khanty–Mansi Autonomous Okrug – Yugra', 'Perm Krai', 'Kirov Oblast', 'Kemerovo Oblast', 'Samara Oblast', 'Udmurt Republic', 'Sverdlovsk Oblast', 'Republic of Dagestan', 'Rostov Oblast', 'Zabaykalsky Krai', 'Republic of Ingushetia', 'Omsk Oblast', 'Tula Oblast', 'Primorsky Krai', 'Kaluga Oblast', 'Leningrad Oblast', 'Novgorod Oblast', 'Mari El Republic', 'Republic of Khakassia', 'Sevastopol', 'Republic of Crimea', 'Tambov Oblast', 'Kabardino-Balkar Republic', 'Arkhangelsk Oblast', 'Krasnodar Krai', 'Sakha (Yakutia) Republic', 'Lipetsk Oblast', 'Yamalo-Nenets Autonomous Okrug', 'Jewish Autonomous Oblast', 'Kostroma Oblast', 'Magadan Oblast', 'Krasnoyarsk Krai', 'Republic of Mordovia', 'Vladimir Oblast', 'Voronezh Oblast', 'Komi Republic', 'Tver Oblast', 'Penza Oblast', 'Smolensk Oblast', 'Republic of Bashkortostan'}\n",
      "Difference of the sets of regions: set()\n"
     ]
    }
   ],
   "source": [
    "print(\"Unique Regions: {}\".format(df_dem.region.nunique()))\n",
    "print(\"Unique Regions: {}\".format(df_alc.region.nunique()))\n",
    "print(\"Intersection of the sets of regions: {}\".format(set(df_dem.region).intersection(set(df_alc.region))))\n",
    "print(\"Difference of the sets of regions: {}\".format(set(df_dem.region).difference(set(df_alc.region))))"
   ]
  },
  {
   "cell_type": "markdown",
   "id": "08892a97",
   "metadata": {},
   "source": [
    "Looking good."
   ]
  },
  {
   "cell_type": "markdown",
   "id": "b3f2e88c",
   "metadata": {},
   "source": [
    "# 2. Prepare dataset"
   ]
  },
  {
   "cell_type": "code",
   "execution_count": 253,
   "id": "d519b12c",
   "metadata": {},
   "outputs": [],
   "source": [
    "#df_2016[\"id\"]=df_2016.groupby(\"group\")[\"group\"].cumcount()\n",
    "df_2016 = df_2016_temp.pivot(index=\"country\", columns=\"group\", values=\"value\")\n",
    "df_2016.rename(columns={\"Both sexes\": \"both\",\n",
    "                             \"Female\": \"female\", \"Male\": \"male\"},\n",
    "                            inplace=True) #renaming columns to be able to use dot notation\n",
    "df_2016.head()"
   ]
  },
  {
   "cell_type": "code",
   "execution_count": 36,
   "id": "d6762954",
   "metadata": {},
   "outputs": [
    {
     "data": {
      "text/html": [
       "<div>\n",
       "<style scoped>\n",
       "    .dataframe tbody tr th:only-of-type {\n",
       "        vertical-align: middle;\n",
       "    }\n",
       "\n",
       "    .dataframe tbody tr th {\n",
       "        vertical-align: top;\n",
       "    }\n",
       "\n",
       "    .dataframe thead th {\n",
       "        text-align: right;\n",
       "    }\n",
       "</style>\n",
       "<table border=\"1\" class=\"dataframe\">\n",
       "  <thead>\n",
       "    <tr style=\"text-align: right;\">\n",
       "      <th></th>\n",
       "      <th>year</th>\n",
       "      <th>region</th>\n",
       "      <th>npg</th>\n",
       "      <th>birth_rate</th>\n",
       "      <th>death_rate</th>\n",
       "      <th>gdw</th>\n",
       "      <th>urbanization</th>\n",
       "      <th>wine</th>\n",
       "      <th>beer</th>\n",
       "      <th>vodka</th>\n",
       "      <th>champagne</th>\n",
       "      <th>brandy</th>\n",
       "    </tr>\n",
       "  </thead>\n",
       "  <tbody>\n",
       "    <tr>\n",
       "      <th>0</th>\n",
       "      <td>1998</td>\n",
       "      <td>Republic of Adygea</td>\n",
       "      <td>-4.30</td>\n",
       "      <td>9.60</td>\n",
       "      <td>13.90</td>\n",
       "      <td>83.33</td>\n",
       "      <td>53.05</td>\n",
       "      <td>1.90</td>\n",
       "      <td>8.80</td>\n",
       "      <td>3.40</td>\n",
       "      <td>0.30</td>\n",
       "      <td>0.10</td>\n",
       "    </tr>\n",
       "    <tr>\n",
       "      <th>1</th>\n",
       "      <td>1998</td>\n",
       "      <td>Altai Krai</td>\n",
       "      <td>-4.00</td>\n",
       "      <td>8.80</td>\n",
       "      <td>12.80</td>\n",
       "      <td>72.67</td>\n",
       "      <td>52.76</td>\n",
       "      <td>3.30</td>\n",
       "      <td>19.20</td>\n",
       "      <td>11.30</td>\n",
       "      <td>1.10</td>\n",
       "      <td>0.10</td>\n",
       "    </tr>\n",
       "    <tr>\n",
       "      <th>2</th>\n",
       "      <td>1998</td>\n",
       "      <td>Amur Oblast</td>\n",
       "      <td>-1.80</td>\n",
       "      <td>10.40</td>\n",
       "      <td>12.20</td>\n",
       "      <td>65.59</td>\n",
       "      <td>66.07</td>\n",
       "      <td>2.10</td>\n",
       "      <td>21.20</td>\n",
       "      <td>17.30</td>\n",
       "      <td>0.70</td>\n",
       "      <td>0.40</td>\n",
       "    </tr>\n",
       "    <tr>\n",
       "      <th>3</th>\n",
       "      <td>1998</td>\n",
       "      <td>Arkhangelsk Oblast</td>\n",
       "      <td>-4.20</td>\n",
       "      <td>9.10</td>\n",
       "      <td>13.30</td>\n",
       "      <td>68.28</td>\n",
       "      <td>74.30</td>\n",
       "      <td>4.30</td>\n",
       "      <td>10.60</td>\n",
       "      <td>11.70</td>\n",
       "      <td>0.40</td>\n",
       "      <td>0.30</td>\n",
       "    </tr>\n",
       "    <tr>\n",
       "      <th>4</th>\n",
       "      <td>1998</td>\n",
       "      <td>Astrakhan Oblast</td>\n",
       "      <td>-3.70</td>\n",
       "      <td>9.60</td>\n",
       "      <td>13.30</td>\n",
       "      <td>73.76</td>\n",
       "      <td>68.13</td>\n",
       "      <td>2.90</td>\n",
       "      <td>18.00</td>\n",
       "      <td>9.50</td>\n",
       "      <td>0.80</td>\n",
       "      <td>0.20</td>\n",
       "    </tr>\n",
       "  </tbody>\n",
       "</table>\n",
       "</div>"
      ],
      "text/plain": [
       "   year              region   npg  birth_rate  death_rate   gdw  urbanization  \\\n",
       "0  1998  Republic of Adygea -4.30        9.60       13.90 83.33         53.05   \n",
       "1  1998          Altai Krai -4.00        8.80       12.80 72.67         52.76   \n",
       "2  1998         Amur Oblast -1.80       10.40       12.20 65.59         66.07   \n",
       "3  1998  Arkhangelsk Oblast -4.20        9.10       13.30 68.28         74.30   \n",
       "4  1998    Astrakhan Oblast -3.70        9.60       13.30 73.76         68.13   \n",
       "\n",
       "   wine  beer  vodka  champagne  brandy  \n",
       "0  1.90  8.80   3.40       0.30    0.10  \n",
       "1  3.30 19.20  11.30       1.10    0.10  \n",
       "2  2.10 21.20  17.30       0.70    0.40  \n",
       "3  4.30 10.60  11.70       0.40    0.30  \n",
       "4  2.90 18.00   9.50       0.80    0.20  "
      ]
     },
     "execution_count": 36,
     "metadata": {},
     "output_type": "execute_result"
    }
   ],
   "source": [
    "df = pd.merge(df_dem, df_alc, how='inner', on=['year','region'])\n",
    "df.head()"
   ]
  },
  {
   "cell_type": "code",
   "execution_count": 109,
   "id": "65e9dfa1",
   "metadata": {},
   "outputs": [
    {
     "data": {
      "text/plain": [
       "year           0.00\n",
       "region         0.00\n",
       "npg            0.02\n",
       "birth_rate     0.02\n",
       "death_rate     0.02\n",
       "gdw            0.02\n",
       "urbanization   0.02\n",
       "wine           0.04\n",
       "beer           0.04\n",
       "vodka          0.04\n",
       "champagne      0.04\n",
       "brandy         0.04\n",
       "total_volume   0.00\n",
       "dtype: float64"
      ]
     },
     "execution_count": 109,
     "metadata": {},
     "output_type": "execute_result"
    }
   ],
   "source": [
    "np.sum(df.isnull())/df.shape[0]"
   ]
  },
  {
   "cell_type": "code",
   "execution_count": 119,
   "id": "17b7a8e1",
   "metadata": {},
   "outputs": [
    {
     "data": {
      "text/plain": [
       "year            False\n",
       "region          False\n",
       "npg             False\n",
       "birth_rate      False\n",
       "death_rate      False\n",
       "gdw             False\n",
       "urbanization    False\n",
       "wine            False\n",
       "beer            False\n",
       "vodka           False\n",
       "champagne       False\n",
       "brandy          False\n",
       "total_volume    False\n",
       "dtype: bool"
      ]
     },
     "execution_count": 119,
     "metadata": {},
     "output_type": "execute_result"
    }
   ],
   "source": [
    "df.isna().all()"
   ]
  },
  {
   "cell_type": "code",
   "execution_count": 127,
   "id": "2e7d13a3",
   "metadata": {},
   "outputs": [
    {
     "data": {
      "text/html": [
       "<div>\n",
       "<style scoped>\n",
       "    .dataframe tbody tr th:only-of-type {\n",
       "        vertical-align: middle;\n",
       "    }\n",
       "\n",
       "    .dataframe tbody tr th {\n",
       "        vertical-align: top;\n",
       "    }\n",
       "\n",
       "    .dataframe thead th {\n",
       "        text-align: right;\n",
       "    }\n",
       "</style>\n",
       "<table border=\"1\" class=\"dataframe\">\n",
       "  <thead>\n",
       "    <tr style=\"text-align: right;\">\n",
       "      <th></th>\n",
       "      <th>year</th>\n",
       "      <th>region</th>\n",
       "      <th>npg</th>\n",
       "      <th>birth_rate</th>\n",
       "      <th>death_rate</th>\n",
       "      <th>gdw</th>\n",
       "      <th>urbanization</th>\n",
       "      <th>wine</th>\n",
       "      <th>beer</th>\n",
       "      <th>vodka</th>\n",
       "      <th>champagne</th>\n",
       "      <th>brandy</th>\n",
       "      <th>total_volume</th>\n",
       "    </tr>\n",
       "  </thead>\n",
       "  <tbody>\n",
       "    <tr>\n",
       "      <th>17</th>\n",
       "      <td>1998</td>\n",
       "      <td>Republic of Ingushetia</td>\n",
       "      <td>12.90</td>\n",
       "      <td>19.80</td>\n",
       "      <td>6.90</td>\n",
       "      <td>83.11</td>\n",
       "      <td>42.31</td>\n",
       "      <td>NaN</td>\n",
       "      <td>NaN</td>\n",
       "      <td>NaN</td>\n",
       "      <td>NaN</td>\n",
       "      <td>NaN</td>\n",
       "      <td>0.00</td>\n",
       "    </tr>\n",
       "    <tr>\n",
       "      <th>31</th>\n",
       "      <td>1998</td>\n",
       "      <td>Republic of Crimea</td>\n",
       "      <td>NaN</td>\n",
       "      <td>NaN</td>\n",
       "      <td>NaN</td>\n",
       "      <td>NaN</td>\n",
       "      <td>NaN</td>\n",
       "      <td>NaN</td>\n",
       "      <td>NaN</td>\n",
       "      <td>NaN</td>\n",
       "      <td>NaN</td>\n",
       "      <td>NaN</td>\n",
       "      <td>0.00</td>\n",
       "    </tr>\n",
       "    <tr>\n",
       "      <th>63</th>\n",
       "      <td>1998</td>\n",
       "      <td>Sevastopol</td>\n",
       "      <td>NaN</td>\n",
       "      <td>NaN</td>\n",
       "      <td>NaN</td>\n",
       "      <td>NaN</td>\n",
       "      <td>NaN</td>\n",
       "      <td>NaN</td>\n",
       "      <td>NaN</td>\n",
       "      <td>NaN</td>\n",
       "      <td>NaN</td>\n",
       "      <td>NaN</td>\n",
       "      <td>0.00</td>\n",
       "    </tr>\n",
       "    <tr>\n",
       "      <th>79</th>\n",
       "      <td>1998</td>\n",
       "      <td>Chechen Republic</td>\n",
       "      <td>NaN</td>\n",
       "      <td>NaN</td>\n",
       "      <td>NaN</td>\n",
       "      <td>86.25</td>\n",
       "      <td>37.33</td>\n",
       "      <td>NaN</td>\n",
       "      <td>NaN</td>\n",
       "      <td>NaN</td>\n",
       "      <td>NaN</td>\n",
       "      <td>NaN</td>\n",
       "      <td>0.00</td>\n",
       "    </tr>\n",
       "    <tr>\n",
       "      <th>102</th>\n",
       "      <td>1999</td>\n",
       "      <td>Republic of Ingushetia</td>\n",
       "      <td>14.50</td>\n",
       "      <td>20.60</td>\n",
       "      <td>6.10</td>\n",
       "      <td>84.79</td>\n",
       "      <td>42.01</td>\n",
       "      <td>NaN</td>\n",
       "      <td>NaN</td>\n",
       "      <td>NaN</td>\n",
       "      <td>NaN</td>\n",
       "      <td>NaN</td>\n",
       "      <td>0.00</td>\n",
       "    </tr>\n",
       "    <tr>\n",
       "      <th>116</th>\n",
       "      <td>1999</td>\n",
       "      <td>Republic of Crimea</td>\n",
       "      <td>NaN</td>\n",
       "      <td>NaN</td>\n",
       "      <td>NaN</td>\n",
       "      <td>NaN</td>\n",
       "      <td>NaN</td>\n",
       "      <td>NaN</td>\n",
       "      <td>NaN</td>\n",
       "      <td>NaN</td>\n",
       "      <td>NaN</td>\n",
       "      <td>NaN</td>\n",
       "      <td>0.00</td>\n",
       "    </tr>\n",
       "    <tr>\n",
       "      <th>148</th>\n",
       "      <td>1999</td>\n",
       "      <td>Sevastopol</td>\n",
       "      <td>NaN</td>\n",
       "      <td>NaN</td>\n",
       "      <td>NaN</td>\n",
       "      <td>NaN</td>\n",
       "      <td>NaN</td>\n",
       "      <td>NaN</td>\n",
       "      <td>NaN</td>\n",
       "      <td>NaN</td>\n",
       "      <td>NaN</td>\n",
       "      <td>NaN</td>\n",
       "      <td>0.00</td>\n",
       "    </tr>\n",
       "    <tr>\n",
       "      <th>164</th>\n",
       "      <td>1999</td>\n",
       "      <td>Chechen Republic</td>\n",
       "      <td>NaN</td>\n",
       "      <td>NaN</td>\n",
       "      <td>NaN</td>\n",
       "      <td>84.81</td>\n",
       "      <td>36.83</td>\n",
       "      <td>NaN</td>\n",
       "      <td>NaN</td>\n",
       "      <td>NaN</td>\n",
       "      <td>NaN</td>\n",
       "      <td>NaN</td>\n",
       "      <td>0.00</td>\n",
       "    </tr>\n",
       "    <tr>\n",
       "      <th>187</th>\n",
       "      <td>2000</td>\n",
       "      <td>Republic of Ingushetia</td>\n",
       "      <td>16.10</td>\n",
       "      <td>21.50</td>\n",
       "      <td>5.40</td>\n",
       "      <td>85.12</td>\n",
       "      <td>42.87</td>\n",
       "      <td>NaN</td>\n",
       "      <td>NaN</td>\n",
       "      <td>NaN</td>\n",
       "      <td>NaN</td>\n",
       "      <td>NaN</td>\n",
       "      <td>0.00</td>\n",
       "    </tr>\n",
       "    <tr>\n",
       "      <th>201</th>\n",
       "      <td>2000</td>\n",
       "      <td>Republic of Crimea</td>\n",
       "      <td>NaN</td>\n",
       "      <td>NaN</td>\n",
       "      <td>NaN</td>\n",
       "      <td>NaN</td>\n",
       "      <td>NaN</td>\n",
       "      <td>NaN</td>\n",
       "      <td>NaN</td>\n",
       "      <td>NaN</td>\n",
       "      <td>NaN</td>\n",
       "      <td>NaN</td>\n",
       "      <td>0.00</td>\n",
       "    </tr>\n",
       "    <tr>\n",
       "      <th>233</th>\n",
       "      <td>2000</td>\n",
       "      <td>Sevastopol</td>\n",
       "      <td>NaN</td>\n",
       "      <td>NaN</td>\n",
       "      <td>NaN</td>\n",
       "      <td>NaN</td>\n",
       "      <td>NaN</td>\n",
       "      <td>NaN</td>\n",
       "      <td>NaN</td>\n",
       "      <td>NaN</td>\n",
       "      <td>NaN</td>\n",
       "      <td>NaN</td>\n",
       "      <td>0.00</td>\n",
       "    </tr>\n",
       "    <tr>\n",
       "      <th>249</th>\n",
       "      <td>2000</td>\n",
       "      <td>Chechen Republic</td>\n",
       "      <td>NaN</td>\n",
       "      <td>NaN</td>\n",
       "      <td>NaN</td>\n",
       "      <td>82.39</td>\n",
       "      <td>35.70</td>\n",
       "      <td>NaN</td>\n",
       "      <td>NaN</td>\n",
       "      <td>NaN</td>\n",
       "      <td>NaN</td>\n",
       "      <td>NaN</td>\n",
       "      <td>0.00</td>\n",
       "    </tr>\n",
       "    <tr>\n",
       "      <th>286</th>\n",
       "      <td>2001</td>\n",
       "      <td>Republic of Crimea</td>\n",
       "      <td>NaN</td>\n",
       "      <td>NaN</td>\n",
       "      <td>NaN</td>\n",
       "      <td>NaN</td>\n",
       "      <td>NaN</td>\n",
       "      <td>NaN</td>\n",
       "      <td>NaN</td>\n",
       "      <td>NaN</td>\n",
       "      <td>NaN</td>\n",
       "      <td>NaN</td>\n",
       "      <td>0.00</td>\n",
       "    </tr>\n",
       "    <tr>\n",
       "      <th>318</th>\n",
       "      <td>2001</td>\n",
       "      <td>Sevastopol</td>\n",
       "      <td>NaN</td>\n",
       "      <td>NaN</td>\n",
       "      <td>NaN</td>\n",
       "      <td>NaN</td>\n",
       "      <td>NaN</td>\n",
       "      <td>NaN</td>\n",
       "      <td>NaN</td>\n",
       "      <td>NaN</td>\n",
       "      <td>NaN</td>\n",
       "      <td>NaN</td>\n",
       "      <td>0.00</td>\n",
       "    </tr>\n",
       "    <tr>\n",
       "      <th>334</th>\n",
       "      <td>2001</td>\n",
       "      <td>Chechen Republic</td>\n",
       "      <td>NaN</td>\n",
       "      <td>NaN</td>\n",
       "      <td>NaN</td>\n",
       "      <td>81.01</td>\n",
       "      <td>33.52</td>\n",
       "      <td>NaN</td>\n",
       "      <td>NaN</td>\n",
       "      <td>NaN</td>\n",
       "      <td>NaN</td>\n",
       "      <td>NaN</td>\n",
       "      <td>0.00</td>\n",
       "    </tr>\n",
       "    <tr>\n",
       "      <th>371</th>\n",
       "      <td>2002</td>\n",
       "      <td>Republic of Crimea</td>\n",
       "      <td>NaN</td>\n",
       "      <td>NaN</td>\n",
       "      <td>NaN</td>\n",
       "      <td>NaN</td>\n",
       "      <td>NaN</td>\n",
       "      <td>NaN</td>\n",
       "      <td>NaN</td>\n",
       "      <td>NaN</td>\n",
       "      <td>NaN</td>\n",
       "      <td>NaN</td>\n",
       "      <td>0.00</td>\n",
       "    </tr>\n",
       "    <tr>\n",
       "      <th>403</th>\n",
       "      <td>2002</td>\n",
       "      <td>Sevastopol</td>\n",
       "      <td>NaN</td>\n",
       "      <td>NaN</td>\n",
       "      <td>NaN</td>\n",
       "      <td>NaN</td>\n",
       "      <td>NaN</td>\n",
       "      <td>NaN</td>\n",
       "      <td>NaN</td>\n",
       "      <td>NaN</td>\n",
       "      <td>NaN</td>\n",
       "      <td>NaN</td>\n",
       "      <td>0.00</td>\n",
       "    </tr>\n",
       "    <tr>\n",
       "      <th>419</th>\n",
       "      <td>2002</td>\n",
       "      <td>Chechen Republic</td>\n",
       "      <td>NaN</td>\n",
       "      <td>NaN</td>\n",
       "      <td>NaN</td>\n",
       "      <td>76.99</td>\n",
       "      <td>33.77</td>\n",
       "      <td>NaN</td>\n",
       "      <td>NaN</td>\n",
       "      <td>NaN</td>\n",
       "      <td>NaN</td>\n",
       "      <td>NaN</td>\n",
       "      <td>0.00</td>\n",
       "    </tr>\n",
       "    <tr>\n",
       "      <th>456</th>\n",
       "      <td>2003</td>\n",
       "      <td>Republic of Crimea</td>\n",
       "      <td>NaN</td>\n",
       "      <td>NaN</td>\n",
       "      <td>NaN</td>\n",
       "      <td>NaN</td>\n",
       "      <td>NaN</td>\n",
       "      <td>NaN</td>\n",
       "      <td>NaN</td>\n",
       "      <td>NaN</td>\n",
       "      <td>NaN</td>\n",
       "      <td>NaN</td>\n",
       "      <td>0.00</td>\n",
       "    </tr>\n",
       "    <tr>\n",
       "      <th>488</th>\n",
       "      <td>2003</td>\n",
       "      <td>Sevastopol</td>\n",
       "      <td>NaN</td>\n",
       "      <td>NaN</td>\n",
       "      <td>NaN</td>\n",
       "      <td>NaN</td>\n",
       "      <td>NaN</td>\n",
       "      <td>NaN</td>\n",
       "      <td>NaN</td>\n",
       "      <td>NaN</td>\n",
       "      <td>NaN</td>\n",
       "      <td>NaN</td>\n",
       "      <td>0.00</td>\n",
       "    </tr>\n",
       "    <tr>\n",
       "      <th>504</th>\n",
       "      <td>2003</td>\n",
       "      <td>Chechen Republic</td>\n",
       "      <td>18.40</td>\n",
       "      <td>24.90</td>\n",
       "      <td>6.50</td>\n",
       "      <td>75.80</td>\n",
       "      <td>33.75</td>\n",
       "      <td>NaN</td>\n",
       "      <td>NaN</td>\n",
       "      <td>NaN</td>\n",
       "      <td>NaN</td>\n",
       "      <td>NaN</td>\n",
       "      <td>0.00</td>\n",
       "    </tr>\n",
       "    <tr>\n",
       "      <th>541</th>\n",
       "      <td>2004</td>\n",
       "      <td>Republic of Crimea</td>\n",
       "      <td>NaN</td>\n",
       "      <td>NaN</td>\n",
       "      <td>NaN</td>\n",
       "      <td>NaN</td>\n",
       "      <td>NaN</td>\n",
       "      <td>NaN</td>\n",
       "      <td>NaN</td>\n",
       "      <td>NaN</td>\n",
       "      <td>NaN</td>\n",
       "      <td>NaN</td>\n",
       "      <td>0.00</td>\n",
       "    </tr>\n",
       "    <tr>\n",
       "      <th>573</th>\n",
       "      <td>2004</td>\n",
       "      <td>Sevastopol</td>\n",
       "      <td>NaN</td>\n",
       "      <td>NaN</td>\n",
       "      <td>NaN</td>\n",
       "      <td>NaN</td>\n",
       "      <td>NaN</td>\n",
       "      <td>NaN</td>\n",
       "      <td>NaN</td>\n",
       "      <td>NaN</td>\n",
       "      <td>NaN</td>\n",
       "      <td>NaN</td>\n",
       "      <td>0.00</td>\n",
       "    </tr>\n",
       "    <tr>\n",
       "      <th>589</th>\n",
       "      <td>2004</td>\n",
       "      <td>Chechen Republic</td>\n",
       "      <td>19.60</td>\n",
       "      <td>25.20</td>\n",
       "      <td>5.60</td>\n",
       "      <td>74.46</td>\n",
       "      <td>33.90</td>\n",
       "      <td>NaN</td>\n",
       "      <td>NaN</td>\n",
       "      <td>NaN</td>\n",
       "      <td>NaN</td>\n",
       "      <td>NaN</td>\n",
       "      <td>0.00</td>\n",
       "    </tr>\n",
       "    <tr>\n",
       "      <th>612</th>\n",
       "      <td>2005</td>\n",
       "      <td>Republic of Ingushetia</td>\n",
       "      <td>10.20</td>\n",
       "      <td>14.00</td>\n",
       "      <td>4.30</td>\n",
       "      <td>72.50</td>\n",
       "      <td>42.40</td>\n",
       "      <td>0.20</td>\n",
       "      <td>0.80</td>\n",
       "      <td>0.80</td>\n",
       "      <td>0.10</td>\n",
       "      <td>NaN</td>\n",
       "      <td>1.90</td>\n",
       "    </tr>\n",
       "    <tr>\n",
       "      <th>626</th>\n",
       "      <td>2005</td>\n",
       "      <td>Republic of Crimea</td>\n",
       "      <td>NaN</td>\n",
       "      <td>NaN</td>\n",
       "      <td>NaN</td>\n",
       "      <td>NaN</td>\n",
       "      <td>NaN</td>\n",
       "      <td>NaN</td>\n",
       "      <td>NaN</td>\n",
       "      <td>NaN</td>\n",
       "      <td>NaN</td>\n",
       "      <td>NaN</td>\n",
       "      <td>0.00</td>\n",
       "    </tr>\n",
       "    <tr>\n",
       "      <th>658</th>\n",
       "      <td>2005</td>\n",
       "      <td>Sevastopol</td>\n",
       "      <td>NaN</td>\n",
       "      <td>NaN</td>\n",
       "      <td>NaN</td>\n",
       "      <td>NaN</td>\n",
       "      <td>NaN</td>\n",
       "      <td>NaN</td>\n",
       "      <td>NaN</td>\n",
       "      <td>NaN</td>\n",
       "      <td>NaN</td>\n",
       "      <td>NaN</td>\n",
       "      <td>0.00</td>\n",
       "    </tr>\n",
       "    <tr>\n",
       "      <th>674</th>\n",
       "      <td>2005</td>\n",
       "      <td>Chechen Republic</td>\n",
       "      <td>19.80</td>\n",
       "      <td>24.90</td>\n",
       "      <td>5.10</td>\n",
       "      <td>73.00</td>\n",
       "      <td>34.40</td>\n",
       "      <td>NaN</td>\n",
       "      <td>NaN</td>\n",
       "      <td>NaN</td>\n",
       "      <td>NaN</td>\n",
       "      <td>NaN</td>\n",
       "      <td>0.00</td>\n",
       "    </tr>\n",
       "    <tr>\n",
       "      <th>697</th>\n",
       "      <td>2006</td>\n",
       "      <td>Republic of Ingushetia</td>\n",
       "      <td>11.40</td>\n",
       "      <td>15.10</td>\n",
       "      <td>4.40</td>\n",
       "      <td>69.37</td>\n",
       "      <td>42.50</td>\n",
       "      <td>0.30</td>\n",
       "      <td>0.90</td>\n",
       "      <td>1.00</td>\n",
       "      <td>0.10</td>\n",
       "      <td>NaN</td>\n",
       "      <td>2.30</td>\n",
       "    </tr>\n",
       "    <tr>\n",
       "      <th>711</th>\n",
       "      <td>2006</td>\n",
       "      <td>Republic of Crimea</td>\n",
       "      <td>NaN</td>\n",
       "      <td>NaN</td>\n",
       "      <td>NaN</td>\n",
       "      <td>NaN</td>\n",
       "      <td>NaN</td>\n",
       "      <td>NaN</td>\n",
       "      <td>NaN</td>\n",
       "      <td>NaN</td>\n",
       "      <td>NaN</td>\n",
       "      <td>NaN</td>\n",
       "      <td>0.00</td>\n",
       "    </tr>\n",
       "    <tr>\n",
       "      <th>743</th>\n",
       "      <td>2006</td>\n",
       "      <td>Sevastopol</td>\n",
       "      <td>NaN</td>\n",
       "      <td>NaN</td>\n",
       "      <td>NaN</td>\n",
       "      <td>NaN</td>\n",
       "      <td>NaN</td>\n",
       "      <td>NaN</td>\n",
       "      <td>NaN</td>\n",
       "      <td>NaN</td>\n",
       "      <td>NaN</td>\n",
       "      <td>NaN</td>\n",
       "      <td>0.00</td>\n",
       "    </tr>\n",
       "    <tr>\n",
       "      <th>759</th>\n",
       "      <td>2006</td>\n",
       "      <td>Chechen Republic</td>\n",
       "      <td>18.90</td>\n",
       "      <td>23.90</td>\n",
       "      <td>5.10</td>\n",
       "      <td>71.54</td>\n",
       "      <td>34.80</td>\n",
       "      <td>NaN</td>\n",
       "      <td>NaN</td>\n",
       "      <td>NaN</td>\n",
       "      <td>NaN</td>\n",
       "      <td>NaN</td>\n",
       "      <td>0.00</td>\n",
       "    </tr>\n",
       "    <tr>\n",
       "      <th>782</th>\n",
       "      <td>2007</td>\n",
       "      <td>Republic of Ingushetia</td>\n",
       "      <td>13.40</td>\n",
       "      <td>16.70</td>\n",
       "      <td>4.00</td>\n",
       "      <td>66.38</td>\n",
       "      <td>42.60</td>\n",
       "      <td>0.30</td>\n",
       "      <td>1.00</td>\n",
       "      <td>1.00</td>\n",
       "      <td>0.10</td>\n",
       "      <td>NaN</td>\n",
       "      <td>2.40</td>\n",
       "    </tr>\n",
       "    <tr>\n",
       "      <th>796</th>\n",
       "      <td>2007</td>\n",
       "      <td>Republic of Crimea</td>\n",
       "      <td>NaN</td>\n",
       "      <td>NaN</td>\n",
       "      <td>NaN</td>\n",
       "      <td>NaN</td>\n",
       "      <td>NaN</td>\n",
       "      <td>NaN</td>\n",
       "      <td>NaN</td>\n",
       "      <td>NaN</td>\n",
       "      <td>NaN</td>\n",
       "      <td>NaN</td>\n",
       "      <td>0.00</td>\n",
       "    </tr>\n",
       "    <tr>\n",
       "      <th>828</th>\n",
       "      <td>2007</td>\n",
       "      <td>Sevastopol</td>\n",
       "      <td>NaN</td>\n",
       "      <td>NaN</td>\n",
       "      <td>NaN</td>\n",
       "      <td>NaN</td>\n",
       "      <td>NaN</td>\n",
       "      <td>NaN</td>\n",
       "      <td>NaN</td>\n",
       "      <td>NaN</td>\n",
       "      <td>NaN</td>\n",
       "      <td>NaN</td>\n",
       "      <td>0.00</td>\n",
       "    </tr>\n",
       "    <tr>\n",
       "      <th>844</th>\n",
       "      <td>2007</td>\n",
       "      <td>Chechen Republic</td>\n",
       "      <td>22.40</td>\n",
       "      <td>27.10</td>\n",
       "      <td>4.80</td>\n",
       "      <td>69.75</td>\n",
       "      <td>35.00</td>\n",
       "      <td>NaN</td>\n",
       "      <td>NaN</td>\n",
       "      <td>NaN</td>\n",
       "      <td>NaN</td>\n",
       "      <td>NaN</td>\n",
       "      <td>0.00</td>\n",
       "    </tr>\n",
       "    <tr>\n",
       "      <th>867</th>\n",
       "      <td>2008</td>\n",
       "      <td>Republic of Ingushetia</td>\n",
       "      <td>15.20</td>\n",
       "      <td>18.30</td>\n",
       "      <td>3.80</td>\n",
       "      <td>65.91</td>\n",
       "      <td>42.60</td>\n",
       "      <td>NaN</td>\n",
       "      <td>NaN</td>\n",
       "      <td>NaN</td>\n",
       "      <td>NaN</td>\n",
       "      <td>NaN</td>\n",
       "      <td>0.00</td>\n",
       "    </tr>\n",
       "    <tr>\n",
       "      <th>881</th>\n",
       "      <td>2008</td>\n",
       "      <td>Republic of Crimea</td>\n",
       "      <td>NaN</td>\n",
       "      <td>NaN</td>\n",
       "      <td>NaN</td>\n",
       "      <td>NaN</td>\n",
       "      <td>NaN</td>\n",
       "      <td>NaN</td>\n",
       "      <td>NaN</td>\n",
       "      <td>NaN</td>\n",
       "      <td>NaN</td>\n",
       "      <td>NaN</td>\n",
       "      <td>0.00</td>\n",
       "    </tr>\n",
       "    <tr>\n",
       "      <th>913</th>\n",
       "      <td>2008</td>\n",
       "      <td>Sevastopol</td>\n",
       "      <td>NaN</td>\n",
       "      <td>NaN</td>\n",
       "      <td>NaN</td>\n",
       "      <td>NaN</td>\n",
       "      <td>NaN</td>\n",
       "      <td>NaN</td>\n",
       "      <td>NaN</td>\n",
       "      <td>NaN</td>\n",
       "      <td>NaN</td>\n",
       "      <td>NaN</td>\n",
       "      <td>0.00</td>\n",
       "    </tr>\n",
       "    <tr>\n",
       "      <th>929</th>\n",
       "      <td>2008</td>\n",
       "      <td>Chechen Republic</td>\n",
       "      <td>24.80</td>\n",
       "      <td>29.30</td>\n",
       "      <td>4.50</td>\n",
       "      <td>69.93</td>\n",
       "      <td>35.80</td>\n",
       "      <td>NaN</td>\n",
       "      <td>NaN</td>\n",
       "      <td>NaN</td>\n",
       "      <td>NaN</td>\n",
       "      <td>NaN</td>\n",
       "      <td>0.00</td>\n",
       "    </tr>\n",
       "    <tr>\n",
       "      <th>952</th>\n",
       "      <td>2009</td>\n",
       "      <td>Republic of Ingushetia</td>\n",
       "      <td>15.00</td>\n",
       "      <td>18.70</td>\n",
       "      <td>4.60</td>\n",
       "      <td>65.52</td>\n",
       "      <td>42.80</td>\n",
       "      <td>NaN</td>\n",
       "      <td>NaN</td>\n",
       "      <td>0.10</td>\n",
       "      <td>NaN</td>\n",
       "      <td>NaN</td>\n",
       "      <td>0.10</td>\n",
       "    </tr>\n",
       "    <tr>\n",
       "      <th>966</th>\n",
       "      <td>2009</td>\n",
       "      <td>Republic of Crimea</td>\n",
       "      <td>NaN</td>\n",
       "      <td>NaN</td>\n",
       "      <td>NaN</td>\n",
       "      <td>NaN</td>\n",
       "      <td>NaN</td>\n",
       "      <td>NaN</td>\n",
       "      <td>NaN</td>\n",
       "      <td>NaN</td>\n",
       "      <td>NaN</td>\n",
       "      <td>NaN</td>\n",
       "      <td>0.00</td>\n",
       "    </tr>\n",
       "    <tr>\n",
       "      <th>998</th>\n",
       "      <td>2009</td>\n",
       "      <td>Sevastopol</td>\n",
       "      <td>NaN</td>\n",
       "      <td>NaN</td>\n",
       "      <td>NaN</td>\n",
       "      <td>NaN</td>\n",
       "      <td>NaN</td>\n",
       "      <td>NaN</td>\n",
       "      <td>NaN</td>\n",
       "      <td>NaN</td>\n",
       "      <td>NaN</td>\n",
       "      <td>NaN</td>\n",
       "      <td>0.00</td>\n",
       "    </tr>\n",
       "    <tr>\n",
       "      <th>1014</th>\n",
       "      <td>2009</td>\n",
       "      <td>Chechen Republic</td>\n",
       "      <td>23.80</td>\n",
       "      <td>29.10</td>\n",
       "      <td>5.40</td>\n",
       "      <td>70.85</td>\n",
       "      <td>35.90</td>\n",
       "      <td>NaN</td>\n",
       "      <td>NaN</td>\n",
       "      <td>NaN</td>\n",
       "      <td>NaN</td>\n",
       "      <td>NaN</td>\n",
       "      <td>0.00</td>\n",
       "    </tr>\n",
       "    <tr>\n",
       "      <th>1037</th>\n",
       "      <td>2010</td>\n",
       "      <td>Republic of Ingushetia</td>\n",
       "      <td>22.60</td>\n",
       "      <td>27.10</td>\n",
       "      <td>4.50</td>\n",
       "      <td>66.25</td>\n",
       "      <td>42.70</td>\n",
       "      <td>NaN</td>\n",
       "      <td>NaN</td>\n",
       "      <td>0.05</td>\n",
       "      <td>NaN</td>\n",
       "      <td>NaN</td>\n",
       "      <td>0.05</td>\n",
       "    </tr>\n",
       "    <tr>\n",
       "      <th>1051</th>\n",
       "      <td>2010</td>\n",
       "      <td>Republic of Crimea</td>\n",
       "      <td>NaN</td>\n",
       "      <td>NaN</td>\n",
       "      <td>NaN</td>\n",
       "      <td>NaN</td>\n",
       "      <td>NaN</td>\n",
       "      <td>NaN</td>\n",
       "      <td>NaN</td>\n",
       "      <td>NaN</td>\n",
       "      <td>NaN</td>\n",
       "      <td>NaN</td>\n",
       "      <td>0.00</td>\n",
       "    </tr>\n",
       "    <tr>\n",
       "      <th>1083</th>\n",
       "      <td>2010</td>\n",
       "      <td>Sevastopol</td>\n",
       "      <td>NaN</td>\n",
       "      <td>NaN</td>\n",
       "      <td>NaN</td>\n",
       "      <td>NaN</td>\n",
       "      <td>NaN</td>\n",
       "      <td>NaN</td>\n",
       "      <td>NaN</td>\n",
       "      <td>NaN</td>\n",
       "      <td>NaN</td>\n",
       "      <td>NaN</td>\n",
       "      <td>0.00</td>\n",
       "    </tr>\n",
       "    <tr>\n",
       "      <th>1099</th>\n",
       "      <td>2010</td>\n",
       "      <td>Chechen Republic</td>\n",
       "      <td>24.30</td>\n",
       "      <td>29.90</td>\n",
       "      <td>5.60</td>\n",
       "      <td>72.42</td>\n",
       "      <td>36.80</td>\n",
       "      <td>NaN</td>\n",
       "      <td>NaN</td>\n",
       "      <td>NaN</td>\n",
       "      <td>NaN</td>\n",
       "      <td>NaN</td>\n",
       "      <td>0.00</td>\n",
       "    </tr>\n",
       "    <tr>\n",
       "      <th>1122</th>\n",
       "      <td>2011</td>\n",
       "      <td>Republic of Ingushetia</td>\n",
       "      <td>23.00</td>\n",
       "      <td>27.00</td>\n",
       "      <td>4.00</td>\n",
       "      <td>67.37</td>\n",
       "      <td>38.40</td>\n",
       "      <td>NaN</td>\n",
       "      <td>NaN</td>\n",
       "      <td>NaN</td>\n",
       "      <td>NaN</td>\n",
       "      <td>NaN</td>\n",
       "      <td>0.00</td>\n",
       "    </tr>\n",
       "    <tr>\n",
       "      <th>1136</th>\n",
       "      <td>2011</td>\n",
       "      <td>Republic of Crimea</td>\n",
       "      <td>NaN</td>\n",
       "      <td>NaN</td>\n",
       "      <td>NaN</td>\n",
       "      <td>NaN</td>\n",
       "      <td>NaN</td>\n",
       "      <td>NaN</td>\n",
       "      <td>NaN</td>\n",
       "      <td>NaN</td>\n",
       "      <td>NaN</td>\n",
       "      <td>NaN</td>\n",
       "      <td>0.00</td>\n",
       "    </tr>\n",
       "    <tr>\n",
       "      <th>1168</th>\n",
       "      <td>2011</td>\n",
       "      <td>Sevastopol</td>\n",
       "      <td>NaN</td>\n",
       "      <td>NaN</td>\n",
       "      <td>NaN</td>\n",
       "      <td>NaN</td>\n",
       "      <td>NaN</td>\n",
       "      <td>NaN</td>\n",
       "      <td>NaN</td>\n",
       "      <td>NaN</td>\n",
       "      <td>NaN</td>\n",
       "      <td>NaN</td>\n",
       "      <td>0.00</td>\n",
       "    </tr>\n",
       "    <tr>\n",
       "      <th>1184</th>\n",
       "      <td>2011</td>\n",
       "      <td>Chechen Republic</td>\n",
       "      <td>23.70</td>\n",
       "      <td>29.00</td>\n",
       "      <td>5.30</td>\n",
       "      <td>73.05</td>\n",
       "      <td>34.90</td>\n",
       "      <td>NaN</td>\n",
       "      <td>NaN</td>\n",
       "      <td>NaN</td>\n",
       "      <td>NaN</td>\n",
       "      <td>NaN</td>\n",
       "      <td>0.00</td>\n",
       "    </tr>\n",
       "    <tr>\n",
       "      <th>1207</th>\n",
       "      <td>2012</td>\n",
       "      <td>Republic of Ingushetia</td>\n",
       "      <td>17.70</td>\n",
       "      <td>21.40</td>\n",
       "      <td>3.70</td>\n",
       "      <td>67.78</td>\n",
       "      <td>39.20</td>\n",
       "      <td>NaN</td>\n",
       "      <td>NaN</td>\n",
       "      <td>NaN</td>\n",
       "      <td>NaN</td>\n",
       "      <td>NaN</td>\n",
       "      <td>0.00</td>\n",
       "    </tr>\n",
       "    <tr>\n",
       "      <th>1221</th>\n",
       "      <td>2012</td>\n",
       "      <td>Republic of Crimea</td>\n",
       "      <td>NaN</td>\n",
       "      <td>NaN</td>\n",
       "      <td>NaN</td>\n",
       "      <td>NaN</td>\n",
       "      <td>NaN</td>\n",
       "      <td>NaN</td>\n",
       "      <td>NaN</td>\n",
       "      <td>NaN</td>\n",
       "      <td>NaN</td>\n",
       "      <td>NaN</td>\n",
       "      <td>0.00</td>\n",
       "    </tr>\n",
       "    <tr>\n",
       "      <th>1253</th>\n",
       "      <td>2012</td>\n",
       "      <td>Sevastopol</td>\n",
       "      <td>NaN</td>\n",
       "      <td>NaN</td>\n",
       "      <td>NaN</td>\n",
       "      <td>NaN</td>\n",
       "      <td>NaN</td>\n",
       "      <td>NaN</td>\n",
       "      <td>NaN</td>\n",
       "      <td>NaN</td>\n",
       "      <td>NaN</td>\n",
       "      <td>NaN</td>\n",
       "      <td>0.00</td>\n",
       "    </tr>\n",
       "    <tr>\n",
       "      <th>1269</th>\n",
       "      <td>2012</td>\n",
       "      <td>Chechen Republic</td>\n",
       "      <td>20.70</td>\n",
       "      <td>26.20</td>\n",
       "      <td>5.50</td>\n",
       "      <td>74.71</td>\n",
       "      <td>34.90</td>\n",
       "      <td>NaN</td>\n",
       "      <td>NaN</td>\n",
       "      <td>NaN</td>\n",
       "      <td>NaN</td>\n",
       "      <td>NaN</td>\n",
       "      <td>0.00</td>\n",
       "    </tr>\n",
       "    <tr>\n",
       "      <th>1292</th>\n",
       "      <td>2013</td>\n",
       "      <td>Republic of Ingushetia</td>\n",
       "      <td>17.70</td>\n",
       "      <td>21.20</td>\n",
       "      <td>3.50</td>\n",
       "      <td>68.15</td>\n",
       "      <td>39.90</td>\n",
       "      <td>NaN</td>\n",
       "      <td>NaN</td>\n",
       "      <td>NaN</td>\n",
       "      <td>NaN</td>\n",
       "      <td>NaN</td>\n",
       "      <td>0.00</td>\n",
       "    </tr>\n",
       "    <tr>\n",
       "      <th>1306</th>\n",
       "      <td>2013</td>\n",
       "      <td>Republic of Crimea</td>\n",
       "      <td>NaN</td>\n",
       "      <td>NaN</td>\n",
       "      <td>NaN</td>\n",
       "      <td>NaN</td>\n",
       "      <td>NaN</td>\n",
       "      <td>NaN</td>\n",
       "      <td>NaN</td>\n",
       "      <td>NaN</td>\n",
       "      <td>NaN</td>\n",
       "      <td>NaN</td>\n",
       "      <td>0.00</td>\n",
       "    </tr>\n",
       "    <tr>\n",
       "      <th>1338</th>\n",
       "      <td>2013</td>\n",
       "      <td>Sevastopol</td>\n",
       "      <td>NaN</td>\n",
       "      <td>NaN</td>\n",
       "      <td>NaN</td>\n",
       "      <td>NaN</td>\n",
       "      <td>NaN</td>\n",
       "      <td>NaN</td>\n",
       "      <td>NaN</td>\n",
       "      <td>NaN</td>\n",
       "      <td>NaN</td>\n",
       "      <td>NaN</td>\n",
       "      <td>0.00</td>\n",
       "    </tr>\n",
       "    <tr>\n",
       "      <th>1354</th>\n",
       "      <td>2013</td>\n",
       "      <td>Chechen Republic</td>\n",
       "      <td>19.80</td>\n",
       "      <td>24.70</td>\n",
       "      <td>4.90</td>\n",
       "      <td>76.25</td>\n",
       "      <td>34.80</td>\n",
       "      <td>NaN</td>\n",
       "      <td>NaN</td>\n",
       "      <td>NaN</td>\n",
       "      <td>NaN</td>\n",
       "      <td>NaN</td>\n",
       "      <td>0.00</td>\n",
       "    </tr>\n",
       "    <tr>\n",
       "      <th>1377</th>\n",
       "      <td>2014</td>\n",
       "      <td>Republic of Ingushetia</td>\n",
       "      <td>18.00</td>\n",
       "      <td>21.50</td>\n",
       "      <td>3.50</td>\n",
       "      <td>68.69</td>\n",
       "      <td>40.40</td>\n",
       "      <td>NaN</td>\n",
       "      <td>0.40</td>\n",
       "      <td>NaN</td>\n",
       "      <td>NaN</td>\n",
       "      <td>NaN</td>\n",
       "      <td>0.40</td>\n",
       "    </tr>\n",
       "    <tr>\n",
       "      <th>1391</th>\n",
       "      <td>2014</td>\n",
       "      <td>Republic of Crimea</td>\n",
       "      <td>-2.40</td>\n",
       "      <td>12.90</td>\n",
       "      <td>NaN</td>\n",
       "      <td>NaN</td>\n",
       "      <td>NaN</td>\n",
       "      <td>3.70</td>\n",
       "      <td>16.20</td>\n",
       "      <td>3.90</td>\n",
       "      <td>0.80</td>\n",
       "      <td>1.10</td>\n",
       "      <td>25.70</td>\n",
       "    </tr>\n",
       "    <tr>\n",
       "      <th>1423</th>\n",
       "      <td>2014</td>\n",
       "      <td>Sevastopol</td>\n",
       "      <td>-1.70</td>\n",
       "      <td>12.60</td>\n",
       "      <td>NaN</td>\n",
       "      <td>NaN</td>\n",
       "      <td>NaN</td>\n",
       "      <td>5.60</td>\n",
       "      <td>26.00</td>\n",
       "      <td>5.10</td>\n",
       "      <td>2.10</td>\n",
       "      <td>1.30</td>\n",
       "      <td>40.10</td>\n",
       "    </tr>\n",
       "    <tr>\n",
       "      <th>1439</th>\n",
       "      <td>2014</td>\n",
       "      <td>Chechen Republic</td>\n",
       "      <td>19.20</td>\n",
       "      <td>24.30</td>\n",
       "      <td>5.10</td>\n",
       "      <td>77.55</td>\n",
       "      <td>34.80</td>\n",
       "      <td>NaN</td>\n",
       "      <td>4.90</td>\n",
       "      <td>NaN</td>\n",
       "      <td>NaN</td>\n",
       "      <td>NaN</td>\n",
       "      <td>4.90</td>\n",
       "    </tr>\n",
       "    <tr>\n",
       "      <th>1462</th>\n",
       "      <td>2015</td>\n",
       "      <td>Republic of Ingushetia</td>\n",
       "      <td>15.20</td>\n",
       "      <td>18.50</td>\n",
       "      <td>3.30</td>\n",
       "      <td>69.36</td>\n",
       "      <td>40.70</td>\n",
       "      <td>NaN</td>\n",
       "      <td>0.50</td>\n",
       "      <td>NaN</td>\n",
       "      <td>NaN</td>\n",
       "      <td>NaN</td>\n",
       "      <td>0.50</td>\n",
       "    </tr>\n",
       "    <tr>\n",
       "      <th>1524</th>\n",
       "      <td>2015</td>\n",
       "      <td>Chechen Republic</td>\n",
       "      <td>18.20</td>\n",
       "      <td>23.10</td>\n",
       "      <td>4.90</td>\n",
       "      <td>78.20</td>\n",
       "      <td>34.70</td>\n",
       "      <td>NaN</td>\n",
       "      <td>2.20</td>\n",
       "      <td>NaN</td>\n",
       "      <td>NaN</td>\n",
       "      <td>NaN</td>\n",
       "      <td>2.20</td>\n",
       "    </tr>\n",
       "    <tr>\n",
       "      <th>1547</th>\n",
       "      <td>2016</td>\n",
       "      <td>Republic of Ingushetia</td>\n",
       "      <td>13.00</td>\n",
       "      <td>16.30</td>\n",
       "      <td>3.30</td>\n",
       "      <td>70.32</td>\n",
       "      <td>41.30</td>\n",
       "      <td>NaN</td>\n",
       "      <td>NaN</td>\n",
       "      <td>NaN</td>\n",
       "      <td>NaN</td>\n",
       "      <td>NaN</td>\n",
       "      <td>0.00</td>\n",
       "    </tr>\n",
       "    <tr>\n",
       "      <th>1609</th>\n",
       "      <td>2016</td>\n",
       "      <td>Chechen Republic</td>\n",
       "      <td>16.60</td>\n",
       "      <td>21.30</td>\n",
       "      <td>4.70</td>\n",
       "      <td>78.95</td>\n",
       "      <td>34.80</td>\n",
       "      <td>NaN</td>\n",
       "      <td>1.20</td>\n",
       "      <td>NaN</td>\n",
       "      <td>NaN</td>\n",
       "      <td>NaN</td>\n",
       "      <td>1.20</td>\n",
       "    </tr>\n",
       "  </tbody>\n",
       "</table>\n",
       "</div>"
      ],
      "text/plain": [
       "      year                  region   npg  birth_rate  death_rate   gdw  \\\n",
       "17    1998  Republic of Ingushetia 12.90       19.80        6.90 83.11   \n",
       "31    1998      Republic of Crimea   NaN         NaN         NaN   NaN   \n",
       "63    1998              Sevastopol   NaN         NaN         NaN   NaN   \n",
       "79    1998        Chechen Republic   NaN         NaN         NaN 86.25   \n",
       "102   1999  Republic of Ingushetia 14.50       20.60        6.10 84.79   \n",
       "116   1999      Republic of Crimea   NaN         NaN         NaN   NaN   \n",
       "148   1999              Sevastopol   NaN         NaN         NaN   NaN   \n",
       "164   1999        Chechen Republic   NaN         NaN         NaN 84.81   \n",
       "187   2000  Republic of Ingushetia 16.10       21.50        5.40 85.12   \n",
       "201   2000      Republic of Crimea   NaN         NaN         NaN   NaN   \n",
       "233   2000              Sevastopol   NaN         NaN         NaN   NaN   \n",
       "249   2000        Chechen Republic   NaN         NaN         NaN 82.39   \n",
       "286   2001      Republic of Crimea   NaN         NaN         NaN   NaN   \n",
       "318   2001              Sevastopol   NaN         NaN         NaN   NaN   \n",
       "334   2001        Chechen Republic   NaN         NaN         NaN 81.01   \n",
       "371   2002      Republic of Crimea   NaN         NaN         NaN   NaN   \n",
       "403   2002              Sevastopol   NaN         NaN         NaN   NaN   \n",
       "419   2002        Chechen Republic   NaN         NaN         NaN 76.99   \n",
       "456   2003      Republic of Crimea   NaN         NaN         NaN   NaN   \n",
       "488   2003              Sevastopol   NaN         NaN         NaN   NaN   \n",
       "504   2003        Chechen Republic 18.40       24.90        6.50 75.80   \n",
       "541   2004      Republic of Crimea   NaN         NaN         NaN   NaN   \n",
       "573   2004              Sevastopol   NaN         NaN         NaN   NaN   \n",
       "589   2004        Chechen Republic 19.60       25.20        5.60 74.46   \n",
       "612   2005  Republic of Ingushetia 10.20       14.00        4.30 72.50   \n",
       "626   2005      Republic of Crimea   NaN         NaN         NaN   NaN   \n",
       "658   2005              Sevastopol   NaN         NaN         NaN   NaN   \n",
       "674   2005        Chechen Republic 19.80       24.90        5.10 73.00   \n",
       "697   2006  Republic of Ingushetia 11.40       15.10        4.40 69.37   \n",
       "711   2006      Republic of Crimea   NaN         NaN         NaN   NaN   \n",
       "743   2006              Sevastopol   NaN         NaN         NaN   NaN   \n",
       "759   2006        Chechen Republic 18.90       23.90        5.10 71.54   \n",
       "782   2007  Republic of Ingushetia 13.40       16.70        4.00 66.38   \n",
       "796   2007      Republic of Crimea   NaN         NaN         NaN   NaN   \n",
       "828   2007              Sevastopol   NaN         NaN         NaN   NaN   \n",
       "844   2007        Chechen Republic 22.40       27.10        4.80 69.75   \n",
       "867   2008  Republic of Ingushetia 15.20       18.30        3.80 65.91   \n",
       "881   2008      Republic of Crimea   NaN         NaN         NaN   NaN   \n",
       "913   2008              Sevastopol   NaN         NaN         NaN   NaN   \n",
       "929   2008        Chechen Republic 24.80       29.30        4.50 69.93   \n",
       "952   2009  Republic of Ingushetia 15.00       18.70        4.60 65.52   \n",
       "966   2009      Republic of Crimea   NaN         NaN         NaN   NaN   \n",
       "998   2009              Sevastopol   NaN         NaN         NaN   NaN   \n",
       "1014  2009        Chechen Republic 23.80       29.10        5.40 70.85   \n",
       "1037  2010  Republic of Ingushetia 22.60       27.10        4.50 66.25   \n",
       "1051  2010      Republic of Crimea   NaN         NaN         NaN   NaN   \n",
       "1083  2010              Sevastopol   NaN         NaN         NaN   NaN   \n",
       "1099  2010        Chechen Republic 24.30       29.90        5.60 72.42   \n",
       "1122  2011  Republic of Ingushetia 23.00       27.00        4.00 67.37   \n",
       "1136  2011      Republic of Crimea   NaN         NaN         NaN   NaN   \n",
       "1168  2011              Sevastopol   NaN         NaN         NaN   NaN   \n",
       "1184  2011        Chechen Republic 23.70       29.00        5.30 73.05   \n",
       "1207  2012  Republic of Ingushetia 17.70       21.40        3.70 67.78   \n",
       "1221  2012      Republic of Crimea   NaN         NaN         NaN   NaN   \n",
       "1253  2012              Sevastopol   NaN         NaN         NaN   NaN   \n",
       "1269  2012        Chechen Republic 20.70       26.20        5.50 74.71   \n",
       "1292  2013  Republic of Ingushetia 17.70       21.20        3.50 68.15   \n",
       "1306  2013      Republic of Crimea   NaN         NaN         NaN   NaN   \n",
       "1338  2013              Sevastopol   NaN         NaN         NaN   NaN   \n",
       "1354  2013        Chechen Republic 19.80       24.70        4.90 76.25   \n",
       "1377  2014  Republic of Ingushetia 18.00       21.50        3.50 68.69   \n",
       "1391  2014      Republic of Crimea -2.40       12.90         NaN   NaN   \n",
       "1423  2014              Sevastopol -1.70       12.60         NaN   NaN   \n",
       "1439  2014        Chechen Republic 19.20       24.30        5.10 77.55   \n",
       "1462  2015  Republic of Ingushetia 15.20       18.50        3.30 69.36   \n",
       "1524  2015        Chechen Republic 18.20       23.10        4.90 78.20   \n",
       "1547  2016  Republic of Ingushetia 13.00       16.30        3.30 70.32   \n",
       "1609  2016        Chechen Republic 16.60       21.30        4.70 78.95   \n",
       "\n",
       "      urbanization  wine  beer  vodka  champagne  brandy  total_volume  \n",
       "17           42.31   NaN   NaN    NaN        NaN     NaN          0.00  \n",
       "31             NaN   NaN   NaN    NaN        NaN     NaN          0.00  \n",
       "63             NaN   NaN   NaN    NaN        NaN     NaN          0.00  \n",
       "79           37.33   NaN   NaN    NaN        NaN     NaN          0.00  \n",
       "102          42.01   NaN   NaN    NaN        NaN     NaN          0.00  \n",
       "116            NaN   NaN   NaN    NaN        NaN     NaN          0.00  \n",
       "148            NaN   NaN   NaN    NaN        NaN     NaN          0.00  \n",
       "164          36.83   NaN   NaN    NaN        NaN     NaN          0.00  \n",
       "187          42.87   NaN   NaN    NaN        NaN     NaN          0.00  \n",
       "201            NaN   NaN   NaN    NaN        NaN     NaN          0.00  \n",
       "233            NaN   NaN   NaN    NaN        NaN     NaN          0.00  \n",
       "249          35.70   NaN   NaN    NaN        NaN     NaN          0.00  \n",
       "286            NaN   NaN   NaN    NaN        NaN     NaN          0.00  \n",
       "318            NaN   NaN   NaN    NaN        NaN     NaN          0.00  \n",
       "334          33.52   NaN   NaN    NaN        NaN     NaN          0.00  \n",
       "371            NaN   NaN   NaN    NaN        NaN     NaN          0.00  \n",
       "403            NaN   NaN   NaN    NaN        NaN     NaN          0.00  \n",
       "419          33.77   NaN   NaN    NaN        NaN     NaN          0.00  \n",
       "456            NaN   NaN   NaN    NaN        NaN     NaN          0.00  \n",
       "488            NaN   NaN   NaN    NaN        NaN     NaN          0.00  \n",
       "504          33.75   NaN   NaN    NaN        NaN     NaN          0.00  \n",
       "541            NaN   NaN   NaN    NaN        NaN     NaN          0.00  \n",
       "573            NaN   NaN   NaN    NaN        NaN     NaN          0.00  \n",
       "589          33.90   NaN   NaN    NaN        NaN     NaN          0.00  \n",
       "612          42.40  0.20  0.80   0.80       0.10     NaN          1.90  \n",
       "626            NaN   NaN   NaN    NaN        NaN     NaN          0.00  \n",
       "658            NaN   NaN   NaN    NaN        NaN     NaN          0.00  \n",
       "674          34.40   NaN   NaN    NaN        NaN     NaN          0.00  \n",
       "697          42.50  0.30  0.90   1.00       0.10     NaN          2.30  \n",
       "711            NaN   NaN   NaN    NaN        NaN     NaN          0.00  \n",
       "743            NaN   NaN   NaN    NaN        NaN     NaN          0.00  \n",
       "759          34.80   NaN   NaN    NaN        NaN     NaN          0.00  \n",
       "782          42.60  0.30  1.00   1.00       0.10     NaN          2.40  \n",
       "796            NaN   NaN   NaN    NaN        NaN     NaN          0.00  \n",
       "828            NaN   NaN   NaN    NaN        NaN     NaN          0.00  \n",
       "844          35.00   NaN   NaN    NaN        NaN     NaN          0.00  \n",
       "867          42.60   NaN   NaN    NaN        NaN     NaN          0.00  \n",
       "881            NaN   NaN   NaN    NaN        NaN     NaN          0.00  \n",
       "913            NaN   NaN   NaN    NaN        NaN     NaN          0.00  \n",
       "929          35.80   NaN   NaN    NaN        NaN     NaN          0.00  \n",
       "952          42.80   NaN   NaN   0.10        NaN     NaN          0.10  \n",
       "966            NaN   NaN   NaN    NaN        NaN     NaN          0.00  \n",
       "998            NaN   NaN   NaN    NaN        NaN     NaN          0.00  \n",
       "1014         35.90   NaN   NaN    NaN        NaN     NaN          0.00  \n",
       "1037         42.70   NaN   NaN   0.05        NaN     NaN          0.05  \n",
       "1051           NaN   NaN   NaN    NaN        NaN     NaN          0.00  \n",
       "1083           NaN   NaN   NaN    NaN        NaN     NaN          0.00  \n",
       "1099         36.80   NaN   NaN    NaN        NaN     NaN          0.00  \n",
       "1122         38.40   NaN   NaN    NaN        NaN     NaN          0.00  \n",
       "1136           NaN   NaN   NaN    NaN        NaN     NaN          0.00  \n",
       "1168           NaN   NaN   NaN    NaN        NaN     NaN          0.00  \n",
       "1184         34.90   NaN   NaN    NaN        NaN     NaN          0.00  \n",
       "1207         39.20   NaN   NaN    NaN        NaN     NaN          0.00  \n",
       "1221           NaN   NaN   NaN    NaN        NaN     NaN          0.00  \n",
       "1253           NaN   NaN   NaN    NaN        NaN     NaN          0.00  \n",
       "1269         34.90   NaN   NaN    NaN        NaN     NaN          0.00  \n",
       "1292         39.90   NaN   NaN    NaN        NaN     NaN          0.00  \n",
       "1306           NaN   NaN   NaN    NaN        NaN     NaN          0.00  \n",
       "1338           NaN   NaN   NaN    NaN        NaN     NaN          0.00  \n",
       "1354         34.80   NaN   NaN    NaN        NaN     NaN          0.00  \n",
       "1377         40.40   NaN  0.40    NaN        NaN     NaN          0.40  \n",
       "1391           NaN  3.70 16.20   3.90       0.80    1.10         25.70  \n",
       "1423           NaN  5.60 26.00   5.10       2.10    1.30         40.10  \n",
       "1439         34.80   NaN  4.90    NaN        NaN     NaN          4.90  \n",
       "1462         40.70   NaN  0.50    NaN        NaN     NaN          0.50  \n",
       "1524         34.70   NaN  2.20    NaN        NaN     NaN          2.20  \n",
       "1547         41.30   NaN   NaN    NaN        NaN     NaN          0.00  \n",
       "1609         34.80   NaN  1.20    NaN        NaN     NaN          1.20  "
      ]
     },
     "execution_count": 127,
     "metadata": {},
     "output_type": "execute_result"
    }
   ],
   "source": [
    "pd.set_option('display.max_rows', 100)\n",
    "row_has_NaN = df.isnull().any(axis=1)\n",
    "rows_with_NaN = df[row_has_NaN]\n",
    "rows_with_NaN"
   ]
  },
  {
   "cell_type": "code",
   "execution_count": 128,
   "id": "a0f3b9c2",
   "metadata": {},
   "outputs": [
    {
     "data": {
      "text/plain": [
       "(1615, 13)"
      ]
     },
     "execution_count": 128,
     "metadata": {},
     "output_type": "execute_result"
    }
   ],
   "source": [
    "df.shape"
   ]
  },
  {
   "cell_type": "code",
   "execution_count": 141,
   "id": "b06144bb",
   "metadata": {},
   "outputs": [],
   "source": [
    "drink_cat = [\"wine\",\"beer\",\"vodka\",\"champagne\",\"brandy\"]\n",
    "df.dropna(how = \"any\", subset = drink_cat, inplace = True)\n",
    "df.shape"
   ]
  },
  {
   "cell_type": "code",
   "execution_count": 143,
   "id": "61ca0533",
   "metadata": {},
   "outputs": [],
   "source": [
    "df[\"total_volume\"] = df[drink_cat].sum(axis=1)\n",
    "df.head()"
   ]
  },
  {
   "cell_type": "markdown",
   "id": "429148cc",
   "metadata": {},
   "source": [
    "Row wheres some of the drink categories were Nan were dropped to avoid having an unexpected spread in the values of total_volume. This should be ok since pandas handles Nan values with the use of the mean() method automatically."
   ]
  },
  {
   "cell_type": "markdown",
   "id": "ecd3df35",
   "metadata": {},
   "source": [
    "## 3. Analysis"
   ]
  },
  {
   "cell_type": "markdown",
   "id": "f4b433bd",
   "metadata": {},
   "source": [
    "### 3.1 How much does a person in Russia drink on average compared to other countries?"
   ]
  },
  {
   "cell_type": "code",
   "execution_count": 255,
   "id": "32b51d69",
   "metadata": {},
   "outputs": [
    {
     "data": {
      "text/html": [
       "<div>\n",
       "<style scoped>\n",
       "    .dataframe tbody tr th:only-of-type {\n",
       "        vertical-align: middle;\n",
       "    }\n",
       "\n",
       "    .dataframe tbody tr th {\n",
       "        vertical-align: top;\n",
       "    }\n",
       "\n",
       "    .dataframe thead th {\n",
       "        text-align: right;\n",
       "    }\n",
       "</style>\n",
       "<table border=\"1\" class=\"dataframe\">\n",
       "  <thead>\n",
       "    <tr style=\"text-align: right;\">\n",
       "      <th>group</th>\n",
       "      <th>both</th>\n",
       "      <th>female</th>\n",
       "      <th>male</th>\n",
       "    </tr>\n",
       "    <tr>\n",
       "      <th>country</th>\n",
       "      <th></th>\n",
       "      <th></th>\n",
       "      <th></th>\n",
       "    </tr>\n",
       "  </thead>\n",
       "  <tbody>\n",
       "    <tr>\n",
       "      <th>Afghanistan</th>\n",
       "      <td>0.01</td>\n",
       "      <td>0.00</td>\n",
       "      <td>0.01</td>\n",
       "    </tr>\n",
       "    <tr>\n",
       "      <th>Albania</th>\n",
       "      <td>6.59</td>\n",
       "      <td>2.46</td>\n",
       "      <td>10.64</td>\n",
       "    </tr>\n",
       "    <tr>\n",
       "      <th>Algeria</th>\n",
       "      <td>0.62</td>\n",
       "      <td>0.16</td>\n",
       "      <td>1.06</td>\n",
       "    </tr>\n",
       "    <tr>\n",
       "      <th>Andorra</th>\n",
       "      <td>12.41</td>\n",
       "      <td>5.81</td>\n",
       "      <td>18.78</td>\n",
       "    </tr>\n",
       "    <tr>\n",
       "      <th>Angola</th>\n",
       "      <td>8.01</td>\n",
       "      <td>3.56</td>\n",
       "      <td>12.64</td>\n",
       "    </tr>\n",
       "  </tbody>\n",
       "</table>\n",
       "</div>"
      ],
      "text/plain": [
       "group        both  female  male\n",
       "country                        \n",
       "Afghanistan  0.01    0.00  0.01\n",
       "Albania      6.59    2.46 10.64\n",
       "Algeria      0.62    0.16  1.06\n",
       "Andorra     12.41    5.81 18.78\n",
       "Angola       8.01    3.56 12.64"
      ]
     },
     "execution_count": 255,
     "metadata": {},
     "output_type": "execute_result"
    }
   ],
   "source": [
    "df_2016.head()"
   ]
  },
  {
   "cell_type": "code",
   "execution_count": 267,
   "id": "64b788c7",
   "metadata": {},
   "outputs": [
    {
     "data": {
      "application/vnd.plotly.v1+json": {
       "config": {
        "plotlyServerURL": "https://plot.ly"
       },
       "data": [
        {
         "alignmentgroup": "True",
         "hovertemplate": "country=%{x}<br>both=%{y}<extra></extra>",
         "legendgroup": "",
         "marker": {
          "color": "#636efa",
          "pattern": {
           "shape": ""
          }
         },
         "name": "",
         "offsetgroup": "",
         "orientation": "v",
         "showlegend": false,
         "textposition": "auto",
         "type": "bar",
         "x": [
          "Lithuania",
          "Czechia",
          "Germany",
          "Estonia",
          "Uganda",
          "Ireland",
          "Luxembourg",
          "Spain",
          "France",
          "Slovenia",
          "Andorra",
          "Republic of Moldova",
          "Bulgaria",
          "United Republic of Tanzania",
          "Portugal",
          "Austria",
          "Latvia",
          "Romania",
          "Poland",
          "Hungary",
          "Switzerland",
          "Belgium",
          "Montenegro",
          "United Kingdom of Great Britain and Northern Ireland",
          "Lao People's Democratic Republic",
          "Russian Federation",
          "Slovakia",
          "Cook Islands",
          "Burkina Faso",
          "Finland"
         ],
         "xaxis": "x",
         "y": [
          14.34,
          14.27,
          13.02,
          12.99,
          12.83,
          12.76,
          12.69,
          12.61,
          12.56,
          12.48,
          12.41,
          12.32,
          12.2,
          12.02,
          12,
          11.87,
          11.8,
          11.67,
          11.66,
          11.46,
          11.36,
          11.35,
          11.34,
          11.32,
          11.28,
          11.09,
          11.01,
          10.94,
          10.84,
          10.81
         ],
         "yaxis": "y"
        }
       ],
       "layout": {
        "barmode": "relative",
        "legend": {
         "tracegroupgap": 0
        },
        "template": {
         "data": {
          "bar": [
           {
            "error_x": {
             "color": "#2a3f5f"
            },
            "error_y": {
             "color": "#2a3f5f"
            },
            "marker": {
             "line": {
              "color": "#E5ECF6",
              "width": 0.5
             },
             "pattern": {
              "fillmode": "overlay",
              "size": 10,
              "solidity": 0.2
             }
            },
            "type": "bar"
           }
          ],
          "barpolar": [
           {
            "marker": {
             "line": {
              "color": "#E5ECF6",
              "width": 0.5
             },
             "pattern": {
              "fillmode": "overlay",
              "size": 10,
              "solidity": 0.2
             }
            },
            "type": "barpolar"
           }
          ],
          "carpet": [
           {
            "aaxis": {
             "endlinecolor": "#2a3f5f",
             "gridcolor": "white",
             "linecolor": "white",
             "minorgridcolor": "white",
             "startlinecolor": "#2a3f5f"
            },
            "baxis": {
             "endlinecolor": "#2a3f5f",
             "gridcolor": "white",
             "linecolor": "white",
             "minorgridcolor": "white",
             "startlinecolor": "#2a3f5f"
            },
            "type": "carpet"
           }
          ],
          "choropleth": [
           {
            "colorbar": {
             "outlinewidth": 0,
             "ticks": ""
            },
            "type": "choropleth"
           }
          ],
          "contour": [
           {
            "colorbar": {
             "outlinewidth": 0,
             "ticks": ""
            },
            "colorscale": [
             [
              0,
              "#0d0887"
             ],
             [
              0.1111111111111111,
              "#46039f"
             ],
             [
              0.2222222222222222,
              "#7201a8"
             ],
             [
              0.3333333333333333,
              "#9c179e"
             ],
             [
              0.4444444444444444,
              "#bd3786"
             ],
             [
              0.5555555555555556,
              "#d8576b"
             ],
             [
              0.6666666666666666,
              "#ed7953"
             ],
             [
              0.7777777777777778,
              "#fb9f3a"
             ],
             [
              0.8888888888888888,
              "#fdca26"
             ],
             [
              1,
              "#f0f921"
             ]
            ],
            "type": "contour"
           }
          ],
          "contourcarpet": [
           {
            "colorbar": {
             "outlinewidth": 0,
             "ticks": ""
            },
            "type": "contourcarpet"
           }
          ],
          "heatmap": [
           {
            "colorbar": {
             "outlinewidth": 0,
             "ticks": ""
            },
            "colorscale": [
             [
              0,
              "#0d0887"
             ],
             [
              0.1111111111111111,
              "#46039f"
             ],
             [
              0.2222222222222222,
              "#7201a8"
             ],
             [
              0.3333333333333333,
              "#9c179e"
             ],
             [
              0.4444444444444444,
              "#bd3786"
             ],
             [
              0.5555555555555556,
              "#d8576b"
             ],
             [
              0.6666666666666666,
              "#ed7953"
             ],
             [
              0.7777777777777778,
              "#fb9f3a"
             ],
             [
              0.8888888888888888,
              "#fdca26"
             ],
             [
              1,
              "#f0f921"
             ]
            ],
            "type": "heatmap"
           }
          ],
          "heatmapgl": [
           {
            "colorbar": {
             "outlinewidth": 0,
             "ticks": ""
            },
            "colorscale": [
             [
              0,
              "#0d0887"
             ],
             [
              0.1111111111111111,
              "#46039f"
             ],
             [
              0.2222222222222222,
              "#7201a8"
             ],
             [
              0.3333333333333333,
              "#9c179e"
             ],
             [
              0.4444444444444444,
              "#bd3786"
             ],
             [
              0.5555555555555556,
              "#d8576b"
             ],
             [
              0.6666666666666666,
              "#ed7953"
             ],
             [
              0.7777777777777778,
              "#fb9f3a"
             ],
             [
              0.8888888888888888,
              "#fdca26"
             ],
             [
              1,
              "#f0f921"
             ]
            ],
            "type": "heatmapgl"
           }
          ],
          "histogram": [
           {
            "marker": {
             "pattern": {
              "fillmode": "overlay",
              "size": 10,
              "solidity": 0.2
             }
            },
            "type": "histogram"
           }
          ],
          "histogram2d": [
           {
            "colorbar": {
             "outlinewidth": 0,
             "ticks": ""
            },
            "colorscale": [
             [
              0,
              "#0d0887"
             ],
             [
              0.1111111111111111,
              "#46039f"
             ],
             [
              0.2222222222222222,
              "#7201a8"
             ],
             [
              0.3333333333333333,
              "#9c179e"
             ],
             [
              0.4444444444444444,
              "#bd3786"
             ],
             [
              0.5555555555555556,
              "#d8576b"
             ],
             [
              0.6666666666666666,
              "#ed7953"
             ],
             [
              0.7777777777777778,
              "#fb9f3a"
             ],
             [
              0.8888888888888888,
              "#fdca26"
             ],
             [
              1,
              "#f0f921"
             ]
            ],
            "type": "histogram2d"
           }
          ],
          "histogram2dcontour": [
           {
            "colorbar": {
             "outlinewidth": 0,
             "ticks": ""
            },
            "colorscale": [
             [
              0,
              "#0d0887"
             ],
             [
              0.1111111111111111,
              "#46039f"
             ],
             [
              0.2222222222222222,
              "#7201a8"
             ],
             [
              0.3333333333333333,
              "#9c179e"
             ],
             [
              0.4444444444444444,
              "#bd3786"
             ],
             [
              0.5555555555555556,
              "#d8576b"
             ],
             [
              0.6666666666666666,
              "#ed7953"
             ],
             [
              0.7777777777777778,
              "#fb9f3a"
             ],
             [
              0.8888888888888888,
              "#fdca26"
             ],
             [
              1,
              "#f0f921"
             ]
            ],
            "type": "histogram2dcontour"
           }
          ],
          "mesh3d": [
           {
            "colorbar": {
             "outlinewidth": 0,
             "ticks": ""
            },
            "type": "mesh3d"
           }
          ],
          "parcoords": [
           {
            "line": {
             "colorbar": {
              "outlinewidth": 0,
              "ticks": ""
             }
            },
            "type": "parcoords"
           }
          ],
          "pie": [
           {
            "automargin": true,
            "type": "pie"
           }
          ],
          "scatter": [
           {
            "marker": {
             "colorbar": {
              "outlinewidth": 0,
              "ticks": ""
             }
            },
            "type": "scatter"
           }
          ],
          "scatter3d": [
           {
            "line": {
             "colorbar": {
              "outlinewidth": 0,
              "ticks": ""
             }
            },
            "marker": {
             "colorbar": {
              "outlinewidth": 0,
              "ticks": ""
             }
            },
            "type": "scatter3d"
           }
          ],
          "scattercarpet": [
           {
            "marker": {
             "colorbar": {
              "outlinewidth": 0,
              "ticks": ""
             }
            },
            "type": "scattercarpet"
           }
          ],
          "scattergeo": [
           {
            "marker": {
             "colorbar": {
              "outlinewidth": 0,
              "ticks": ""
             }
            },
            "type": "scattergeo"
           }
          ],
          "scattergl": [
           {
            "marker": {
             "colorbar": {
              "outlinewidth": 0,
              "ticks": ""
             }
            },
            "type": "scattergl"
           }
          ],
          "scattermapbox": [
           {
            "marker": {
             "colorbar": {
              "outlinewidth": 0,
              "ticks": ""
             }
            },
            "type": "scattermapbox"
           }
          ],
          "scatterpolar": [
           {
            "marker": {
             "colorbar": {
              "outlinewidth": 0,
              "ticks": ""
             }
            },
            "type": "scatterpolar"
           }
          ],
          "scatterpolargl": [
           {
            "marker": {
             "colorbar": {
              "outlinewidth": 0,
              "ticks": ""
             }
            },
            "type": "scatterpolargl"
           }
          ],
          "scatterternary": [
           {
            "marker": {
             "colorbar": {
              "outlinewidth": 0,
              "ticks": ""
             }
            },
            "type": "scatterternary"
           }
          ],
          "surface": [
           {
            "colorbar": {
             "outlinewidth": 0,
             "ticks": ""
            },
            "colorscale": [
             [
              0,
              "#0d0887"
             ],
             [
              0.1111111111111111,
              "#46039f"
             ],
             [
              0.2222222222222222,
              "#7201a8"
             ],
             [
              0.3333333333333333,
              "#9c179e"
             ],
             [
              0.4444444444444444,
              "#bd3786"
             ],
             [
              0.5555555555555556,
              "#d8576b"
             ],
             [
              0.6666666666666666,
              "#ed7953"
             ],
             [
              0.7777777777777778,
              "#fb9f3a"
             ],
             [
              0.8888888888888888,
              "#fdca26"
             ],
             [
              1,
              "#f0f921"
             ]
            ],
            "type": "surface"
           }
          ],
          "table": [
           {
            "cells": {
             "fill": {
              "color": "#EBF0F8"
             },
             "line": {
              "color": "white"
             }
            },
            "header": {
             "fill": {
              "color": "#C8D4E3"
             },
             "line": {
              "color": "white"
             }
            },
            "type": "table"
           }
          ]
         },
         "layout": {
          "annotationdefaults": {
           "arrowcolor": "#2a3f5f",
           "arrowhead": 0,
           "arrowwidth": 1
          },
          "autotypenumbers": "strict",
          "coloraxis": {
           "colorbar": {
            "outlinewidth": 0,
            "ticks": ""
           }
          },
          "colorscale": {
           "diverging": [
            [
             0,
             "#8e0152"
            ],
            [
             0.1,
             "#c51b7d"
            ],
            [
             0.2,
             "#de77ae"
            ],
            [
             0.3,
             "#f1b6da"
            ],
            [
             0.4,
             "#fde0ef"
            ],
            [
             0.5,
             "#f7f7f7"
            ],
            [
             0.6,
             "#e6f5d0"
            ],
            [
             0.7,
             "#b8e186"
            ],
            [
             0.8,
             "#7fbc41"
            ],
            [
             0.9,
             "#4d9221"
            ],
            [
             1,
             "#276419"
            ]
           ],
           "sequential": [
            [
             0,
             "#0d0887"
            ],
            [
             0.1111111111111111,
             "#46039f"
            ],
            [
             0.2222222222222222,
             "#7201a8"
            ],
            [
             0.3333333333333333,
             "#9c179e"
            ],
            [
             0.4444444444444444,
             "#bd3786"
            ],
            [
             0.5555555555555556,
             "#d8576b"
            ],
            [
             0.6666666666666666,
             "#ed7953"
            ],
            [
             0.7777777777777778,
             "#fb9f3a"
            ],
            [
             0.8888888888888888,
             "#fdca26"
            ],
            [
             1,
             "#f0f921"
            ]
           ],
           "sequentialminus": [
            [
             0,
             "#0d0887"
            ],
            [
             0.1111111111111111,
             "#46039f"
            ],
            [
             0.2222222222222222,
             "#7201a8"
            ],
            [
             0.3333333333333333,
             "#9c179e"
            ],
            [
             0.4444444444444444,
             "#bd3786"
            ],
            [
             0.5555555555555556,
             "#d8576b"
            ],
            [
             0.6666666666666666,
             "#ed7953"
            ],
            [
             0.7777777777777778,
             "#fb9f3a"
            ],
            [
             0.8888888888888888,
             "#fdca26"
            ],
            [
             1,
             "#f0f921"
            ]
           ]
          },
          "colorway": [
           "#636efa",
           "#EF553B",
           "#00cc96",
           "#ab63fa",
           "#FFA15A",
           "#19d3f3",
           "#FF6692",
           "#B6E880",
           "#FF97FF",
           "#FECB52"
          ],
          "font": {
           "color": "#2a3f5f"
          },
          "geo": {
           "bgcolor": "white",
           "lakecolor": "white",
           "landcolor": "#E5ECF6",
           "showlakes": true,
           "showland": true,
           "subunitcolor": "white"
          },
          "hoverlabel": {
           "align": "left"
          },
          "hovermode": "closest",
          "mapbox": {
           "style": "light"
          },
          "paper_bgcolor": "white",
          "plot_bgcolor": "#E5ECF6",
          "polar": {
           "angularaxis": {
            "gridcolor": "white",
            "linecolor": "white",
            "ticks": ""
           },
           "bgcolor": "#E5ECF6",
           "radialaxis": {
            "gridcolor": "white",
            "linecolor": "white",
            "ticks": ""
           }
          },
          "scene": {
           "xaxis": {
            "backgroundcolor": "#E5ECF6",
            "gridcolor": "white",
            "gridwidth": 2,
            "linecolor": "white",
            "showbackground": true,
            "ticks": "",
            "zerolinecolor": "white"
           },
           "yaxis": {
            "backgroundcolor": "#E5ECF6",
            "gridcolor": "white",
            "gridwidth": 2,
            "linecolor": "white",
            "showbackground": true,
            "ticks": "",
            "zerolinecolor": "white"
           },
           "zaxis": {
            "backgroundcolor": "#E5ECF6",
            "gridcolor": "white",
            "gridwidth": 2,
            "linecolor": "white",
            "showbackground": true,
            "ticks": "",
            "zerolinecolor": "white"
           }
          },
          "shapedefaults": {
           "line": {
            "color": "#2a3f5f"
           }
          },
          "ternary": {
           "aaxis": {
            "gridcolor": "white",
            "linecolor": "white",
            "ticks": ""
           },
           "baxis": {
            "gridcolor": "white",
            "linecolor": "white",
            "ticks": ""
           },
           "bgcolor": "#E5ECF6",
           "caxis": {
            "gridcolor": "white",
            "linecolor": "white",
            "ticks": ""
           }
          },
          "title": {
           "x": 0.05
          },
          "xaxis": {
           "automargin": true,
           "gridcolor": "white",
           "linecolor": "white",
           "ticks": "",
           "title": {
            "standoff": 15
           },
           "zerolinecolor": "white",
           "zerolinewidth": 2
          },
          "yaxis": {
           "automargin": true,
           "gridcolor": "white",
           "linecolor": "white",
           "ticks": "",
           "title": {
            "standoff": 15
           },
           "zerolinecolor": "white",
           "zerolinewidth": 2
          }
         }
        },
        "title": {
         "text": "..."
        },
        "xaxis": {
         "anchor": "y",
         "categoryorder": "total descending",
         "domain": [
          0,
          1
         ],
         "title": {
          "text": "country"
         }
        },
        "yaxis": {
         "anchor": "x",
         "domain": [
          0,
          1
         ],
         "title": {
          "text": "both"
         }
        }
       }
      },
      "text/html": [
       "<div>                            <div id=\"bc5b0399-802f-480a-9738-5f6d12d4246f\" class=\"plotly-graph-div\" style=\"height:525px; width:100%;\"></div>            <script type=\"text/javascript\">                require([\"plotly\"], function(Plotly) {                    window.PLOTLYENV=window.PLOTLYENV || {};                                    if (document.getElementById(\"bc5b0399-802f-480a-9738-5f6d12d4246f\")) {                    Plotly.newPlot(                        \"bc5b0399-802f-480a-9738-5f6d12d4246f\",                        [{\"alignmentgroup\":\"True\",\"hovertemplate\":\"country=%{x}<br>both=%{y}<extra></extra>\",\"legendgroup\":\"\",\"marker\":{\"color\":\"#636efa\",\"pattern\":{\"shape\":\"\"}},\"name\":\"\",\"offsetgroup\":\"\",\"orientation\":\"v\",\"showlegend\":false,\"textposition\":\"auto\",\"x\":[\"Lithuania\",\"Czechia\",\"Germany\",\"Estonia\",\"Uganda\",\"Ireland\",\"Luxembourg\",\"Spain\",\"France\",\"Slovenia\",\"Andorra\",\"Republic of Moldova\",\"Bulgaria\",\"United Republic of Tanzania\",\"Portugal\",\"Austria\",\"Latvia\",\"Romania\",\"Poland\",\"Hungary\",\"Switzerland\",\"Belgium\",\"Montenegro\",\"United Kingdom of Great Britain and Northern Ireland\",\"Lao People's Democratic Republic\",\"Russian Federation\",\"Slovakia\",\"Cook Islands\",\"Burkina Faso\",\"Finland\"],\"xaxis\":\"x\",\"y\":[14.34,14.27,13.02,12.99,12.83,12.76,12.69,12.61,12.56,12.48,12.41,12.32,12.2,12.02,12.0,11.87,11.8,11.67,11.66,11.46,11.36,11.35,11.34,11.32,11.28,11.09,11.01,10.94,10.84,10.81],\"yaxis\":\"y\",\"type\":\"bar\"}],                        {\"template\":{\"data\":{\"bar\":[{\"error_x\":{\"color\":\"#2a3f5f\"},\"error_y\":{\"color\":\"#2a3f5f\"},\"marker\":{\"line\":{\"color\":\"#E5ECF6\",\"width\":0.5},\"pattern\":{\"fillmode\":\"overlay\",\"size\":10,\"solidity\":0.2}},\"type\":\"bar\"}],\"barpolar\":[{\"marker\":{\"line\":{\"color\":\"#E5ECF6\",\"width\":0.5},\"pattern\":{\"fillmode\":\"overlay\",\"size\":10,\"solidity\":0.2}},\"type\":\"barpolar\"}],\"carpet\":[{\"aaxis\":{\"endlinecolor\":\"#2a3f5f\",\"gridcolor\":\"white\",\"linecolor\":\"white\",\"minorgridcolor\":\"white\",\"startlinecolor\":\"#2a3f5f\"},\"baxis\":{\"endlinecolor\":\"#2a3f5f\",\"gridcolor\":\"white\",\"linecolor\":\"white\",\"minorgridcolor\":\"white\",\"startlinecolor\":\"#2a3f5f\"},\"type\":\"carpet\"}],\"choropleth\":[{\"colorbar\":{\"outlinewidth\":0,\"ticks\":\"\"},\"type\":\"choropleth\"}],\"contour\":[{\"colorbar\":{\"outlinewidth\":0,\"ticks\":\"\"},\"colorscale\":[[0.0,\"#0d0887\"],[0.1111111111111111,\"#46039f\"],[0.2222222222222222,\"#7201a8\"],[0.3333333333333333,\"#9c179e\"],[0.4444444444444444,\"#bd3786\"],[0.5555555555555556,\"#d8576b\"],[0.6666666666666666,\"#ed7953\"],[0.7777777777777778,\"#fb9f3a\"],[0.8888888888888888,\"#fdca26\"],[1.0,\"#f0f921\"]],\"type\":\"contour\"}],\"contourcarpet\":[{\"colorbar\":{\"outlinewidth\":0,\"ticks\":\"\"},\"type\":\"contourcarpet\"}],\"heatmap\":[{\"colorbar\":{\"outlinewidth\":0,\"ticks\":\"\"},\"colorscale\":[[0.0,\"#0d0887\"],[0.1111111111111111,\"#46039f\"],[0.2222222222222222,\"#7201a8\"],[0.3333333333333333,\"#9c179e\"],[0.4444444444444444,\"#bd3786\"],[0.5555555555555556,\"#d8576b\"],[0.6666666666666666,\"#ed7953\"],[0.7777777777777778,\"#fb9f3a\"],[0.8888888888888888,\"#fdca26\"],[1.0,\"#f0f921\"]],\"type\":\"heatmap\"}],\"heatmapgl\":[{\"colorbar\":{\"outlinewidth\":0,\"ticks\":\"\"},\"colorscale\":[[0.0,\"#0d0887\"],[0.1111111111111111,\"#46039f\"],[0.2222222222222222,\"#7201a8\"],[0.3333333333333333,\"#9c179e\"],[0.4444444444444444,\"#bd3786\"],[0.5555555555555556,\"#d8576b\"],[0.6666666666666666,\"#ed7953\"],[0.7777777777777778,\"#fb9f3a\"],[0.8888888888888888,\"#fdca26\"],[1.0,\"#f0f921\"]],\"type\":\"heatmapgl\"}],\"histogram\":[{\"marker\":{\"pattern\":{\"fillmode\":\"overlay\",\"size\":10,\"solidity\":0.2}},\"type\":\"histogram\"}],\"histogram2d\":[{\"colorbar\":{\"outlinewidth\":0,\"ticks\":\"\"},\"colorscale\":[[0.0,\"#0d0887\"],[0.1111111111111111,\"#46039f\"],[0.2222222222222222,\"#7201a8\"],[0.3333333333333333,\"#9c179e\"],[0.4444444444444444,\"#bd3786\"],[0.5555555555555556,\"#d8576b\"],[0.6666666666666666,\"#ed7953\"],[0.7777777777777778,\"#fb9f3a\"],[0.8888888888888888,\"#fdca26\"],[1.0,\"#f0f921\"]],\"type\":\"histogram2d\"}],\"histogram2dcontour\":[{\"colorbar\":{\"outlinewidth\":0,\"ticks\":\"\"},\"colorscale\":[[0.0,\"#0d0887\"],[0.1111111111111111,\"#46039f\"],[0.2222222222222222,\"#7201a8\"],[0.3333333333333333,\"#9c179e\"],[0.4444444444444444,\"#bd3786\"],[0.5555555555555556,\"#d8576b\"],[0.6666666666666666,\"#ed7953\"],[0.7777777777777778,\"#fb9f3a\"],[0.8888888888888888,\"#fdca26\"],[1.0,\"#f0f921\"]],\"type\":\"histogram2dcontour\"}],\"mesh3d\":[{\"colorbar\":{\"outlinewidth\":0,\"ticks\":\"\"},\"type\":\"mesh3d\"}],\"parcoords\":[{\"line\":{\"colorbar\":{\"outlinewidth\":0,\"ticks\":\"\"}},\"type\":\"parcoords\"}],\"pie\":[{\"automargin\":true,\"type\":\"pie\"}],\"scatter\":[{\"marker\":{\"colorbar\":{\"outlinewidth\":0,\"ticks\":\"\"}},\"type\":\"scatter\"}],\"scatter3d\":[{\"line\":{\"colorbar\":{\"outlinewidth\":0,\"ticks\":\"\"}},\"marker\":{\"colorbar\":{\"outlinewidth\":0,\"ticks\":\"\"}},\"type\":\"scatter3d\"}],\"scattercarpet\":[{\"marker\":{\"colorbar\":{\"outlinewidth\":0,\"ticks\":\"\"}},\"type\":\"scattercarpet\"}],\"scattergeo\":[{\"marker\":{\"colorbar\":{\"outlinewidth\":0,\"ticks\":\"\"}},\"type\":\"scattergeo\"}],\"scattergl\":[{\"marker\":{\"colorbar\":{\"outlinewidth\":0,\"ticks\":\"\"}},\"type\":\"scattergl\"}],\"scattermapbox\":[{\"marker\":{\"colorbar\":{\"outlinewidth\":0,\"ticks\":\"\"}},\"type\":\"scattermapbox\"}],\"scatterpolar\":[{\"marker\":{\"colorbar\":{\"outlinewidth\":0,\"ticks\":\"\"}},\"type\":\"scatterpolar\"}],\"scatterpolargl\":[{\"marker\":{\"colorbar\":{\"outlinewidth\":0,\"ticks\":\"\"}},\"type\":\"scatterpolargl\"}],\"scatterternary\":[{\"marker\":{\"colorbar\":{\"outlinewidth\":0,\"ticks\":\"\"}},\"type\":\"scatterternary\"}],\"surface\":[{\"colorbar\":{\"outlinewidth\":0,\"ticks\":\"\"},\"colorscale\":[[0.0,\"#0d0887\"],[0.1111111111111111,\"#46039f\"],[0.2222222222222222,\"#7201a8\"],[0.3333333333333333,\"#9c179e\"],[0.4444444444444444,\"#bd3786\"],[0.5555555555555556,\"#d8576b\"],[0.6666666666666666,\"#ed7953\"],[0.7777777777777778,\"#fb9f3a\"],[0.8888888888888888,\"#fdca26\"],[1.0,\"#f0f921\"]],\"type\":\"surface\"}],\"table\":[{\"cells\":{\"fill\":{\"color\":\"#EBF0F8\"},\"line\":{\"color\":\"white\"}},\"header\":{\"fill\":{\"color\":\"#C8D4E3\"},\"line\":{\"color\":\"white\"}},\"type\":\"table\"}]},\"layout\":{\"annotationdefaults\":{\"arrowcolor\":\"#2a3f5f\",\"arrowhead\":0,\"arrowwidth\":1},\"autotypenumbers\":\"strict\",\"coloraxis\":{\"colorbar\":{\"outlinewidth\":0,\"ticks\":\"\"}},\"colorscale\":{\"diverging\":[[0,\"#8e0152\"],[0.1,\"#c51b7d\"],[0.2,\"#de77ae\"],[0.3,\"#f1b6da\"],[0.4,\"#fde0ef\"],[0.5,\"#f7f7f7\"],[0.6,\"#e6f5d0\"],[0.7,\"#b8e186\"],[0.8,\"#7fbc41\"],[0.9,\"#4d9221\"],[1,\"#276419\"]],\"sequential\":[[0.0,\"#0d0887\"],[0.1111111111111111,\"#46039f\"],[0.2222222222222222,\"#7201a8\"],[0.3333333333333333,\"#9c179e\"],[0.4444444444444444,\"#bd3786\"],[0.5555555555555556,\"#d8576b\"],[0.6666666666666666,\"#ed7953\"],[0.7777777777777778,\"#fb9f3a\"],[0.8888888888888888,\"#fdca26\"],[1.0,\"#f0f921\"]],\"sequentialminus\":[[0.0,\"#0d0887\"],[0.1111111111111111,\"#46039f\"],[0.2222222222222222,\"#7201a8\"],[0.3333333333333333,\"#9c179e\"],[0.4444444444444444,\"#bd3786\"],[0.5555555555555556,\"#d8576b\"],[0.6666666666666666,\"#ed7953\"],[0.7777777777777778,\"#fb9f3a\"],[0.8888888888888888,\"#fdca26\"],[1.0,\"#f0f921\"]]},\"colorway\":[\"#636efa\",\"#EF553B\",\"#00cc96\",\"#ab63fa\",\"#FFA15A\",\"#19d3f3\",\"#FF6692\",\"#B6E880\",\"#FF97FF\",\"#FECB52\"],\"font\":{\"color\":\"#2a3f5f\"},\"geo\":{\"bgcolor\":\"white\",\"lakecolor\":\"white\",\"landcolor\":\"#E5ECF6\",\"showlakes\":true,\"showland\":true,\"subunitcolor\":\"white\"},\"hoverlabel\":{\"align\":\"left\"},\"hovermode\":\"closest\",\"mapbox\":{\"style\":\"light\"},\"paper_bgcolor\":\"white\",\"plot_bgcolor\":\"#E5ECF6\",\"polar\":{\"angularaxis\":{\"gridcolor\":\"white\",\"linecolor\":\"white\",\"ticks\":\"\"},\"bgcolor\":\"#E5ECF6\",\"radialaxis\":{\"gridcolor\":\"white\",\"linecolor\":\"white\",\"ticks\":\"\"}},\"scene\":{\"xaxis\":{\"backgroundcolor\":\"#E5ECF6\",\"gridcolor\":\"white\",\"gridwidth\":2,\"linecolor\":\"white\",\"showbackground\":true,\"ticks\":\"\",\"zerolinecolor\":\"white\"},\"yaxis\":{\"backgroundcolor\":\"#E5ECF6\",\"gridcolor\":\"white\",\"gridwidth\":2,\"linecolor\":\"white\",\"showbackground\":true,\"ticks\":\"\",\"zerolinecolor\":\"white\"},\"zaxis\":{\"backgroundcolor\":\"#E5ECF6\",\"gridcolor\":\"white\",\"gridwidth\":2,\"linecolor\":\"white\",\"showbackground\":true,\"ticks\":\"\",\"zerolinecolor\":\"white\"}},\"shapedefaults\":{\"line\":{\"color\":\"#2a3f5f\"}},\"ternary\":{\"aaxis\":{\"gridcolor\":\"white\",\"linecolor\":\"white\",\"ticks\":\"\"},\"baxis\":{\"gridcolor\":\"white\",\"linecolor\":\"white\",\"ticks\":\"\"},\"bgcolor\":\"#E5ECF6\",\"caxis\":{\"gridcolor\":\"white\",\"linecolor\":\"white\",\"ticks\":\"\"}},\"title\":{\"x\":0.05},\"xaxis\":{\"automargin\":true,\"gridcolor\":\"white\",\"linecolor\":\"white\",\"ticks\":\"\",\"title\":{\"standoff\":15},\"zerolinecolor\":\"white\",\"zerolinewidth\":2},\"yaxis\":{\"automargin\":true,\"gridcolor\":\"white\",\"linecolor\":\"white\",\"ticks\":\"\",\"title\":{\"standoff\":15},\"zerolinecolor\":\"white\",\"zerolinewidth\":2}}},\"xaxis\":{\"anchor\":\"y\",\"domain\":[0.0,1.0],\"title\":{\"text\":\"country\"},\"categoryorder\":\"total descending\"},\"yaxis\":{\"anchor\":\"x\",\"domain\":[0.0,1.0],\"title\":{\"text\":\"both\"}},\"legend\":{\"tracegroupgap\":0},\"title\":{\"text\":\"...\"},\"barmode\":\"relative\"},                        {\"responsive\": true}                    ).then(function(){\n",
       "                            \n",
       "var gd = document.getElementById('bc5b0399-802f-480a-9738-5f6d12d4246f');\n",
       "var x = new MutationObserver(function (mutations, observer) {{\n",
       "        var display = window.getComputedStyle(gd).display;\n",
       "        if (!display || display === 'none') {{\n",
       "            console.log([gd, 'removed!']);\n",
       "            Plotly.purge(gd);\n",
       "            observer.disconnect();\n",
       "        }}\n",
       "}});\n",
       "\n",
       "// Listen for the removal of the full notebook cells\n",
       "var notebookContainer = gd.closest('#notebook-container');\n",
       "if (notebookContainer) {{\n",
       "    x.observe(notebookContainer, {childList: true});\n",
       "}}\n",
       "\n",
       "// Listen for the clearing of the current output cell\n",
       "var outputEl = gd.closest('.output');\n",
       "if (outputEl) {{\n",
       "    x.observe(outputEl, {childList: true});\n",
       "}}\n",
       "\n",
       "                        })                };                });            </script>        </div>"
      ]
     },
     "metadata": {},
     "output_type": "display_data"
    }
   ],
   "source": [
    "data = df_2016.sort_values(by = \"both\", ascending = False).head(30)\n",
    "fig = px.bar(data, x=data.index, y=\"both\", \n",
    "             title=\"...\", \n",
    "             labels={\"value\":\"volume in liters\"}).update_xaxes(categoryorder=\"total descending\")\n",
    "fig.show()"
   ]
  },
  {
   "cell_type": "code",
   "execution_count": 265,
   "id": "8113b106",
   "metadata": {},
   "outputs": [
    {
     "data": {
      "text/html": [
       "<div>\n",
       "<style scoped>\n",
       "    .dataframe tbody tr th:only-of-type {\n",
       "        vertical-align: middle;\n",
       "    }\n",
       "\n",
       "    .dataframe tbody tr th {\n",
       "        vertical-align: top;\n",
       "    }\n",
       "\n",
       "    .dataframe thead th {\n",
       "        text-align: right;\n",
       "    }\n",
       "</style>\n",
       "<table border=\"1\" class=\"dataframe\">\n",
       "  <thead>\n",
       "    <tr style=\"text-align: right;\">\n",
       "      <th></th>\n",
       "      <th>npg</th>\n",
       "      <th>birth_rate</th>\n",
       "      <th>death_rate</th>\n",
       "      <th>gdw</th>\n",
       "      <th>urbanization</th>\n",
       "      <th>wine</th>\n",
       "      <th>beer</th>\n",
       "      <th>vodka</th>\n",
       "      <th>champagne</th>\n",
       "      <th>brandy</th>\n",
       "      <th>total_volume</th>\n",
       "    </tr>\n",
       "    <tr>\n",
       "      <th>year</th>\n",
       "      <th></th>\n",
       "      <th></th>\n",
       "      <th></th>\n",
       "      <th></th>\n",
       "      <th></th>\n",
       "      <th></th>\n",
       "      <th></th>\n",
       "      <th></th>\n",
       "      <th></th>\n",
       "      <th></th>\n",
       "      <th></th>\n",
       "    </tr>\n",
       "  </thead>\n",
       "  <tbody>\n",
       "    <tr>\n",
       "      <th>1998</th>\n",
       "      <td>-3.87</td>\n",
       "      <td>9.36</td>\n",
       "      <td>13.23</td>\n",
       "      <td>72.71</td>\n",
       "      <td>69.60</td>\n",
       "      <td>3.03</td>\n",
       "      <td>20.42</td>\n",
       "      <td>12.67</td>\n",
       "      <td>0.91</td>\n",
       "      <td>0.23</td>\n",
       "      <td>37.26</td>\n",
       "    </tr>\n",
       "    <tr>\n",
       "      <th>1999</th>\n",
       "      <td>-5.56</td>\n",
       "      <td>8.82</td>\n",
       "      <td>14.38</td>\n",
       "      <td>70.63</td>\n",
       "      <td>69.71</td>\n",
       "      <td>3.12</td>\n",
       "      <td>25.40</td>\n",
       "      <td>13.47</td>\n",
       "      <td>0.85</td>\n",
       "      <td>0.21</td>\n",
       "      <td>43.04</td>\n",
       "    </tr>\n",
       "    <tr>\n",
       "      <th>2000</th>\n",
       "      <td>-5.87</td>\n",
       "      <td>9.17</td>\n",
       "      <td>15.04</td>\n",
       "      <td>68.14</td>\n",
       "      <td>69.63</td>\n",
       "      <td>3.34</td>\n",
       "      <td>30.13</td>\n",
       "      <td>13.57</td>\n",
       "      <td>0.89</td>\n",
       "      <td>0.23</td>\n",
       "      <td>48.17</td>\n",
       "    </tr>\n",
       "    <tr>\n",
       "      <th>2001</th>\n",
       "      <td>-5.61</td>\n",
       "      <td>9.69</td>\n",
       "      <td>15.30</td>\n",
       "      <td>66.00</td>\n",
       "      <td>69.39</td>\n",
       "      <td>3.94</td>\n",
       "      <td>36.34</td>\n",
       "      <td>14.24</td>\n",
       "      <td>0.93</td>\n",
       "      <td>0.28</td>\n",
       "      <td>55.73</td>\n",
       "    </tr>\n",
       "    <tr>\n",
       "      <th>2002</th>\n",
       "      <td>-5.69</td>\n",
       "      <td>10.31</td>\n",
       "      <td>16.00</td>\n",
       "      <td>64.50</td>\n",
       "      <td>69.50</td>\n",
       "      <td>4.40</td>\n",
       "      <td>42.38</td>\n",
       "      <td>14.79</td>\n",
       "      <td>0.97</td>\n",
       "      <td>0.32</td>\n",
       "      <td>62.85</td>\n",
       "    </tr>\n",
       "  </tbody>\n",
       "</table>\n",
       "</div>"
      ],
      "text/plain": [
       "       npg  birth_rate  death_rate   gdw  urbanization  wine  beer  vodka  \\\n",
       "year                                                                        \n",
       "1998 -3.87        9.36       13.23 72.71         69.60  3.03 20.42  12.67   \n",
       "1999 -5.56        8.82       14.38 70.63         69.71  3.12 25.40  13.47   \n",
       "2000 -5.87        9.17       15.04 68.14         69.63  3.34 30.13  13.57   \n",
       "2001 -5.61        9.69       15.30 66.00         69.39  3.94 36.34  14.24   \n",
       "2002 -5.69       10.31       16.00 64.50         69.50  4.40 42.38  14.79   \n",
       "\n",
       "      champagne  brandy  total_volume  \n",
       "year                                   \n",
       "1998       0.91    0.23         37.26  \n",
       "1999       0.85    0.21         43.04  \n",
       "2000       0.89    0.23         48.17  \n",
       "2001       0.93    0.28         55.73  \n",
       "2002       0.97    0.32         62.85  "
      ]
     },
     "execution_count": 265,
     "metadata": {},
     "output_type": "execute_result"
    }
   ],
   "source": [
    "df_data = df.groupby(['year'], as_index=False).mean() #yearly average across all regions\n",
    "df_data.set_index(\"year\", inplace=True)\n",
    "df_data.head()"
   ]
  },
  {
   "cell_type": "code",
   "execution_count": null,
   "id": "a32510c5",
   "metadata": {},
   "outputs": [],
   "source": []
  },
  {
   "cell_type": "code",
   "execution_count": null,
   "id": "91fbad13",
   "metadata": {},
   "outputs": [],
   "source": []
  },
  {
   "cell_type": "markdown",
   "id": "83dc74e1",
   "metadata": {},
   "source": [
    "### 3.1 What kinds of alcohol beverages are consumed in Russia over the observed time period?"
   ]
  },
  {
   "cell_type": "code",
   "execution_count": 145,
   "id": "3c3a640f",
   "metadata": {},
   "outputs": [
    {
     "data": {
      "text/html": [
       "<div>\n",
       "<style scoped>\n",
       "    .dataframe tbody tr th:only-of-type {\n",
       "        vertical-align: middle;\n",
       "    }\n",
       "\n",
       "    .dataframe tbody tr th {\n",
       "        vertical-align: top;\n",
       "    }\n",
       "\n",
       "    .dataframe thead th {\n",
       "        text-align: right;\n",
       "    }\n",
       "</style>\n",
       "<table border=\"1\" class=\"dataframe\">\n",
       "  <thead>\n",
       "    <tr style=\"text-align: right;\">\n",
       "      <th></th>\n",
       "      <th>npg</th>\n",
       "      <th>birth_rate</th>\n",
       "      <th>death_rate</th>\n",
       "      <th>gdw</th>\n",
       "      <th>urbanization</th>\n",
       "      <th>wine</th>\n",
       "      <th>beer</th>\n",
       "      <th>vodka</th>\n",
       "      <th>champagne</th>\n",
       "      <th>brandy</th>\n",
       "      <th>total_volume</th>\n",
       "    </tr>\n",
       "    <tr>\n",
       "      <th>year</th>\n",
       "      <th></th>\n",
       "      <th></th>\n",
       "      <th></th>\n",
       "      <th></th>\n",
       "      <th></th>\n",
       "      <th></th>\n",
       "      <th></th>\n",
       "      <th></th>\n",
       "      <th></th>\n",
       "      <th></th>\n",
       "      <th></th>\n",
       "    </tr>\n",
       "  </thead>\n",
       "  <tbody>\n",
       "    <tr>\n",
       "      <th>1998</th>\n",
       "      <td>-3.87</td>\n",
       "      <td>9.36</td>\n",
       "      <td>13.23</td>\n",
       "      <td>72.71</td>\n",
       "      <td>69.60</td>\n",
       "      <td>3.03</td>\n",
       "      <td>20.42</td>\n",
       "      <td>12.67</td>\n",
       "      <td>0.91</td>\n",
       "      <td>0.23</td>\n",
       "      <td>37.26</td>\n",
       "    </tr>\n",
       "    <tr>\n",
       "      <th>1999</th>\n",
       "      <td>-5.56</td>\n",
       "      <td>8.82</td>\n",
       "      <td>14.38</td>\n",
       "      <td>70.63</td>\n",
       "      <td>69.71</td>\n",
       "      <td>3.12</td>\n",
       "      <td>25.40</td>\n",
       "      <td>13.47</td>\n",
       "      <td>0.85</td>\n",
       "      <td>0.21</td>\n",
       "      <td>43.04</td>\n",
       "    </tr>\n",
       "    <tr>\n",
       "      <th>2000</th>\n",
       "      <td>-5.87</td>\n",
       "      <td>9.17</td>\n",
       "      <td>15.04</td>\n",
       "      <td>68.14</td>\n",
       "      <td>69.63</td>\n",
       "      <td>3.34</td>\n",
       "      <td>30.13</td>\n",
       "      <td>13.57</td>\n",
       "      <td>0.89</td>\n",
       "      <td>0.23</td>\n",
       "      <td>48.17</td>\n",
       "    </tr>\n",
       "    <tr>\n",
       "      <th>2001</th>\n",
       "      <td>-5.61</td>\n",
       "      <td>9.69</td>\n",
       "      <td>15.30</td>\n",
       "      <td>66.00</td>\n",
       "      <td>69.39</td>\n",
       "      <td>3.94</td>\n",
       "      <td>36.34</td>\n",
       "      <td>14.24</td>\n",
       "      <td>0.93</td>\n",
       "      <td>0.28</td>\n",
       "      <td>55.73</td>\n",
       "    </tr>\n",
       "    <tr>\n",
       "      <th>2002</th>\n",
       "      <td>-5.69</td>\n",
       "      <td>10.31</td>\n",
       "      <td>16.00</td>\n",
       "      <td>64.50</td>\n",
       "      <td>69.50</td>\n",
       "      <td>4.40</td>\n",
       "      <td>42.38</td>\n",
       "      <td>14.79</td>\n",
       "      <td>0.97</td>\n",
       "      <td>0.32</td>\n",
       "      <td>62.85</td>\n",
       "    </tr>\n",
       "  </tbody>\n",
       "</table>\n",
       "</div>"
      ],
      "text/plain": [
       "       npg  birth_rate  death_rate   gdw  urbanization  wine  beer  vodka  \\\n",
       "year                                                                        \n",
       "1998 -3.87        9.36       13.23 72.71         69.60  3.03 20.42  12.67   \n",
       "1999 -5.56        8.82       14.38 70.63         69.71  3.12 25.40  13.47   \n",
       "2000 -5.87        9.17       15.04 68.14         69.63  3.34 30.13  13.57   \n",
       "2001 -5.61        9.69       15.30 66.00         69.39  3.94 36.34  14.24   \n",
       "2002 -5.69       10.31       16.00 64.50         69.50  4.40 42.38  14.79   \n",
       "\n",
       "      champagne  brandy  total_volume  \n",
       "year                                   \n",
       "1998       0.91    0.23         37.26  \n",
       "1999       0.85    0.21         43.04  \n",
       "2000       0.89    0.23         48.17  \n",
       "2001       0.93    0.28         55.73  \n",
       "2002       0.97    0.32         62.85  "
      ]
     },
     "execution_count": 145,
     "metadata": {},
     "output_type": "execute_result"
    }
   ],
   "source": []
  },
  {
   "cell_type": "code",
   "execution_count": 171,
   "id": "36fd79fa",
   "metadata": {},
   "outputs": [
    {
     "data": {
      "application/vnd.plotly.v1+json": {
       "config": {
        "plotlyServerURL": "https://plot.ly"
       },
       "data": [
        {
         "alignmentgroup": "True",
         "hovertemplate": "variable=wine<br>year=%{x}<br>volume in liters=%{y}<extra></extra>",
         "legendgroup": "wine",
         "marker": {
          "color": "#636efa",
          "pattern": {
           "shape": ""
          }
         },
         "name": "wine",
         "offsetgroup": "wine",
         "orientation": "v",
         "showlegend": true,
         "textposition": "auto",
         "type": "bar",
         "x": [
          1998,
          1999,
          2000,
          2001,
          2002,
          2003,
          2004,
          2005,
          2006,
          2007,
          2008,
          2009,
          2010,
          2011,
          2012,
          2013,
          2014,
          2015,
          2016
         ],
         "xaxis": "x",
         "y": [
          3.0296296296296297,
          3.120987654320988,
          3.34320987654321,
          3.93780487804878,
          4.402439024390244,
          5.184146341463415,
          5.7682926829268295,
          6.041975308641976,
          5.85679012345679,
          6.703703703703703,
          7.3654320987654325,
          7.337037037037036,
          7.434567901234568,
          6.93925925925926,
          6.566666666666666,
          5.824691358024691,
          6.319277108433735,
          6.0530120481927705,
          5.909638554216867
         ],
         "yaxis": "y"
        },
        {
         "alignmentgroup": "True",
         "hovertemplate": "variable=beer<br>year=%{x}<br>volume in liters=%{y}<extra></extra>",
         "legendgroup": "beer",
         "marker": {
          "color": "#EF553B",
          "pattern": {
           "shape": ""
          }
         },
         "name": "beer",
         "offsetgroup": "beer",
         "orientation": "v",
         "showlegend": true,
         "textposition": "auto",
         "type": "bar",
         "x": [
          1998,
          1999,
          2000,
          2001,
          2002,
          2003,
          2004,
          2005,
          2006,
          2007,
          2008,
          2009,
          2010,
          2011,
          2012,
          2013,
          2014,
          2015,
          2016
         ],
         "xaxis": "x",
         "y": [
          20.419753086419753,
          25.395061728395063,
          30.13086419753086,
          36.34390243902439,
          42.37560975609756,
          47.37439024390244,
          52.489024390243905,
          55.160493827160494,
          62.28518518518519,
          62.764197530864195,
          65.44567901234568,
          63.82098765432099,
          63.39382716049382,
          64.64259259259259,
          65.96049382716049,
          63.66543209876543,
          56.72771084337349,
          51.21325301204819,
          49.486746987951804
         ],
         "yaxis": "y"
        },
        {
         "alignmentgroup": "True",
         "hovertemplate": "variable=vodka<br>year=%{x}<br>volume in liters=%{y}<extra></extra>",
         "legendgroup": "vodka",
         "marker": {
          "color": "#00cc96",
          "pattern": {
           "shape": ""
          }
         },
         "name": "vodka",
         "offsetgroup": "vodka",
         "orientation": "v",
         "showlegend": true,
         "textposition": "auto",
         "type": "bar",
         "x": [
          1998,
          1999,
          2000,
          2001,
          2002,
          2003,
          2004,
          2005,
          2006,
          2007,
          2008,
          2009,
          2010,
          2011,
          2012,
          2013,
          2014,
          2015,
          2016
         ],
         "xaxis": "x",
         "y": [
          12.669135802469137,
          13.469135802469136,
          13.57283950617284,
          14.239024390243902,
          14.78780487804878,
          14.518292682926829,
          14.334146341463416,
          13.833333333333334,
          13.235802469135802,
          12.479012345679012,
          12.380246913580246,
          11.667901234567902,
          11.376543209876543,
          11.341975308641976,
          11.144444444444446,
          9.528395061728395,
          7.606024096385542,
          6.667469879518072,
          6.6253012048192765
         ],
         "yaxis": "y"
        },
        {
         "alignmentgroup": "True",
         "hovertemplate": "variable=champagne<br>year=%{x}<br>volume in liters=%{y}<extra></extra>",
         "legendgroup": "champagne",
         "marker": {
          "color": "#ab63fa",
          "pattern": {
           "shape": ""
          }
         },
         "name": "champagne",
         "offsetgroup": "champagne",
         "orientation": "v",
         "showlegend": true,
         "textposition": "auto",
         "type": "bar",
         "x": [
          1998,
          1999,
          2000,
          2001,
          2002,
          2003,
          2004,
          2005,
          2006,
          2007,
          2008,
          2009,
          2010,
          2011,
          2012,
          2013,
          2014,
          2015,
          2016
         ],
         "xaxis": "x",
         "y": [
          0.9135802469135802,
          0.8469135802469135,
          0.8925925925925926,
          0.9317073170731708,
          0.9670731707317073,
          1.0353658536585366,
          1.0939024390243903,
          1.1851851851851851,
          1.2308641975308643,
          1.4222222222222223,
          1.5703703703703704,
          1.548148148148148,
          1.6962962962962964,
          1.8179012345679013,
          1.782716049382716,
          1.7061728395061726,
          1.5843373493975903,
          1.4397590361445782,
          1.3349397590361445
         ],
         "yaxis": "y"
        },
        {
         "alignmentgroup": "True",
         "hovertemplate": "variable=brandy<br>year=%{x}<br>volume in liters=%{y}<extra></extra>",
         "legendgroup": "brandy",
         "marker": {
          "color": "#FFA15A",
          "pattern": {
           "shape": ""
          }
         },
         "name": "brandy",
         "offsetgroup": "brandy",
         "orientation": "v",
         "showlegend": true,
         "textposition": "auto",
         "type": "bar",
         "x": [
          1998,
          1999,
          2000,
          2001,
          2002,
          2003,
          2004,
          2005,
          2006,
          2007,
          2008,
          2009,
          2010,
          2011,
          2012,
          2013,
          2014,
          2015,
          2016
         ],
         "xaxis": "x",
         "y": [
          0.2288888888888889,
          0.21086419753086422,
          0.2337037037037037,
          0.275609756097561,
          0.3207317073170732,
          0.36341463414634145,
          0.3926829268292683,
          0.4111111111111111,
          0.437037037037037,
          0.5345679012345679,
          0.6703703703703704,
          0.682716049382716,
          0.7345679012345679,
          0.787283950617284,
          0.8283950617283949,
          0.8024691358024691,
          0.7469879518072289,
          0.6771084337349398,
          0.6710843373493977
         ],
         "yaxis": "y"
        }
       ],
       "layout": {
        "barmode": "relative",
        "legend": {
         "title": {
          "text": "variable"
         },
         "tracegroupgap": 0
        },
        "template": {
         "data": {
          "bar": [
           {
            "error_x": {
             "color": "#2a3f5f"
            },
            "error_y": {
             "color": "#2a3f5f"
            },
            "marker": {
             "line": {
              "color": "#E5ECF6",
              "width": 0.5
             },
             "pattern": {
              "fillmode": "overlay",
              "size": 10,
              "solidity": 0.2
             }
            },
            "type": "bar"
           }
          ],
          "barpolar": [
           {
            "marker": {
             "line": {
              "color": "#E5ECF6",
              "width": 0.5
             },
             "pattern": {
              "fillmode": "overlay",
              "size": 10,
              "solidity": 0.2
             }
            },
            "type": "barpolar"
           }
          ],
          "carpet": [
           {
            "aaxis": {
             "endlinecolor": "#2a3f5f",
             "gridcolor": "white",
             "linecolor": "white",
             "minorgridcolor": "white",
             "startlinecolor": "#2a3f5f"
            },
            "baxis": {
             "endlinecolor": "#2a3f5f",
             "gridcolor": "white",
             "linecolor": "white",
             "minorgridcolor": "white",
             "startlinecolor": "#2a3f5f"
            },
            "type": "carpet"
           }
          ],
          "choropleth": [
           {
            "colorbar": {
             "outlinewidth": 0,
             "ticks": ""
            },
            "type": "choropleth"
           }
          ],
          "contour": [
           {
            "colorbar": {
             "outlinewidth": 0,
             "ticks": ""
            },
            "colorscale": [
             [
              0,
              "#0d0887"
             ],
             [
              0.1111111111111111,
              "#46039f"
             ],
             [
              0.2222222222222222,
              "#7201a8"
             ],
             [
              0.3333333333333333,
              "#9c179e"
             ],
             [
              0.4444444444444444,
              "#bd3786"
             ],
             [
              0.5555555555555556,
              "#d8576b"
             ],
             [
              0.6666666666666666,
              "#ed7953"
             ],
             [
              0.7777777777777778,
              "#fb9f3a"
             ],
             [
              0.8888888888888888,
              "#fdca26"
             ],
             [
              1,
              "#f0f921"
             ]
            ],
            "type": "contour"
           }
          ],
          "contourcarpet": [
           {
            "colorbar": {
             "outlinewidth": 0,
             "ticks": ""
            },
            "type": "contourcarpet"
           }
          ],
          "heatmap": [
           {
            "colorbar": {
             "outlinewidth": 0,
             "ticks": ""
            },
            "colorscale": [
             [
              0,
              "#0d0887"
             ],
             [
              0.1111111111111111,
              "#46039f"
             ],
             [
              0.2222222222222222,
              "#7201a8"
             ],
             [
              0.3333333333333333,
              "#9c179e"
             ],
             [
              0.4444444444444444,
              "#bd3786"
             ],
             [
              0.5555555555555556,
              "#d8576b"
             ],
             [
              0.6666666666666666,
              "#ed7953"
             ],
             [
              0.7777777777777778,
              "#fb9f3a"
             ],
             [
              0.8888888888888888,
              "#fdca26"
             ],
             [
              1,
              "#f0f921"
             ]
            ],
            "type": "heatmap"
           }
          ],
          "heatmapgl": [
           {
            "colorbar": {
             "outlinewidth": 0,
             "ticks": ""
            },
            "colorscale": [
             [
              0,
              "#0d0887"
             ],
             [
              0.1111111111111111,
              "#46039f"
             ],
             [
              0.2222222222222222,
              "#7201a8"
             ],
             [
              0.3333333333333333,
              "#9c179e"
             ],
             [
              0.4444444444444444,
              "#bd3786"
             ],
             [
              0.5555555555555556,
              "#d8576b"
             ],
             [
              0.6666666666666666,
              "#ed7953"
             ],
             [
              0.7777777777777778,
              "#fb9f3a"
             ],
             [
              0.8888888888888888,
              "#fdca26"
             ],
             [
              1,
              "#f0f921"
             ]
            ],
            "type": "heatmapgl"
           }
          ],
          "histogram": [
           {
            "marker": {
             "pattern": {
              "fillmode": "overlay",
              "size": 10,
              "solidity": 0.2
             }
            },
            "type": "histogram"
           }
          ],
          "histogram2d": [
           {
            "colorbar": {
             "outlinewidth": 0,
             "ticks": ""
            },
            "colorscale": [
             [
              0,
              "#0d0887"
             ],
             [
              0.1111111111111111,
              "#46039f"
             ],
             [
              0.2222222222222222,
              "#7201a8"
             ],
             [
              0.3333333333333333,
              "#9c179e"
             ],
             [
              0.4444444444444444,
              "#bd3786"
             ],
             [
              0.5555555555555556,
              "#d8576b"
             ],
             [
              0.6666666666666666,
              "#ed7953"
             ],
             [
              0.7777777777777778,
              "#fb9f3a"
             ],
             [
              0.8888888888888888,
              "#fdca26"
             ],
             [
              1,
              "#f0f921"
             ]
            ],
            "type": "histogram2d"
           }
          ],
          "histogram2dcontour": [
           {
            "colorbar": {
             "outlinewidth": 0,
             "ticks": ""
            },
            "colorscale": [
             [
              0,
              "#0d0887"
             ],
             [
              0.1111111111111111,
              "#46039f"
             ],
             [
              0.2222222222222222,
              "#7201a8"
             ],
             [
              0.3333333333333333,
              "#9c179e"
             ],
             [
              0.4444444444444444,
              "#bd3786"
             ],
             [
              0.5555555555555556,
              "#d8576b"
             ],
             [
              0.6666666666666666,
              "#ed7953"
             ],
             [
              0.7777777777777778,
              "#fb9f3a"
             ],
             [
              0.8888888888888888,
              "#fdca26"
             ],
             [
              1,
              "#f0f921"
             ]
            ],
            "type": "histogram2dcontour"
           }
          ],
          "mesh3d": [
           {
            "colorbar": {
             "outlinewidth": 0,
             "ticks": ""
            },
            "type": "mesh3d"
           }
          ],
          "parcoords": [
           {
            "line": {
             "colorbar": {
              "outlinewidth": 0,
              "ticks": ""
             }
            },
            "type": "parcoords"
           }
          ],
          "pie": [
           {
            "automargin": true,
            "type": "pie"
           }
          ],
          "scatter": [
           {
            "marker": {
             "colorbar": {
              "outlinewidth": 0,
              "ticks": ""
             }
            },
            "type": "scatter"
           }
          ],
          "scatter3d": [
           {
            "line": {
             "colorbar": {
              "outlinewidth": 0,
              "ticks": ""
             }
            },
            "marker": {
             "colorbar": {
              "outlinewidth": 0,
              "ticks": ""
             }
            },
            "type": "scatter3d"
           }
          ],
          "scattercarpet": [
           {
            "marker": {
             "colorbar": {
              "outlinewidth": 0,
              "ticks": ""
             }
            },
            "type": "scattercarpet"
           }
          ],
          "scattergeo": [
           {
            "marker": {
             "colorbar": {
              "outlinewidth": 0,
              "ticks": ""
             }
            },
            "type": "scattergeo"
           }
          ],
          "scattergl": [
           {
            "marker": {
             "colorbar": {
              "outlinewidth": 0,
              "ticks": ""
             }
            },
            "type": "scattergl"
           }
          ],
          "scattermapbox": [
           {
            "marker": {
             "colorbar": {
              "outlinewidth": 0,
              "ticks": ""
             }
            },
            "type": "scattermapbox"
           }
          ],
          "scatterpolar": [
           {
            "marker": {
             "colorbar": {
              "outlinewidth": 0,
              "ticks": ""
             }
            },
            "type": "scatterpolar"
           }
          ],
          "scatterpolargl": [
           {
            "marker": {
             "colorbar": {
              "outlinewidth": 0,
              "ticks": ""
             }
            },
            "type": "scatterpolargl"
           }
          ],
          "scatterternary": [
           {
            "marker": {
             "colorbar": {
              "outlinewidth": 0,
              "ticks": ""
             }
            },
            "type": "scatterternary"
           }
          ],
          "surface": [
           {
            "colorbar": {
             "outlinewidth": 0,
             "ticks": ""
            },
            "colorscale": [
             [
              0,
              "#0d0887"
             ],
             [
              0.1111111111111111,
              "#46039f"
             ],
             [
              0.2222222222222222,
              "#7201a8"
             ],
             [
              0.3333333333333333,
              "#9c179e"
             ],
             [
              0.4444444444444444,
              "#bd3786"
             ],
             [
              0.5555555555555556,
              "#d8576b"
             ],
             [
              0.6666666666666666,
              "#ed7953"
             ],
             [
              0.7777777777777778,
              "#fb9f3a"
             ],
             [
              0.8888888888888888,
              "#fdca26"
             ],
             [
              1,
              "#f0f921"
             ]
            ],
            "type": "surface"
           }
          ],
          "table": [
           {
            "cells": {
             "fill": {
              "color": "#EBF0F8"
             },
             "line": {
              "color": "white"
             }
            },
            "header": {
             "fill": {
              "color": "#C8D4E3"
             },
             "line": {
              "color": "white"
             }
            },
            "type": "table"
           }
          ]
         },
         "layout": {
          "annotationdefaults": {
           "arrowcolor": "#2a3f5f",
           "arrowhead": 0,
           "arrowwidth": 1
          },
          "autotypenumbers": "strict",
          "coloraxis": {
           "colorbar": {
            "outlinewidth": 0,
            "ticks": ""
           }
          },
          "colorscale": {
           "diverging": [
            [
             0,
             "#8e0152"
            ],
            [
             0.1,
             "#c51b7d"
            ],
            [
             0.2,
             "#de77ae"
            ],
            [
             0.3,
             "#f1b6da"
            ],
            [
             0.4,
             "#fde0ef"
            ],
            [
             0.5,
             "#f7f7f7"
            ],
            [
             0.6,
             "#e6f5d0"
            ],
            [
             0.7,
             "#b8e186"
            ],
            [
             0.8,
             "#7fbc41"
            ],
            [
             0.9,
             "#4d9221"
            ],
            [
             1,
             "#276419"
            ]
           ],
           "sequential": [
            [
             0,
             "#0d0887"
            ],
            [
             0.1111111111111111,
             "#46039f"
            ],
            [
             0.2222222222222222,
             "#7201a8"
            ],
            [
             0.3333333333333333,
             "#9c179e"
            ],
            [
             0.4444444444444444,
             "#bd3786"
            ],
            [
             0.5555555555555556,
             "#d8576b"
            ],
            [
             0.6666666666666666,
             "#ed7953"
            ],
            [
             0.7777777777777778,
             "#fb9f3a"
            ],
            [
             0.8888888888888888,
             "#fdca26"
            ],
            [
             1,
             "#f0f921"
            ]
           ],
           "sequentialminus": [
            [
             0,
             "#0d0887"
            ],
            [
             0.1111111111111111,
             "#46039f"
            ],
            [
             0.2222222222222222,
             "#7201a8"
            ],
            [
             0.3333333333333333,
             "#9c179e"
            ],
            [
             0.4444444444444444,
             "#bd3786"
            ],
            [
             0.5555555555555556,
             "#d8576b"
            ],
            [
             0.6666666666666666,
             "#ed7953"
            ],
            [
             0.7777777777777778,
             "#fb9f3a"
            ],
            [
             0.8888888888888888,
             "#fdca26"
            ],
            [
             1,
             "#f0f921"
            ]
           ]
          },
          "colorway": [
           "#636efa",
           "#EF553B",
           "#00cc96",
           "#ab63fa",
           "#FFA15A",
           "#19d3f3",
           "#FF6692",
           "#B6E880",
           "#FF97FF",
           "#FECB52"
          ],
          "font": {
           "color": "#2a3f5f"
          },
          "geo": {
           "bgcolor": "white",
           "lakecolor": "white",
           "landcolor": "#E5ECF6",
           "showlakes": true,
           "showland": true,
           "subunitcolor": "white"
          },
          "hoverlabel": {
           "align": "left"
          },
          "hovermode": "closest",
          "mapbox": {
           "style": "light"
          },
          "paper_bgcolor": "white",
          "plot_bgcolor": "#E5ECF6",
          "polar": {
           "angularaxis": {
            "gridcolor": "white",
            "linecolor": "white",
            "ticks": ""
           },
           "bgcolor": "#E5ECF6",
           "radialaxis": {
            "gridcolor": "white",
            "linecolor": "white",
            "ticks": ""
           }
          },
          "scene": {
           "xaxis": {
            "backgroundcolor": "#E5ECF6",
            "gridcolor": "white",
            "gridwidth": 2,
            "linecolor": "white",
            "showbackground": true,
            "ticks": "",
            "zerolinecolor": "white"
           },
           "yaxis": {
            "backgroundcolor": "#E5ECF6",
            "gridcolor": "white",
            "gridwidth": 2,
            "linecolor": "white",
            "showbackground": true,
            "ticks": "",
            "zerolinecolor": "white"
           },
           "zaxis": {
            "backgroundcolor": "#E5ECF6",
            "gridcolor": "white",
            "gridwidth": 2,
            "linecolor": "white",
            "showbackground": true,
            "ticks": "",
            "zerolinecolor": "white"
           }
          },
          "shapedefaults": {
           "line": {
            "color": "#2a3f5f"
           }
          },
          "ternary": {
           "aaxis": {
            "gridcolor": "white",
            "linecolor": "white",
            "ticks": ""
           },
           "baxis": {
            "gridcolor": "white",
            "linecolor": "white",
            "ticks": ""
           },
           "bgcolor": "#E5ECF6",
           "caxis": {
            "gridcolor": "white",
            "linecolor": "white",
            "ticks": ""
           }
          },
          "title": {
           "x": 0.05
          },
          "xaxis": {
           "automargin": true,
           "gridcolor": "white",
           "linecolor": "white",
           "ticks": "",
           "title": {
            "standoff": 15
           },
           "zerolinecolor": "white",
           "zerolinewidth": 2
          },
          "yaxis": {
           "automargin": true,
           "gridcolor": "white",
           "linecolor": "white",
           "ticks": "",
           "title": {
            "standoff": 15
           },
           "zerolinecolor": "white",
           "zerolinewidth": 2
          }
         }
        },
        "title": {
         "text": "Average sales volumes of alcoholic bevereges per capita in Russia (1998-2016)"
        },
        "xaxis": {
         "anchor": "y",
         "domain": [
          0,
          1
         ],
         "title": {
          "text": "year"
         }
        },
        "yaxis": {
         "anchor": "x",
         "domain": [
          0,
          1
         ],
         "title": {
          "text": "volume in liters"
         }
        }
       }
      },
      "text/html": [
       "<div>                            <div id=\"e0dd5dec-fdaa-4c95-b18f-26b59767e89f\" class=\"plotly-graph-div\" style=\"height:525px; width:100%;\"></div>            <script type=\"text/javascript\">                require([\"plotly\"], function(Plotly) {                    window.PLOTLYENV=window.PLOTLYENV || {};                                    if (document.getElementById(\"e0dd5dec-fdaa-4c95-b18f-26b59767e89f\")) {                    Plotly.newPlot(                        \"e0dd5dec-fdaa-4c95-b18f-26b59767e89f\",                        [{\"alignmentgroup\":\"True\",\"hovertemplate\":\"variable=wine<br>year=%{x}<br>volume in liters=%{y}<extra></extra>\",\"legendgroup\":\"wine\",\"marker\":{\"color\":\"#636efa\",\"pattern\":{\"shape\":\"\"}},\"name\":\"wine\",\"offsetgroup\":\"wine\",\"orientation\":\"v\",\"showlegend\":true,\"textposition\":\"auto\",\"x\":[1998,1999,2000,2001,2002,2003,2004,2005,2006,2007,2008,2009,2010,2011,2012,2013,2014,2015,2016],\"xaxis\":\"x\",\"y\":[3.0296296296296297,3.120987654320988,3.34320987654321,3.93780487804878,4.402439024390244,5.184146341463415,5.7682926829268295,6.041975308641976,5.85679012345679,6.703703703703703,7.3654320987654325,7.337037037037036,7.434567901234568,6.93925925925926,6.566666666666666,5.824691358024691,6.319277108433735,6.0530120481927705,5.909638554216867],\"yaxis\":\"y\",\"type\":\"bar\"},{\"alignmentgroup\":\"True\",\"hovertemplate\":\"variable=beer<br>year=%{x}<br>volume in liters=%{y}<extra></extra>\",\"legendgroup\":\"beer\",\"marker\":{\"color\":\"#EF553B\",\"pattern\":{\"shape\":\"\"}},\"name\":\"beer\",\"offsetgroup\":\"beer\",\"orientation\":\"v\",\"showlegend\":true,\"textposition\":\"auto\",\"x\":[1998,1999,2000,2001,2002,2003,2004,2005,2006,2007,2008,2009,2010,2011,2012,2013,2014,2015,2016],\"xaxis\":\"x\",\"y\":[20.419753086419753,25.395061728395063,30.13086419753086,36.34390243902439,42.37560975609756,47.37439024390244,52.489024390243905,55.160493827160494,62.28518518518519,62.764197530864195,65.44567901234568,63.82098765432099,63.39382716049382,64.64259259259259,65.96049382716049,63.66543209876543,56.72771084337349,51.21325301204819,49.486746987951804],\"yaxis\":\"y\",\"type\":\"bar\"},{\"alignmentgroup\":\"True\",\"hovertemplate\":\"variable=vodka<br>year=%{x}<br>volume in liters=%{y}<extra></extra>\",\"legendgroup\":\"vodka\",\"marker\":{\"color\":\"#00cc96\",\"pattern\":{\"shape\":\"\"}},\"name\":\"vodka\",\"offsetgroup\":\"vodka\",\"orientation\":\"v\",\"showlegend\":true,\"textposition\":\"auto\",\"x\":[1998,1999,2000,2001,2002,2003,2004,2005,2006,2007,2008,2009,2010,2011,2012,2013,2014,2015,2016],\"xaxis\":\"x\",\"y\":[12.669135802469137,13.469135802469136,13.57283950617284,14.239024390243902,14.78780487804878,14.518292682926829,14.334146341463416,13.833333333333334,13.235802469135802,12.479012345679012,12.380246913580246,11.667901234567902,11.376543209876543,11.341975308641976,11.144444444444446,9.528395061728395,7.606024096385542,6.667469879518072,6.6253012048192765],\"yaxis\":\"y\",\"type\":\"bar\"},{\"alignmentgroup\":\"True\",\"hovertemplate\":\"variable=champagne<br>year=%{x}<br>volume in liters=%{y}<extra></extra>\",\"legendgroup\":\"champagne\",\"marker\":{\"color\":\"#ab63fa\",\"pattern\":{\"shape\":\"\"}},\"name\":\"champagne\",\"offsetgroup\":\"champagne\",\"orientation\":\"v\",\"showlegend\":true,\"textposition\":\"auto\",\"x\":[1998,1999,2000,2001,2002,2003,2004,2005,2006,2007,2008,2009,2010,2011,2012,2013,2014,2015,2016],\"xaxis\":\"x\",\"y\":[0.9135802469135802,0.8469135802469135,0.8925925925925926,0.9317073170731708,0.9670731707317073,1.0353658536585366,1.0939024390243903,1.1851851851851851,1.2308641975308643,1.4222222222222223,1.5703703703703704,1.548148148148148,1.6962962962962964,1.8179012345679013,1.782716049382716,1.7061728395061726,1.5843373493975903,1.4397590361445782,1.3349397590361445],\"yaxis\":\"y\",\"type\":\"bar\"},{\"alignmentgroup\":\"True\",\"hovertemplate\":\"variable=brandy<br>year=%{x}<br>volume in liters=%{y}<extra></extra>\",\"legendgroup\":\"brandy\",\"marker\":{\"color\":\"#FFA15A\",\"pattern\":{\"shape\":\"\"}},\"name\":\"brandy\",\"offsetgroup\":\"brandy\",\"orientation\":\"v\",\"showlegend\":true,\"textposition\":\"auto\",\"x\":[1998,1999,2000,2001,2002,2003,2004,2005,2006,2007,2008,2009,2010,2011,2012,2013,2014,2015,2016],\"xaxis\":\"x\",\"y\":[0.2288888888888889,0.21086419753086422,0.2337037037037037,0.275609756097561,0.3207317073170732,0.36341463414634145,0.3926829268292683,0.4111111111111111,0.437037037037037,0.5345679012345679,0.6703703703703704,0.682716049382716,0.7345679012345679,0.787283950617284,0.8283950617283949,0.8024691358024691,0.7469879518072289,0.6771084337349398,0.6710843373493977],\"yaxis\":\"y\",\"type\":\"bar\"}],                        {\"template\":{\"data\":{\"bar\":[{\"error_x\":{\"color\":\"#2a3f5f\"},\"error_y\":{\"color\":\"#2a3f5f\"},\"marker\":{\"line\":{\"color\":\"#E5ECF6\",\"width\":0.5},\"pattern\":{\"fillmode\":\"overlay\",\"size\":10,\"solidity\":0.2}},\"type\":\"bar\"}],\"barpolar\":[{\"marker\":{\"line\":{\"color\":\"#E5ECF6\",\"width\":0.5},\"pattern\":{\"fillmode\":\"overlay\",\"size\":10,\"solidity\":0.2}},\"type\":\"barpolar\"}],\"carpet\":[{\"aaxis\":{\"endlinecolor\":\"#2a3f5f\",\"gridcolor\":\"white\",\"linecolor\":\"white\",\"minorgridcolor\":\"white\",\"startlinecolor\":\"#2a3f5f\"},\"baxis\":{\"endlinecolor\":\"#2a3f5f\",\"gridcolor\":\"white\",\"linecolor\":\"white\",\"minorgridcolor\":\"white\",\"startlinecolor\":\"#2a3f5f\"},\"type\":\"carpet\"}],\"choropleth\":[{\"colorbar\":{\"outlinewidth\":0,\"ticks\":\"\"},\"type\":\"choropleth\"}],\"contour\":[{\"colorbar\":{\"outlinewidth\":0,\"ticks\":\"\"},\"colorscale\":[[0.0,\"#0d0887\"],[0.1111111111111111,\"#46039f\"],[0.2222222222222222,\"#7201a8\"],[0.3333333333333333,\"#9c179e\"],[0.4444444444444444,\"#bd3786\"],[0.5555555555555556,\"#d8576b\"],[0.6666666666666666,\"#ed7953\"],[0.7777777777777778,\"#fb9f3a\"],[0.8888888888888888,\"#fdca26\"],[1.0,\"#f0f921\"]],\"type\":\"contour\"}],\"contourcarpet\":[{\"colorbar\":{\"outlinewidth\":0,\"ticks\":\"\"},\"type\":\"contourcarpet\"}],\"heatmap\":[{\"colorbar\":{\"outlinewidth\":0,\"ticks\":\"\"},\"colorscale\":[[0.0,\"#0d0887\"],[0.1111111111111111,\"#46039f\"],[0.2222222222222222,\"#7201a8\"],[0.3333333333333333,\"#9c179e\"],[0.4444444444444444,\"#bd3786\"],[0.5555555555555556,\"#d8576b\"],[0.6666666666666666,\"#ed7953\"],[0.7777777777777778,\"#fb9f3a\"],[0.8888888888888888,\"#fdca26\"],[1.0,\"#f0f921\"]],\"type\":\"heatmap\"}],\"heatmapgl\":[{\"colorbar\":{\"outlinewidth\":0,\"ticks\":\"\"},\"colorscale\":[[0.0,\"#0d0887\"],[0.1111111111111111,\"#46039f\"],[0.2222222222222222,\"#7201a8\"],[0.3333333333333333,\"#9c179e\"],[0.4444444444444444,\"#bd3786\"],[0.5555555555555556,\"#d8576b\"],[0.6666666666666666,\"#ed7953\"],[0.7777777777777778,\"#fb9f3a\"],[0.8888888888888888,\"#fdca26\"],[1.0,\"#f0f921\"]],\"type\":\"heatmapgl\"}],\"histogram\":[{\"marker\":{\"pattern\":{\"fillmode\":\"overlay\",\"size\":10,\"solidity\":0.2}},\"type\":\"histogram\"}],\"histogram2d\":[{\"colorbar\":{\"outlinewidth\":0,\"ticks\":\"\"},\"colorscale\":[[0.0,\"#0d0887\"],[0.1111111111111111,\"#46039f\"],[0.2222222222222222,\"#7201a8\"],[0.3333333333333333,\"#9c179e\"],[0.4444444444444444,\"#bd3786\"],[0.5555555555555556,\"#d8576b\"],[0.6666666666666666,\"#ed7953\"],[0.7777777777777778,\"#fb9f3a\"],[0.8888888888888888,\"#fdca26\"],[1.0,\"#f0f921\"]],\"type\":\"histogram2d\"}],\"histogram2dcontour\":[{\"colorbar\":{\"outlinewidth\":0,\"ticks\":\"\"},\"colorscale\":[[0.0,\"#0d0887\"],[0.1111111111111111,\"#46039f\"],[0.2222222222222222,\"#7201a8\"],[0.3333333333333333,\"#9c179e\"],[0.4444444444444444,\"#bd3786\"],[0.5555555555555556,\"#d8576b\"],[0.6666666666666666,\"#ed7953\"],[0.7777777777777778,\"#fb9f3a\"],[0.8888888888888888,\"#fdca26\"],[1.0,\"#f0f921\"]],\"type\":\"histogram2dcontour\"}],\"mesh3d\":[{\"colorbar\":{\"outlinewidth\":0,\"ticks\":\"\"},\"type\":\"mesh3d\"}],\"parcoords\":[{\"line\":{\"colorbar\":{\"outlinewidth\":0,\"ticks\":\"\"}},\"type\":\"parcoords\"}],\"pie\":[{\"automargin\":true,\"type\":\"pie\"}],\"scatter\":[{\"marker\":{\"colorbar\":{\"outlinewidth\":0,\"ticks\":\"\"}},\"type\":\"scatter\"}],\"scatter3d\":[{\"line\":{\"colorbar\":{\"outlinewidth\":0,\"ticks\":\"\"}},\"marker\":{\"colorbar\":{\"outlinewidth\":0,\"ticks\":\"\"}},\"type\":\"scatter3d\"}],\"scattercarpet\":[{\"marker\":{\"colorbar\":{\"outlinewidth\":0,\"ticks\":\"\"}},\"type\":\"scattercarpet\"}],\"scattergeo\":[{\"marker\":{\"colorbar\":{\"outlinewidth\":0,\"ticks\":\"\"}},\"type\":\"scattergeo\"}],\"scattergl\":[{\"marker\":{\"colorbar\":{\"outlinewidth\":0,\"ticks\":\"\"}},\"type\":\"scattergl\"}],\"scattermapbox\":[{\"marker\":{\"colorbar\":{\"outlinewidth\":0,\"ticks\":\"\"}},\"type\":\"scattermapbox\"}],\"scatterpolar\":[{\"marker\":{\"colorbar\":{\"outlinewidth\":0,\"ticks\":\"\"}},\"type\":\"scatterpolar\"}],\"scatterpolargl\":[{\"marker\":{\"colorbar\":{\"outlinewidth\":0,\"ticks\":\"\"}},\"type\":\"scatterpolargl\"}],\"scatterternary\":[{\"marker\":{\"colorbar\":{\"outlinewidth\":0,\"ticks\":\"\"}},\"type\":\"scatterternary\"}],\"surface\":[{\"colorbar\":{\"outlinewidth\":0,\"ticks\":\"\"},\"colorscale\":[[0.0,\"#0d0887\"],[0.1111111111111111,\"#46039f\"],[0.2222222222222222,\"#7201a8\"],[0.3333333333333333,\"#9c179e\"],[0.4444444444444444,\"#bd3786\"],[0.5555555555555556,\"#d8576b\"],[0.6666666666666666,\"#ed7953\"],[0.7777777777777778,\"#fb9f3a\"],[0.8888888888888888,\"#fdca26\"],[1.0,\"#f0f921\"]],\"type\":\"surface\"}],\"table\":[{\"cells\":{\"fill\":{\"color\":\"#EBF0F8\"},\"line\":{\"color\":\"white\"}},\"header\":{\"fill\":{\"color\":\"#C8D4E3\"},\"line\":{\"color\":\"white\"}},\"type\":\"table\"}]},\"layout\":{\"annotationdefaults\":{\"arrowcolor\":\"#2a3f5f\",\"arrowhead\":0,\"arrowwidth\":1},\"autotypenumbers\":\"strict\",\"coloraxis\":{\"colorbar\":{\"outlinewidth\":0,\"ticks\":\"\"}},\"colorscale\":{\"diverging\":[[0,\"#8e0152\"],[0.1,\"#c51b7d\"],[0.2,\"#de77ae\"],[0.3,\"#f1b6da\"],[0.4,\"#fde0ef\"],[0.5,\"#f7f7f7\"],[0.6,\"#e6f5d0\"],[0.7,\"#b8e186\"],[0.8,\"#7fbc41\"],[0.9,\"#4d9221\"],[1,\"#276419\"]],\"sequential\":[[0.0,\"#0d0887\"],[0.1111111111111111,\"#46039f\"],[0.2222222222222222,\"#7201a8\"],[0.3333333333333333,\"#9c179e\"],[0.4444444444444444,\"#bd3786\"],[0.5555555555555556,\"#d8576b\"],[0.6666666666666666,\"#ed7953\"],[0.7777777777777778,\"#fb9f3a\"],[0.8888888888888888,\"#fdca26\"],[1.0,\"#f0f921\"]],\"sequentialminus\":[[0.0,\"#0d0887\"],[0.1111111111111111,\"#46039f\"],[0.2222222222222222,\"#7201a8\"],[0.3333333333333333,\"#9c179e\"],[0.4444444444444444,\"#bd3786\"],[0.5555555555555556,\"#d8576b\"],[0.6666666666666666,\"#ed7953\"],[0.7777777777777778,\"#fb9f3a\"],[0.8888888888888888,\"#fdca26\"],[1.0,\"#f0f921\"]]},\"colorway\":[\"#636efa\",\"#EF553B\",\"#00cc96\",\"#ab63fa\",\"#FFA15A\",\"#19d3f3\",\"#FF6692\",\"#B6E880\",\"#FF97FF\",\"#FECB52\"],\"font\":{\"color\":\"#2a3f5f\"},\"geo\":{\"bgcolor\":\"white\",\"lakecolor\":\"white\",\"landcolor\":\"#E5ECF6\",\"showlakes\":true,\"showland\":true,\"subunitcolor\":\"white\"},\"hoverlabel\":{\"align\":\"left\"},\"hovermode\":\"closest\",\"mapbox\":{\"style\":\"light\"},\"paper_bgcolor\":\"white\",\"plot_bgcolor\":\"#E5ECF6\",\"polar\":{\"angularaxis\":{\"gridcolor\":\"white\",\"linecolor\":\"white\",\"ticks\":\"\"},\"bgcolor\":\"#E5ECF6\",\"radialaxis\":{\"gridcolor\":\"white\",\"linecolor\":\"white\",\"ticks\":\"\"}},\"scene\":{\"xaxis\":{\"backgroundcolor\":\"#E5ECF6\",\"gridcolor\":\"white\",\"gridwidth\":2,\"linecolor\":\"white\",\"showbackground\":true,\"ticks\":\"\",\"zerolinecolor\":\"white\"},\"yaxis\":{\"backgroundcolor\":\"#E5ECF6\",\"gridcolor\":\"white\",\"gridwidth\":2,\"linecolor\":\"white\",\"showbackground\":true,\"ticks\":\"\",\"zerolinecolor\":\"white\"},\"zaxis\":{\"backgroundcolor\":\"#E5ECF6\",\"gridcolor\":\"white\",\"gridwidth\":2,\"linecolor\":\"white\",\"showbackground\":true,\"ticks\":\"\",\"zerolinecolor\":\"white\"}},\"shapedefaults\":{\"line\":{\"color\":\"#2a3f5f\"}},\"ternary\":{\"aaxis\":{\"gridcolor\":\"white\",\"linecolor\":\"white\",\"ticks\":\"\"},\"baxis\":{\"gridcolor\":\"white\",\"linecolor\":\"white\",\"ticks\":\"\"},\"bgcolor\":\"#E5ECF6\",\"caxis\":{\"gridcolor\":\"white\",\"linecolor\":\"white\",\"ticks\":\"\"}},\"title\":{\"x\":0.05},\"xaxis\":{\"automargin\":true,\"gridcolor\":\"white\",\"linecolor\":\"white\",\"ticks\":\"\",\"title\":{\"standoff\":15},\"zerolinecolor\":\"white\",\"zerolinewidth\":2},\"yaxis\":{\"automargin\":true,\"gridcolor\":\"white\",\"linecolor\":\"white\",\"ticks\":\"\",\"title\":{\"standoff\":15},\"zerolinecolor\":\"white\",\"zerolinewidth\":2}}},\"xaxis\":{\"anchor\":\"y\",\"domain\":[0.0,1.0],\"title\":{\"text\":\"year\"}},\"yaxis\":{\"anchor\":\"x\",\"domain\":[0.0,1.0],\"title\":{\"text\":\"volume in liters\"}},\"legend\":{\"title\":{\"text\":\"variable\"},\"tracegroupgap\":0},\"title\":{\"text\":\"Average sales volumes of alcoholic bevereges per capita in Russia (1998-2016)\"},\"barmode\":\"relative\"},                        {\"responsive\": true}                    ).then(function(){\n",
       "                            \n",
       "var gd = document.getElementById('e0dd5dec-fdaa-4c95-b18f-26b59767e89f');\n",
       "var x = new MutationObserver(function (mutations, observer) {{\n",
       "        var display = window.getComputedStyle(gd).display;\n",
       "        if (!display || display === 'none') {{\n",
       "            console.log([gd, 'removed!']);\n",
       "            Plotly.purge(gd);\n",
       "            observer.disconnect();\n",
       "        }}\n",
       "}});\n",
       "\n",
       "// Listen for the removal of the full notebook cells\n",
       "var notebookContainer = gd.closest('#notebook-container');\n",
       "if (notebookContainer) {{\n",
       "    x.observe(notebookContainer, {childList: true});\n",
       "}}\n",
       "\n",
       "// Listen for the clearing of the current output cell\n",
       "var outputEl = gd.closest('.output');\n",
       "if (outputEl) {{\n",
       "    x.observe(outputEl, {childList: true});\n",
       "}}\n",
       "\n",
       "                        })                };                });            </script>        </div>"
      ]
     },
     "metadata": {},
     "output_type": "display_data"
    }
   ],
   "source": [
    "fig = px.bar(df_data, x=df_data.index, y=drink_cat, \n",
    "             title=\"Average sales volumes of alcoholic bevereges per capita in Russia (1998-2016)\", \n",
    "            labels={\"value\":\"volume in liters\"})\n",
    "fig.show()"
   ]
  },
  {
   "cell_type": "markdown",
   "id": "65152b97",
   "metadata": {},
   "source": [
    "Wow the total volume of alcohol per capita has doubled from 1998 to 2008 reached a plateus around the turn of the decade. The 2010s show a declined of alcohol consume.\n",
    "\n",
    "Beer is the dominant type of alcohol across the complete timeframe, while champange and brandy are much less popular in comparison to oder alcohol types. \n",
    "\n",
    "Eventough the general trend of total alcohol volumen consumed is decreasing, beer volumes in 2016 amount to more than double the volume at the end of the nineties. With vodka it is a different story. The volume of vodka in 2016 is about half of that in 98'.\n",
    "\n",
    "This raises the next question..."
   ]
  },
  {
   "cell_type": "markdown",
   "id": "3ae445f9",
   "metadata": {},
   "source": [
    "### b. What is the average yearly distribution of alcohol types (1998-2016)?"
   ]
  },
  {
   "cell_type": "code",
   "execution_count": 147,
   "id": "728c3542",
   "metadata": {},
   "outputs": [
    {
     "data": {
      "text/html": [
       "<div>\n",
       "<style scoped>\n",
       "    .dataframe tbody tr th:only-of-type {\n",
       "        vertical-align: middle;\n",
       "    }\n",
       "\n",
       "    .dataframe tbody tr th {\n",
       "        vertical-align: top;\n",
       "    }\n",
       "\n",
       "    .dataframe thead th {\n",
       "        text-align: right;\n",
       "    }\n",
       "</style>\n",
       "<table border=\"1\" class=\"dataframe\">\n",
       "  <thead>\n",
       "    <tr style=\"text-align: right;\">\n",
       "      <th></th>\n",
       "      <th>wine</th>\n",
       "      <th>beer</th>\n",
       "      <th>vodka</th>\n",
       "      <th>champagne</th>\n",
       "      <th>brandy</th>\n",
       "    </tr>\n",
       "    <tr>\n",
       "      <th>year</th>\n",
       "      <th></th>\n",
       "      <th></th>\n",
       "      <th></th>\n",
       "      <th></th>\n",
       "      <th></th>\n",
       "    </tr>\n",
       "  </thead>\n",
       "  <tbody>\n",
       "    <tr>\n",
       "      <th>1998</th>\n",
       "      <td>8.13</td>\n",
       "      <td>54.80</td>\n",
       "      <td>34.00</td>\n",
       "      <td>2.45</td>\n",
       "      <td>0.61</td>\n",
       "    </tr>\n",
       "    <tr>\n",
       "      <th>1999</th>\n",
       "      <td>7.25</td>\n",
       "      <td>59.00</td>\n",
       "      <td>31.29</td>\n",
       "      <td>1.97</td>\n",
       "      <td>0.49</td>\n",
       "    </tr>\n",
       "    <tr>\n",
       "      <th>2000</th>\n",
       "      <td>6.94</td>\n",
       "      <td>62.55</td>\n",
       "      <td>28.18</td>\n",
       "      <td>1.85</td>\n",
       "      <td>0.49</td>\n",
       "    </tr>\n",
       "    <tr>\n",
       "      <th>2001</th>\n",
       "      <td>7.07</td>\n",
       "      <td>65.22</td>\n",
       "      <td>25.55</td>\n",
       "      <td>1.67</td>\n",
       "      <td>0.49</td>\n",
       "    </tr>\n",
       "    <tr>\n",
       "      <th>2002</th>\n",
       "      <td>7.00</td>\n",
       "      <td>67.42</td>\n",
       "      <td>23.53</td>\n",
       "      <td>1.54</td>\n",
       "      <td>0.51</td>\n",
       "    </tr>\n",
       "  </tbody>\n",
       "</table>\n",
       "</div>"
      ],
      "text/plain": [
       "      wine  beer  vodka  champagne  brandy\n",
       "year                                      \n",
       "1998  8.13 54.80  34.00       2.45    0.61\n",
       "1999  7.25 59.00  31.29       1.97    0.49\n",
       "2000  6.94 62.55  28.18       1.85    0.49\n",
       "2001  7.07 65.22  25.55       1.67    0.49\n",
       "2002  7.00 67.42  23.53       1.54    0.51"
      ]
     },
     "execution_count": 147,
     "metadata": {},
     "output_type": "execute_result"
    }
   ],
   "source": [
    "df_data_per = df_data[drink_cat].apply(lambda x: 100 * x / np.sum(df_data[drink_cat], axis = 1))\n",
    "df_data_per.head()"
   ]
  },
  {
   "cell_type": "code",
   "execution_count": 148,
   "id": "9104369a",
   "metadata": {},
   "outputs": [
    {
     "data": {
      "application/vnd.plotly.v1+json": {
       "config": {
        "plotlyServerURL": "https://plot.ly"
       },
       "data": [
        {
         "alignmentgroup": "True",
         "hovertemplate": "variable=wine<br>year=%{x}<br>value=%{y}<extra></extra>",
         "legendgroup": "wine",
         "marker": {
          "color": "#636efa",
          "pattern": {
           "shape": ""
          }
         },
         "name": "wine",
         "offsetgroup": "wine",
         "orientation": "v",
         "showlegend": true,
         "textposition": "auto",
         "type": "bar",
         "x": [
          1998,
          1999,
          2000,
          2001,
          2002,
          2003,
          2004,
          2005,
          2006,
          2007,
          2008,
          2009,
          2010,
          2011,
          2012,
          2013,
          2014,
          2015,
          2016
         ],
         "xaxis": "x",
         "y": [
          8.130835547721444,
          7.250866203161928,
          6.939977396380859,
          7.066109372606517,
          7.004268529297632,
          7.570792520035621,
          7.7867772948768605,
          7.884392318597757,
          7.052492306777468,
          7.9897589829610665,
          8.424173962157584,
          8.62604505341384,
          8.784187878345854,
          8.11333963639513,
          7.610639728712672,
          7.144479609915655,
          8.658401703616887,
          9.164204151617962,
          9.229813898349734
         ],
         "yaxis": "y"
        },
        {
         "alignmentgroup": "True",
         "hovertemplate": "variable=beer<br>year=%{x}<br>value=%{y}<extra></extra>",
         "legendgroup": "beer",
         "marker": {
          "color": "#EF553B",
          "pattern": {
           "shape": ""
          }
         },
         "name": "beer",
         "offsetgroup": "beer",
         "orientation": "v",
         "showlegend": true,
         "textposition": "auto",
         "type": "bar",
         "x": [
          1998,
          1999,
          2000,
          2001,
          2002,
          2003,
          2004,
          2005,
          2006,
          2007,
          2008,
          2009,
          2010,
          2011,
          2012,
          2013,
          2014,
          2015,
          2016
         ],
         "xaxis": "x",
         "y": [
          54.8019641235993,
          58.9993345724054,
          62.54693070017401,
          65.21653500229776,
          67.41948001552193,
          69.18432769367764,
          70.85638087712367,
          71.98092537698156,
          75.00111495978712,
          74.8050381095318,
          74.85314882801468,
          75.03338365071993,
          74.90190358106629,
          75.57972531160462,
          76.44693728626822,
          78.09107015763892,
          77.72586955445136,
          77.53639050016416,
          77.28957717855596
         ],
         "yaxis": "y"
        },
        {
         "alignmentgroup": "True",
         "hovertemplate": "variable=vodka<br>year=%{x}<br>value=%{y}<extra></extra>",
         "legendgroup": "vodka",
         "marker": {
          "color": "#00cc96",
          "pattern": {
           "shape": ""
          }
         },
         "name": "vodka",
         "offsetgroup": "vodka",
         "orientation": "v",
         "showlegend": true,
         "textposition": "auto",
         "type": "bar",
         "x": [
          1998,
          1999,
          2000,
          2001,
          2002,
          2003,
          2004,
          2005,
          2006,
          2007,
          2008,
          2009,
          2010,
          2011,
          2012,
          2013,
          2014,
          2015,
          2016
         ],
         "xaxis": "x",
         "y": [
          34.00107350884982,
          31.292306280259744,
          28.175078100373398,
          25.55091143838764,
          23.527357392316645,
          21.20213713268032,
          19.350059265112606,
          18.051617476478928,
          15.937978503575302,
          14.873017274359201,
          14.159841852584012,
          13.717777519739897,
          13.441762088833784,
          13.260968410112806,
          12.916195681723877,
          11.687387373745025,
          10.42144708387672,
          10.094487614461347,
          10.34755282915906
         ],
         "yaxis": "y"
        },
        {
         "alignmentgroup": "True",
         "hovertemplate": "variable=champagne<br>year=%{x}<br>value=%{y}<extra></extra>",
         "legendgroup": "champagne",
         "marker": {
          "color": "#ab63fa",
          "pattern": {
           "shape": ""
          }
         },
         "name": "champagne",
         "offsetgroup": "champagne",
         "orientation": "v",
         "showlegend": true,
         "textposition": "auto",
         "type": "bar",
         "x": [
          1998,
          1999,
          2000,
          2001,
          2002,
          2003,
          2004,
          2005,
          2006,
          2007,
          2008,
          2009,
          2010,
          2011,
          2012,
          2013,
          2014,
          2015,
          2016
         ],
         "xaxis": "x",
         "y": [
          2.4518412002094,
          1.9676005598770103,
          1.8528817051637225,
          1.6718821804494828,
          1.5386107877376793,
          1.5120213713268036,
          1.476689055709206,
          1.546591055548395,
          1.4821532103408803,
          1.69506488920279,
          1.7961027958203897,
          1.8201346957733393,
          2.0042301801473275,
          2.125479044725276,
          2.066133440169412,
          2.092766176537396,
          2.1707908942337855,
          2.179781839407537,
          2.0849406318800217
         ],
         "yaxis": "y"
        },
        {
         "alignmentgroup": "True",
         "hovertemplate": "variable=brandy<br>year=%{x}<br>value=%{y}<extra></extra>",
         "legendgroup": "brandy",
         "marker": {
          "color": "#FFA15A",
          "pattern": {
           "shape": ""
          }
         },
         "name": "brandy",
         "offsetgroup": "brandy",
         "orientation": "v",
         "showlegend": true,
         "textposition": "auto",
         "type": "bar",
         "x": [
          1998,
          1999,
          2000,
          2001,
          2002,
          2003,
          2004,
          2005,
          2006,
          2007,
          2008,
          2009,
          2010,
          2011,
          2012,
          2013,
          2014,
          2015,
          2016
         ],
         "xaxis": "x",
         "y": [
          0.6142856196200308,
          0.48989238429590876,
          0.485132097908012,
          0.4945620062586166,
          0.5102832751261156,
          0.5307212822796082,
          0.5300935071776637,
          0.5364737723933496,
          0.5262610195192293,
          0.6371207439451458,
          0.7667325614233267,
          0.8026590803529958,
          0.8679162716067392,
          0.9204875971621788,
          0.9600938631258137,
          0.98429668216303,
          1.0234907638212523,
          1.025135894348984,
          1.0481154620552096
         ],
         "yaxis": "y"
        }
       ],
       "layout": {
        "barmode": "relative",
        "legend": {
         "title": {
          "text": "variable"
         },
         "tracegroupgap": 0
        },
        "margin": {
         "t": 60
        },
        "template": {
         "data": {
          "bar": [
           {
            "error_x": {
             "color": "#2a3f5f"
            },
            "error_y": {
             "color": "#2a3f5f"
            },
            "marker": {
             "line": {
              "color": "#E5ECF6",
              "width": 0.5
             },
             "pattern": {
              "fillmode": "overlay",
              "size": 10,
              "solidity": 0.2
             }
            },
            "type": "bar"
           }
          ],
          "barpolar": [
           {
            "marker": {
             "line": {
              "color": "#E5ECF6",
              "width": 0.5
             },
             "pattern": {
              "fillmode": "overlay",
              "size": 10,
              "solidity": 0.2
             }
            },
            "type": "barpolar"
           }
          ],
          "carpet": [
           {
            "aaxis": {
             "endlinecolor": "#2a3f5f",
             "gridcolor": "white",
             "linecolor": "white",
             "minorgridcolor": "white",
             "startlinecolor": "#2a3f5f"
            },
            "baxis": {
             "endlinecolor": "#2a3f5f",
             "gridcolor": "white",
             "linecolor": "white",
             "minorgridcolor": "white",
             "startlinecolor": "#2a3f5f"
            },
            "type": "carpet"
           }
          ],
          "choropleth": [
           {
            "colorbar": {
             "outlinewidth": 0,
             "ticks": ""
            },
            "type": "choropleth"
           }
          ],
          "contour": [
           {
            "colorbar": {
             "outlinewidth": 0,
             "ticks": ""
            },
            "colorscale": [
             [
              0,
              "#0d0887"
             ],
             [
              0.1111111111111111,
              "#46039f"
             ],
             [
              0.2222222222222222,
              "#7201a8"
             ],
             [
              0.3333333333333333,
              "#9c179e"
             ],
             [
              0.4444444444444444,
              "#bd3786"
             ],
             [
              0.5555555555555556,
              "#d8576b"
             ],
             [
              0.6666666666666666,
              "#ed7953"
             ],
             [
              0.7777777777777778,
              "#fb9f3a"
             ],
             [
              0.8888888888888888,
              "#fdca26"
             ],
             [
              1,
              "#f0f921"
             ]
            ],
            "type": "contour"
           }
          ],
          "contourcarpet": [
           {
            "colorbar": {
             "outlinewidth": 0,
             "ticks": ""
            },
            "type": "contourcarpet"
           }
          ],
          "heatmap": [
           {
            "colorbar": {
             "outlinewidth": 0,
             "ticks": ""
            },
            "colorscale": [
             [
              0,
              "#0d0887"
             ],
             [
              0.1111111111111111,
              "#46039f"
             ],
             [
              0.2222222222222222,
              "#7201a8"
             ],
             [
              0.3333333333333333,
              "#9c179e"
             ],
             [
              0.4444444444444444,
              "#bd3786"
             ],
             [
              0.5555555555555556,
              "#d8576b"
             ],
             [
              0.6666666666666666,
              "#ed7953"
             ],
             [
              0.7777777777777778,
              "#fb9f3a"
             ],
             [
              0.8888888888888888,
              "#fdca26"
             ],
             [
              1,
              "#f0f921"
             ]
            ],
            "type": "heatmap"
           }
          ],
          "heatmapgl": [
           {
            "colorbar": {
             "outlinewidth": 0,
             "ticks": ""
            },
            "colorscale": [
             [
              0,
              "#0d0887"
             ],
             [
              0.1111111111111111,
              "#46039f"
             ],
             [
              0.2222222222222222,
              "#7201a8"
             ],
             [
              0.3333333333333333,
              "#9c179e"
             ],
             [
              0.4444444444444444,
              "#bd3786"
             ],
             [
              0.5555555555555556,
              "#d8576b"
             ],
             [
              0.6666666666666666,
              "#ed7953"
             ],
             [
              0.7777777777777778,
              "#fb9f3a"
             ],
             [
              0.8888888888888888,
              "#fdca26"
             ],
             [
              1,
              "#f0f921"
             ]
            ],
            "type": "heatmapgl"
           }
          ],
          "histogram": [
           {
            "marker": {
             "pattern": {
              "fillmode": "overlay",
              "size": 10,
              "solidity": 0.2
             }
            },
            "type": "histogram"
           }
          ],
          "histogram2d": [
           {
            "colorbar": {
             "outlinewidth": 0,
             "ticks": ""
            },
            "colorscale": [
             [
              0,
              "#0d0887"
             ],
             [
              0.1111111111111111,
              "#46039f"
             ],
             [
              0.2222222222222222,
              "#7201a8"
             ],
             [
              0.3333333333333333,
              "#9c179e"
             ],
             [
              0.4444444444444444,
              "#bd3786"
             ],
             [
              0.5555555555555556,
              "#d8576b"
             ],
             [
              0.6666666666666666,
              "#ed7953"
             ],
             [
              0.7777777777777778,
              "#fb9f3a"
             ],
             [
              0.8888888888888888,
              "#fdca26"
             ],
             [
              1,
              "#f0f921"
             ]
            ],
            "type": "histogram2d"
           }
          ],
          "histogram2dcontour": [
           {
            "colorbar": {
             "outlinewidth": 0,
             "ticks": ""
            },
            "colorscale": [
             [
              0,
              "#0d0887"
             ],
             [
              0.1111111111111111,
              "#46039f"
             ],
             [
              0.2222222222222222,
              "#7201a8"
             ],
             [
              0.3333333333333333,
              "#9c179e"
             ],
             [
              0.4444444444444444,
              "#bd3786"
             ],
             [
              0.5555555555555556,
              "#d8576b"
             ],
             [
              0.6666666666666666,
              "#ed7953"
             ],
             [
              0.7777777777777778,
              "#fb9f3a"
             ],
             [
              0.8888888888888888,
              "#fdca26"
             ],
             [
              1,
              "#f0f921"
             ]
            ],
            "type": "histogram2dcontour"
           }
          ],
          "mesh3d": [
           {
            "colorbar": {
             "outlinewidth": 0,
             "ticks": ""
            },
            "type": "mesh3d"
           }
          ],
          "parcoords": [
           {
            "line": {
             "colorbar": {
              "outlinewidth": 0,
              "ticks": ""
             }
            },
            "type": "parcoords"
           }
          ],
          "pie": [
           {
            "automargin": true,
            "type": "pie"
           }
          ],
          "scatter": [
           {
            "marker": {
             "colorbar": {
              "outlinewidth": 0,
              "ticks": ""
             }
            },
            "type": "scatter"
           }
          ],
          "scatter3d": [
           {
            "line": {
             "colorbar": {
              "outlinewidth": 0,
              "ticks": ""
             }
            },
            "marker": {
             "colorbar": {
              "outlinewidth": 0,
              "ticks": ""
             }
            },
            "type": "scatter3d"
           }
          ],
          "scattercarpet": [
           {
            "marker": {
             "colorbar": {
              "outlinewidth": 0,
              "ticks": ""
             }
            },
            "type": "scattercarpet"
           }
          ],
          "scattergeo": [
           {
            "marker": {
             "colorbar": {
              "outlinewidth": 0,
              "ticks": ""
             }
            },
            "type": "scattergeo"
           }
          ],
          "scattergl": [
           {
            "marker": {
             "colorbar": {
              "outlinewidth": 0,
              "ticks": ""
             }
            },
            "type": "scattergl"
           }
          ],
          "scattermapbox": [
           {
            "marker": {
             "colorbar": {
              "outlinewidth": 0,
              "ticks": ""
             }
            },
            "type": "scattermapbox"
           }
          ],
          "scatterpolar": [
           {
            "marker": {
             "colorbar": {
              "outlinewidth": 0,
              "ticks": ""
             }
            },
            "type": "scatterpolar"
           }
          ],
          "scatterpolargl": [
           {
            "marker": {
             "colorbar": {
              "outlinewidth": 0,
              "ticks": ""
             }
            },
            "type": "scatterpolargl"
           }
          ],
          "scatterternary": [
           {
            "marker": {
             "colorbar": {
              "outlinewidth": 0,
              "ticks": ""
             }
            },
            "type": "scatterternary"
           }
          ],
          "surface": [
           {
            "colorbar": {
             "outlinewidth": 0,
             "ticks": ""
            },
            "colorscale": [
             [
              0,
              "#0d0887"
             ],
             [
              0.1111111111111111,
              "#46039f"
             ],
             [
              0.2222222222222222,
              "#7201a8"
             ],
             [
              0.3333333333333333,
              "#9c179e"
             ],
             [
              0.4444444444444444,
              "#bd3786"
             ],
             [
              0.5555555555555556,
              "#d8576b"
             ],
             [
              0.6666666666666666,
              "#ed7953"
             ],
             [
              0.7777777777777778,
              "#fb9f3a"
             ],
             [
              0.8888888888888888,
              "#fdca26"
             ],
             [
              1,
              "#f0f921"
             ]
            ],
            "type": "surface"
           }
          ],
          "table": [
           {
            "cells": {
             "fill": {
              "color": "#EBF0F8"
             },
             "line": {
              "color": "white"
             }
            },
            "header": {
             "fill": {
              "color": "#C8D4E3"
             },
             "line": {
              "color": "white"
             }
            },
            "type": "table"
           }
          ]
         },
         "layout": {
          "annotationdefaults": {
           "arrowcolor": "#2a3f5f",
           "arrowhead": 0,
           "arrowwidth": 1
          },
          "autotypenumbers": "strict",
          "coloraxis": {
           "colorbar": {
            "outlinewidth": 0,
            "ticks": ""
           }
          },
          "colorscale": {
           "diverging": [
            [
             0,
             "#8e0152"
            ],
            [
             0.1,
             "#c51b7d"
            ],
            [
             0.2,
             "#de77ae"
            ],
            [
             0.3,
             "#f1b6da"
            ],
            [
             0.4,
             "#fde0ef"
            ],
            [
             0.5,
             "#f7f7f7"
            ],
            [
             0.6,
             "#e6f5d0"
            ],
            [
             0.7,
             "#b8e186"
            ],
            [
             0.8,
             "#7fbc41"
            ],
            [
             0.9,
             "#4d9221"
            ],
            [
             1,
             "#276419"
            ]
           ],
           "sequential": [
            [
             0,
             "#0d0887"
            ],
            [
             0.1111111111111111,
             "#46039f"
            ],
            [
             0.2222222222222222,
             "#7201a8"
            ],
            [
             0.3333333333333333,
             "#9c179e"
            ],
            [
             0.4444444444444444,
             "#bd3786"
            ],
            [
             0.5555555555555556,
             "#d8576b"
            ],
            [
             0.6666666666666666,
             "#ed7953"
            ],
            [
             0.7777777777777778,
             "#fb9f3a"
            ],
            [
             0.8888888888888888,
             "#fdca26"
            ],
            [
             1,
             "#f0f921"
            ]
           ],
           "sequentialminus": [
            [
             0,
             "#0d0887"
            ],
            [
             0.1111111111111111,
             "#46039f"
            ],
            [
             0.2222222222222222,
             "#7201a8"
            ],
            [
             0.3333333333333333,
             "#9c179e"
            ],
            [
             0.4444444444444444,
             "#bd3786"
            ],
            [
             0.5555555555555556,
             "#d8576b"
            ],
            [
             0.6666666666666666,
             "#ed7953"
            ],
            [
             0.7777777777777778,
             "#fb9f3a"
            ],
            [
             0.8888888888888888,
             "#fdca26"
            ],
            [
             1,
             "#f0f921"
            ]
           ]
          },
          "colorway": [
           "#636efa",
           "#EF553B",
           "#00cc96",
           "#ab63fa",
           "#FFA15A",
           "#19d3f3",
           "#FF6692",
           "#B6E880",
           "#FF97FF",
           "#FECB52"
          ],
          "font": {
           "color": "#2a3f5f"
          },
          "geo": {
           "bgcolor": "white",
           "lakecolor": "white",
           "landcolor": "#E5ECF6",
           "showlakes": true,
           "showland": true,
           "subunitcolor": "white"
          },
          "hoverlabel": {
           "align": "left"
          },
          "hovermode": "closest",
          "mapbox": {
           "style": "light"
          },
          "paper_bgcolor": "white",
          "plot_bgcolor": "#E5ECF6",
          "polar": {
           "angularaxis": {
            "gridcolor": "white",
            "linecolor": "white",
            "ticks": ""
           },
           "bgcolor": "#E5ECF6",
           "radialaxis": {
            "gridcolor": "white",
            "linecolor": "white",
            "ticks": ""
           }
          },
          "scene": {
           "xaxis": {
            "backgroundcolor": "#E5ECF6",
            "gridcolor": "white",
            "gridwidth": 2,
            "linecolor": "white",
            "showbackground": true,
            "ticks": "",
            "zerolinecolor": "white"
           },
           "yaxis": {
            "backgroundcolor": "#E5ECF6",
            "gridcolor": "white",
            "gridwidth": 2,
            "linecolor": "white",
            "showbackground": true,
            "ticks": "",
            "zerolinecolor": "white"
           },
           "zaxis": {
            "backgroundcolor": "#E5ECF6",
            "gridcolor": "white",
            "gridwidth": 2,
            "linecolor": "white",
            "showbackground": true,
            "ticks": "",
            "zerolinecolor": "white"
           }
          },
          "shapedefaults": {
           "line": {
            "color": "#2a3f5f"
           }
          },
          "ternary": {
           "aaxis": {
            "gridcolor": "white",
            "linecolor": "white",
            "ticks": ""
           },
           "baxis": {
            "gridcolor": "white",
            "linecolor": "white",
            "ticks": ""
           },
           "bgcolor": "#E5ECF6",
           "caxis": {
            "gridcolor": "white",
            "linecolor": "white",
            "ticks": ""
           }
          },
          "title": {
           "x": 0.05
          },
          "xaxis": {
           "automargin": true,
           "gridcolor": "white",
           "linecolor": "white",
           "ticks": "",
           "title": {
            "standoff": 15
           },
           "zerolinecolor": "white",
           "zerolinewidth": 2
          },
          "yaxis": {
           "automargin": true,
           "gridcolor": "white",
           "linecolor": "white",
           "ticks": "",
           "title": {
            "standoff": 15
           },
           "zerolinecolor": "white",
           "zerolinewidth": 2
          }
         }
        },
        "xaxis": {
         "anchor": "y",
         "domain": [
          0,
          1
         ],
         "title": {
          "text": "year"
         }
        },
        "yaxis": {
         "anchor": "x",
         "domain": [
          0,
          1
         ],
         "title": {
          "text": "value"
         }
        }
       }
      },
      "text/html": [
       "<div>                            <div id=\"741c09ab-2b16-4e81-bd6a-9d8a82b868d0\" class=\"plotly-graph-div\" style=\"height:525px; width:100%;\"></div>            <script type=\"text/javascript\">                require([\"plotly\"], function(Plotly) {                    window.PLOTLYENV=window.PLOTLYENV || {};                                    if (document.getElementById(\"741c09ab-2b16-4e81-bd6a-9d8a82b868d0\")) {                    Plotly.newPlot(                        \"741c09ab-2b16-4e81-bd6a-9d8a82b868d0\",                        [{\"alignmentgroup\":\"True\",\"hovertemplate\":\"variable=wine<br>year=%{x}<br>value=%{y}<extra></extra>\",\"legendgroup\":\"wine\",\"marker\":{\"color\":\"#636efa\",\"pattern\":{\"shape\":\"\"}},\"name\":\"wine\",\"offsetgroup\":\"wine\",\"orientation\":\"v\",\"showlegend\":true,\"textposition\":\"auto\",\"x\":[1998,1999,2000,2001,2002,2003,2004,2005,2006,2007,2008,2009,2010,2011,2012,2013,2014,2015,2016],\"xaxis\":\"x\",\"y\":[8.130835547721444,7.250866203161928,6.939977396380859,7.066109372606517,7.004268529297632,7.570792520035621,7.7867772948768605,7.884392318597757,7.052492306777468,7.9897589829610665,8.424173962157584,8.62604505341384,8.784187878345854,8.11333963639513,7.610639728712672,7.144479609915655,8.658401703616887,9.164204151617962,9.229813898349734],\"yaxis\":\"y\",\"type\":\"bar\"},{\"alignmentgroup\":\"True\",\"hovertemplate\":\"variable=beer<br>year=%{x}<br>value=%{y}<extra></extra>\",\"legendgroup\":\"beer\",\"marker\":{\"color\":\"#EF553B\",\"pattern\":{\"shape\":\"\"}},\"name\":\"beer\",\"offsetgroup\":\"beer\",\"orientation\":\"v\",\"showlegend\":true,\"textposition\":\"auto\",\"x\":[1998,1999,2000,2001,2002,2003,2004,2005,2006,2007,2008,2009,2010,2011,2012,2013,2014,2015,2016],\"xaxis\":\"x\",\"y\":[54.8019641235993,58.9993345724054,62.54693070017401,65.21653500229776,67.41948001552193,69.18432769367764,70.85638087712367,71.98092537698156,75.00111495978712,74.8050381095318,74.85314882801468,75.03338365071993,74.90190358106629,75.57972531160462,76.44693728626822,78.09107015763892,77.72586955445136,77.53639050016416,77.28957717855596],\"yaxis\":\"y\",\"type\":\"bar\"},{\"alignmentgroup\":\"True\",\"hovertemplate\":\"variable=vodka<br>year=%{x}<br>value=%{y}<extra></extra>\",\"legendgroup\":\"vodka\",\"marker\":{\"color\":\"#00cc96\",\"pattern\":{\"shape\":\"\"}},\"name\":\"vodka\",\"offsetgroup\":\"vodka\",\"orientation\":\"v\",\"showlegend\":true,\"textposition\":\"auto\",\"x\":[1998,1999,2000,2001,2002,2003,2004,2005,2006,2007,2008,2009,2010,2011,2012,2013,2014,2015,2016],\"xaxis\":\"x\",\"y\":[34.00107350884982,31.292306280259744,28.175078100373398,25.55091143838764,23.527357392316645,21.20213713268032,19.350059265112606,18.051617476478928,15.937978503575302,14.873017274359201,14.159841852584012,13.717777519739897,13.441762088833784,13.260968410112806,12.916195681723877,11.687387373745025,10.42144708387672,10.094487614461347,10.34755282915906],\"yaxis\":\"y\",\"type\":\"bar\"},{\"alignmentgroup\":\"True\",\"hovertemplate\":\"variable=champagne<br>year=%{x}<br>value=%{y}<extra></extra>\",\"legendgroup\":\"champagne\",\"marker\":{\"color\":\"#ab63fa\",\"pattern\":{\"shape\":\"\"}},\"name\":\"champagne\",\"offsetgroup\":\"champagne\",\"orientation\":\"v\",\"showlegend\":true,\"textposition\":\"auto\",\"x\":[1998,1999,2000,2001,2002,2003,2004,2005,2006,2007,2008,2009,2010,2011,2012,2013,2014,2015,2016],\"xaxis\":\"x\",\"y\":[2.4518412002094,1.9676005598770103,1.8528817051637225,1.6718821804494828,1.5386107877376793,1.5120213713268036,1.476689055709206,1.546591055548395,1.4821532103408803,1.69506488920279,1.7961027958203897,1.8201346957733393,2.0042301801473275,2.125479044725276,2.066133440169412,2.092766176537396,2.1707908942337855,2.179781839407537,2.0849406318800217],\"yaxis\":\"y\",\"type\":\"bar\"},{\"alignmentgroup\":\"True\",\"hovertemplate\":\"variable=brandy<br>year=%{x}<br>value=%{y}<extra></extra>\",\"legendgroup\":\"brandy\",\"marker\":{\"color\":\"#FFA15A\",\"pattern\":{\"shape\":\"\"}},\"name\":\"brandy\",\"offsetgroup\":\"brandy\",\"orientation\":\"v\",\"showlegend\":true,\"textposition\":\"auto\",\"x\":[1998,1999,2000,2001,2002,2003,2004,2005,2006,2007,2008,2009,2010,2011,2012,2013,2014,2015,2016],\"xaxis\":\"x\",\"y\":[0.6142856196200308,0.48989238429590876,0.485132097908012,0.4945620062586166,0.5102832751261156,0.5307212822796082,0.5300935071776637,0.5364737723933496,0.5262610195192293,0.6371207439451458,0.7667325614233267,0.8026590803529958,0.8679162716067392,0.9204875971621788,0.9600938631258137,0.98429668216303,1.0234907638212523,1.025135894348984,1.0481154620552096],\"yaxis\":\"y\",\"type\":\"bar\"}],                        {\"template\":{\"data\":{\"bar\":[{\"error_x\":{\"color\":\"#2a3f5f\"},\"error_y\":{\"color\":\"#2a3f5f\"},\"marker\":{\"line\":{\"color\":\"#E5ECF6\",\"width\":0.5},\"pattern\":{\"fillmode\":\"overlay\",\"size\":10,\"solidity\":0.2}},\"type\":\"bar\"}],\"barpolar\":[{\"marker\":{\"line\":{\"color\":\"#E5ECF6\",\"width\":0.5},\"pattern\":{\"fillmode\":\"overlay\",\"size\":10,\"solidity\":0.2}},\"type\":\"barpolar\"}],\"carpet\":[{\"aaxis\":{\"endlinecolor\":\"#2a3f5f\",\"gridcolor\":\"white\",\"linecolor\":\"white\",\"minorgridcolor\":\"white\",\"startlinecolor\":\"#2a3f5f\"},\"baxis\":{\"endlinecolor\":\"#2a3f5f\",\"gridcolor\":\"white\",\"linecolor\":\"white\",\"minorgridcolor\":\"white\",\"startlinecolor\":\"#2a3f5f\"},\"type\":\"carpet\"}],\"choropleth\":[{\"colorbar\":{\"outlinewidth\":0,\"ticks\":\"\"},\"type\":\"choropleth\"}],\"contour\":[{\"colorbar\":{\"outlinewidth\":0,\"ticks\":\"\"},\"colorscale\":[[0.0,\"#0d0887\"],[0.1111111111111111,\"#46039f\"],[0.2222222222222222,\"#7201a8\"],[0.3333333333333333,\"#9c179e\"],[0.4444444444444444,\"#bd3786\"],[0.5555555555555556,\"#d8576b\"],[0.6666666666666666,\"#ed7953\"],[0.7777777777777778,\"#fb9f3a\"],[0.8888888888888888,\"#fdca26\"],[1.0,\"#f0f921\"]],\"type\":\"contour\"}],\"contourcarpet\":[{\"colorbar\":{\"outlinewidth\":0,\"ticks\":\"\"},\"type\":\"contourcarpet\"}],\"heatmap\":[{\"colorbar\":{\"outlinewidth\":0,\"ticks\":\"\"},\"colorscale\":[[0.0,\"#0d0887\"],[0.1111111111111111,\"#46039f\"],[0.2222222222222222,\"#7201a8\"],[0.3333333333333333,\"#9c179e\"],[0.4444444444444444,\"#bd3786\"],[0.5555555555555556,\"#d8576b\"],[0.6666666666666666,\"#ed7953\"],[0.7777777777777778,\"#fb9f3a\"],[0.8888888888888888,\"#fdca26\"],[1.0,\"#f0f921\"]],\"type\":\"heatmap\"}],\"heatmapgl\":[{\"colorbar\":{\"outlinewidth\":0,\"ticks\":\"\"},\"colorscale\":[[0.0,\"#0d0887\"],[0.1111111111111111,\"#46039f\"],[0.2222222222222222,\"#7201a8\"],[0.3333333333333333,\"#9c179e\"],[0.4444444444444444,\"#bd3786\"],[0.5555555555555556,\"#d8576b\"],[0.6666666666666666,\"#ed7953\"],[0.7777777777777778,\"#fb9f3a\"],[0.8888888888888888,\"#fdca26\"],[1.0,\"#f0f921\"]],\"type\":\"heatmapgl\"}],\"histogram\":[{\"marker\":{\"pattern\":{\"fillmode\":\"overlay\",\"size\":10,\"solidity\":0.2}},\"type\":\"histogram\"}],\"histogram2d\":[{\"colorbar\":{\"outlinewidth\":0,\"ticks\":\"\"},\"colorscale\":[[0.0,\"#0d0887\"],[0.1111111111111111,\"#46039f\"],[0.2222222222222222,\"#7201a8\"],[0.3333333333333333,\"#9c179e\"],[0.4444444444444444,\"#bd3786\"],[0.5555555555555556,\"#d8576b\"],[0.6666666666666666,\"#ed7953\"],[0.7777777777777778,\"#fb9f3a\"],[0.8888888888888888,\"#fdca26\"],[1.0,\"#f0f921\"]],\"type\":\"histogram2d\"}],\"histogram2dcontour\":[{\"colorbar\":{\"outlinewidth\":0,\"ticks\":\"\"},\"colorscale\":[[0.0,\"#0d0887\"],[0.1111111111111111,\"#46039f\"],[0.2222222222222222,\"#7201a8\"],[0.3333333333333333,\"#9c179e\"],[0.4444444444444444,\"#bd3786\"],[0.5555555555555556,\"#d8576b\"],[0.6666666666666666,\"#ed7953\"],[0.7777777777777778,\"#fb9f3a\"],[0.8888888888888888,\"#fdca26\"],[1.0,\"#f0f921\"]],\"type\":\"histogram2dcontour\"}],\"mesh3d\":[{\"colorbar\":{\"outlinewidth\":0,\"ticks\":\"\"},\"type\":\"mesh3d\"}],\"parcoords\":[{\"line\":{\"colorbar\":{\"outlinewidth\":0,\"ticks\":\"\"}},\"type\":\"parcoords\"}],\"pie\":[{\"automargin\":true,\"type\":\"pie\"}],\"scatter\":[{\"marker\":{\"colorbar\":{\"outlinewidth\":0,\"ticks\":\"\"}},\"type\":\"scatter\"}],\"scatter3d\":[{\"line\":{\"colorbar\":{\"outlinewidth\":0,\"ticks\":\"\"}},\"marker\":{\"colorbar\":{\"outlinewidth\":0,\"ticks\":\"\"}},\"type\":\"scatter3d\"}],\"scattercarpet\":[{\"marker\":{\"colorbar\":{\"outlinewidth\":0,\"ticks\":\"\"}},\"type\":\"scattercarpet\"}],\"scattergeo\":[{\"marker\":{\"colorbar\":{\"outlinewidth\":0,\"ticks\":\"\"}},\"type\":\"scattergeo\"}],\"scattergl\":[{\"marker\":{\"colorbar\":{\"outlinewidth\":0,\"ticks\":\"\"}},\"type\":\"scattergl\"}],\"scattermapbox\":[{\"marker\":{\"colorbar\":{\"outlinewidth\":0,\"ticks\":\"\"}},\"type\":\"scattermapbox\"}],\"scatterpolar\":[{\"marker\":{\"colorbar\":{\"outlinewidth\":0,\"ticks\":\"\"}},\"type\":\"scatterpolar\"}],\"scatterpolargl\":[{\"marker\":{\"colorbar\":{\"outlinewidth\":0,\"ticks\":\"\"}},\"type\":\"scatterpolargl\"}],\"scatterternary\":[{\"marker\":{\"colorbar\":{\"outlinewidth\":0,\"ticks\":\"\"}},\"type\":\"scatterternary\"}],\"surface\":[{\"colorbar\":{\"outlinewidth\":0,\"ticks\":\"\"},\"colorscale\":[[0.0,\"#0d0887\"],[0.1111111111111111,\"#46039f\"],[0.2222222222222222,\"#7201a8\"],[0.3333333333333333,\"#9c179e\"],[0.4444444444444444,\"#bd3786\"],[0.5555555555555556,\"#d8576b\"],[0.6666666666666666,\"#ed7953\"],[0.7777777777777778,\"#fb9f3a\"],[0.8888888888888888,\"#fdca26\"],[1.0,\"#f0f921\"]],\"type\":\"surface\"}],\"table\":[{\"cells\":{\"fill\":{\"color\":\"#EBF0F8\"},\"line\":{\"color\":\"white\"}},\"header\":{\"fill\":{\"color\":\"#C8D4E3\"},\"line\":{\"color\":\"white\"}},\"type\":\"table\"}]},\"layout\":{\"annotationdefaults\":{\"arrowcolor\":\"#2a3f5f\",\"arrowhead\":0,\"arrowwidth\":1},\"autotypenumbers\":\"strict\",\"coloraxis\":{\"colorbar\":{\"outlinewidth\":0,\"ticks\":\"\"}},\"colorscale\":{\"diverging\":[[0,\"#8e0152\"],[0.1,\"#c51b7d\"],[0.2,\"#de77ae\"],[0.3,\"#f1b6da\"],[0.4,\"#fde0ef\"],[0.5,\"#f7f7f7\"],[0.6,\"#e6f5d0\"],[0.7,\"#b8e186\"],[0.8,\"#7fbc41\"],[0.9,\"#4d9221\"],[1,\"#276419\"]],\"sequential\":[[0.0,\"#0d0887\"],[0.1111111111111111,\"#46039f\"],[0.2222222222222222,\"#7201a8\"],[0.3333333333333333,\"#9c179e\"],[0.4444444444444444,\"#bd3786\"],[0.5555555555555556,\"#d8576b\"],[0.6666666666666666,\"#ed7953\"],[0.7777777777777778,\"#fb9f3a\"],[0.8888888888888888,\"#fdca26\"],[1.0,\"#f0f921\"]],\"sequentialminus\":[[0.0,\"#0d0887\"],[0.1111111111111111,\"#46039f\"],[0.2222222222222222,\"#7201a8\"],[0.3333333333333333,\"#9c179e\"],[0.4444444444444444,\"#bd3786\"],[0.5555555555555556,\"#d8576b\"],[0.6666666666666666,\"#ed7953\"],[0.7777777777777778,\"#fb9f3a\"],[0.8888888888888888,\"#fdca26\"],[1.0,\"#f0f921\"]]},\"colorway\":[\"#636efa\",\"#EF553B\",\"#00cc96\",\"#ab63fa\",\"#FFA15A\",\"#19d3f3\",\"#FF6692\",\"#B6E880\",\"#FF97FF\",\"#FECB52\"],\"font\":{\"color\":\"#2a3f5f\"},\"geo\":{\"bgcolor\":\"white\",\"lakecolor\":\"white\",\"landcolor\":\"#E5ECF6\",\"showlakes\":true,\"showland\":true,\"subunitcolor\":\"white\"},\"hoverlabel\":{\"align\":\"left\"},\"hovermode\":\"closest\",\"mapbox\":{\"style\":\"light\"},\"paper_bgcolor\":\"white\",\"plot_bgcolor\":\"#E5ECF6\",\"polar\":{\"angularaxis\":{\"gridcolor\":\"white\",\"linecolor\":\"white\",\"ticks\":\"\"},\"bgcolor\":\"#E5ECF6\",\"radialaxis\":{\"gridcolor\":\"white\",\"linecolor\":\"white\",\"ticks\":\"\"}},\"scene\":{\"xaxis\":{\"backgroundcolor\":\"#E5ECF6\",\"gridcolor\":\"white\",\"gridwidth\":2,\"linecolor\":\"white\",\"showbackground\":true,\"ticks\":\"\",\"zerolinecolor\":\"white\"},\"yaxis\":{\"backgroundcolor\":\"#E5ECF6\",\"gridcolor\":\"white\",\"gridwidth\":2,\"linecolor\":\"white\",\"showbackground\":true,\"ticks\":\"\",\"zerolinecolor\":\"white\"},\"zaxis\":{\"backgroundcolor\":\"#E5ECF6\",\"gridcolor\":\"white\",\"gridwidth\":2,\"linecolor\":\"white\",\"showbackground\":true,\"ticks\":\"\",\"zerolinecolor\":\"white\"}},\"shapedefaults\":{\"line\":{\"color\":\"#2a3f5f\"}},\"ternary\":{\"aaxis\":{\"gridcolor\":\"white\",\"linecolor\":\"white\",\"ticks\":\"\"},\"baxis\":{\"gridcolor\":\"white\",\"linecolor\":\"white\",\"ticks\":\"\"},\"bgcolor\":\"#E5ECF6\",\"caxis\":{\"gridcolor\":\"white\",\"linecolor\":\"white\",\"ticks\":\"\"}},\"title\":{\"x\":0.05},\"xaxis\":{\"automargin\":true,\"gridcolor\":\"white\",\"linecolor\":\"white\",\"ticks\":\"\",\"title\":{\"standoff\":15},\"zerolinecolor\":\"white\",\"zerolinewidth\":2},\"yaxis\":{\"automargin\":true,\"gridcolor\":\"white\",\"linecolor\":\"white\",\"ticks\":\"\",\"title\":{\"standoff\":15},\"zerolinecolor\":\"white\",\"zerolinewidth\":2}}},\"xaxis\":{\"anchor\":\"y\",\"domain\":[0.0,1.0],\"title\":{\"text\":\"year\"}},\"yaxis\":{\"anchor\":\"x\",\"domain\":[0.0,1.0],\"title\":{\"text\":\"value\"}},\"legend\":{\"title\":{\"text\":\"variable\"},\"tracegroupgap\":0},\"margin\":{\"t\":60},\"barmode\":\"relative\"},                        {\"responsive\": true}                    ).then(function(){\n",
       "                            \n",
       "var gd = document.getElementById('741c09ab-2b16-4e81-bd6a-9d8a82b868d0');\n",
       "var x = new MutationObserver(function (mutations, observer) {{\n",
       "        var display = window.getComputedStyle(gd).display;\n",
       "        if (!display || display === 'none') {{\n",
       "            console.log([gd, 'removed!']);\n",
       "            Plotly.purge(gd);\n",
       "            observer.disconnect();\n",
       "        }}\n",
       "}});\n",
       "\n",
       "// Listen for the removal of the full notebook cells\n",
       "var notebookContainer = gd.closest('#notebook-container');\n",
       "if (notebookContainer) {{\n",
       "    x.observe(notebookContainer, {childList: true});\n",
       "}}\n",
       "\n",
       "// Listen for the clearing of the current output cell\n",
       "var outputEl = gd.closest('.output');\n",
       "if (outputEl) {{\n",
       "    x.observe(outputEl, {childList: true});\n",
       "}}\n",
       "\n",
       "                        })                };                });            </script>        </div>"
      ]
     },
     "metadata": {},
     "output_type": "display_data"
    }
   ],
   "source": [
    "fig = px.bar(df_data_per , x=df_data_per.index, y=drink_cat)\n",
    "fig.show()"
   ]
  },
  {
   "cell_type": "markdown",
   "id": "013feb90",
   "metadata": {},
   "source": [
    "While the proportion of wine, champagne and brandy in the total mix is not overly different over the years, beer and vodka are competing heavily and beer is winning! \n",
    "\n",
    "Since the total volumes where similar in 2002 and 2016 we can compare the proportions directly. While in 2002 more than a quarter of the mix was vodka, in 2016 it is less than half of that. \n",
    "\n",
    "One should also keep in mind that alcohol content of these beverages is radically different. Let's assume beer is 5% alcohol while vodka is 40% and just analyze the two."
   ]
  },
  {
   "cell_type": "code",
   "execution_count": 149,
   "id": "7a18a7a3",
   "metadata": {},
   "outputs": [],
   "source": [
    "df_data_alc_pure = df_data[[\"beer\", \"vodka\"]].copy()\n",
    "df_data_alc_pure[\"beer_alc\"] = df_data_alc_pure[\"beer\"].apply(lambda x: 0.05 * x)\n",
    "df_data_alc_pure[\"vodka_alc\"] = df_data_alc_pure[\"vodka\"].apply(lambda x: 0.40 * x)\n",
    "df_data_alc_pure[\"total_alc\"] = df_data_alc_pure[\"vodka_alc\"] + df_data_alc_pure[\"beer_alc\"] "
   ]
  },
  {
   "cell_type": "code",
   "execution_count": 150,
   "id": "8df67422",
   "metadata": {},
   "outputs": [
    {
     "data": {
      "application/vnd.plotly.v1+json": {
       "config": {
        "plotlyServerURL": "https://plot.ly"
       },
       "data": [
        {
         "alignmentgroup": "True",
         "hovertemplate": "variable=total_alc<br>year=%{x}<br>value=%{y}<extra></extra>",
         "legendgroup": "total_alc",
         "marker": {
          "color": "#636efa",
          "pattern": {
           "shape": ""
          }
         },
         "name": "total_alc",
         "offsetgroup": "total_alc",
         "orientation": "v",
         "showlegend": true,
         "textposition": "auto",
         "type": "bar",
         "x": [
          1998,
          1999,
          2000,
          2001,
          2002,
          2003,
          2004,
          2005,
          2006,
          2007,
          2008,
          2009,
          2010,
          2011,
          2012,
          2013,
          2014,
          2015,
          2016
         ],
         "xaxis": "x",
         "y": [
          6.088641975308643,
          6.657407407407408,
          6.93567901234568,
          7.51280487804878,
          8.03390243902439,
          8.176036585365853,
          8.358109756097562,
          8.291358024691359,
          8.40858024691358,
          8.129814814814814,
          8.224382716049384,
          7.85820987654321,
          7.720308641975309,
          7.76891975308642,
          7.755802469135803,
          6.99462962962963,
          5.878795180722891,
          5.227650602409639,
          5.1244578313253015
         ],
         "yaxis": "y"
        }
       ],
       "layout": {
        "barmode": "relative",
        "legend": {
         "title": {
          "text": "variable"
         },
         "tracegroupgap": 0
        },
        "margin": {
         "t": 60
        },
        "template": {
         "data": {
          "bar": [
           {
            "error_x": {
             "color": "#2a3f5f"
            },
            "error_y": {
             "color": "#2a3f5f"
            },
            "marker": {
             "line": {
              "color": "#E5ECF6",
              "width": 0.5
             },
             "pattern": {
              "fillmode": "overlay",
              "size": 10,
              "solidity": 0.2
             }
            },
            "type": "bar"
           }
          ],
          "barpolar": [
           {
            "marker": {
             "line": {
              "color": "#E5ECF6",
              "width": 0.5
             },
             "pattern": {
              "fillmode": "overlay",
              "size": 10,
              "solidity": 0.2
             }
            },
            "type": "barpolar"
           }
          ],
          "carpet": [
           {
            "aaxis": {
             "endlinecolor": "#2a3f5f",
             "gridcolor": "white",
             "linecolor": "white",
             "minorgridcolor": "white",
             "startlinecolor": "#2a3f5f"
            },
            "baxis": {
             "endlinecolor": "#2a3f5f",
             "gridcolor": "white",
             "linecolor": "white",
             "minorgridcolor": "white",
             "startlinecolor": "#2a3f5f"
            },
            "type": "carpet"
           }
          ],
          "choropleth": [
           {
            "colorbar": {
             "outlinewidth": 0,
             "ticks": ""
            },
            "type": "choropleth"
           }
          ],
          "contour": [
           {
            "colorbar": {
             "outlinewidth": 0,
             "ticks": ""
            },
            "colorscale": [
             [
              0,
              "#0d0887"
             ],
             [
              0.1111111111111111,
              "#46039f"
             ],
             [
              0.2222222222222222,
              "#7201a8"
             ],
             [
              0.3333333333333333,
              "#9c179e"
             ],
             [
              0.4444444444444444,
              "#bd3786"
             ],
             [
              0.5555555555555556,
              "#d8576b"
             ],
             [
              0.6666666666666666,
              "#ed7953"
             ],
             [
              0.7777777777777778,
              "#fb9f3a"
             ],
             [
              0.8888888888888888,
              "#fdca26"
             ],
             [
              1,
              "#f0f921"
             ]
            ],
            "type": "contour"
           }
          ],
          "contourcarpet": [
           {
            "colorbar": {
             "outlinewidth": 0,
             "ticks": ""
            },
            "type": "contourcarpet"
           }
          ],
          "heatmap": [
           {
            "colorbar": {
             "outlinewidth": 0,
             "ticks": ""
            },
            "colorscale": [
             [
              0,
              "#0d0887"
             ],
             [
              0.1111111111111111,
              "#46039f"
             ],
             [
              0.2222222222222222,
              "#7201a8"
             ],
             [
              0.3333333333333333,
              "#9c179e"
             ],
             [
              0.4444444444444444,
              "#bd3786"
             ],
             [
              0.5555555555555556,
              "#d8576b"
             ],
             [
              0.6666666666666666,
              "#ed7953"
             ],
             [
              0.7777777777777778,
              "#fb9f3a"
             ],
             [
              0.8888888888888888,
              "#fdca26"
             ],
             [
              1,
              "#f0f921"
             ]
            ],
            "type": "heatmap"
           }
          ],
          "heatmapgl": [
           {
            "colorbar": {
             "outlinewidth": 0,
             "ticks": ""
            },
            "colorscale": [
             [
              0,
              "#0d0887"
             ],
             [
              0.1111111111111111,
              "#46039f"
             ],
             [
              0.2222222222222222,
              "#7201a8"
             ],
             [
              0.3333333333333333,
              "#9c179e"
             ],
             [
              0.4444444444444444,
              "#bd3786"
             ],
             [
              0.5555555555555556,
              "#d8576b"
             ],
             [
              0.6666666666666666,
              "#ed7953"
             ],
             [
              0.7777777777777778,
              "#fb9f3a"
             ],
             [
              0.8888888888888888,
              "#fdca26"
             ],
             [
              1,
              "#f0f921"
             ]
            ],
            "type": "heatmapgl"
           }
          ],
          "histogram": [
           {
            "marker": {
             "pattern": {
              "fillmode": "overlay",
              "size": 10,
              "solidity": 0.2
             }
            },
            "type": "histogram"
           }
          ],
          "histogram2d": [
           {
            "colorbar": {
             "outlinewidth": 0,
             "ticks": ""
            },
            "colorscale": [
             [
              0,
              "#0d0887"
             ],
             [
              0.1111111111111111,
              "#46039f"
             ],
             [
              0.2222222222222222,
              "#7201a8"
             ],
             [
              0.3333333333333333,
              "#9c179e"
             ],
             [
              0.4444444444444444,
              "#bd3786"
             ],
             [
              0.5555555555555556,
              "#d8576b"
             ],
             [
              0.6666666666666666,
              "#ed7953"
             ],
             [
              0.7777777777777778,
              "#fb9f3a"
             ],
             [
              0.8888888888888888,
              "#fdca26"
             ],
             [
              1,
              "#f0f921"
             ]
            ],
            "type": "histogram2d"
           }
          ],
          "histogram2dcontour": [
           {
            "colorbar": {
             "outlinewidth": 0,
             "ticks": ""
            },
            "colorscale": [
             [
              0,
              "#0d0887"
             ],
             [
              0.1111111111111111,
              "#46039f"
             ],
             [
              0.2222222222222222,
              "#7201a8"
             ],
             [
              0.3333333333333333,
              "#9c179e"
             ],
             [
              0.4444444444444444,
              "#bd3786"
             ],
             [
              0.5555555555555556,
              "#d8576b"
             ],
             [
              0.6666666666666666,
              "#ed7953"
             ],
             [
              0.7777777777777778,
              "#fb9f3a"
             ],
             [
              0.8888888888888888,
              "#fdca26"
             ],
             [
              1,
              "#f0f921"
             ]
            ],
            "type": "histogram2dcontour"
           }
          ],
          "mesh3d": [
           {
            "colorbar": {
             "outlinewidth": 0,
             "ticks": ""
            },
            "type": "mesh3d"
           }
          ],
          "parcoords": [
           {
            "line": {
             "colorbar": {
              "outlinewidth": 0,
              "ticks": ""
             }
            },
            "type": "parcoords"
           }
          ],
          "pie": [
           {
            "automargin": true,
            "type": "pie"
           }
          ],
          "scatter": [
           {
            "marker": {
             "colorbar": {
              "outlinewidth": 0,
              "ticks": ""
             }
            },
            "type": "scatter"
           }
          ],
          "scatter3d": [
           {
            "line": {
             "colorbar": {
              "outlinewidth": 0,
              "ticks": ""
             }
            },
            "marker": {
             "colorbar": {
              "outlinewidth": 0,
              "ticks": ""
             }
            },
            "type": "scatter3d"
           }
          ],
          "scattercarpet": [
           {
            "marker": {
             "colorbar": {
              "outlinewidth": 0,
              "ticks": ""
             }
            },
            "type": "scattercarpet"
           }
          ],
          "scattergeo": [
           {
            "marker": {
             "colorbar": {
              "outlinewidth": 0,
              "ticks": ""
             }
            },
            "type": "scattergeo"
           }
          ],
          "scattergl": [
           {
            "marker": {
             "colorbar": {
              "outlinewidth": 0,
              "ticks": ""
             }
            },
            "type": "scattergl"
           }
          ],
          "scattermapbox": [
           {
            "marker": {
             "colorbar": {
              "outlinewidth": 0,
              "ticks": ""
             }
            },
            "type": "scattermapbox"
           }
          ],
          "scatterpolar": [
           {
            "marker": {
             "colorbar": {
              "outlinewidth": 0,
              "ticks": ""
             }
            },
            "type": "scatterpolar"
           }
          ],
          "scatterpolargl": [
           {
            "marker": {
             "colorbar": {
              "outlinewidth": 0,
              "ticks": ""
             }
            },
            "type": "scatterpolargl"
           }
          ],
          "scatterternary": [
           {
            "marker": {
             "colorbar": {
              "outlinewidth": 0,
              "ticks": ""
             }
            },
            "type": "scatterternary"
           }
          ],
          "surface": [
           {
            "colorbar": {
             "outlinewidth": 0,
             "ticks": ""
            },
            "colorscale": [
             [
              0,
              "#0d0887"
             ],
             [
              0.1111111111111111,
              "#46039f"
             ],
             [
              0.2222222222222222,
              "#7201a8"
             ],
             [
              0.3333333333333333,
              "#9c179e"
             ],
             [
              0.4444444444444444,
              "#bd3786"
             ],
             [
              0.5555555555555556,
              "#d8576b"
             ],
             [
              0.6666666666666666,
              "#ed7953"
             ],
             [
              0.7777777777777778,
              "#fb9f3a"
             ],
             [
              0.8888888888888888,
              "#fdca26"
             ],
             [
              1,
              "#f0f921"
             ]
            ],
            "type": "surface"
           }
          ],
          "table": [
           {
            "cells": {
             "fill": {
              "color": "#EBF0F8"
             },
             "line": {
              "color": "white"
             }
            },
            "header": {
             "fill": {
              "color": "#C8D4E3"
             },
             "line": {
              "color": "white"
             }
            },
            "type": "table"
           }
          ]
         },
         "layout": {
          "annotationdefaults": {
           "arrowcolor": "#2a3f5f",
           "arrowhead": 0,
           "arrowwidth": 1
          },
          "autotypenumbers": "strict",
          "coloraxis": {
           "colorbar": {
            "outlinewidth": 0,
            "ticks": ""
           }
          },
          "colorscale": {
           "diverging": [
            [
             0,
             "#8e0152"
            ],
            [
             0.1,
             "#c51b7d"
            ],
            [
             0.2,
             "#de77ae"
            ],
            [
             0.3,
             "#f1b6da"
            ],
            [
             0.4,
             "#fde0ef"
            ],
            [
             0.5,
             "#f7f7f7"
            ],
            [
             0.6,
             "#e6f5d0"
            ],
            [
             0.7,
             "#b8e186"
            ],
            [
             0.8,
             "#7fbc41"
            ],
            [
             0.9,
             "#4d9221"
            ],
            [
             1,
             "#276419"
            ]
           ],
           "sequential": [
            [
             0,
             "#0d0887"
            ],
            [
             0.1111111111111111,
             "#46039f"
            ],
            [
             0.2222222222222222,
             "#7201a8"
            ],
            [
             0.3333333333333333,
             "#9c179e"
            ],
            [
             0.4444444444444444,
             "#bd3786"
            ],
            [
             0.5555555555555556,
             "#d8576b"
            ],
            [
             0.6666666666666666,
             "#ed7953"
            ],
            [
             0.7777777777777778,
             "#fb9f3a"
            ],
            [
             0.8888888888888888,
             "#fdca26"
            ],
            [
             1,
             "#f0f921"
            ]
           ],
           "sequentialminus": [
            [
             0,
             "#0d0887"
            ],
            [
             0.1111111111111111,
             "#46039f"
            ],
            [
             0.2222222222222222,
             "#7201a8"
            ],
            [
             0.3333333333333333,
             "#9c179e"
            ],
            [
             0.4444444444444444,
             "#bd3786"
            ],
            [
             0.5555555555555556,
             "#d8576b"
            ],
            [
             0.6666666666666666,
             "#ed7953"
            ],
            [
             0.7777777777777778,
             "#fb9f3a"
            ],
            [
             0.8888888888888888,
             "#fdca26"
            ],
            [
             1,
             "#f0f921"
            ]
           ]
          },
          "colorway": [
           "#636efa",
           "#EF553B",
           "#00cc96",
           "#ab63fa",
           "#FFA15A",
           "#19d3f3",
           "#FF6692",
           "#B6E880",
           "#FF97FF",
           "#FECB52"
          ],
          "font": {
           "color": "#2a3f5f"
          },
          "geo": {
           "bgcolor": "white",
           "lakecolor": "white",
           "landcolor": "#E5ECF6",
           "showlakes": true,
           "showland": true,
           "subunitcolor": "white"
          },
          "hoverlabel": {
           "align": "left"
          },
          "hovermode": "closest",
          "mapbox": {
           "style": "light"
          },
          "paper_bgcolor": "white",
          "plot_bgcolor": "#E5ECF6",
          "polar": {
           "angularaxis": {
            "gridcolor": "white",
            "linecolor": "white",
            "ticks": ""
           },
           "bgcolor": "#E5ECF6",
           "radialaxis": {
            "gridcolor": "white",
            "linecolor": "white",
            "ticks": ""
           }
          },
          "scene": {
           "xaxis": {
            "backgroundcolor": "#E5ECF6",
            "gridcolor": "white",
            "gridwidth": 2,
            "linecolor": "white",
            "showbackground": true,
            "ticks": "",
            "zerolinecolor": "white"
           },
           "yaxis": {
            "backgroundcolor": "#E5ECF6",
            "gridcolor": "white",
            "gridwidth": 2,
            "linecolor": "white",
            "showbackground": true,
            "ticks": "",
            "zerolinecolor": "white"
           },
           "zaxis": {
            "backgroundcolor": "#E5ECF6",
            "gridcolor": "white",
            "gridwidth": 2,
            "linecolor": "white",
            "showbackground": true,
            "ticks": "",
            "zerolinecolor": "white"
           }
          },
          "shapedefaults": {
           "line": {
            "color": "#2a3f5f"
           }
          },
          "ternary": {
           "aaxis": {
            "gridcolor": "white",
            "linecolor": "white",
            "ticks": ""
           },
           "baxis": {
            "gridcolor": "white",
            "linecolor": "white",
            "ticks": ""
           },
           "bgcolor": "#E5ECF6",
           "caxis": {
            "gridcolor": "white",
            "linecolor": "white",
            "ticks": ""
           }
          },
          "title": {
           "x": 0.05
          },
          "xaxis": {
           "automargin": true,
           "gridcolor": "white",
           "linecolor": "white",
           "ticks": "",
           "title": {
            "standoff": 15
           },
           "zerolinecolor": "white",
           "zerolinewidth": 2
          },
          "yaxis": {
           "automargin": true,
           "gridcolor": "white",
           "linecolor": "white",
           "ticks": "",
           "title": {
            "standoff": 15
           },
           "zerolinecolor": "white",
           "zerolinewidth": 2
          }
         }
        },
        "xaxis": {
         "anchor": "y",
         "domain": [
          0,
          1
         ],
         "title": {
          "text": "year"
         }
        },
        "yaxis": {
         "anchor": "x",
         "domain": [
          0,
          1
         ],
         "title": {
          "text": "value"
         }
        }
       }
      },
      "text/html": [
       "<div>                            <div id=\"b48244a4-c0eb-4c59-9769-567421d9a53f\" class=\"plotly-graph-div\" style=\"height:525px; width:100%;\"></div>            <script type=\"text/javascript\">                require([\"plotly\"], function(Plotly) {                    window.PLOTLYENV=window.PLOTLYENV || {};                                    if (document.getElementById(\"b48244a4-c0eb-4c59-9769-567421d9a53f\")) {                    Plotly.newPlot(                        \"b48244a4-c0eb-4c59-9769-567421d9a53f\",                        [{\"alignmentgroup\":\"True\",\"hovertemplate\":\"variable=total_alc<br>year=%{x}<br>value=%{y}<extra></extra>\",\"legendgroup\":\"total_alc\",\"marker\":{\"color\":\"#636efa\",\"pattern\":{\"shape\":\"\"}},\"name\":\"total_alc\",\"offsetgroup\":\"total_alc\",\"orientation\":\"v\",\"showlegend\":true,\"textposition\":\"auto\",\"x\":[1998,1999,2000,2001,2002,2003,2004,2005,2006,2007,2008,2009,2010,2011,2012,2013,2014,2015,2016],\"xaxis\":\"x\",\"y\":[6.088641975308643,6.657407407407408,6.93567901234568,7.51280487804878,8.03390243902439,8.176036585365853,8.358109756097562,8.291358024691359,8.40858024691358,8.129814814814814,8.224382716049384,7.85820987654321,7.720308641975309,7.76891975308642,7.755802469135803,6.99462962962963,5.878795180722891,5.227650602409639,5.1244578313253015],\"yaxis\":\"y\",\"type\":\"bar\"}],                        {\"template\":{\"data\":{\"bar\":[{\"error_x\":{\"color\":\"#2a3f5f\"},\"error_y\":{\"color\":\"#2a3f5f\"},\"marker\":{\"line\":{\"color\":\"#E5ECF6\",\"width\":0.5},\"pattern\":{\"fillmode\":\"overlay\",\"size\":10,\"solidity\":0.2}},\"type\":\"bar\"}],\"barpolar\":[{\"marker\":{\"line\":{\"color\":\"#E5ECF6\",\"width\":0.5},\"pattern\":{\"fillmode\":\"overlay\",\"size\":10,\"solidity\":0.2}},\"type\":\"barpolar\"}],\"carpet\":[{\"aaxis\":{\"endlinecolor\":\"#2a3f5f\",\"gridcolor\":\"white\",\"linecolor\":\"white\",\"minorgridcolor\":\"white\",\"startlinecolor\":\"#2a3f5f\"},\"baxis\":{\"endlinecolor\":\"#2a3f5f\",\"gridcolor\":\"white\",\"linecolor\":\"white\",\"minorgridcolor\":\"white\",\"startlinecolor\":\"#2a3f5f\"},\"type\":\"carpet\"}],\"choropleth\":[{\"colorbar\":{\"outlinewidth\":0,\"ticks\":\"\"},\"type\":\"choropleth\"}],\"contour\":[{\"colorbar\":{\"outlinewidth\":0,\"ticks\":\"\"},\"colorscale\":[[0.0,\"#0d0887\"],[0.1111111111111111,\"#46039f\"],[0.2222222222222222,\"#7201a8\"],[0.3333333333333333,\"#9c179e\"],[0.4444444444444444,\"#bd3786\"],[0.5555555555555556,\"#d8576b\"],[0.6666666666666666,\"#ed7953\"],[0.7777777777777778,\"#fb9f3a\"],[0.8888888888888888,\"#fdca26\"],[1.0,\"#f0f921\"]],\"type\":\"contour\"}],\"contourcarpet\":[{\"colorbar\":{\"outlinewidth\":0,\"ticks\":\"\"},\"type\":\"contourcarpet\"}],\"heatmap\":[{\"colorbar\":{\"outlinewidth\":0,\"ticks\":\"\"},\"colorscale\":[[0.0,\"#0d0887\"],[0.1111111111111111,\"#46039f\"],[0.2222222222222222,\"#7201a8\"],[0.3333333333333333,\"#9c179e\"],[0.4444444444444444,\"#bd3786\"],[0.5555555555555556,\"#d8576b\"],[0.6666666666666666,\"#ed7953\"],[0.7777777777777778,\"#fb9f3a\"],[0.8888888888888888,\"#fdca26\"],[1.0,\"#f0f921\"]],\"type\":\"heatmap\"}],\"heatmapgl\":[{\"colorbar\":{\"outlinewidth\":0,\"ticks\":\"\"},\"colorscale\":[[0.0,\"#0d0887\"],[0.1111111111111111,\"#46039f\"],[0.2222222222222222,\"#7201a8\"],[0.3333333333333333,\"#9c179e\"],[0.4444444444444444,\"#bd3786\"],[0.5555555555555556,\"#d8576b\"],[0.6666666666666666,\"#ed7953\"],[0.7777777777777778,\"#fb9f3a\"],[0.8888888888888888,\"#fdca26\"],[1.0,\"#f0f921\"]],\"type\":\"heatmapgl\"}],\"histogram\":[{\"marker\":{\"pattern\":{\"fillmode\":\"overlay\",\"size\":10,\"solidity\":0.2}},\"type\":\"histogram\"}],\"histogram2d\":[{\"colorbar\":{\"outlinewidth\":0,\"ticks\":\"\"},\"colorscale\":[[0.0,\"#0d0887\"],[0.1111111111111111,\"#46039f\"],[0.2222222222222222,\"#7201a8\"],[0.3333333333333333,\"#9c179e\"],[0.4444444444444444,\"#bd3786\"],[0.5555555555555556,\"#d8576b\"],[0.6666666666666666,\"#ed7953\"],[0.7777777777777778,\"#fb9f3a\"],[0.8888888888888888,\"#fdca26\"],[1.0,\"#f0f921\"]],\"type\":\"histogram2d\"}],\"histogram2dcontour\":[{\"colorbar\":{\"outlinewidth\":0,\"ticks\":\"\"},\"colorscale\":[[0.0,\"#0d0887\"],[0.1111111111111111,\"#46039f\"],[0.2222222222222222,\"#7201a8\"],[0.3333333333333333,\"#9c179e\"],[0.4444444444444444,\"#bd3786\"],[0.5555555555555556,\"#d8576b\"],[0.6666666666666666,\"#ed7953\"],[0.7777777777777778,\"#fb9f3a\"],[0.8888888888888888,\"#fdca26\"],[1.0,\"#f0f921\"]],\"type\":\"histogram2dcontour\"}],\"mesh3d\":[{\"colorbar\":{\"outlinewidth\":0,\"ticks\":\"\"},\"type\":\"mesh3d\"}],\"parcoords\":[{\"line\":{\"colorbar\":{\"outlinewidth\":0,\"ticks\":\"\"}},\"type\":\"parcoords\"}],\"pie\":[{\"automargin\":true,\"type\":\"pie\"}],\"scatter\":[{\"marker\":{\"colorbar\":{\"outlinewidth\":0,\"ticks\":\"\"}},\"type\":\"scatter\"}],\"scatter3d\":[{\"line\":{\"colorbar\":{\"outlinewidth\":0,\"ticks\":\"\"}},\"marker\":{\"colorbar\":{\"outlinewidth\":0,\"ticks\":\"\"}},\"type\":\"scatter3d\"}],\"scattercarpet\":[{\"marker\":{\"colorbar\":{\"outlinewidth\":0,\"ticks\":\"\"}},\"type\":\"scattercarpet\"}],\"scattergeo\":[{\"marker\":{\"colorbar\":{\"outlinewidth\":0,\"ticks\":\"\"}},\"type\":\"scattergeo\"}],\"scattergl\":[{\"marker\":{\"colorbar\":{\"outlinewidth\":0,\"ticks\":\"\"}},\"type\":\"scattergl\"}],\"scattermapbox\":[{\"marker\":{\"colorbar\":{\"outlinewidth\":0,\"ticks\":\"\"}},\"type\":\"scattermapbox\"}],\"scatterpolar\":[{\"marker\":{\"colorbar\":{\"outlinewidth\":0,\"ticks\":\"\"}},\"type\":\"scatterpolar\"}],\"scatterpolargl\":[{\"marker\":{\"colorbar\":{\"outlinewidth\":0,\"ticks\":\"\"}},\"type\":\"scatterpolargl\"}],\"scatterternary\":[{\"marker\":{\"colorbar\":{\"outlinewidth\":0,\"ticks\":\"\"}},\"type\":\"scatterternary\"}],\"surface\":[{\"colorbar\":{\"outlinewidth\":0,\"ticks\":\"\"},\"colorscale\":[[0.0,\"#0d0887\"],[0.1111111111111111,\"#46039f\"],[0.2222222222222222,\"#7201a8\"],[0.3333333333333333,\"#9c179e\"],[0.4444444444444444,\"#bd3786\"],[0.5555555555555556,\"#d8576b\"],[0.6666666666666666,\"#ed7953\"],[0.7777777777777778,\"#fb9f3a\"],[0.8888888888888888,\"#fdca26\"],[1.0,\"#f0f921\"]],\"type\":\"surface\"}],\"table\":[{\"cells\":{\"fill\":{\"color\":\"#EBF0F8\"},\"line\":{\"color\":\"white\"}},\"header\":{\"fill\":{\"color\":\"#C8D4E3\"},\"line\":{\"color\":\"white\"}},\"type\":\"table\"}]},\"layout\":{\"annotationdefaults\":{\"arrowcolor\":\"#2a3f5f\",\"arrowhead\":0,\"arrowwidth\":1},\"autotypenumbers\":\"strict\",\"coloraxis\":{\"colorbar\":{\"outlinewidth\":0,\"ticks\":\"\"}},\"colorscale\":{\"diverging\":[[0,\"#8e0152\"],[0.1,\"#c51b7d\"],[0.2,\"#de77ae\"],[0.3,\"#f1b6da\"],[0.4,\"#fde0ef\"],[0.5,\"#f7f7f7\"],[0.6,\"#e6f5d0\"],[0.7,\"#b8e186\"],[0.8,\"#7fbc41\"],[0.9,\"#4d9221\"],[1,\"#276419\"]],\"sequential\":[[0.0,\"#0d0887\"],[0.1111111111111111,\"#46039f\"],[0.2222222222222222,\"#7201a8\"],[0.3333333333333333,\"#9c179e\"],[0.4444444444444444,\"#bd3786\"],[0.5555555555555556,\"#d8576b\"],[0.6666666666666666,\"#ed7953\"],[0.7777777777777778,\"#fb9f3a\"],[0.8888888888888888,\"#fdca26\"],[1.0,\"#f0f921\"]],\"sequentialminus\":[[0.0,\"#0d0887\"],[0.1111111111111111,\"#46039f\"],[0.2222222222222222,\"#7201a8\"],[0.3333333333333333,\"#9c179e\"],[0.4444444444444444,\"#bd3786\"],[0.5555555555555556,\"#d8576b\"],[0.6666666666666666,\"#ed7953\"],[0.7777777777777778,\"#fb9f3a\"],[0.8888888888888888,\"#fdca26\"],[1.0,\"#f0f921\"]]},\"colorway\":[\"#636efa\",\"#EF553B\",\"#00cc96\",\"#ab63fa\",\"#FFA15A\",\"#19d3f3\",\"#FF6692\",\"#B6E880\",\"#FF97FF\",\"#FECB52\"],\"font\":{\"color\":\"#2a3f5f\"},\"geo\":{\"bgcolor\":\"white\",\"lakecolor\":\"white\",\"landcolor\":\"#E5ECF6\",\"showlakes\":true,\"showland\":true,\"subunitcolor\":\"white\"},\"hoverlabel\":{\"align\":\"left\"},\"hovermode\":\"closest\",\"mapbox\":{\"style\":\"light\"},\"paper_bgcolor\":\"white\",\"plot_bgcolor\":\"#E5ECF6\",\"polar\":{\"angularaxis\":{\"gridcolor\":\"white\",\"linecolor\":\"white\",\"ticks\":\"\"},\"bgcolor\":\"#E5ECF6\",\"radialaxis\":{\"gridcolor\":\"white\",\"linecolor\":\"white\",\"ticks\":\"\"}},\"scene\":{\"xaxis\":{\"backgroundcolor\":\"#E5ECF6\",\"gridcolor\":\"white\",\"gridwidth\":2,\"linecolor\":\"white\",\"showbackground\":true,\"ticks\":\"\",\"zerolinecolor\":\"white\"},\"yaxis\":{\"backgroundcolor\":\"#E5ECF6\",\"gridcolor\":\"white\",\"gridwidth\":2,\"linecolor\":\"white\",\"showbackground\":true,\"ticks\":\"\",\"zerolinecolor\":\"white\"},\"zaxis\":{\"backgroundcolor\":\"#E5ECF6\",\"gridcolor\":\"white\",\"gridwidth\":2,\"linecolor\":\"white\",\"showbackground\":true,\"ticks\":\"\",\"zerolinecolor\":\"white\"}},\"shapedefaults\":{\"line\":{\"color\":\"#2a3f5f\"}},\"ternary\":{\"aaxis\":{\"gridcolor\":\"white\",\"linecolor\":\"white\",\"ticks\":\"\"},\"baxis\":{\"gridcolor\":\"white\",\"linecolor\":\"white\",\"ticks\":\"\"},\"bgcolor\":\"#E5ECF6\",\"caxis\":{\"gridcolor\":\"white\",\"linecolor\":\"white\",\"ticks\":\"\"}},\"title\":{\"x\":0.05},\"xaxis\":{\"automargin\":true,\"gridcolor\":\"white\",\"linecolor\":\"white\",\"ticks\":\"\",\"title\":{\"standoff\":15},\"zerolinecolor\":\"white\",\"zerolinewidth\":2},\"yaxis\":{\"automargin\":true,\"gridcolor\":\"white\",\"linecolor\":\"white\",\"ticks\":\"\",\"title\":{\"standoff\":15},\"zerolinecolor\":\"white\",\"zerolinewidth\":2}}},\"xaxis\":{\"anchor\":\"y\",\"domain\":[0.0,1.0],\"title\":{\"text\":\"year\"}},\"yaxis\":{\"anchor\":\"x\",\"domain\":[0.0,1.0],\"title\":{\"text\":\"value\"}},\"legend\":{\"title\":{\"text\":\"variable\"},\"tracegroupgap\":0},\"margin\":{\"t\":60},\"barmode\":\"relative\"},                        {\"responsive\": true}                    ).then(function(){\n",
       "                            \n",
       "var gd = document.getElementById('b48244a4-c0eb-4c59-9769-567421d9a53f');\n",
       "var x = new MutationObserver(function (mutations, observer) {{\n",
       "        var display = window.getComputedStyle(gd).display;\n",
       "        if (!display || display === 'none') {{\n",
       "            console.log([gd, 'removed!']);\n",
       "            Plotly.purge(gd);\n",
       "            observer.disconnect();\n",
       "        }}\n",
       "}});\n",
       "\n",
       "// Listen for the removal of the full notebook cells\n",
       "var notebookContainer = gd.closest('#notebook-container');\n",
       "if (notebookContainer) {{\n",
       "    x.observe(notebookContainer, {childList: true});\n",
       "}}\n",
       "\n",
       "// Listen for the clearing of the current output cell\n",
       "var outputEl = gd.closest('.output');\n",
       "if (outputEl) {{\n",
       "    x.observe(outputEl, {childList: true});\n",
       "}}\n",
       "\n",
       "                        })                };                });            </script>        </div>"
      ]
     },
     "metadata": {},
     "output_type": "display_data"
    }
   ],
   "source": [
    "fig = px.bar(df_data_alc_pure , x=df_data_alc_pure.index, y=[\"total_alc\"])\n",
    "fig.show()"
   ]
  },
  {
   "cell_type": "markdown",
   "id": "853de96c",
   "metadata": {},
   "source": [
    "So eventough the total volume of alcoholic beverages 2016 is still higher than at the start of the observed time period, the volume of pure alcohol consumed is ca. 20% lower due to the higher proportion of beer."
   ]
  },
  {
   "cell_type": "markdown",
   "id": "ce5d8fd8",
   "metadata": {},
   "source": [
    "### c. Are there any regional differences in reference to total alcohol sales?"
   ]
  },
  {
   "cell_type": "code",
   "execution_count": 151,
   "id": "7043061e",
   "metadata": {},
   "outputs": [],
   "source": [
    "df_region = df.groupby(['region'], as_index=False).mean() #regional average over the timeperiod\n",
    "df_region.drop([\"year\",\"total_volume\"], inplace = True, axis = 1)\n",
    "df_region[\"total_volume_mean\"] = df_region[drink_cat].sum(axis=1)"
   ]
  },
  {
   "cell_type": "code",
   "execution_count": 152,
   "id": "0b98052a",
   "metadata": {},
   "outputs": [
    {
     "data": {
      "text/html": [
       "<div>\n",
       "<style scoped>\n",
       "    .dataframe tbody tr th:only-of-type {\n",
       "        vertical-align: middle;\n",
       "    }\n",
       "\n",
       "    .dataframe tbody tr th {\n",
       "        vertical-align: top;\n",
       "    }\n",
       "\n",
       "    .dataframe thead th {\n",
       "        text-align: right;\n",
       "    }\n",
       "</style>\n",
       "<table border=\"1\" class=\"dataframe\">\n",
       "  <thead>\n",
       "    <tr style=\"text-align: right;\">\n",
       "      <th></th>\n",
       "      <th>region</th>\n",
       "      <th>npg</th>\n",
       "      <th>birth_rate</th>\n",
       "      <th>death_rate</th>\n",
       "      <th>gdw</th>\n",
       "      <th>urbanization</th>\n",
       "      <th>wine</th>\n",
       "      <th>beer</th>\n",
       "      <th>vodka</th>\n",
       "      <th>champagne</th>\n",
       "      <th>brandy</th>\n",
       "      <th>total_volume_mean</th>\n",
       "    </tr>\n",
       "  </thead>\n",
       "  <tbody>\n",
       "    <tr>\n",
       "      <th>0</th>\n",
       "      <td>Altai Krai</td>\n",
       "      <td>-3.41</td>\n",
       "      <td>11.32</td>\n",
       "      <td>14.82</td>\n",
       "      <td>65.87</td>\n",
       "      <td>54.18</td>\n",
       "      <td>3.17</td>\n",
       "      <td>48.37</td>\n",
       "      <td>9.47</td>\n",
       "      <td>1.21</td>\n",
       "      <td>0.24</td>\n",
       "      <td>62.46</td>\n",
       "    </tr>\n",
       "    <tr>\n",
       "      <th>1</th>\n",
       "      <td>Altai Republic</td>\n",
       "      <td>5.51</td>\n",
       "      <td>18.24</td>\n",
       "      <td>12.81</td>\n",
       "      <td>68.82</td>\n",
       "      <td>27.05</td>\n",
       "      <td>5.19</td>\n",
       "      <td>36.72</td>\n",
       "      <td>9.68</td>\n",
       "      <td>0.93</td>\n",
       "      <td>0.25</td>\n",
       "      <td>52.79</td>\n",
       "    </tr>\n",
       "    <tr>\n",
       "      <th>2</th>\n",
       "      <td>Amur Oblast</td>\n",
       "      <td>-2.41</td>\n",
       "      <td>12.43</td>\n",
       "      <td>14.96</td>\n",
       "      <td>60.80</td>\n",
       "      <td>66.60</td>\n",
       "      <td>5.22</td>\n",
       "      <td>53.38</td>\n",
       "      <td>14.22</td>\n",
       "      <td>1.12</td>\n",
       "      <td>0.40</td>\n",
       "      <td>74.33</td>\n",
       "    </tr>\n",
       "    <tr>\n",
       "      <th>3</th>\n",
       "      <td>Arkhangelsk Oblast</td>\n",
       "      <td>-3.92</td>\n",
       "      <td>11.17</td>\n",
       "      <td>15.16</td>\n",
       "      <td>63.21</td>\n",
       "      <td>75.45</td>\n",
       "      <td>8.67</td>\n",
       "      <td>47.04</td>\n",
       "      <td>17.38</td>\n",
       "      <td>1.63</td>\n",
       "      <td>0.87</td>\n",
       "      <td>75.59</td>\n",
       "    </tr>\n",
       "    <tr>\n",
       "      <th>4</th>\n",
       "      <td>Astrakhan Oblast</td>\n",
       "      <td>-0.93</td>\n",
       "      <td>12.83</td>\n",
       "      <td>13.72</td>\n",
       "      <td>65.41</td>\n",
       "      <td>67.28</td>\n",
       "      <td>4.47</td>\n",
       "      <td>54.70</td>\n",
       "      <td>9.30</td>\n",
       "      <td>0.86</td>\n",
       "      <td>0.36</td>\n",
       "      <td>69.68</td>\n",
       "    </tr>\n",
       "  </tbody>\n",
       "</table>\n",
       "</div>"
      ],
      "text/plain": [
       "               region   npg  birth_rate  death_rate   gdw  urbanization  wine  \\\n",
       "0          Altai Krai -3.41       11.32       14.82 65.87         54.18  3.17   \n",
       "1      Altai Republic  5.51       18.24       12.81 68.82         27.05  5.19   \n",
       "2         Amur Oblast -2.41       12.43       14.96 60.80         66.60  5.22   \n",
       "3  Arkhangelsk Oblast -3.92       11.17       15.16 63.21         75.45  8.67   \n",
       "4    Astrakhan Oblast -0.93       12.83       13.72 65.41         67.28  4.47   \n",
       "\n",
       "   beer  vodka  champagne  brandy  total_volume_mean  \n",
       "0 48.37   9.47       1.21    0.24              62.46  \n",
       "1 36.72   9.68       0.93    0.25              52.79  \n",
       "2 53.38  14.22       1.12    0.40              74.33  \n",
       "3 47.04  17.38       1.63    0.87              75.59  \n",
       "4 54.70   9.30       0.86    0.36              69.68  "
      ]
     },
     "execution_count": 152,
     "metadata": {},
     "output_type": "execute_result"
    }
   ],
   "source": [
    "df_region.head()"
   ]
  },
  {
   "cell_type": "code",
   "execution_count": 153,
   "id": "98764ce6",
   "metadata": {
    "scrolled": false
   },
   "outputs": [
    {
     "data": {
      "application/vnd.plotly.v1+json": {
       "config": {
        "plotlyServerURL": "https://plot.ly"
       },
       "data": [
        {
         "alignmentgroup": "True",
         "hovertemplate": "variable=wine<br>region=%{x}<br>value=%{y}<extra></extra>",
         "legendgroup": "wine",
         "marker": {
          "color": "#636efa",
          "pattern": {
           "shape": ""
          }
         },
         "name": "wine",
         "offsetgroup": "wine",
         "orientation": "v",
         "showlegend": true,
         "textposition": "auto",
         "type": "bar",
         "x": [
          "Altai Krai",
          "Altai Republic",
          "Amur Oblast",
          "Arkhangelsk Oblast",
          "Astrakhan Oblast",
          "Belgorod Oblast",
          "Bryansk Oblast",
          "Chelyabinsk Oblast",
          "Chukotka Autonomous Okrug",
          "Chuvash Republic",
          "Irkutsk Oblast",
          "Ivanovo Oblast",
          "Jewish Autonomous Oblast",
          "Kabardino-Balkar Republic",
          "Kaliningrad Oblast",
          "Kaluga Oblast",
          "Kamchatka Krai",
          "Karachay-Cherkess Republic",
          "Kemerovo Oblast",
          "Khabarovsk Krai",
          "Khanty–Mansi Autonomous Okrug – Yugra",
          "Kirov Oblast",
          "Komi Republic",
          "Kostroma Oblast",
          "Krasnodar Krai",
          "Krasnoyarsk Krai",
          "Kurgan Oblast",
          "Kursk Oblast",
          "Leningrad Oblast",
          "Lipetsk Oblast",
          "Magadan Oblast",
          "Mari El Republic",
          "Moscow",
          "Moscow Oblast",
          "Murmansk Oblast",
          "Nenets Autonomous Okrug",
          "Nizhny Novgorod Oblast",
          "Novgorod Oblast",
          "Novosibirsk Oblast",
          "Omsk Oblast",
          "Orenburg Oblast",
          "Oryol Oblast",
          "Penza Oblast",
          "Perm Krai",
          "Primorsky Krai",
          "Pskov Oblast",
          "Republic of Adygea",
          "Republic of Bashkortostan",
          "Republic of Buryatia",
          "Republic of Crimea",
          "Republic of Dagestan",
          "Republic of Ingushetia",
          "Republic of Kalmykia",
          "Republic of Karelia",
          "Republic of Khakassia",
          "Republic of Mordovia",
          "Republic of North Ossetia-Alania",
          "Republic of Tatarstan",
          "Rostov Oblast",
          "Ryazan Oblast",
          "Saint Petersburg",
          "Sakha (Yakutia) Republic",
          "Sakhalin Oblast",
          "Samara Oblast",
          "Saratov Oblast",
          "Sevastopol",
          "Smolensk Oblast",
          "Stavropol Krai",
          "Sverdlovsk Oblast",
          "Tambov Oblast",
          "Tomsk Oblast",
          "Tula Oblast",
          "Tuva Republic",
          "Tver Oblast",
          "Tyumen Oblast",
          "Udmurt Republic",
          "Ulyanovsk Oblast",
          "Vladimir Oblast",
          "Volgograd Oblast",
          "Vologda Oblast",
          "Voronezh Oblast",
          "Yamalo-Nenets Autonomous Okrug",
          "Yaroslavl Oblast",
          "Zabaykalsky Krai"
         ],
         "xaxis": "x",
         "y": [
          3.1742105263157896,
          5.19,
          5.221578947368421,
          8.67,
          4.469473684210526,
          3.3368421052631576,
          6.592631578947369,
          6.944210526315789,
          4.175263157894737,
          4.486315789473684,
          6.352631578947369,
          7.237368421052631,
          4.613684210526316,
          2.4242105263157896,
          7.635789473684211,
          5.787368421052631,
          7.278421052631579,
          2.1189473684210527,
          5.262105263157895,
          5.220526315789473,
          5.320526315789474,
          7.733157894736842,
          9.223684210526315,
          5.626842105263158,
          7.193157894736841,
          5.301052631578948,
          5.220000000000001,
          4.691052631578947,
          7.786315789473684,
          4.825263157894737,
          6.661578947368421,
          6.529999999999999,
          7.381578947368421,
          6.126315789473685,
          7.853684210526316,
          8.98578947368421,
          6.187368421052632,
          9.184736842105263,
          4.205263157894737,
          4.827368421052632,
          3.378947368421053,
          4.9526315789473685,
          6.635263157894737,
          6.13,
          4.2436842105263155,
          10.307894736842105,
          3.962631578947368,
          2.3968421052631577,
          4.779473684210527,
          4.033333333333334,
          2.635263157894737,
          7.45,
          3.4721052631578946,
          10.762105263157894,
          6.068947368421052,
          4.528947368421052,
          1.743157894736842,
          3.0584210526315787,
          4.5268421052631584,
          4.692631578947368,
          6.9526315789473685,
          4.74578947368421,
          6.2,
          4.3510526315789475,
          4.129473684210526,
          5.333333333333333,
          7.708947368421053,
          5.96157894736842,
          7.382631578947369,
          3.7089473684210525,
          6.700526315789474,
          4.728421052631579,
          2.4294736842105262,
          7.036315789473684,
          5.542105263157895,
          5.871052631578947,
          4.779473684210527,
          5.775263157894737,
          4.027368421052631,
          9.32842105263158,
          4.637894736842106,
          5.312105263157894,
          7.193157894736841,
          6.806315789473683
         ],
         "yaxis": "y"
        },
        {
         "alignmentgroup": "True",
         "hovertemplate": "variable=beer<br>region=%{x}<br>value=%{y}<extra></extra>",
         "legendgroup": "beer",
         "marker": {
          "color": "#EF553B",
          "pattern": {
           "shape": ""
          }
         },
         "name": "beer",
         "offsetgroup": "beer",
         "orientation": "v",
         "showlegend": true,
         "textposition": "auto",
         "type": "bar",
         "x": [
          "Altai Krai",
          "Altai Republic",
          "Amur Oblast",
          "Arkhangelsk Oblast",
          "Astrakhan Oblast",
          "Belgorod Oblast",
          "Bryansk Oblast",
          "Chelyabinsk Oblast",
          "Chukotka Autonomous Okrug",
          "Chuvash Republic",
          "Irkutsk Oblast",
          "Ivanovo Oblast",
          "Jewish Autonomous Oblast",
          "Kabardino-Balkar Republic",
          "Kaliningrad Oblast",
          "Kaluga Oblast",
          "Kamchatka Krai",
          "Karachay-Cherkess Republic",
          "Kemerovo Oblast",
          "Khabarovsk Krai",
          "Khanty–Mansi Autonomous Okrug – Yugra",
          "Kirov Oblast",
          "Komi Republic",
          "Kostroma Oblast",
          "Krasnodar Krai",
          "Krasnoyarsk Krai",
          "Kurgan Oblast",
          "Kursk Oblast",
          "Leningrad Oblast",
          "Lipetsk Oblast",
          "Magadan Oblast",
          "Mari El Republic",
          "Moscow",
          "Moscow Oblast",
          "Murmansk Oblast",
          "Nenets Autonomous Okrug",
          "Nizhny Novgorod Oblast",
          "Novgorod Oblast",
          "Novosibirsk Oblast",
          "Omsk Oblast",
          "Orenburg Oblast",
          "Oryol Oblast",
          "Penza Oblast",
          "Perm Krai",
          "Primorsky Krai",
          "Pskov Oblast",
          "Republic of Adygea",
          "Republic of Bashkortostan",
          "Republic of Buryatia",
          "Republic of Crimea",
          "Republic of Dagestan",
          "Republic of Ingushetia",
          "Republic of Kalmykia",
          "Republic of Karelia",
          "Republic of Khakassia",
          "Republic of Mordovia",
          "Republic of North Ossetia-Alania",
          "Republic of Tatarstan",
          "Rostov Oblast",
          "Ryazan Oblast",
          "Saint Petersburg",
          "Sakha (Yakutia) Republic",
          "Sakhalin Oblast",
          "Samara Oblast",
          "Saratov Oblast",
          "Sevastopol",
          "Smolensk Oblast",
          "Stavropol Krai",
          "Sverdlovsk Oblast",
          "Tambov Oblast",
          "Tomsk Oblast",
          "Tula Oblast",
          "Tuva Republic",
          "Tver Oblast",
          "Tyumen Oblast",
          "Udmurt Republic",
          "Ulyanovsk Oblast",
          "Vladimir Oblast",
          "Volgograd Oblast",
          "Vologda Oblast",
          "Voronezh Oblast",
          "Yamalo-Nenets Autonomous Okrug",
          "Yaroslavl Oblast",
          "Zabaykalsky Krai"
         ],
         "xaxis": "x",
         "y": [
          48.37315789473684,
          36.72421052631579,
          53.37736842105263,
          47.03684210526316,
          54.695263157894736,
          38.9878947368421,
          43.13315789473684,
          74.14736842105263,
          15.416315789473686,
          36.96631578947368,
          61.86263157894737,
          73.00105263157894,
          45.838421052631574,
          24.551578947368423,
          55.92368421052631,
          54.485789473684214,
          59.57210526315789,
          20.880526315789474,
          57.67736842105263,
          70.19157894736843,
          73.84526315789473,
          55.62894736842105,
          65.7442105263158,
          43.49421052631579,
          55.6121052631579,
          64.71789473684211,
          57.216315789473676,
          57.44684210526316,
          61,
          56.33789473684211,
          43.86842105263158,
          28.61526315789474,
          83.68842105263157,
          62.602105263157895,
          45.13473684210526,
          47.36526315789474,
          49.35631578947368,
          44.056315789473686,
          65.28052631578947,
          76.64368421052632,
          47.33052631578947,
          45.577894736842104,
          56.835263157894744,
          63.33210526315789,
          52.8378947368421,
          47.63,
          28.44315789473684,
          54.97210526315789,
          32.560526315789474,
          33.699999999999996,
          4.644210526315789,
          8.625,
          19.531578947368423,
          42.35473684210526,
          65.29473684210525,
          39.62263157894737,
          17.439473684210526,
          58.595263157894735,
          48.44684210526316,
          50.72263157894737,
          84.37526315789474,
          38.381052631578946,
          49.52210526315789,
          50.264736842105265,
          39.60526315789474,
          21.366666666666664,
          62.94368421052632,
          51.411578947368426,
          71.95894736842105,
          50.905789473684216,
          44.95263157894737,
          42.754210526315795,
          50.137368421052635,
          54.01105263157895,
          76.95,
          54.356842105263155,
          45.747368421052634,
          43.51789473684211,
          57.63315789473684,
          67.20684210526316,
          54.91105263157895,
          80.1378947368421,
          63.33157894736842,
          67.8121052631579
         ],
         "yaxis": "y"
        },
        {
         "alignmentgroup": "True",
         "hovertemplate": "variable=vodka<br>region=%{x}<br>value=%{y}<extra></extra>",
         "legendgroup": "vodka",
         "marker": {
          "color": "#00cc96",
          "pattern": {
           "shape": ""
          }
         },
         "name": "vodka",
         "offsetgroup": "vodka",
         "orientation": "v",
         "showlegend": true,
         "textposition": "auto",
         "type": "bar",
         "x": [
          "Altai Krai",
          "Altai Republic",
          "Amur Oblast",
          "Arkhangelsk Oblast",
          "Astrakhan Oblast",
          "Belgorod Oblast",
          "Bryansk Oblast",
          "Chelyabinsk Oblast",
          "Chukotka Autonomous Okrug",
          "Chuvash Republic",
          "Irkutsk Oblast",
          "Ivanovo Oblast",
          "Jewish Autonomous Oblast",
          "Kabardino-Balkar Republic",
          "Kaliningrad Oblast",
          "Kaluga Oblast",
          "Kamchatka Krai",
          "Karachay-Cherkess Republic",
          "Kemerovo Oblast",
          "Khabarovsk Krai",
          "Khanty–Mansi Autonomous Okrug – Yugra",
          "Kirov Oblast",
          "Komi Republic",
          "Kostroma Oblast",
          "Krasnodar Krai",
          "Krasnoyarsk Krai",
          "Kurgan Oblast",
          "Kursk Oblast",
          "Leningrad Oblast",
          "Lipetsk Oblast",
          "Magadan Oblast",
          "Mari El Republic",
          "Moscow",
          "Moscow Oblast",
          "Murmansk Oblast",
          "Nenets Autonomous Okrug",
          "Nizhny Novgorod Oblast",
          "Novgorod Oblast",
          "Novosibirsk Oblast",
          "Omsk Oblast",
          "Orenburg Oblast",
          "Oryol Oblast",
          "Penza Oblast",
          "Perm Krai",
          "Primorsky Krai",
          "Pskov Oblast",
          "Republic of Adygea",
          "Republic of Bashkortostan",
          "Republic of Buryatia",
          "Republic of Crimea",
          "Republic of Dagestan",
          "Republic of Ingushetia",
          "Republic of Kalmykia",
          "Republic of Karelia",
          "Republic of Khakassia",
          "Republic of Mordovia",
          "Republic of North Ossetia-Alania",
          "Republic of Tatarstan",
          "Rostov Oblast",
          "Ryazan Oblast",
          "Saint Petersburg",
          "Sakha (Yakutia) Republic",
          "Sakhalin Oblast",
          "Samara Oblast",
          "Saratov Oblast",
          "Sevastopol",
          "Smolensk Oblast",
          "Stavropol Krai",
          "Sverdlovsk Oblast",
          "Tambov Oblast",
          "Tomsk Oblast",
          "Tula Oblast",
          "Tuva Republic",
          "Tver Oblast",
          "Tyumen Oblast",
          "Udmurt Republic",
          "Ulyanovsk Oblast",
          "Vladimir Oblast",
          "Volgograd Oblast",
          "Vologda Oblast",
          "Voronezh Oblast",
          "Yamalo-Nenets Autonomous Okrug",
          "Yaroslavl Oblast",
          "Zabaykalsky Krai"
         ],
         "xaxis": "x",
         "y": [
          9.465789473684211,
          9.683684210526316,
          14.216842105263158,
          17.38105263157895,
          9.296842105263158,
          8.686842105263159,
          8.818947368421053,
          12.943684210526316,
          12.712631578947368,
          11.706842105263158,
          12.92,
          12.36,
          9.740526315789474,
          6.298947368421053,
          14.13421052631579,
          11.343157894736843,
          19.712105263157895,
          6.435263157894736,
          15.605263157894736,
          15.377368421052632,
          15.012105263157896,
          13.21,
          20.65421052631579,
          14.272105263157895,
          6.835263157894737,
          11.383157894736842,
          8.643157894736841,
          6.675263157894737,
          15.809473684210525,
          8.971052631578948,
          18.73315789473684,
          11.446315789473683,
          19.022105263157897,
          15.187368421052632,
          16.69473684210526,
          17.846842105263157,
          10.367368421052632,
          13.399473684210527,
          12.719473684210525,
          8.80421052631579,
          7.877894736842106,
          8.937368421052632,
          6.62578947368421,
          12.636842105263158,
          12.295263157894738,
          10.663157894736841,
          6.2894736842105265,
          9.908947368421053,
          13.76736842105263,
          4.266666666666667,
          6.714736842105263,
          4.125,
          8.866842105263158,
          15.354210526315791,
          12.14,
          9.72578947368421,
          4.897368421052631,
          13.42578947368421,
          6.093157894736842,
          9.816842105263158,
          11.821578947368423,
          13.387894736842105,
          18.179473684210528,
          8.226315789473684,
          7.644736842105263,
          5.3999999999999995,
          15.755789473684212,
          7.370526315789474,
          13.563684210526315,
          9.551578947368421,
          12.781052631578948,
          9.739473684210525,
          11.591052631578947,
          15.203157894736842,
          14.82578947368421,
          12.42,
          8.494210526315788,
          13.108421052631579,
          8.457368421052632,
          17.217894736842105,
          9.916315789473684,
          15.09315789473684,
          14.94421052631579,
          14.237368421052631
         ],
         "yaxis": "y"
        },
        {
         "alignmentgroup": "True",
         "hovertemplate": "variable=champagne<br>region=%{x}<br>value=%{y}<extra></extra>",
         "legendgroup": "champagne",
         "marker": {
          "color": "#ab63fa",
          "pattern": {
           "shape": ""
          }
         },
         "name": "champagne",
         "offsetgroup": "champagne",
         "orientation": "v",
         "showlegend": true,
         "textposition": "auto",
         "type": "bar",
         "x": [
          "Altai Krai",
          "Altai Republic",
          "Amur Oblast",
          "Arkhangelsk Oblast",
          "Astrakhan Oblast",
          "Belgorod Oblast",
          "Bryansk Oblast",
          "Chelyabinsk Oblast",
          "Chukotka Autonomous Okrug",
          "Chuvash Republic",
          "Irkutsk Oblast",
          "Ivanovo Oblast",
          "Jewish Autonomous Oblast",
          "Kabardino-Balkar Republic",
          "Kaliningrad Oblast",
          "Kaluga Oblast",
          "Kamchatka Krai",
          "Karachay-Cherkess Republic",
          "Kemerovo Oblast",
          "Khabarovsk Krai",
          "Khanty–Mansi Autonomous Okrug – Yugra",
          "Kirov Oblast",
          "Komi Republic",
          "Kostroma Oblast",
          "Krasnodar Krai",
          "Krasnoyarsk Krai",
          "Kurgan Oblast",
          "Kursk Oblast",
          "Leningrad Oblast",
          "Lipetsk Oblast",
          "Magadan Oblast",
          "Mari El Republic",
          "Moscow",
          "Moscow Oblast",
          "Murmansk Oblast",
          "Nenets Autonomous Okrug",
          "Nizhny Novgorod Oblast",
          "Novgorod Oblast",
          "Novosibirsk Oblast",
          "Omsk Oblast",
          "Orenburg Oblast",
          "Oryol Oblast",
          "Penza Oblast",
          "Perm Krai",
          "Primorsky Krai",
          "Pskov Oblast",
          "Republic of Adygea",
          "Republic of Bashkortostan",
          "Republic of Buryatia",
          "Republic of Crimea",
          "Republic of Dagestan",
          "Republic of Ingushetia",
          "Republic of Kalmykia",
          "Republic of Karelia",
          "Republic of Khakassia",
          "Republic of Mordovia",
          "Republic of North Ossetia-Alania",
          "Republic of Tatarstan",
          "Rostov Oblast",
          "Ryazan Oblast",
          "Saint Petersburg",
          "Sakha (Yakutia) Republic",
          "Sakhalin Oblast",
          "Samara Oblast",
          "Saratov Oblast",
          "Sevastopol",
          "Smolensk Oblast",
          "Stavropol Krai",
          "Sverdlovsk Oblast",
          "Tambov Oblast",
          "Tomsk Oblast",
          "Tula Oblast",
          "Tuva Republic",
          "Tver Oblast",
          "Tyumen Oblast",
          "Udmurt Republic",
          "Ulyanovsk Oblast",
          "Vladimir Oblast",
          "Volgograd Oblast",
          "Vologda Oblast",
          "Voronezh Oblast",
          "Yamalo-Nenets Autonomous Okrug",
          "Yaroslavl Oblast",
          "Zabaykalsky Krai"
         ],
         "xaxis": "x",
         "y": [
          1.2073684210526316,
          0.9347368421052632,
          1.1157894736842104,
          1.6310526315789475,
          0.8615789473684211,
          1.0726315789473684,
          0.9573684210526316,
          1.4652631578947368,
          2.057894736842105,
          0.81,
          1.3263157894736841,
          0.9457894736842105,
          0.9057894736842106,
          0.5710526315789474,
          1.5226315789473683,
          1.4778947368421054,
          2.736842105263158,
          0.31947368421052635,
          1.2094736842105263,
          1.9778947368421052,
          1.446842105263158,
          0.9905263157894737,
          1.6973684210526316,
          0.8831578947368421,
          1.3836842105263158,
          1.4436842105263157,
          0.8531578947368421,
          1.1068421052631578,
          2.090526315789474,
          1.016842105263158,
          2.934736842105263,
          0.7447368421052631,
          4.386315789473684,
          1.7036842105263157,
          2.406315789473684,
          1.9136842105263157,
          1.3568421052631578,
          1.3005263157894738,
          1.3189473684210526,
          0.951578947368421,
          0.8947368421052632,
          1.4084210526315788,
          0.7536842105263158,
          1.128421052631579,
          1.6536842105263159,
          1.173157894736842,
          1.0178947368421052,
          0.6657894736842106,
          0.661578947368421,
          1.3666666666666665,
          0.6410526315789473,
          0.925,
          0.7436842105263158,
          1.0615789473684212,
          1.361578947368421,
          0.6426315789473684,
          0.7673684210526316,
          0.8505263157894737,
          1.4736842105263157,
          1.326842105263158,
          2.4689473684210523,
          1.5089473684210528,
          2.420526315789474,
          1.4778947368421052,
          1.1678947368421053,
          1.9666666666666668,
          1.615263157894737,
          1.4636842105263157,
          1.3605263157894738,
          1.158421052631579,
          1.1752631578947368,
          1.2242105263157894,
          0.44578947368421057,
          1.6552631578947368,
          1.4263157894736842,
          0.7257894736842105,
          0.991578947368421,
          1.0726315789473684,
          1.708421052631579,
          0.8573684210526316,
          1.5,
          1.4857894736842105,
          1.2410526315789472,
          1.1142105263157895
         ],
         "yaxis": "y"
        },
        {
         "alignmentgroup": "True",
         "hovertemplate": "variable=brandy<br>region=%{x}<br>value=%{y}<extra></extra>",
         "legendgroup": "brandy",
         "marker": {
          "color": "#FFA15A",
          "pattern": {
           "shape": ""
          }
         },
         "name": "brandy",
         "offsetgroup": "brandy",
         "orientation": "v",
         "showlegend": true,
         "textposition": "auto",
         "type": "bar",
         "x": [
          "Altai Krai",
          "Altai Republic",
          "Amur Oblast",
          "Arkhangelsk Oblast",
          "Astrakhan Oblast",
          "Belgorod Oblast",
          "Bryansk Oblast",
          "Chelyabinsk Oblast",
          "Chukotka Autonomous Okrug",
          "Chuvash Republic",
          "Irkutsk Oblast",
          "Ivanovo Oblast",
          "Jewish Autonomous Oblast",
          "Kabardino-Balkar Republic",
          "Kaliningrad Oblast",
          "Kaluga Oblast",
          "Kamchatka Krai",
          "Karachay-Cherkess Republic",
          "Kemerovo Oblast",
          "Khabarovsk Krai",
          "Khanty–Mansi Autonomous Okrug – Yugra",
          "Kirov Oblast",
          "Komi Republic",
          "Kostroma Oblast",
          "Krasnodar Krai",
          "Krasnoyarsk Krai",
          "Kurgan Oblast",
          "Kursk Oblast",
          "Leningrad Oblast",
          "Lipetsk Oblast",
          "Magadan Oblast",
          "Mari El Republic",
          "Moscow",
          "Moscow Oblast",
          "Murmansk Oblast",
          "Nenets Autonomous Okrug",
          "Nizhny Novgorod Oblast",
          "Novgorod Oblast",
          "Novosibirsk Oblast",
          "Omsk Oblast",
          "Orenburg Oblast",
          "Oryol Oblast",
          "Penza Oblast",
          "Perm Krai",
          "Primorsky Krai",
          "Pskov Oblast",
          "Republic of Adygea",
          "Republic of Bashkortostan",
          "Republic of Buryatia",
          "Republic of Crimea",
          "Republic of Dagestan",
          "Republic of Ingushetia",
          "Republic of Kalmykia",
          "Republic of Karelia",
          "Republic of Khakassia",
          "Republic of Mordovia",
          "Republic of North Ossetia-Alania",
          "Republic of Tatarstan",
          "Rostov Oblast",
          "Ryazan Oblast",
          "Saint Petersburg",
          "Sakha (Yakutia) Republic",
          "Sakhalin Oblast",
          "Samara Oblast",
          "Saratov Oblast",
          "Sevastopol",
          "Smolensk Oblast",
          "Stavropol Krai",
          "Sverdlovsk Oblast",
          "Tambov Oblast",
          "Tomsk Oblast",
          "Tula Oblast",
          "Tuva Republic",
          "Tver Oblast",
          "Tyumen Oblast",
          "Udmurt Republic",
          "Ulyanovsk Oblast",
          "Vladimir Oblast",
          "Volgograd Oblast",
          "Vologda Oblast",
          "Voronezh Oblast",
          "Yamalo-Nenets Autonomous Okrug",
          "Yaroslavl Oblast",
          "Zabaykalsky Krai"
         ],
         "xaxis": "x",
         "y": [
          0.23684210526315788,
          0.2536842105263158,
          0.3968421052631579,
          0.8705263157894736,
          0.3610526315789474,
          0.25578947368421057,
          0.27,
          0.5605263157894737,
          0.9357894736842106,
          0.3242105263157895,
          0.5321052631578947,
          0.37105263157894736,
          0.3,
          0.3994736842105263,
          1.238421052631579,
          0.5347368421052632,
          1.2452631578947368,
          0.27578947368421053,
          0.4847368421052632,
          0.7047368421052632,
          0.9242105263157894,
          0.33421052631578946,
          0.81,
          0.31105263157894736,
          0.5326315789473683,
          0.5447368421052632,
          0.27473684210526317,
          0.3310526315789474,
          1.0221052631578948,
          0.31315789473684214,
          0.9894736842105264,
          0.308421052631579,
          1.2578947368421052,
          1.0005263157894737,
          1.1273684210526316,
          0.9394736842105263,
          0.4447368421052631,
          0.5821052631578948,
          0.43631578947368416,
          0.38105263157894737,
          0.2631578947368421,
          0.3931578947368421,
          0.2310526315789474,
          0.56,
          0.5536842105263158,
          0.43999999999999995,
          0.5078947368421053,
          0.25684210526315787,
          0.17210526315789473,
          0.9,
          0.27210526315789474,
          0.9,
          0.28,
          0.7368421052631579,
          0.603157894736842,
          0.2131578947368421,
          0.14,
          0.3257894736842106,
          0.4052631578947368,
          0.33157894736842103,
          1.1173684210526316,
          0.4605263157894737,
          0.9431578947368422,
          0.431578947368421,
          0.3673684210526316,
          1.1,
          0.506842105263158,
          0.5915789473684211,
          0.6894736842105263,
          0.3236842105263158,
          0.47105263157894733,
          0.3631578947368421,
          0.23526315789473684,
          0.5478947368421053,
          0.8415789473684211,
          0.3589473684210526,
          0.36473684210526314,
          0.42315789473684207,
          0.4368421052631579,
          0.5178947368421053,
          0.40210526315789474,
          0.9515789473684212,
          0.5710526315789474,
          0.4394736842105263
         ],
         "yaxis": "y"
        }
       ],
       "layout": {
        "barmode": "relative",
        "legend": {
         "title": {
          "text": "variable"
         },
         "tracegroupgap": 0
        },
        "margin": {
         "t": 60
        },
        "template": {
         "data": {
          "bar": [
           {
            "error_x": {
             "color": "#2a3f5f"
            },
            "error_y": {
             "color": "#2a3f5f"
            },
            "marker": {
             "line": {
              "color": "#E5ECF6",
              "width": 0.5
             },
             "pattern": {
              "fillmode": "overlay",
              "size": 10,
              "solidity": 0.2
             }
            },
            "type": "bar"
           }
          ],
          "barpolar": [
           {
            "marker": {
             "line": {
              "color": "#E5ECF6",
              "width": 0.5
             },
             "pattern": {
              "fillmode": "overlay",
              "size": 10,
              "solidity": 0.2
             }
            },
            "type": "barpolar"
           }
          ],
          "carpet": [
           {
            "aaxis": {
             "endlinecolor": "#2a3f5f",
             "gridcolor": "white",
             "linecolor": "white",
             "minorgridcolor": "white",
             "startlinecolor": "#2a3f5f"
            },
            "baxis": {
             "endlinecolor": "#2a3f5f",
             "gridcolor": "white",
             "linecolor": "white",
             "minorgridcolor": "white",
             "startlinecolor": "#2a3f5f"
            },
            "type": "carpet"
           }
          ],
          "choropleth": [
           {
            "colorbar": {
             "outlinewidth": 0,
             "ticks": ""
            },
            "type": "choropleth"
           }
          ],
          "contour": [
           {
            "colorbar": {
             "outlinewidth": 0,
             "ticks": ""
            },
            "colorscale": [
             [
              0,
              "#0d0887"
             ],
             [
              0.1111111111111111,
              "#46039f"
             ],
             [
              0.2222222222222222,
              "#7201a8"
             ],
             [
              0.3333333333333333,
              "#9c179e"
             ],
             [
              0.4444444444444444,
              "#bd3786"
             ],
             [
              0.5555555555555556,
              "#d8576b"
             ],
             [
              0.6666666666666666,
              "#ed7953"
             ],
             [
              0.7777777777777778,
              "#fb9f3a"
             ],
             [
              0.8888888888888888,
              "#fdca26"
             ],
             [
              1,
              "#f0f921"
             ]
            ],
            "type": "contour"
           }
          ],
          "contourcarpet": [
           {
            "colorbar": {
             "outlinewidth": 0,
             "ticks": ""
            },
            "type": "contourcarpet"
           }
          ],
          "heatmap": [
           {
            "colorbar": {
             "outlinewidth": 0,
             "ticks": ""
            },
            "colorscale": [
             [
              0,
              "#0d0887"
             ],
             [
              0.1111111111111111,
              "#46039f"
             ],
             [
              0.2222222222222222,
              "#7201a8"
             ],
             [
              0.3333333333333333,
              "#9c179e"
             ],
             [
              0.4444444444444444,
              "#bd3786"
             ],
             [
              0.5555555555555556,
              "#d8576b"
             ],
             [
              0.6666666666666666,
              "#ed7953"
             ],
             [
              0.7777777777777778,
              "#fb9f3a"
             ],
             [
              0.8888888888888888,
              "#fdca26"
             ],
             [
              1,
              "#f0f921"
             ]
            ],
            "type": "heatmap"
           }
          ],
          "heatmapgl": [
           {
            "colorbar": {
             "outlinewidth": 0,
             "ticks": ""
            },
            "colorscale": [
             [
              0,
              "#0d0887"
             ],
             [
              0.1111111111111111,
              "#46039f"
             ],
             [
              0.2222222222222222,
              "#7201a8"
             ],
             [
              0.3333333333333333,
              "#9c179e"
             ],
             [
              0.4444444444444444,
              "#bd3786"
             ],
             [
              0.5555555555555556,
              "#d8576b"
             ],
             [
              0.6666666666666666,
              "#ed7953"
             ],
             [
              0.7777777777777778,
              "#fb9f3a"
             ],
             [
              0.8888888888888888,
              "#fdca26"
             ],
             [
              1,
              "#f0f921"
             ]
            ],
            "type": "heatmapgl"
           }
          ],
          "histogram": [
           {
            "marker": {
             "pattern": {
              "fillmode": "overlay",
              "size": 10,
              "solidity": 0.2
             }
            },
            "type": "histogram"
           }
          ],
          "histogram2d": [
           {
            "colorbar": {
             "outlinewidth": 0,
             "ticks": ""
            },
            "colorscale": [
             [
              0,
              "#0d0887"
             ],
             [
              0.1111111111111111,
              "#46039f"
             ],
             [
              0.2222222222222222,
              "#7201a8"
             ],
             [
              0.3333333333333333,
              "#9c179e"
             ],
             [
              0.4444444444444444,
              "#bd3786"
             ],
             [
              0.5555555555555556,
              "#d8576b"
             ],
             [
              0.6666666666666666,
              "#ed7953"
             ],
             [
              0.7777777777777778,
              "#fb9f3a"
             ],
             [
              0.8888888888888888,
              "#fdca26"
             ],
             [
              1,
              "#f0f921"
             ]
            ],
            "type": "histogram2d"
           }
          ],
          "histogram2dcontour": [
           {
            "colorbar": {
             "outlinewidth": 0,
             "ticks": ""
            },
            "colorscale": [
             [
              0,
              "#0d0887"
             ],
             [
              0.1111111111111111,
              "#46039f"
             ],
             [
              0.2222222222222222,
              "#7201a8"
             ],
             [
              0.3333333333333333,
              "#9c179e"
             ],
             [
              0.4444444444444444,
              "#bd3786"
             ],
             [
              0.5555555555555556,
              "#d8576b"
             ],
             [
              0.6666666666666666,
              "#ed7953"
             ],
             [
              0.7777777777777778,
              "#fb9f3a"
             ],
             [
              0.8888888888888888,
              "#fdca26"
             ],
             [
              1,
              "#f0f921"
             ]
            ],
            "type": "histogram2dcontour"
           }
          ],
          "mesh3d": [
           {
            "colorbar": {
             "outlinewidth": 0,
             "ticks": ""
            },
            "type": "mesh3d"
           }
          ],
          "parcoords": [
           {
            "line": {
             "colorbar": {
              "outlinewidth": 0,
              "ticks": ""
             }
            },
            "type": "parcoords"
           }
          ],
          "pie": [
           {
            "automargin": true,
            "type": "pie"
           }
          ],
          "scatter": [
           {
            "marker": {
             "colorbar": {
              "outlinewidth": 0,
              "ticks": ""
             }
            },
            "type": "scatter"
           }
          ],
          "scatter3d": [
           {
            "line": {
             "colorbar": {
              "outlinewidth": 0,
              "ticks": ""
             }
            },
            "marker": {
             "colorbar": {
              "outlinewidth": 0,
              "ticks": ""
             }
            },
            "type": "scatter3d"
           }
          ],
          "scattercarpet": [
           {
            "marker": {
             "colorbar": {
              "outlinewidth": 0,
              "ticks": ""
             }
            },
            "type": "scattercarpet"
           }
          ],
          "scattergeo": [
           {
            "marker": {
             "colorbar": {
              "outlinewidth": 0,
              "ticks": ""
             }
            },
            "type": "scattergeo"
           }
          ],
          "scattergl": [
           {
            "marker": {
             "colorbar": {
              "outlinewidth": 0,
              "ticks": ""
             }
            },
            "type": "scattergl"
           }
          ],
          "scattermapbox": [
           {
            "marker": {
             "colorbar": {
              "outlinewidth": 0,
              "ticks": ""
             }
            },
            "type": "scattermapbox"
           }
          ],
          "scatterpolar": [
           {
            "marker": {
             "colorbar": {
              "outlinewidth": 0,
              "ticks": ""
             }
            },
            "type": "scatterpolar"
           }
          ],
          "scatterpolargl": [
           {
            "marker": {
             "colorbar": {
              "outlinewidth": 0,
              "ticks": ""
             }
            },
            "type": "scatterpolargl"
           }
          ],
          "scatterternary": [
           {
            "marker": {
             "colorbar": {
              "outlinewidth": 0,
              "ticks": ""
             }
            },
            "type": "scatterternary"
           }
          ],
          "surface": [
           {
            "colorbar": {
             "outlinewidth": 0,
             "ticks": ""
            },
            "colorscale": [
             [
              0,
              "#0d0887"
             ],
             [
              0.1111111111111111,
              "#46039f"
             ],
             [
              0.2222222222222222,
              "#7201a8"
             ],
             [
              0.3333333333333333,
              "#9c179e"
             ],
             [
              0.4444444444444444,
              "#bd3786"
             ],
             [
              0.5555555555555556,
              "#d8576b"
             ],
             [
              0.6666666666666666,
              "#ed7953"
             ],
             [
              0.7777777777777778,
              "#fb9f3a"
             ],
             [
              0.8888888888888888,
              "#fdca26"
             ],
             [
              1,
              "#f0f921"
             ]
            ],
            "type": "surface"
           }
          ],
          "table": [
           {
            "cells": {
             "fill": {
              "color": "#EBF0F8"
             },
             "line": {
              "color": "white"
             }
            },
            "header": {
             "fill": {
              "color": "#C8D4E3"
             },
             "line": {
              "color": "white"
             }
            },
            "type": "table"
           }
          ]
         },
         "layout": {
          "annotationdefaults": {
           "arrowcolor": "#2a3f5f",
           "arrowhead": 0,
           "arrowwidth": 1
          },
          "autotypenumbers": "strict",
          "coloraxis": {
           "colorbar": {
            "outlinewidth": 0,
            "ticks": ""
           }
          },
          "colorscale": {
           "diverging": [
            [
             0,
             "#8e0152"
            ],
            [
             0.1,
             "#c51b7d"
            ],
            [
             0.2,
             "#de77ae"
            ],
            [
             0.3,
             "#f1b6da"
            ],
            [
             0.4,
             "#fde0ef"
            ],
            [
             0.5,
             "#f7f7f7"
            ],
            [
             0.6,
             "#e6f5d0"
            ],
            [
             0.7,
             "#b8e186"
            ],
            [
             0.8,
             "#7fbc41"
            ],
            [
             0.9,
             "#4d9221"
            ],
            [
             1,
             "#276419"
            ]
           ],
           "sequential": [
            [
             0,
             "#0d0887"
            ],
            [
             0.1111111111111111,
             "#46039f"
            ],
            [
             0.2222222222222222,
             "#7201a8"
            ],
            [
             0.3333333333333333,
             "#9c179e"
            ],
            [
             0.4444444444444444,
             "#bd3786"
            ],
            [
             0.5555555555555556,
             "#d8576b"
            ],
            [
             0.6666666666666666,
             "#ed7953"
            ],
            [
             0.7777777777777778,
             "#fb9f3a"
            ],
            [
             0.8888888888888888,
             "#fdca26"
            ],
            [
             1,
             "#f0f921"
            ]
           ],
           "sequentialminus": [
            [
             0,
             "#0d0887"
            ],
            [
             0.1111111111111111,
             "#46039f"
            ],
            [
             0.2222222222222222,
             "#7201a8"
            ],
            [
             0.3333333333333333,
             "#9c179e"
            ],
            [
             0.4444444444444444,
             "#bd3786"
            ],
            [
             0.5555555555555556,
             "#d8576b"
            ],
            [
             0.6666666666666666,
             "#ed7953"
            ],
            [
             0.7777777777777778,
             "#fb9f3a"
            ],
            [
             0.8888888888888888,
             "#fdca26"
            ],
            [
             1,
             "#f0f921"
            ]
           ]
          },
          "colorway": [
           "#636efa",
           "#EF553B",
           "#00cc96",
           "#ab63fa",
           "#FFA15A",
           "#19d3f3",
           "#FF6692",
           "#B6E880",
           "#FF97FF",
           "#FECB52"
          ],
          "font": {
           "color": "#2a3f5f"
          },
          "geo": {
           "bgcolor": "white",
           "lakecolor": "white",
           "landcolor": "#E5ECF6",
           "showlakes": true,
           "showland": true,
           "subunitcolor": "white"
          },
          "hoverlabel": {
           "align": "left"
          },
          "hovermode": "closest",
          "mapbox": {
           "style": "light"
          },
          "paper_bgcolor": "white",
          "plot_bgcolor": "#E5ECF6",
          "polar": {
           "angularaxis": {
            "gridcolor": "white",
            "linecolor": "white",
            "ticks": ""
           },
           "bgcolor": "#E5ECF6",
           "radialaxis": {
            "gridcolor": "white",
            "linecolor": "white",
            "ticks": ""
           }
          },
          "scene": {
           "xaxis": {
            "backgroundcolor": "#E5ECF6",
            "gridcolor": "white",
            "gridwidth": 2,
            "linecolor": "white",
            "showbackground": true,
            "ticks": "",
            "zerolinecolor": "white"
           },
           "yaxis": {
            "backgroundcolor": "#E5ECF6",
            "gridcolor": "white",
            "gridwidth": 2,
            "linecolor": "white",
            "showbackground": true,
            "ticks": "",
            "zerolinecolor": "white"
           },
           "zaxis": {
            "backgroundcolor": "#E5ECF6",
            "gridcolor": "white",
            "gridwidth": 2,
            "linecolor": "white",
            "showbackground": true,
            "ticks": "",
            "zerolinecolor": "white"
           }
          },
          "shapedefaults": {
           "line": {
            "color": "#2a3f5f"
           }
          },
          "ternary": {
           "aaxis": {
            "gridcolor": "white",
            "linecolor": "white",
            "ticks": ""
           },
           "baxis": {
            "gridcolor": "white",
            "linecolor": "white",
            "ticks": ""
           },
           "bgcolor": "#E5ECF6",
           "caxis": {
            "gridcolor": "white",
            "linecolor": "white",
            "ticks": ""
           }
          },
          "title": {
           "x": 0.05
          },
          "xaxis": {
           "automargin": true,
           "gridcolor": "white",
           "linecolor": "white",
           "ticks": "",
           "title": {
            "standoff": 15
           },
           "zerolinecolor": "white",
           "zerolinewidth": 2
          },
          "yaxis": {
           "automargin": true,
           "gridcolor": "white",
           "linecolor": "white",
           "ticks": "",
           "title": {
            "standoff": 15
           },
           "zerolinecolor": "white",
           "zerolinewidth": 2
          }
         }
        },
        "xaxis": {
         "anchor": "y",
         "categoryorder": "total descending",
         "domain": [
          0,
          1
         ],
         "title": {
          "text": "region"
         }
        },
        "yaxis": {
         "anchor": "x",
         "domain": [
          0,
          1
         ],
         "title": {
          "text": "value"
         }
        }
       }
      },
      "text/html": [
       "<div>                            <div id=\"f6e33301-abd7-4001-a5d5-5c852abd46fd\" class=\"plotly-graph-div\" style=\"height:525px; width:100%;\"></div>            <script type=\"text/javascript\">                require([\"plotly\"], function(Plotly) {                    window.PLOTLYENV=window.PLOTLYENV || {};                                    if (document.getElementById(\"f6e33301-abd7-4001-a5d5-5c852abd46fd\")) {                    Plotly.newPlot(                        \"f6e33301-abd7-4001-a5d5-5c852abd46fd\",                        [{\"alignmentgroup\":\"True\",\"hovertemplate\":\"variable=wine<br>region=%{x}<br>value=%{y}<extra></extra>\",\"legendgroup\":\"wine\",\"marker\":{\"color\":\"#636efa\",\"pattern\":{\"shape\":\"\"}},\"name\":\"wine\",\"offsetgroup\":\"wine\",\"orientation\":\"v\",\"showlegend\":true,\"textposition\":\"auto\",\"x\":[\"Altai Krai\",\"Altai Republic\",\"Amur Oblast\",\"Arkhangelsk Oblast\",\"Astrakhan Oblast\",\"Belgorod Oblast\",\"Bryansk Oblast\",\"Chelyabinsk Oblast\",\"Chukotka Autonomous Okrug\",\"Chuvash Republic\",\"Irkutsk Oblast\",\"Ivanovo Oblast\",\"Jewish Autonomous Oblast\",\"Kabardino-Balkar Republic\",\"Kaliningrad Oblast\",\"Kaluga Oblast\",\"Kamchatka Krai\",\"Karachay-Cherkess Republic\",\"Kemerovo Oblast\",\"Khabarovsk Krai\",\"Khanty\\u2013Mansi Autonomous Okrug \\u2013 Yugra\",\"Kirov Oblast\",\"Komi Republic\",\"Kostroma Oblast\",\"Krasnodar Krai\",\"Krasnoyarsk Krai\",\"Kurgan Oblast\",\"Kursk Oblast\",\"Leningrad Oblast\",\"Lipetsk Oblast\",\"Magadan Oblast\",\"Mari El Republic\",\"Moscow\",\"Moscow Oblast\",\"Murmansk Oblast\",\"Nenets Autonomous Okrug\",\"Nizhny Novgorod Oblast\",\"Novgorod Oblast\",\"Novosibirsk Oblast\",\"Omsk Oblast\",\"Orenburg Oblast\",\"Oryol Oblast\",\"Penza Oblast\",\"Perm Krai\",\"Primorsky Krai\",\"Pskov Oblast\",\"Republic of Adygea\",\"Republic of Bashkortostan\",\"Republic of Buryatia\",\"Republic of Crimea\",\"Republic of Dagestan\",\"Republic of Ingushetia\",\"Republic of Kalmykia\",\"Republic of Karelia\",\"Republic of Khakassia\",\"Republic of Mordovia\",\"Republic of North Ossetia-Alania\",\"Republic of Tatarstan\",\"Rostov Oblast\",\"Ryazan Oblast\",\"Saint Petersburg\",\"Sakha (Yakutia) Republic\",\"Sakhalin Oblast\",\"Samara Oblast\",\"Saratov Oblast\",\"Sevastopol\",\"Smolensk Oblast\",\"Stavropol Krai\",\"Sverdlovsk Oblast\",\"Tambov Oblast\",\"Tomsk Oblast\",\"Tula Oblast\",\"Tuva Republic\",\"Tver Oblast\",\"Tyumen Oblast\",\"Udmurt Republic\",\"Ulyanovsk Oblast\",\"Vladimir Oblast\",\"Volgograd Oblast\",\"Vologda Oblast\",\"Voronezh Oblast\",\"Yamalo-Nenets Autonomous Okrug\",\"Yaroslavl Oblast\",\"Zabaykalsky Krai\"],\"xaxis\":\"x\",\"y\":[3.1742105263157896,5.19,5.221578947368421,8.67,4.469473684210526,3.3368421052631576,6.592631578947369,6.944210526315789,4.175263157894737,4.486315789473684,6.352631578947369,7.237368421052631,4.613684210526316,2.4242105263157896,7.635789473684211,5.787368421052631,7.278421052631579,2.1189473684210527,5.262105263157895,5.220526315789473,5.320526315789474,7.733157894736842,9.223684210526315,5.626842105263158,7.193157894736841,5.301052631578948,5.220000000000001,4.691052631578947,7.786315789473684,4.825263157894737,6.661578947368421,6.529999999999999,7.381578947368421,6.126315789473685,7.853684210526316,8.98578947368421,6.187368421052632,9.184736842105263,4.205263157894737,4.827368421052632,3.378947368421053,4.9526315789473685,6.635263157894737,6.13,4.2436842105263155,10.307894736842105,3.962631578947368,2.3968421052631577,4.779473684210527,4.033333333333334,2.635263157894737,7.45,3.4721052631578946,10.762105263157894,6.068947368421052,4.528947368421052,1.743157894736842,3.0584210526315787,4.5268421052631584,4.692631578947368,6.9526315789473685,4.74578947368421,6.2,4.3510526315789475,4.129473684210526,5.333333333333333,7.708947368421053,5.96157894736842,7.382631578947369,3.7089473684210525,6.700526315789474,4.728421052631579,2.4294736842105262,7.036315789473684,5.542105263157895,5.871052631578947,4.779473684210527,5.775263157894737,4.027368421052631,9.32842105263158,4.637894736842106,5.312105263157894,7.193157894736841,6.806315789473683],\"yaxis\":\"y\",\"type\":\"bar\"},{\"alignmentgroup\":\"True\",\"hovertemplate\":\"variable=beer<br>region=%{x}<br>value=%{y}<extra></extra>\",\"legendgroup\":\"beer\",\"marker\":{\"color\":\"#EF553B\",\"pattern\":{\"shape\":\"\"}},\"name\":\"beer\",\"offsetgroup\":\"beer\",\"orientation\":\"v\",\"showlegend\":true,\"textposition\":\"auto\",\"x\":[\"Altai Krai\",\"Altai Republic\",\"Amur Oblast\",\"Arkhangelsk Oblast\",\"Astrakhan Oblast\",\"Belgorod Oblast\",\"Bryansk Oblast\",\"Chelyabinsk Oblast\",\"Chukotka Autonomous Okrug\",\"Chuvash Republic\",\"Irkutsk Oblast\",\"Ivanovo Oblast\",\"Jewish Autonomous Oblast\",\"Kabardino-Balkar Republic\",\"Kaliningrad Oblast\",\"Kaluga Oblast\",\"Kamchatka Krai\",\"Karachay-Cherkess Republic\",\"Kemerovo Oblast\",\"Khabarovsk Krai\",\"Khanty\\u2013Mansi Autonomous Okrug \\u2013 Yugra\",\"Kirov Oblast\",\"Komi Republic\",\"Kostroma Oblast\",\"Krasnodar Krai\",\"Krasnoyarsk Krai\",\"Kurgan Oblast\",\"Kursk Oblast\",\"Leningrad Oblast\",\"Lipetsk Oblast\",\"Magadan Oblast\",\"Mari El Republic\",\"Moscow\",\"Moscow Oblast\",\"Murmansk Oblast\",\"Nenets Autonomous Okrug\",\"Nizhny Novgorod Oblast\",\"Novgorod Oblast\",\"Novosibirsk Oblast\",\"Omsk Oblast\",\"Orenburg Oblast\",\"Oryol Oblast\",\"Penza Oblast\",\"Perm Krai\",\"Primorsky Krai\",\"Pskov Oblast\",\"Republic of Adygea\",\"Republic of Bashkortostan\",\"Republic of Buryatia\",\"Republic of Crimea\",\"Republic of Dagestan\",\"Republic of Ingushetia\",\"Republic of Kalmykia\",\"Republic of Karelia\",\"Republic of Khakassia\",\"Republic of Mordovia\",\"Republic of North Ossetia-Alania\",\"Republic of Tatarstan\",\"Rostov Oblast\",\"Ryazan Oblast\",\"Saint Petersburg\",\"Sakha (Yakutia) Republic\",\"Sakhalin Oblast\",\"Samara Oblast\",\"Saratov Oblast\",\"Sevastopol\",\"Smolensk Oblast\",\"Stavropol Krai\",\"Sverdlovsk Oblast\",\"Tambov Oblast\",\"Tomsk Oblast\",\"Tula Oblast\",\"Tuva Republic\",\"Tver Oblast\",\"Tyumen Oblast\",\"Udmurt Republic\",\"Ulyanovsk Oblast\",\"Vladimir Oblast\",\"Volgograd Oblast\",\"Vologda Oblast\",\"Voronezh Oblast\",\"Yamalo-Nenets Autonomous Okrug\",\"Yaroslavl Oblast\",\"Zabaykalsky Krai\"],\"xaxis\":\"x\",\"y\":[48.37315789473684,36.72421052631579,53.37736842105263,47.03684210526316,54.695263157894736,38.9878947368421,43.13315789473684,74.14736842105263,15.416315789473686,36.96631578947368,61.86263157894737,73.00105263157894,45.838421052631574,24.551578947368423,55.92368421052631,54.485789473684214,59.57210526315789,20.880526315789474,57.67736842105263,70.19157894736843,73.84526315789473,55.62894736842105,65.7442105263158,43.49421052631579,55.6121052631579,64.71789473684211,57.216315789473676,57.44684210526316,61.0,56.33789473684211,43.86842105263158,28.61526315789474,83.68842105263157,62.602105263157895,45.13473684210526,47.36526315789474,49.35631578947368,44.056315789473686,65.28052631578947,76.64368421052632,47.33052631578947,45.577894736842104,56.835263157894744,63.33210526315789,52.8378947368421,47.63,28.44315789473684,54.97210526315789,32.560526315789474,33.699999999999996,4.644210526315789,8.625,19.531578947368423,42.35473684210526,65.29473684210525,39.62263157894737,17.439473684210526,58.595263157894735,48.44684210526316,50.72263157894737,84.37526315789474,38.381052631578946,49.52210526315789,50.264736842105265,39.60526315789474,21.366666666666664,62.94368421052632,51.411578947368426,71.95894736842105,50.905789473684216,44.95263157894737,42.754210526315795,50.137368421052635,54.01105263157895,76.95,54.356842105263155,45.747368421052634,43.51789473684211,57.63315789473684,67.20684210526316,54.91105263157895,80.1378947368421,63.33157894736842,67.8121052631579],\"yaxis\":\"y\",\"type\":\"bar\"},{\"alignmentgroup\":\"True\",\"hovertemplate\":\"variable=vodka<br>region=%{x}<br>value=%{y}<extra></extra>\",\"legendgroup\":\"vodka\",\"marker\":{\"color\":\"#00cc96\",\"pattern\":{\"shape\":\"\"}},\"name\":\"vodka\",\"offsetgroup\":\"vodka\",\"orientation\":\"v\",\"showlegend\":true,\"textposition\":\"auto\",\"x\":[\"Altai Krai\",\"Altai Republic\",\"Amur Oblast\",\"Arkhangelsk Oblast\",\"Astrakhan Oblast\",\"Belgorod Oblast\",\"Bryansk Oblast\",\"Chelyabinsk Oblast\",\"Chukotka Autonomous Okrug\",\"Chuvash Republic\",\"Irkutsk Oblast\",\"Ivanovo Oblast\",\"Jewish Autonomous Oblast\",\"Kabardino-Balkar Republic\",\"Kaliningrad Oblast\",\"Kaluga Oblast\",\"Kamchatka Krai\",\"Karachay-Cherkess Republic\",\"Kemerovo Oblast\",\"Khabarovsk Krai\",\"Khanty\\u2013Mansi Autonomous Okrug \\u2013 Yugra\",\"Kirov Oblast\",\"Komi Republic\",\"Kostroma Oblast\",\"Krasnodar Krai\",\"Krasnoyarsk Krai\",\"Kurgan Oblast\",\"Kursk Oblast\",\"Leningrad Oblast\",\"Lipetsk Oblast\",\"Magadan Oblast\",\"Mari El Republic\",\"Moscow\",\"Moscow Oblast\",\"Murmansk Oblast\",\"Nenets Autonomous Okrug\",\"Nizhny Novgorod Oblast\",\"Novgorod Oblast\",\"Novosibirsk Oblast\",\"Omsk Oblast\",\"Orenburg Oblast\",\"Oryol Oblast\",\"Penza Oblast\",\"Perm Krai\",\"Primorsky Krai\",\"Pskov Oblast\",\"Republic of Adygea\",\"Republic of Bashkortostan\",\"Republic of Buryatia\",\"Republic of Crimea\",\"Republic of Dagestan\",\"Republic of Ingushetia\",\"Republic of Kalmykia\",\"Republic of Karelia\",\"Republic of Khakassia\",\"Republic of Mordovia\",\"Republic of North Ossetia-Alania\",\"Republic of Tatarstan\",\"Rostov Oblast\",\"Ryazan Oblast\",\"Saint Petersburg\",\"Sakha (Yakutia) Republic\",\"Sakhalin Oblast\",\"Samara Oblast\",\"Saratov Oblast\",\"Sevastopol\",\"Smolensk Oblast\",\"Stavropol Krai\",\"Sverdlovsk Oblast\",\"Tambov Oblast\",\"Tomsk Oblast\",\"Tula Oblast\",\"Tuva Republic\",\"Tver Oblast\",\"Tyumen Oblast\",\"Udmurt Republic\",\"Ulyanovsk Oblast\",\"Vladimir Oblast\",\"Volgograd Oblast\",\"Vologda Oblast\",\"Voronezh Oblast\",\"Yamalo-Nenets Autonomous Okrug\",\"Yaroslavl Oblast\",\"Zabaykalsky Krai\"],\"xaxis\":\"x\",\"y\":[9.465789473684211,9.683684210526316,14.216842105263158,17.38105263157895,9.296842105263158,8.686842105263159,8.818947368421053,12.943684210526316,12.712631578947368,11.706842105263158,12.92,12.36,9.740526315789474,6.298947368421053,14.13421052631579,11.343157894736843,19.712105263157895,6.435263157894736,15.605263157894736,15.377368421052632,15.012105263157896,13.21,20.65421052631579,14.272105263157895,6.835263157894737,11.383157894736842,8.643157894736841,6.675263157894737,15.809473684210525,8.971052631578948,18.73315789473684,11.446315789473683,19.022105263157897,15.187368421052632,16.69473684210526,17.846842105263157,10.367368421052632,13.399473684210527,12.719473684210525,8.80421052631579,7.877894736842106,8.937368421052632,6.62578947368421,12.636842105263158,12.295263157894738,10.663157894736841,6.2894736842105265,9.908947368421053,13.76736842105263,4.266666666666667,6.714736842105263,4.125,8.866842105263158,15.354210526315791,12.14,9.72578947368421,4.897368421052631,13.42578947368421,6.093157894736842,9.816842105263158,11.821578947368423,13.387894736842105,18.179473684210528,8.226315789473684,7.644736842105263,5.3999999999999995,15.755789473684212,7.370526315789474,13.563684210526315,9.551578947368421,12.781052631578948,9.739473684210525,11.591052631578947,15.203157894736842,14.82578947368421,12.42,8.494210526315788,13.108421052631579,8.457368421052632,17.217894736842105,9.916315789473684,15.09315789473684,14.94421052631579,14.237368421052631],\"yaxis\":\"y\",\"type\":\"bar\"},{\"alignmentgroup\":\"True\",\"hovertemplate\":\"variable=champagne<br>region=%{x}<br>value=%{y}<extra></extra>\",\"legendgroup\":\"champagne\",\"marker\":{\"color\":\"#ab63fa\",\"pattern\":{\"shape\":\"\"}},\"name\":\"champagne\",\"offsetgroup\":\"champagne\",\"orientation\":\"v\",\"showlegend\":true,\"textposition\":\"auto\",\"x\":[\"Altai Krai\",\"Altai Republic\",\"Amur Oblast\",\"Arkhangelsk Oblast\",\"Astrakhan Oblast\",\"Belgorod Oblast\",\"Bryansk Oblast\",\"Chelyabinsk Oblast\",\"Chukotka Autonomous Okrug\",\"Chuvash Republic\",\"Irkutsk Oblast\",\"Ivanovo Oblast\",\"Jewish Autonomous Oblast\",\"Kabardino-Balkar Republic\",\"Kaliningrad Oblast\",\"Kaluga Oblast\",\"Kamchatka Krai\",\"Karachay-Cherkess Republic\",\"Kemerovo Oblast\",\"Khabarovsk Krai\",\"Khanty\\u2013Mansi Autonomous Okrug \\u2013 Yugra\",\"Kirov Oblast\",\"Komi Republic\",\"Kostroma Oblast\",\"Krasnodar Krai\",\"Krasnoyarsk Krai\",\"Kurgan Oblast\",\"Kursk Oblast\",\"Leningrad Oblast\",\"Lipetsk Oblast\",\"Magadan Oblast\",\"Mari El Republic\",\"Moscow\",\"Moscow Oblast\",\"Murmansk Oblast\",\"Nenets Autonomous Okrug\",\"Nizhny Novgorod Oblast\",\"Novgorod Oblast\",\"Novosibirsk Oblast\",\"Omsk Oblast\",\"Orenburg Oblast\",\"Oryol Oblast\",\"Penza Oblast\",\"Perm Krai\",\"Primorsky Krai\",\"Pskov Oblast\",\"Republic of Adygea\",\"Republic of Bashkortostan\",\"Republic of Buryatia\",\"Republic of Crimea\",\"Republic of Dagestan\",\"Republic of Ingushetia\",\"Republic of Kalmykia\",\"Republic of Karelia\",\"Republic of Khakassia\",\"Republic of Mordovia\",\"Republic of North Ossetia-Alania\",\"Republic of Tatarstan\",\"Rostov Oblast\",\"Ryazan Oblast\",\"Saint Petersburg\",\"Sakha (Yakutia) Republic\",\"Sakhalin Oblast\",\"Samara Oblast\",\"Saratov Oblast\",\"Sevastopol\",\"Smolensk Oblast\",\"Stavropol Krai\",\"Sverdlovsk Oblast\",\"Tambov Oblast\",\"Tomsk Oblast\",\"Tula Oblast\",\"Tuva Republic\",\"Tver Oblast\",\"Tyumen Oblast\",\"Udmurt Republic\",\"Ulyanovsk Oblast\",\"Vladimir Oblast\",\"Volgograd Oblast\",\"Vologda Oblast\",\"Voronezh Oblast\",\"Yamalo-Nenets Autonomous Okrug\",\"Yaroslavl Oblast\",\"Zabaykalsky Krai\"],\"xaxis\":\"x\",\"y\":[1.2073684210526316,0.9347368421052632,1.1157894736842104,1.6310526315789475,0.8615789473684211,1.0726315789473684,0.9573684210526316,1.4652631578947368,2.057894736842105,0.81,1.3263157894736841,0.9457894736842105,0.9057894736842106,0.5710526315789474,1.5226315789473683,1.4778947368421054,2.736842105263158,0.31947368421052635,1.2094736842105263,1.9778947368421052,1.446842105263158,0.9905263157894737,1.6973684210526316,0.8831578947368421,1.3836842105263158,1.4436842105263157,0.8531578947368421,1.1068421052631578,2.090526315789474,1.016842105263158,2.934736842105263,0.7447368421052631,4.386315789473684,1.7036842105263157,2.406315789473684,1.9136842105263157,1.3568421052631578,1.3005263157894738,1.3189473684210526,0.951578947368421,0.8947368421052632,1.4084210526315788,0.7536842105263158,1.128421052631579,1.6536842105263159,1.173157894736842,1.0178947368421052,0.6657894736842106,0.661578947368421,1.3666666666666665,0.6410526315789473,0.925,0.7436842105263158,1.0615789473684212,1.361578947368421,0.6426315789473684,0.7673684210526316,0.8505263157894737,1.4736842105263157,1.326842105263158,2.4689473684210523,1.5089473684210528,2.420526315789474,1.4778947368421052,1.1678947368421053,1.9666666666666668,1.615263157894737,1.4636842105263157,1.3605263157894738,1.158421052631579,1.1752631578947368,1.2242105263157894,0.44578947368421057,1.6552631578947368,1.4263157894736842,0.7257894736842105,0.991578947368421,1.0726315789473684,1.708421052631579,0.8573684210526316,1.5,1.4857894736842105,1.2410526315789472,1.1142105263157895],\"yaxis\":\"y\",\"type\":\"bar\"},{\"alignmentgroup\":\"True\",\"hovertemplate\":\"variable=brandy<br>region=%{x}<br>value=%{y}<extra></extra>\",\"legendgroup\":\"brandy\",\"marker\":{\"color\":\"#FFA15A\",\"pattern\":{\"shape\":\"\"}},\"name\":\"brandy\",\"offsetgroup\":\"brandy\",\"orientation\":\"v\",\"showlegend\":true,\"textposition\":\"auto\",\"x\":[\"Altai Krai\",\"Altai Republic\",\"Amur Oblast\",\"Arkhangelsk Oblast\",\"Astrakhan Oblast\",\"Belgorod Oblast\",\"Bryansk Oblast\",\"Chelyabinsk Oblast\",\"Chukotka Autonomous Okrug\",\"Chuvash Republic\",\"Irkutsk Oblast\",\"Ivanovo Oblast\",\"Jewish Autonomous Oblast\",\"Kabardino-Balkar Republic\",\"Kaliningrad Oblast\",\"Kaluga Oblast\",\"Kamchatka Krai\",\"Karachay-Cherkess Republic\",\"Kemerovo Oblast\",\"Khabarovsk Krai\",\"Khanty\\u2013Mansi Autonomous Okrug \\u2013 Yugra\",\"Kirov Oblast\",\"Komi Republic\",\"Kostroma Oblast\",\"Krasnodar Krai\",\"Krasnoyarsk Krai\",\"Kurgan Oblast\",\"Kursk Oblast\",\"Leningrad Oblast\",\"Lipetsk Oblast\",\"Magadan Oblast\",\"Mari El Republic\",\"Moscow\",\"Moscow Oblast\",\"Murmansk Oblast\",\"Nenets Autonomous Okrug\",\"Nizhny Novgorod Oblast\",\"Novgorod Oblast\",\"Novosibirsk Oblast\",\"Omsk Oblast\",\"Orenburg Oblast\",\"Oryol Oblast\",\"Penza Oblast\",\"Perm Krai\",\"Primorsky Krai\",\"Pskov Oblast\",\"Republic of Adygea\",\"Republic of Bashkortostan\",\"Republic of Buryatia\",\"Republic of Crimea\",\"Republic of Dagestan\",\"Republic of Ingushetia\",\"Republic of Kalmykia\",\"Republic of Karelia\",\"Republic of Khakassia\",\"Republic of Mordovia\",\"Republic of North Ossetia-Alania\",\"Republic of Tatarstan\",\"Rostov Oblast\",\"Ryazan Oblast\",\"Saint Petersburg\",\"Sakha (Yakutia) Republic\",\"Sakhalin Oblast\",\"Samara Oblast\",\"Saratov Oblast\",\"Sevastopol\",\"Smolensk Oblast\",\"Stavropol Krai\",\"Sverdlovsk Oblast\",\"Tambov Oblast\",\"Tomsk Oblast\",\"Tula Oblast\",\"Tuva Republic\",\"Tver Oblast\",\"Tyumen Oblast\",\"Udmurt Republic\",\"Ulyanovsk Oblast\",\"Vladimir Oblast\",\"Volgograd Oblast\",\"Vologda Oblast\",\"Voronezh Oblast\",\"Yamalo-Nenets Autonomous Okrug\",\"Yaroslavl Oblast\",\"Zabaykalsky Krai\"],\"xaxis\":\"x\",\"y\":[0.23684210526315788,0.2536842105263158,0.3968421052631579,0.8705263157894736,0.3610526315789474,0.25578947368421057,0.27,0.5605263157894737,0.9357894736842106,0.3242105263157895,0.5321052631578947,0.37105263157894736,0.3,0.3994736842105263,1.238421052631579,0.5347368421052632,1.2452631578947368,0.27578947368421053,0.4847368421052632,0.7047368421052632,0.9242105263157894,0.33421052631578946,0.81,0.31105263157894736,0.5326315789473683,0.5447368421052632,0.27473684210526317,0.3310526315789474,1.0221052631578948,0.31315789473684214,0.9894736842105264,0.308421052631579,1.2578947368421052,1.0005263157894737,1.1273684210526316,0.9394736842105263,0.4447368421052631,0.5821052631578948,0.43631578947368416,0.38105263157894737,0.2631578947368421,0.3931578947368421,0.2310526315789474,0.56,0.5536842105263158,0.43999999999999995,0.5078947368421053,0.25684210526315787,0.17210526315789473,0.9,0.27210526315789474,0.9,0.28,0.7368421052631579,0.603157894736842,0.2131578947368421,0.14,0.3257894736842106,0.4052631578947368,0.33157894736842103,1.1173684210526316,0.4605263157894737,0.9431578947368422,0.431578947368421,0.3673684210526316,1.1,0.506842105263158,0.5915789473684211,0.6894736842105263,0.3236842105263158,0.47105263157894733,0.3631578947368421,0.23526315789473684,0.5478947368421053,0.8415789473684211,0.3589473684210526,0.36473684210526314,0.42315789473684207,0.4368421052631579,0.5178947368421053,0.40210526315789474,0.9515789473684212,0.5710526315789474,0.4394736842105263],\"yaxis\":\"y\",\"type\":\"bar\"}],                        {\"template\":{\"data\":{\"bar\":[{\"error_x\":{\"color\":\"#2a3f5f\"},\"error_y\":{\"color\":\"#2a3f5f\"},\"marker\":{\"line\":{\"color\":\"#E5ECF6\",\"width\":0.5},\"pattern\":{\"fillmode\":\"overlay\",\"size\":10,\"solidity\":0.2}},\"type\":\"bar\"}],\"barpolar\":[{\"marker\":{\"line\":{\"color\":\"#E5ECF6\",\"width\":0.5},\"pattern\":{\"fillmode\":\"overlay\",\"size\":10,\"solidity\":0.2}},\"type\":\"barpolar\"}],\"carpet\":[{\"aaxis\":{\"endlinecolor\":\"#2a3f5f\",\"gridcolor\":\"white\",\"linecolor\":\"white\",\"minorgridcolor\":\"white\",\"startlinecolor\":\"#2a3f5f\"},\"baxis\":{\"endlinecolor\":\"#2a3f5f\",\"gridcolor\":\"white\",\"linecolor\":\"white\",\"minorgridcolor\":\"white\",\"startlinecolor\":\"#2a3f5f\"},\"type\":\"carpet\"}],\"choropleth\":[{\"colorbar\":{\"outlinewidth\":0,\"ticks\":\"\"},\"type\":\"choropleth\"}],\"contour\":[{\"colorbar\":{\"outlinewidth\":0,\"ticks\":\"\"},\"colorscale\":[[0.0,\"#0d0887\"],[0.1111111111111111,\"#46039f\"],[0.2222222222222222,\"#7201a8\"],[0.3333333333333333,\"#9c179e\"],[0.4444444444444444,\"#bd3786\"],[0.5555555555555556,\"#d8576b\"],[0.6666666666666666,\"#ed7953\"],[0.7777777777777778,\"#fb9f3a\"],[0.8888888888888888,\"#fdca26\"],[1.0,\"#f0f921\"]],\"type\":\"contour\"}],\"contourcarpet\":[{\"colorbar\":{\"outlinewidth\":0,\"ticks\":\"\"},\"type\":\"contourcarpet\"}],\"heatmap\":[{\"colorbar\":{\"outlinewidth\":0,\"ticks\":\"\"},\"colorscale\":[[0.0,\"#0d0887\"],[0.1111111111111111,\"#46039f\"],[0.2222222222222222,\"#7201a8\"],[0.3333333333333333,\"#9c179e\"],[0.4444444444444444,\"#bd3786\"],[0.5555555555555556,\"#d8576b\"],[0.6666666666666666,\"#ed7953\"],[0.7777777777777778,\"#fb9f3a\"],[0.8888888888888888,\"#fdca26\"],[1.0,\"#f0f921\"]],\"type\":\"heatmap\"}],\"heatmapgl\":[{\"colorbar\":{\"outlinewidth\":0,\"ticks\":\"\"},\"colorscale\":[[0.0,\"#0d0887\"],[0.1111111111111111,\"#46039f\"],[0.2222222222222222,\"#7201a8\"],[0.3333333333333333,\"#9c179e\"],[0.4444444444444444,\"#bd3786\"],[0.5555555555555556,\"#d8576b\"],[0.6666666666666666,\"#ed7953\"],[0.7777777777777778,\"#fb9f3a\"],[0.8888888888888888,\"#fdca26\"],[1.0,\"#f0f921\"]],\"type\":\"heatmapgl\"}],\"histogram\":[{\"marker\":{\"pattern\":{\"fillmode\":\"overlay\",\"size\":10,\"solidity\":0.2}},\"type\":\"histogram\"}],\"histogram2d\":[{\"colorbar\":{\"outlinewidth\":0,\"ticks\":\"\"},\"colorscale\":[[0.0,\"#0d0887\"],[0.1111111111111111,\"#46039f\"],[0.2222222222222222,\"#7201a8\"],[0.3333333333333333,\"#9c179e\"],[0.4444444444444444,\"#bd3786\"],[0.5555555555555556,\"#d8576b\"],[0.6666666666666666,\"#ed7953\"],[0.7777777777777778,\"#fb9f3a\"],[0.8888888888888888,\"#fdca26\"],[1.0,\"#f0f921\"]],\"type\":\"histogram2d\"}],\"histogram2dcontour\":[{\"colorbar\":{\"outlinewidth\":0,\"ticks\":\"\"},\"colorscale\":[[0.0,\"#0d0887\"],[0.1111111111111111,\"#46039f\"],[0.2222222222222222,\"#7201a8\"],[0.3333333333333333,\"#9c179e\"],[0.4444444444444444,\"#bd3786\"],[0.5555555555555556,\"#d8576b\"],[0.6666666666666666,\"#ed7953\"],[0.7777777777777778,\"#fb9f3a\"],[0.8888888888888888,\"#fdca26\"],[1.0,\"#f0f921\"]],\"type\":\"histogram2dcontour\"}],\"mesh3d\":[{\"colorbar\":{\"outlinewidth\":0,\"ticks\":\"\"},\"type\":\"mesh3d\"}],\"parcoords\":[{\"line\":{\"colorbar\":{\"outlinewidth\":0,\"ticks\":\"\"}},\"type\":\"parcoords\"}],\"pie\":[{\"automargin\":true,\"type\":\"pie\"}],\"scatter\":[{\"marker\":{\"colorbar\":{\"outlinewidth\":0,\"ticks\":\"\"}},\"type\":\"scatter\"}],\"scatter3d\":[{\"line\":{\"colorbar\":{\"outlinewidth\":0,\"ticks\":\"\"}},\"marker\":{\"colorbar\":{\"outlinewidth\":0,\"ticks\":\"\"}},\"type\":\"scatter3d\"}],\"scattercarpet\":[{\"marker\":{\"colorbar\":{\"outlinewidth\":0,\"ticks\":\"\"}},\"type\":\"scattercarpet\"}],\"scattergeo\":[{\"marker\":{\"colorbar\":{\"outlinewidth\":0,\"ticks\":\"\"}},\"type\":\"scattergeo\"}],\"scattergl\":[{\"marker\":{\"colorbar\":{\"outlinewidth\":0,\"ticks\":\"\"}},\"type\":\"scattergl\"}],\"scattermapbox\":[{\"marker\":{\"colorbar\":{\"outlinewidth\":0,\"ticks\":\"\"}},\"type\":\"scattermapbox\"}],\"scatterpolar\":[{\"marker\":{\"colorbar\":{\"outlinewidth\":0,\"ticks\":\"\"}},\"type\":\"scatterpolar\"}],\"scatterpolargl\":[{\"marker\":{\"colorbar\":{\"outlinewidth\":0,\"ticks\":\"\"}},\"type\":\"scatterpolargl\"}],\"scatterternary\":[{\"marker\":{\"colorbar\":{\"outlinewidth\":0,\"ticks\":\"\"}},\"type\":\"scatterternary\"}],\"surface\":[{\"colorbar\":{\"outlinewidth\":0,\"ticks\":\"\"},\"colorscale\":[[0.0,\"#0d0887\"],[0.1111111111111111,\"#46039f\"],[0.2222222222222222,\"#7201a8\"],[0.3333333333333333,\"#9c179e\"],[0.4444444444444444,\"#bd3786\"],[0.5555555555555556,\"#d8576b\"],[0.6666666666666666,\"#ed7953\"],[0.7777777777777778,\"#fb9f3a\"],[0.8888888888888888,\"#fdca26\"],[1.0,\"#f0f921\"]],\"type\":\"surface\"}],\"table\":[{\"cells\":{\"fill\":{\"color\":\"#EBF0F8\"},\"line\":{\"color\":\"white\"}},\"header\":{\"fill\":{\"color\":\"#C8D4E3\"},\"line\":{\"color\":\"white\"}},\"type\":\"table\"}]},\"layout\":{\"annotationdefaults\":{\"arrowcolor\":\"#2a3f5f\",\"arrowhead\":0,\"arrowwidth\":1},\"autotypenumbers\":\"strict\",\"coloraxis\":{\"colorbar\":{\"outlinewidth\":0,\"ticks\":\"\"}},\"colorscale\":{\"diverging\":[[0,\"#8e0152\"],[0.1,\"#c51b7d\"],[0.2,\"#de77ae\"],[0.3,\"#f1b6da\"],[0.4,\"#fde0ef\"],[0.5,\"#f7f7f7\"],[0.6,\"#e6f5d0\"],[0.7,\"#b8e186\"],[0.8,\"#7fbc41\"],[0.9,\"#4d9221\"],[1,\"#276419\"]],\"sequential\":[[0.0,\"#0d0887\"],[0.1111111111111111,\"#46039f\"],[0.2222222222222222,\"#7201a8\"],[0.3333333333333333,\"#9c179e\"],[0.4444444444444444,\"#bd3786\"],[0.5555555555555556,\"#d8576b\"],[0.6666666666666666,\"#ed7953\"],[0.7777777777777778,\"#fb9f3a\"],[0.8888888888888888,\"#fdca26\"],[1.0,\"#f0f921\"]],\"sequentialminus\":[[0.0,\"#0d0887\"],[0.1111111111111111,\"#46039f\"],[0.2222222222222222,\"#7201a8\"],[0.3333333333333333,\"#9c179e\"],[0.4444444444444444,\"#bd3786\"],[0.5555555555555556,\"#d8576b\"],[0.6666666666666666,\"#ed7953\"],[0.7777777777777778,\"#fb9f3a\"],[0.8888888888888888,\"#fdca26\"],[1.0,\"#f0f921\"]]},\"colorway\":[\"#636efa\",\"#EF553B\",\"#00cc96\",\"#ab63fa\",\"#FFA15A\",\"#19d3f3\",\"#FF6692\",\"#B6E880\",\"#FF97FF\",\"#FECB52\"],\"font\":{\"color\":\"#2a3f5f\"},\"geo\":{\"bgcolor\":\"white\",\"lakecolor\":\"white\",\"landcolor\":\"#E5ECF6\",\"showlakes\":true,\"showland\":true,\"subunitcolor\":\"white\"},\"hoverlabel\":{\"align\":\"left\"},\"hovermode\":\"closest\",\"mapbox\":{\"style\":\"light\"},\"paper_bgcolor\":\"white\",\"plot_bgcolor\":\"#E5ECF6\",\"polar\":{\"angularaxis\":{\"gridcolor\":\"white\",\"linecolor\":\"white\",\"ticks\":\"\"},\"bgcolor\":\"#E5ECF6\",\"radialaxis\":{\"gridcolor\":\"white\",\"linecolor\":\"white\",\"ticks\":\"\"}},\"scene\":{\"xaxis\":{\"backgroundcolor\":\"#E5ECF6\",\"gridcolor\":\"white\",\"gridwidth\":2,\"linecolor\":\"white\",\"showbackground\":true,\"ticks\":\"\",\"zerolinecolor\":\"white\"},\"yaxis\":{\"backgroundcolor\":\"#E5ECF6\",\"gridcolor\":\"white\",\"gridwidth\":2,\"linecolor\":\"white\",\"showbackground\":true,\"ticks\":\"\",\"zerolinecolor\":\"white\"},\"zaxis\":{\"backgroundcolor\":\"#E5ECF6\",\"gridcolor\":\"white\",\"gridwidth\":2,\"linecolor\":\"white\",\"showbackground\":true,\"ticks\":\"\",\"zerolinecolor\":\"white\"}},\"shapedefaults\":{\"line\":{\"color\":\"#2a3f5f\"}},\"ternary\":{\"aaxis\":{\"gridcolor\":\"white\",\"linecolor\":\"white\",\"ticks\":\"\"},\"baxis\":{\"gridcolor\":\"white\",\"linecolor\":\"white\",\"ticks\":\"\"},\"bgcolor\":\"#E5ECF6\",\"caxis\":{\"gridcolor\":\"white\",\"linecolor\":\"white\",\"ticks\":\"\"}},\"title\":{\"x\":0.05},\"xaxis\":{\"automargin\":true,\"gridcolor\":\"white\",\"linecolor\":\"white\",\"ticks\":\"\",\"title\":{\"standoff\":15},\"zerolinecolor\":\"white\",\"zerolinewidth\":2},\"yaxis\":{\"automargin\":true,\"gridcolor\":\"white\",\"linecolor\":\"white\",\"ticks\":\"\",\"title\":{\"standoff\":15},\"zerolinecolor\":\"white\",\"zerolinewidth\":2}}},\"xaxis\":{\"anchor\":\"y\",\"domain\":[0.0,1.0],\"title\":{\"text\":\"region\"},\"categoryorder\":\"total descending\"},\"yaxis\":{\"anchor\":\"x\",\"domain\":[0.0,1.0],\"title\":{\"text\":\"value\"}},\"legend\":{\"title\":{\"text\":\"variable\"},\"tracegroupgap\":0},\"margin\":{\"t\":60},\"barmode\":\"relative\"},                        {\"responsive\": true}                    ).then(function(){\n",
       "                            \n",
       "var gd = document.getElementById('f6e33301-abd7-4001-a5d5-5c852abd46fd');\n",
       "var x = new MutationObserver(function (mutations, observer) {{\n",
       "        var display = window.getComputedStyle(gd).display;\n",
       "        if (!display || display === 'none') {{\n",
       "            console.log([gd, 'removed!']);\n",
       "            Plotly.purge(gd);\n",
       "            observer.disconnect();\n",
       "        }}\n",
       "}});\n",
       "\n",
       "// Listen for the removal of the full notebook cells\n",
       "var notebookContainer = gd.closest('#notebook-container');\n",
       "if (notebookContainer) {{\n",
       "    x.observe(notebookContainer, {childList: true});\n",
       "}}\n",
       "\n",
       "// Listen for the clearing of the current output cell\n",
       "var outputEl = gd.closest('.output');\n",
       "if (outputEl) {{\n",
       "    x.observe(outputEl, {childList: true});\n",
       "}}\n",
       "\n",
       "                        })                };                });            </script>        </div>"
      ]
     },
     "metadata": {},
     "output_type": "display_data"
    }
   ],
   "source": [
    "fig = px.bar(df_region, x='region', y=drink_cat).update_xaxes(categoryorder=\"total descending\")\n",
    "fig.show()"
   ]
  },
  {
   "cell_type": "markdown",
   "id": "8146693c",
   "metadata": {},
   "source": [
    "Let's zoom into the top 5 regions:"
   ]
  },
  {
   "cell_type": "code",
   "execution_count": 154,
   "id": "d1795fb9",
   "metadata": {},
   "outputs": [
    {
     "data": {
      "application/vnd.plotly.v1+json": {
       "config": {
        "plotlyServerURL": "https://plot.ly"
       },
       "data": [
        {
         "alignmentgroup": "True",
         "hovertemplate": "variable=wine<br>region=%{x}<br>value=%{y}<extra></extra>",
         "legendgroup": "wine",
         "marker": {
          "color": "#636efa",
          "pattern": {
           "shape": ""
          }
         },
         "name": "wine",
         "offsetgroup": "wine",
         "orientation": "v",
         "showlegend": true,
         "textposition": "auto",
         "type": "bar",
         "x": [
          "Moscow",
          "Saint Petersburg",
          "Yamalo-Nenets Autonomous Okrug",
          "Tyumen Oblast",
          "Komi Republic"
         ],
         "xaxis": "x",
         "y": [
          7.381578947368421,
          6.9526315789473685,
          5.312105263157894,
          5.542105263157895,
          9.223684210526315
         ],
         "yaxis": "y"
        },
        {
         "alignmentgroup": "True",
         "hovertemplate": "variable=beer<br>region=%{x}<br>value=%{y}<extra></extra>",
         "legendgroup": "beer",
         "marker": {
          "color": "#EF553B",
          "pattern": {
           "shape": ""
          }
         },
         "name": "beer",
         "offsetgroup": "beer",
         "orientation": "v",
         "showlegend": true,
         "textposition": "auto",
         "type": "bar",
         "x": [
          "Moscow",
          "Saint Petersburg",
          "Yamalo-Nenets Autonomous Okrug",
          "Tyumen Oblast",
          "Komi Republic"
         ],
         "xaxis": "x",
         "y": [
          83.68842105263157,
          84.37526315789474,
          80.1378947368421,
          76.95,
          65.7442105263158
         ],
         "yaxis": "y"
        },
        {
         "alignmentgroup": "True",
         "hovertemplate": "variable=vodka<br>region=%{x}<br>value=%{y}<extra></extra>",
         "legendgroup": "vodka",
         "marker": {
          "color": "#00cc96",
          "pattern": {
           "shape": ""
          }
         },
         "name": "vodka",
         "offsetgroup": "vodka",
         "orientation": "v",
         "showlegend": true,
         "textposition": "auto",
         "type": "bar",
         "x": [
          "Moscow",
          "Saint Petersburg",
          "Yamalo-Nenets Autonomous Okrug",
          "Tyumen Oblast",
          "Komi Republic"
         ],
         "xaxis": "x",
         "y": [
          19.022105263157897,
          11.821578947368423,
          15.09315789473684,
          14.82578947368421,
          20.65421052631579
         ],
         "yaxis": "y"
        },
        {
         "alignmentgroup": "True",
         "hovertemplate": "variable=champagne<br>region=%{x}<br>value=%{y}<extra></extra>",
         "legendgroup": "champagne",
         "marker": {
          "color": "#ab63fa",
          "pattern": {
           "shape": ""
          }
         },
         "name": "champagne",
         "offsetgroup": "champagne",
         "orientation": "v",
         "showlegend": true,
         "textposition": "auto",
         "type": "bar",
         "x": [
          "Moscow",
          "Saint Petersburg",
          "Yamalo-Nenets Autonomous Okrug",
          "Tyumen Oblast",
          "Komi Republic"
         ],
         "xaxis": "x",
         "y": [
          4.386315789473684,
          2.4689473684210523,
          1.4857894736842105,
          1.4263157894736842,
          1.6973684210526316
         ],
         "yaxis": "y"
        },
        {
         "alignmentgroup": "True",
         "hovertemplate": "variable=brandy<br>region=%{x}<br>value=%{y}<extra></extra>",
         "legendgroup": "brandy",
         "marker": {
          "color": "#FFA15A",
          "pattern": {
           "shape": ""
          }
         },
         "name": "brandy",
         "offsetgroup": "brandy",
         "orientation": "v",
         "showlegend": true,
         "textposition": "auto",
         "type": "bar",
         "x": [
          "Moscow",
          "Saint Petersburg",
          "Yamalo-Nenets Autonomous Okrug",
          "Tyumen Oblast",
          "Komi Republic"
         ],
         "xaxis": "x",
         "y": [
          1.2578947368421052,
          1.1173684210526316,
          0.9515789473684212,
          0.8415789473684211,
          0.81
         ],
         "yaxis": "y"
        }
       ],
       "layout": {
        "barmode": "relative",
        "legend": {
         "title": {
          "text": "variable"
         },
         "tracegroupgap": 0
        },
        "margin": {
         "t": 60
        },
        "template": {
         "data": {
          "bar": [
           {
            "error_x": {
             "color": "#2a3f5f"
            },
            "error_y": {
             "color": "#2a3f5f"
            },
            "marker": {
             "line": {
              "color": "#E5ECF6",
              "width": 0.5
             },
             "pattern": {
              "fillmode": "overlay",
              "size": 10,
              "solidity": 0.2
             }
            },
            "type": "bar"
           }
          ],
          "barpolar": [
           {
            "marker": {
             "line": {
              "color": "#E5ECF6",
              "width": 0.5
             },
             "pattern": {
              "fillmode": "overlay",
              "size": 10,
              "solidity": 0.2
             }
            },
            "type": "barpolar"
           }
          ],
          "carpet": [
           {
            "aaxis": {
             "endlinecolor": "#2a3f5f",
             "gridcolor": "white",
             "linecolor": "white",
             "minorgridcolor": "white",
             "startlinecolor": "#2a3f5f"
            },
            "baxis": {
             "endlinecolor": "#2a3f5f",
             "gridcolor": "white",
             "linecolor": "white",
             "minorgridcolor": "white",
             "startlinecolor": "#2a3f5f"
            },
            "type": "carpet"
           }
          ],
          "choropleth": [
           {
            "colorbar": {
             "outlinewidth": 0,
             "ticks": ""
            },
            "type": "choropleth"
           }
          ],
          "contour": [
           {
            "colorbar": {
             "outlinewidth": 0,
             "ticks": ""
            },
            "colorscale": [
             [
              0,
              "#0d0887"
             ],
             [
              0.1111111111111111,
              "#46039f"
             ],
             [
              0.2222222222222222,
              "#7201a8"
             ],
             [
              0.3333333333333333,
              "#9c179e"
             ],
             [
              0.4444444444444444,
              "#bd3786"
             ],
             [
              0.5555555555555556,
              "#d8576b"
             ],
             [
              0.6666666666666666,
              "#ed7953"
             ],
             [
              0.7777777777777778,
              "#fb9f3a"
             ],
             [
              0.8888888888888888,
              "#fdca26"
             ],
             [
              1,
              "#f0f921"
             ]
            ],
            "type": "contour"
           }
          ],
          "contourcarpet": [
           {
            "colorbar": {
             "outlinewidth": 0,
             "ticks": ""
            },
            "type": "contourcarpet"
           }
          ],
          "heatmap": [
           {
            "colorbar": {
             "outlinewidth": 0,
             "ticks": ""
            },
            "colorscale": [
             [
              0,
              "#0d0887"
             ],
             [
              0.1111111111111111,
              "#46039f"
             ],
             [
              0.2222222222222222,
              "#7201a8"
             ],
             [
              0.3333333333333333,
              "#9c179e"
             ],
             [
              0.4444444444444444,
              "#bd3786"
             ],
             [
              0.5555555555555556,
              "#d8576b"
             ],
             [
              0.6666666666666666,
              "#ed7953"
             ],
             [
              0.7777777777777778,
              "#fb9f3a"
             ],
             [
              0.8888888888888888,
              "#fdca26"
             ],
             [
              1,
              "#f0f921"
             ]
            ],
            "type": "heatmap"
           }
          ],
          "heatmapgl": [
           {
            "colorbar": {
             "outlinewidth": 0,
             "ticks": ""
            },
            "colorscale": [
             [
              0,
              "#0d0887"
             ],
             [
              0.1111111111111111,
              "#46039f"
             ],
             [
              0.2222222222222222,
              "#7201a8"
             ],
             [
              0.3333333333333333,
              "#9c179e"
             ],
             [
              0.4444444444444444,
              "#bd3786"
             ],
             [
              0.5555555555555556,
              "#d8576b"
             ],
             [
              0.6666666666666666,
              "#ed7953"
             ],
             [
              0.7777777777777778,
              "#fb9f3a"
             ],
             [
              0.8888888888888888,
              "#fdca26"
             ],
             [
              1,
              "#f0f921"
             ]
            ],
            "type": "heatmapgl"
           }
          ],
          "histogram": [
           {
            "marker": {
             "pattern": {
              "fillmode": "overlay",
              "size": 10,
              "solidity": 0.2
             }
            },
            "type": "histogram"
           }
          ],
          "histogram2d": [
           {
            "colorbar": {
             "outlinewidth": 0,
             "ticks": ""
            },
            "colorscale": [
             [
              0,
              "#0d0887"
             ],
             [
              0.1111111111111111,
              "#46039f"
             ],
             [
              0.2222222222222222,
              "#7201a8"
             ],
             [
              0.3333333333333333,
              "#9c179e"
             ],
             [
              0.4444444444444444,
              "#bd3786"
             ],
             [
              0.5555555555555556,
              "#d8576b"
             ],
             [
              0.6666666666666666,
              "#ed7953"
             ],
             [
              0.7777777777777778,
              "#fb9f3a"
             ],
             [
              0.8888888888888888,
              "#fdca26"
             ],
             [
              1,
              "#f0f921"
             ]
            ],
            "type": "histogram2d"
           }
          ],
          "histogram2dcontour": [
           {
            "colorbar": {
             "outlinewidth": 0,
             "ticks": ""
            },
            "colorscale": [
             [
              0,
              "#0d0887"
             ],
             [
              0.1111111111111111,
              "#46039f"
             ],
             [
              0.2222222222222222,
              "#7201a8"
             ],
             [
              0.3333333333333333,
              "#9c179e"
             ],
             [
              0.4444444444444444,
              "#bd3786"
             ],
             [
              0.5555555555555556,
              "#d8576b"
             ],
             [
              0.6666666666666666,
              "#ed7953"
             ],
             [
              0.7777777777777778,
              "#fb9f3a"
             ],
             [
              0.8888888888888888,
              "#fdca26"
             ],
             [
              1,
              "#f0f921"
             ]
            ],
            "type": "histogram2dcontour"
           }
          ],
          "mesh3d": [
           {
            "colorbar": {
             "outlinewidth": 0,
             "ticks": ""
            },
            "type": "mesh3d"
           }
          ],
          "parcoords": [
           {
            "line": {
             "colorbar": {
              "outlinewidth": 0,
              "ticks": ""
             }
            },
            "type": "parcoords"
           }
          ],
          "pie": [
           {
            "automargin": true,
            "type": "pie"
           }
          ],
          "scatter": [
           {
            "marker": {
             "colorbar": {
              "outlinewidth": 0,
              "ticks": ""
             }
            },
            "type": "scatter"
           }
          ],
          "scatter3d": [
           {
            "line": {
             "colorbar": {
              "outlinewidth": 0,
              "ticks": ""
             }
            },
            "marker": {
             "colorbar": {
              "outlinewidth": 0,
              "ticks": ""
             }
            },
            "type": "scatter3d"
           }
          ],
          "scattercarpet": [
           {
            "marker": {
             "colorbar": {
              "outlinewidth": 0,
              "ticks": ""
             }
            },
            "type": "scattercarpet"
           }
          ],
          "scattergeo": [
           {
            "marker": {
             "colorbar": {
              "outlinewidth": 0,
              "ticks": ""
             }
            },
            "type": "scattergeo"
           }
          ],
          "scattergl": [
           {
            "marker": {
             "colorbar": {
              "outlinewidth": 0,
              "ticks": ""
             }
            },
            "type": "scattergl"
           }
          ],
          "scattermapbox": [
           {
            "marker": {
             "colorbar": {
              "outlinewidth": 0,
              "ticks": ""
             }
            },
            "type": "scattermapbox"
           }
          ],
          "scatterpolar": [
           {
            "marker": {
             "colorbar": {
              "outlinewidth": 0,
              "ticks": ""
             }
            },
            "type": "scatterpolar"
           }
          ],
          "scatterpolargl": [
           {
            "marker": {
             "colorbar": {
              "outlinewidth": 0,
              "ticks": ""
             }
            },
            "type": "scatterpolargl"
           }
          ],
          "scatterternary": [
           {
            "marker": {
             "colorbar": {
              "outlinewidth": 0,
              "ticks": ""
             }
            },
            "type": "scatterternary"
           }
          ],
          "surface": [
           {
            "colorbar": {
             "outlinewidth": 0,
             "ticks": ""
            },
            "colorscale": [
             [
              0,
              "#0d0887"
             ],
             [
              0.1111111111111111,
              "#46039f"
             ],
             [
              0.2222222222222222,
              "#7201a8"
             ],
             [
              0.3333333333333333,
              "#9c179e"
             ],
             [
              0.4444444444444444,
              "#bd3786"
             ],
             [
              0.5555555555555556,
              "#d8576b"
             ],
             [
              0.6666666666666666,
              "#ed7953"
             ],
             [
              0.7777777777777778,
              "#fb9f3a"
             ],
             [
              0.8888888888888888,
              "#fdca26"
             ],
             [
              1,
              "#f0f921"
             ]
            ],
            "type": "surface"
           }
          ],
          "table": [
           {
            "cells": {
             "fill": {
              "color": "#EBF0F8"
             },
             "line": {
              "color": "white"
             }
            },
            "header": {
             "fill": {
              "color": "#C8D4E3"
             },
             "line": {
              "color": "white"
             }
            },
            "type": "table"
           }
          ]
         },
         "layout": {
          "annotationdefaults": {
           "arrowcolor": "#2a3f5f",
           "arrowhead": 0,
           "arrowwidth": 1
          },
          "autotypenumbers": "strict",
          "coloraxis": {
           "colorbar": {
            "outlinewidth": 0,
            "ticks": ""
           }
          },
          "colorscale": {
           "diverging": [
            [
             0,
             "#8e0152"
            ],
            [
             0.1,
             "#c51b7d"
            ],
            [
             0.2,
             "#de77ae"
            ],
            [
             0.3,
             "#f1b6da"
            ],
            [
             0.4,
             "#fde0ef"
            ],
            [
             0.5,
             "#f7f7f7"
            ],
            [
             0.6,
             "#e6f5d0"
            ],
            [
             0.7,
             "#b8e186"
            ],
            [
             0.8,
             "#7fbc41"
            ],
            [
             0.9,
             "#4d9221"
            ],
            [
             1,
             "#276419"
            ]
           ],
           "sequential": [
            [
             0,
             "#0d0887"
            ],
            [
             0.1111111111111111,
             "#46039f"
            ],
            [
             0.2222222222222222,
             "#7201a8"
            ],
            [
             0.3333333333333333,
             "#9c179e"
            ],
            [
             0.4444444444444444,
             "#bd3786"
            ],
            [
             0.5555555555555556,
             "#d8576b"
            ],
            [
             0.6666666666666666,
             "#ed7953"
            ],
            [
             0.7777777777777778,
             "#fb9f3a"
            ],
            [
             0.8888888888888888,
             "#fdca26"
            ],
            [
             1,
             "#f0f921"
            ]
           ],
           "sequentialminus": [
            [
             0,
             "#0d0887"
            ],
            [
             0.1111111111111111,
             "#46039f"
            ],
            [
             0.2222222222222222,
             "#7201a8"
            ],
            [
             0.3333333333333333,
             "#9c179e"
            ],
            [
             0.4444444444444444,
             "#bd3786"
            ],
            [
             0.5555555555555556,
             "#d8576b"
            ],
            [
             0.6666666666666666,
             "#ed7953"
            ],
            [
             0.7777777777777778,
             "#fb9f3a"
            ],
            [
             0.8888888888888888,
             "#fdca26"
            ],
            [
             1,
             "#f0f921"
            ]
           ]
          },
          "colorway": [
           "#636efa",
           "#EF553B",
           "#00cc96",
           "#ab63fa",
           "#FFA15A",
           "#19d3f3",
           "#FF6692",
           "#B6E880",
           "#FF97FF",
           "#FECB52"
          ],
          "font": {
           "color": "#2a3f5f"
          },
          "geo": {
           "bgcolor": "white",
           "lakecolor": "white",
           "landcolor": "#E5ECF6",
           "showlakes": true,
           "showland": true,
           "subunitcolor": "white"
          },
          "hoverlabel": {
           "align": "left"
          },
          "hovermode": "closest",
          "mapbox": {
           "style": "light"
          },
          "paper_bgcolor": "white",
          "plot_bgcolor": "#E5ECF6",
          "polar": {
           "angularaxis": {
            "gridcolor": "white",
            "linecolor": "white",
            "ticks": ""
           },
           "bgcolor": "#E5ECF6",
           "radialaxis": {
            "gridcolor": "white",
            "linecolor": "white",
            "ticks": ""
           }
          },
          "scene": {
           "xaxis": {
            "backgroundcolor": "#E5ECF6",
            "gridcolor": "white",
            "gridwidth": 2,
            "linecolor": "white",
            "showbackground": true,
            "ticks": "",
            "zerolinecolor": "white"
           },
           "yaxis": {
            "backgroundcolor": "#E5ECF6",
            "gridcolor": "white",
            "gridwidth": 2,
            "linecolor": "white",
            "showbackground": true,
            "ticks": "",
            "zerolinecolor": "white"
           },
           "zaxis": {
            "backgroundcolor": "#E5ECF6",
            "gridcolor": "white",
            "gridwidth": 2,
            "linecolor": "white",
            "showbackground": true,
            "ticks": "",
            "zerolinecolor": "white"
           }
          },
          "shapedefaults": {
           "line": {
            "color": "#2a3f5f"
           }
          },
          "ternary": {
           "aaxis": {
            "gridcolor": "white",
            "linecolor": "white",
            "ticks": ""
           },
           "baxis": {
            "gridcolor": "white",
            "linecolor": "white",
            "ticks": ""
           },
           "bgcolor": "#E5ECF6",
           "caxis": {
            "gridcolor": "white",
            "linecolor": "white",
            "ticks": ""
           }
          },
          "title": {
           "x": 0.05
          },
          "xaxis": {
           "automargin": true,
           "gridcolor": "white",
           "linecolor": "white",
           "ticks": "",
           "title": {
            "standoff": 15
           },
           "zerolinecolor": "white",
           "zerolinewidth": 2
          },
          "yaxis": {
           "automargin": true,
           "gridcolor": "white",
           "linecolor": "white",
           "ticks": "",
           "title": {
            "standoff": 15
           },
           "zerolinecolor": "white",
           "zerolinewidth": 2
          }
         }
        },
        "xaxis": {
         "anchor": "y",
         "domain": [
          0,
          1
         ],
         "title": {
          "text": "region"
         }
        },
        "yaxis": {
         "anchor": "x",
         "domain": [
          0,
          1
         ],
         "title": {
          "text": "value"
         }
        }
       }
      },
      "text/html": [
       "<div>                            <div id=\"f9f1175d-31fb-4aae-94ae-c497b6b7de56\" class=\"plotly-graph-div\" style=\"height:525px; width:100%;\"></div>            <script type=\"text/javascript\">                require([\"plotly\"], function(Plotly) {                    window.PLOTLYENV=window.PLOTLYENV || {};                                    if (document.getElementById(\"f9f1175d-31fb-4aae-94ae-c497b6b7de56\")) {                    Plotly.newPlot(                        \"f9f1175d-31fb-4aae-94ae-c497b6b7de56\",                        [{\"alignmentgroup\":\"True\",\"hovertemplate\":\"variable=wine<br>region=%{x}<br>value=%{y}<extra></extra>\",\"legendgroup\":\"wine\",\"marker\":{\"color\":\"#636efa\",\"pattern\":{\"shape\":\"\"}},\"name\":\"wine\",\"offsetgroup\":\"wine\",\"orientation\":\"v\",\"showlegend\":true,\"textposition\":\"auto\",\"x\":[\"Moscow\",\"Saint Petersburg\",\"Yamalo-Nenets Autonomous Okrug\",\"Tyumen Oblast\",\"Komi Republic\"],\"xaxis\":\"x\",\"y\":[7.381578947368421,6.9526315789473685,5.312105263157894,5.542105263157895,9.223684210526315],\"yaxis\":\"y\",\"type\":\"bar\"},{\"alignmentgroup\":\"True\",\"hovertemplate\":\"variable=beer<br>region=%{x}<br>value=%{y}<extra></extra>\",\"legendgroup\":\"beer\",\"marker\":{\"color\":\"#EF553B\",\"pattern\":{\"shape\":\"\"}},\"name\":\"beer\",\"offsetgroup\":\"beer\",\"orientation\":\"v\",\"showlegend\":true,\"textposition\":\"auto\",\"x\":[\"Moscow\",\"Saint Petersburg\",\"Yamalo-Nenets Autonomous Okrug\",\"Tyumen Oblast\",\"Komi Republic\"],\"xaxis\":\"x\",\"y\":[83.68842105263157,84.37526315789474,80.1378947368421,76.95,65.7442105263158],\"yaxis\":\"y\",\"type\":\"bar\"},{\"alignmentgroup\":\"True\",\"hovertemplate\":\"variable=vodka<br>region=%{x}<br>value=%{y}<extra></extra>\",\"legendgroup\":\"vodka\",\"marker\":{\"color\":\"#00cc96\",\"pattern\":{\"shape\":\"\"}},\"name\":\"vodka\",\"offsetgroup\":\"vodka\",\"orientation\":\"v\",\"showlegend\":true,\"textposition\":\"auto\",\"x\":[\"Moscow\",\"Saint Petersburg\",\"Yamalo-Nenets Autonomous Okrug\",\"Tyumen Oblast\",\"Komi Republic\"],\"xaxis\":\"x\",\"y\":[19.022105263157897,11.821578947368423,15.09315789473684,14.82578947368421,20.65421052631579],\"yaxis\":\"y\",\"type\":\"bar\"},{\"alignmentgroup\":\"True\",\"hovertemplate\":\"variable=champagne<br>region=%{x}<br>value=%{y}<extra></extra>\",\"legendgroup\":\"champagne\",\"marker\":{\"color\":\"#ab63fa\",\"pattern\":{\"shape\":\"\"}},\"name\":\"champagne\",\"offsetgroup\":\"champagne\",\"orientation\":\"v\",\"showlegend\":true,\"textposition\":\"auto\",\"x\":[\"Moscow\",\"Saint Petersburg\",\"Yamalo-Nenets Autonomous Okrug\",\"Tyumen Oblast\",\"Komi Republic\"],\"xaxis\":\"x\",\"y\":[4.386315789473684,2.4689473684210523,1.4857894736842105,1.4263157894736842,1.6973684210526316],\"yaxis\":\"y\",\"type\":\"bar\"},{\"alignmentgroup\":\"True\",\"hovertemplate\":\"variable=brandy<br>region=%{x}<br>value=%{y}<extra></extra>\",\"legendgroup\":\"brandy\",\"marker\":{\"color\":\"#FFA15A\",\"pattern\":{\"shape\":\"\"}},\"name\":\"brandy\",\"offsetgroup\":\"brandy\",\"orientation\":\"v\",\"showlegend\":true,\"textposition\":\"auto\",\"x\":[\"Moscow\",\"Saint Petersburg\",\"Yamalo-Nenets Autonomous Okrug\",\"Tyumen Oblast\",\"Komi Republic\"],\"xaxis\":\"x\",\"y\":[1.2578947368421052,1.1173684210526316,0.9515789473684212,0.8415789473684211,0.81],\"yaxis\":\"y\",\"type\":\"bar\"}],                        {\"template\":{\"data\":{\"bar\":[{\"error_x\":{\"color\":\"#2a3f5f\"},\"error_y\":{\"color\":\"#2a3f5f\"},\"marker\":{\"line\":{\"color\":\"#E5ECF6\",\"width\":0.5},\"pattern\":{\"fillmode\":\"overlay\",\"size\":10,\"solidity\":0.2}},\"type\":\"bar\"}],\"barpolar\":[{\"marker\":{\"line\":{\"color\":\"#E5ECF6\",\"width\":0.5},\"pattern\":{\"fillmode\":\"overlay\",\"size\":10,\"solidity\":0.2}},\"type\":\"barpolar\"}],\"carpet\":[{\"aaxis\":{\"endlinecolor\":\"#2a3f5f\",\"gridcolor\":\"white\",\"linecolor\":\"white\",\"minorgridcolor\":\"white\",\"startlinecolor\":\"#2a3f5f\"},\"baxis\":{\"endlinecolor\":\"#2a3f5f\",\"gridcolor\":\"white\",\"linecolor\":\"white\",\"minorgridcolor\":\"white\",\"startlinecolor\":\"#2a3f5f\"},\"type\":\"carpet\"}],\"choropleth\":[{\"colorbar\":{\"outlinewidth\":0,\"ticks\":\"\"},\"type\":\"choropleth\"}],\"contour\":[{\"colorbar\":{\"outlinewidth\":0,\"ticks\":\"\"},\"colorscale\":[[0.0,\"#0d0887\"],[0.1111111111111111,\"#46039f\"],[0.2222222222222222,\"#7201a8\"],[0.3333333333333333,\"#9c179e\"],[0.4444444444444444,\"#bd3786\"],[0.5555555555555556,\"#d8576b\"],[0.6666666666666666,\"#ed7953\"],[0.7777777777777778,\"#fb9f3a\"],[0.8888888888888888,\"#fdca26\"],[1.0,\"#f0f921\"]],\"type\":\"contour\"}],\"contourcarpet\":[{\"colorbar\":{\"outlinewidth\":0,\"ticks\":\"\"},\"type\":\"contourcarpet\"}],\"heatmap\":[{\"colorbar\":{\"outlinewidth\":0,\"ticks\":\"\"},\"colorscale\":[[0.0,\"#0d0887\"],[0.1111111111111111,\"#46039f\"],[0.2222222222222222,\"#7201a8\"],[0.3333333333333333,\"#9c179e\"],[0.4444444444444444,\"#bd3786\"],[0.5555555555555556,\"#d8576b\"],[0.6666666666666666,\"#ed7953\"],[0.7777777777777778,\"#fb9f3a\"],[0.8888888888888888,\"#fdca26\"],[1.0,\"#f0f921\"]],\"type\":\"heatmap\"}],\"heatmapgl\":[{\"colorbar\":{\"outlinewidth\":0,\"ticks\":\"\"},\"colorscale\":[[0.0,\"#0d0887\"],[0.1111111111111111,\"#46039f\"],[0.2222222222222222,\"#7201a8\"],[0.3333333333333333,\"#9c179e\"],[0.4444444444444444,\"#bd3786\"],[0.5555555555555556,\"#d8576b\"],[0.6666666666666666,\"#ed7953\"],[0.7777777777777778,\"#fb9f3a\"],[0.8888888888888888,\"#fdca26\"],[1.0,\"#f0f921\"]],\"type\":\"heatmapgl\"}],\"histogram\":[{\"marker\":{\"pattern\":{\"fillmode\":\"overlay\",\"size\":10,\"solidity\":0.2}},\"type\":\"histogram\"}],\"histogram2d\":[{\"colorbar\":{\"outlinewidth\":0,\"ticks\":\"\"},\"colorscale\":[[0.0,\"#0d0887\"],[0.1111111111111111,\"#46039f\"],[0.2222222222222222,\"#7201a8\"],[0.3333333333333333,\"#9c179e\"],[0.4444444444444444,\"#bd3786\"],[0.5555555555555556,\"#d8576b\"],[0.6666666666666666,\"#ed7953\"],[0.7777777777777778,\"#fb9f3a\"],[0.8888888888888888,\"#fdca26\"],[1.0,\"#f0f921\"]],\"type\":\"histogram2d\"}],\"histogram2dcontour\":[{\"colorbar\":{\"outlinewidth\":0,\"ticks\":\"\"},\"colorscale\":[[0.0,\"#0d0887\"],[0.1111111111111111,\"#46039f\"],[0.2222222222222222,\"#7201a8\"],[0.3333333333333333,\"#9c179e\"],[0.4444444444444444,\"#bd3786\"],[0.5555555555555556,\"#d8576b\"],[0.6666666666666666,\"#ed7953\"],[0.7777777777777778,\"#fb9f3a\"],[0.8888888888888888,\"#fdca26\"],[1.0,\"#f0f921\"]],\"type\":\"histogram2dcontour\"}],\"mesh3d\":[{\"colorbar\":{\"outlinewidth\":0,\"ticks\":\"\"},\"type\":\"mesh3d\"}],\"parcoords\":[{\"line\":{\"colorbar\":{\"outlinewidth\":0,\"ticks\":\"\"}},\"type\":\"parcoords\"}],\"pie\":[{\"automargin\":true,\"type\":\"pie\"}],\"scatter\":[{\"marker\":{\"colorbar\":{\"outlinewidth\":0,\"ticks\":\"\"}},\"type\":\"scatter\"}],\"scatter3d\":[{\"line\":{\"colorbar\":{\"outlinewidth\":0,\"ticks\":\"\"}},\"marker\":{\"colorbar\":{\"outlinewidth\":0,\"ticks\":\"\"}},\"type\":\"scatter3d\"}],\"scattercarpet\":[{\"marker\":{\"colorbar\":{\"outlinewidth\":0,\"ticks\":\"\"}},\"type\":\"scattercarpet\"}],\"scattergeo\":[{\"marker\":{\"colorbar\":{\"outlinewidth\":0,\"ticks\":\"\"}},\"type\":\"scattergeo\"}],\"scattergl\":[{\"marker\":{\"colorbar\":{\"outlinewidth\":0,\"ticks\":\"\"}},\"type\":\"scattergl\"}],\"scattermapbox\":[{\"marker\":{\"colorbar\":{\"outlinewidth\":0,\"ticks\":\"\"}},\"type\":\"scattermapbox\"}],\"scatterpolar\":[{\"marker\":{\"colorbar\":{\"outlinewidth\":0,\"ticks\":\"\"}},\"type\":\"scatterpolar\"}],\"scatterpolargl\":[{\"marker\":{\"colorbar\":{\"outlinewidth\":0,\"ticks\":\"\"}},\"type\":\"scatterpolargl\"}],\"scatterternary\":[{\"marker\":{\"colorbar\":{\"outlinewidth\":0,\"ticks\":\"\"}},\"type\":\"scatterternary\"}],\"surface\":[{\"colorbar\":{\"outlinewidth\":0,\"ticks\":\"\"},\"colorscale\":[[0.0,\"#0d0887\"],[0.1111111111111111,\"#46039f\"],[0.2222222222222222,\"#7201a8\"],[0.3333333333333333,\"#9c179e\"],[0.4444444444444444,\"#bd3786\"],[0.5555555555555556,\"#d8576b\"],[0.6666666666666666,\"#ed7953\"],[0.7777777777777778,\"#fb9f3a\"],[0.8888888888888888,\"#fdca26\"],[1.0,\"#f0f921\"]],\"type\":\"surface\"}],\"table\":[{\"cells\":{\"fill\":{\"color\":\"#EBF0F8\"},\"line\":{\"color\":\"white\"}},\"header\":{\"fill\":{\"color\":\"#C8D4E3\"},\"line\":{\"color\":\"white\"}},\"type\":\"table\"}]},\"layout\":{\"annotationdefaults\":{\"arrowcolor\":\"#2a3f5f\",\"arrowhead\":0,\"arrowwidth\":1},\"autotypenumbers\":\"strict\",\"coloraxis\":{\"colorbar\":{\"outlinewidth\":0,\"ticks\":\"\"}},\"colorscale\":{\"diverging\":[[0,\"#8e0152\"],[0.1,\"#c51b7d\"],[0.2,\"#de77ae\"],[0.3,\"#f1b6da\"],[0.4,\"#fde0ef\"],[0.5,\"#f7f7f7\"],[0.6,\"#e6f5d0\"],[0.7,\"#b8e186\"],[0.8,\"#7fbc41\"],[0.9,\"#4d9221\"],[1,\"#276419\"]],\"sequential\":[[0.0,\"#0d0887\"],[0.1111111111111111,\"#46039f\"],[0.2222222222222222,\"#7201a8\"],[0.3333333333333333,\"#9c179e\"],[0.4444444444444444,\"#bd3786\"],[0.5555555555555556,\"#d8576b\"],[0.6666666666666666,\"#ed7953\"],[0.7777777777777778,\"#fb9f3a\"],[0.8888888888888888,\"#fdca26\"],[1.0,\"#f0f921\"]],\"sequentialminus\":[[0.0,\"#0d0887\"],[0.1111111111111111,\"#46039f\"],[0.2222222222222222,\"#7201a8\"],[0.3333333333333333,\"#9c179e\"],[0.4444444444444444,\"#bd3786\"],[0.5555555555555556,\"#d8576b\"],[0.6666666666666666,\"#ed7953\"],[0.7777777777777778,\"#fb9f3a\"],[0.8888888888888888,\"#fdca26\"],[1.0,\"#f0f921\"]]},\"colorway\":[\"#636efa\",\"#EF553B\",\"#00cc96\",\"#ab63fa\",\"#FFA15A\",\"#19d3f3\",\"#FF6692\",\"#B6E880\",\"#FF97FF\",\"#FECB52\"],\"font\":{\"color\":\"#2a3f5f\"},\"geo\":{\"bgcolor\":\"white\",\"lakecolor\":\"white\",\"landcolor\":\"#E5ECF6\",\"showlakes\":true,\"showland\":true,\"subunitcolor\":\"white\"},\"hoverlabel\":{\"align\":\"left\"},\"hovermode\":\"closest\",\"mapbox\":{\"style\":\"light\"},\"paper_bgcolor\":\"white\",\"plot_bgcolor\":\"#E5ECF6\",\"polar\":{\"angularaxis\":{\"gridcolor\":\"white\",\"linecolor\":\"white\",\"ticks\":\"\"},\"bgcolor\":\"#E5ECF6\",\"radialaxis\":{\"gridcolor\":\"white\",\"linecolor\":\"white\",\"ticks\":\"\"}},\"scene\":{\"xaxis\":{\"backgroundcolor\":\"#E5ECF6\",\"gridcolor\":\"white\",\"gridwidth\":2,\"linecolor\":\"white\",\"showbackground\":true,\"ticks\":\"\",\"zerolinecolor\":\"white\"},\"yaxis\":{\"backgroundcolor\":\"#E5ECF6\",\"gridcolor\":\"white\",\"gridwidth\":2,\"linecolor\":\"white\",\"showbackground\":true,\"ticks\":\"\",\"zerolinecolor\":\"white\"},\"zaxis\":{\"backgroundcolor\":\"#E5ECF6\",\"gridcolor\":\"white\",\"gridwidth\":2,\"linecolor\":\"white\",\"showbackground\":true,\"ticks\":\"\",\"zerolinecolor\":\"white\"}},\"shapedefaults\":{\"line\":{\"color\":\"#2a3f5f\"}},\"ternary\":{\"aaxis\":{\"gridcolor\":\"white\",\"linecolor\":\"white\",\"ticks\":\"\"},\"baxis\":{\"gridcolor\":\"white\",\"linecolor\":\"white\",\"ticks\":\"\"},\"bgcolor\":\"#E5ECF6\",\"caxis\":{\"gridcolor\":\"white\",\"linecolor\":\"white\",\"ticks\":\"\"}},\"title\":{\"x\":0.05},\"xaxis\":{\"automargin\":true,\"gridcolor\":\"white\",\"linecolor\":\"white\",\"ticks\":\"\",\"title\":{\"standoff\":15},\"zerolinecolor\":\"white\",\"zerolinewidth\":2},\"yaxis\":{\"automargin\":true,\"gridcolor\":\"white\",\"linecolor\":\"white\",\"ticks\":\"\",\"title\":{\"standoff\":15},\"zerolinecolor\":\"white\",\"zerolinewidth\":2}}},\"xaxis\":{\"anchor\":\"y\",\"domain\":[0.0,1.0],\"title\":{\"text\":\"region\"}},\"yaxis\":{\"anchor\":\"x\",\"domain\":[0.0,1.0],\"title\":{\"text\":\"value\"}},\"legend\":{\"title\":{\"text\":\"variable\"},\"tracegroupgap\":0},\"margin\":{\"t\":60},\"barmode\":\"relative\"},                        {\"responsive\": true}                    ).then(function(){\n",
       "                            \n",
       "var gd = document.getElementById('f9f1175d-31fb-4aae-94ae-c497b6b7de56');\n",
       "var x = new MutationObserver(function (mutations, observer) {{\n",
       "        var display = window.getComputedStyle(gd).display;\n",
       "        if (!display || display === 'none') {{\n",
       "            console.log([gd, 'removed!']);\n",
       "            Plotly.purge(gd);\n",
       "            observer.disconnect();\n",
       "        }}\n",
       "}});\n",
       "\n",
       "// Listen for the removal of the full notebook cells\n",
       "var notebookContainer = gd.closest('#notebook-container');\n",
       "if (notebookContainer) {{\n",
       "    x.observe(notebookContainer, {childList: true});\n",
       "}}\n",
       "\n",
       "// Listen for the clearing of the current output cell\n",
       "var outputEl = gd.closest('.output');\n",
       "if (outputEl) {{\n",
       "    x.observe(outputEl, {childList: true});\n",
       "}}\n",
       "\n",
       "                        })                };                });            </script>        </div>"
      ]
     },
     "metadata": {},
     "output_type": "display_data"
    }
   ],
   "source": [
    "fig = px.bar(df_region.sort_values(by = [\"total_volume_mean\"], ascending = False).head(5), x='region', y=drink_cat)#.update_xaxes(categoryorder=\"total descending\")\n",
    "fig.show()"
   ]
  },
  {
   "cell_type": "markdown",
   "id": "37d92885",
   "metadata": {},
   "source": [
    "It isn't surprising that the two regions with most alcohol sales are Moscow and Saint-Petersburg, but it is however interessing thate the following few regions are very remote regions such as Yamalo-Nenets Autonomous Okrug or the Komi republic have in generall a lower standard. (Maybe on outlook would be to check out the standard of living in these remote regions, commons sense would tell me that climate difference possible also play a role.)"
   ]
  },
  {
   "cell_type": "code",
   "execution_count": 155,
   "id": "bd6d75c4",
   "metadata": {
    "scrolled": false
   },
   "outputs": [
    {
     "data": {
      "application/vnd.plotly.v1+json": {
       "config": {
        "plotlyServerURL": "https://plot.ly"
       },
       "data": [
        {
         "alignmentgroup": "True",
         "hovertemplate": "variable=wine<br>region=%{x}<br>value=%{y}<extra></extra>",
         "legendgroup": "wine",
         "marker": {
          "color": "#636efa",
          "pattern": {
           "shape": ""
          }
         },
         "name": "wine",
         "offsetgroup": "wine",
         "orientation": "v",
         "showlegend": true,
         "textposition": "auto",
         "type": "bar",
         "x": [
          "Republic of Dagestan",
          "Republic of Ingushetia",
          "Republic of North Ossetia-Alania",
          "Karachay-Cherkess Republic",
          "Republic of Kalmykia"
         ],
         "xaxis": "x",
         "y": [
          2.635263157894737,
          7.45,
          1.743157894736842,
          2.1189473684210527,
          3.4721052631578946
         ],
         "yaxis": "y"
        },
        {
         "alignmentgroup": "True",
         "hovertemplate": "variable=beer<br>region=%{x}<br>value=%{y}<extra></extra>",
         "legendgroup": "beer",
         "marker": {
          "color": "#EF553B",
          "pattern": {
           "shape": ""
          }
         },
         "name": "beer",
         "offsetgroup": "beer",
         "orientation": "v",
         "showlegend": true,
         "textposition": "auto",
         "type": "bar",
         "x": [
          "Republic of Dagestan",
          "Republic of Ingushetia",
          "Republic of North Ossetia-Alania",
          "Karachay-Cherkess Republic",
          "Republic of Kalmykia"
         ],
         "xaxis": "x",
         "y": [
          4.644210526315789,
          8.625,
          17.439473684210526,
          20.880526315789474,
          19.531578947368423
         ],
         "yaxis": "y"
        },
        {
         "alignmentgroup": "True",
         "hovertemplate": "variable=vodka<br>region=%{x}<br>value=%{y}<extra></extra>",
         "legendgroup": "vodka",
         "marker": {
          "color": "#00cc96",
          "pattern": {
           "shape": ""
          }
         },
         "name": "vodka",
         "offsetgroup": "vodka",
         "orientation": "v",
         "showlegend": true,
         "textposition": "auto",
         "type": "bar",
         "x": [
          "Republic of Dagestan",
          "Republic of Ingushetia",
          "Republic of North Ossetia-Alania",
          "Karachay-Cherkess Republic",
          "Republic of Kalmykia"
         ],
         "xaxis": "x",
         "y": [
          6.714736842105263,
          4.125,
          4.897368421052631,
          6.435263157894736,
          8.866842105263158
         ],
         "yaxis": "y"
        },
        {
         "alignmentgroup": "True",
         "hovertemplate": "variable=champagne<br>region=%{x}<br>value=%{y}<extra></extra>",
         "legendgroup": "champagne",
         "marker": {
          "color": "#ab63fa",
          "pattern": {
           "shape": ""
          }
         },
         "name": "champagne",
         "offsetgroup": "champagne",
         "orientation": "v",
         "showlegend": true,
         "textposition": "auto",
         "type": "bar",
         "x": [
          "Republic of Dagestan",
          "Republic of Ingushetia",
          "Republic of North Ossetia-Alania",
          "Karachay-Cherkess Republic",
          "Republic of Kalmykia"
         ],
         "xaxis": "x",
         "y": [
          0.6410526315789473,
          0.925,
          0.7673684210526316,
          0.31947368421052635,
          0.7436842105263158
         ],
         "yaxis": "y"
        },
        {
         "alignmentgroup": "True",
         "hovertemplate": "variable=brandy<br>region=%{x}<br>value=%{y}<extra></extra>",
         "legendgroup": "brandy",
         "marker": {
          "color": "#FFA15A",
          "pattern": {
           "shape": ""
          }
         },
         "name": "brandy",
         "offsetgroup": "brandy",
         "orientation": "v",
         "showlegend": true,
         "textposition": "auto",
         "type": "bar",
         "x": [
          "Republic of Dagestan",
          "Republic of Ingushetia",
          "Republic of North Ossetia-Alania",
          "Karachay-Cherkess Republic",
          "Republic of Kalmykia"
         ],
         "xaxis": "x",
         "y": [
          0.27210526315789474,
          0.9,
          0.14,
          0.27578947368421053,
          0.28
         ],
         "yaxis": "y"
        }
       ],
       "layout": {
        "barmode": "relative",
        "legend": {
         "title": {
          "text": "variable"
         },
         "tracegroupgap": 0
        },
        "margin": {
         "t": 60
        },
        "template": {
         "data": {
          "bar": [
           {
            "error_x": {
             "color": "#2a3f5f"
            },
            "error_y": {
             "color": "#2a3f5f"
            },
            "marker": {
             "line": {
              "color": "#E5ECF6",
              "width": 0.5
             },
             "pattern": {
              "fillmode": "overlay",
              "size": 10,
              "solidity": 0.2
             }
            },
            "type": "bar"
           }
          ],
          "barpolar": [
           {
            "marker": {
             "line": {
              "color": "#E5ECF6",
              "width": 0.5
             },
             "pattern": {
              "fillmode": "overlay",
              "size": 10,
              "solidity": 0.2
             }
            },
            "type": "barpolar"
           }
          ],
          "carpet": [
           {
            "aaxis": {
             "endlinecolor": "#2a3f5f",
             "gridcolor": "white",
             "linecolor": "white",
             "minorgridcolor": "white",
             "startlinecolor": "#2a3f5f"
            },
            "baxis": {
             "endlinecolor": "#2a3f5f",
             "gridcolor": "white",
             "linecolor": "white",
             "minorgridcolor": "white",
             "startlinecolor": "#2a3f5f"
            },
            "type": "carpet"
           }
          ],
          "choropleth": [
           {
            "colorbar": {
             "outlinewidth": 0,
             "ticks": ""
            },
            "type": "choropleth"
           }
          ],
          "contour": [
           {
            "colorbar": {
             "outlinewidth": 0,
             "ticks": ""
            },
            "colorscale": [
             [
              0,
              "#0d0887"
             ],
             [
              0.1111111111111111,
              "#46039f"
             ],
             [
              0.2222222222222222,
              "#7201a8"
             ],
             [
              0.3333333333333333,
              "#9c179e"
             ],
             [
              0.4444444444444444,
              "#bd3786"
             ],
             [
              0.5555555555555556,
              "#d8576b"
             ],
             [
              0.6666666666666666,
              "#ed7953"
             ],
             [
              0.7777777777777778,
              "#fb9f3a"
             ],
             [
              0.8888888888888888,
              "#fdca26"
             ],
             [
              1,
              "#f0f921"
             ]
            ],
            "type": "contour"
           }
          ],
          "contourcarpet": [
           {
            "colorbar": {
             "outlinewidth": 0,
             "ticks": ""
            },
            "type": "contourcarpet"
           }
          ],
          "heatmap": [
           {
            "colorbar": {
             "outlinewidth": 0,
             "ticks": ""
            },
            "colorscale": [
             [
              0,
              "#0d0887"
             ],
             [
              0.1111111111111111,
              "#46039f"
             ],
             [
              0.2222222222222222,
              "#7201a8"
             ],
             [
              0.3333333333333333,
              "#9c179e"
             ],
             [
              0.4444444444444444,
              "#bd3786"
             ],
             [
              0.5555555555555556,
              "#d8576b"
             ],
             [
              0.6666666666666666,
              "#ed7953"
             ],
             [
              0.7777777777777778,
              "#fb9f3a"
             ],
             [
              0.8888888888888888,
              "#fdca26"
             ],
             [
              1,
              "#f0f921"
             ]
            ],
            "type": "heatmap"
           }
          ],
          "heatmapgl": [
           {
            "colorbar": {
             "outlinewidth": 0,
             "ticks": ""
            },
            "colorscale": [
             [
              0,
              "#0d0887"
             ],
             [
              0.1111111111111111,
              "#46039f"
             ],
             [
              0.2222222222222222,
              "#7201a8"
             ],
             [
              0.3333333333333333,
              "#9c179e"
             ],
             [
              0.4444444444444444,
              "#bd3786"
             ],
             [
              0.5555555555555556,
              "#d8576b"
             ],
             [
              0.6666666666666666,
              "#ed7953"
             ],
             [
              0.7777777777777778,
              "#fb9f3a"
             ],
             [
              0.8888888888888888,
              "#fdca26"
             ],
             [
              1,
              "#f0f921"
             ]
            ],
            "type": "heatmapgl"
           }
          ],
          "histogram": [
           {
            "marker": {
             "pattern": {
              "fillmode": "overlay",
              "size": 10,
              "solidity": 0.2
             }
            },
            "type": "histogram"
           }
          ],
          "histogram2d": [
           {
            "colorbar": {
             "outlinewidth": 0,
             "ticks": ""
            },
            "colorscale": [
             [
              0,
              "#0d0887"
             ],
             [
              0.1111111111111111,
              "#46039f"
             ],
             [
              0.2222222222222222,
              "#7201a8"
             ],
             [
              0.3333333333333333,
              "#9c179e"
             ],
             [
              0.4444444444444444,
              "#bd3786"
             ],
             [
              0.5555555555555556,
              "#d8576b"
             ],
             [
              0.6666666666666666,
              "#ed7953"
             ],
             [
              0.7777777777777778,
              "#fb9f3a"
             ],
             [
              0.8888888888888888,
              "#fdca26"
             ],
             [
              1,
              "#f0f921"
             ]
            ],
            "type": "histogram2d"
           }
          ],
          "histogram2dcontour": [
           {
            "colorbar": {
             "outlinewidth": 0,
             "ticks": ""
            },
            "colorscale": [
             [
              0,
              "#0d0887"
             ],
             [
              0.1111111111111111,
              "#46039f"
             ],
             [
              0.2222222222222222,
              "#7201a8"
             ],
             [
              0.3333333333333333,
              "#9c179e"
             ],
             [
              0.4444444444444444,
              "#bd3786"
             ],
             [
              0.5555555555555556,
              "#d8576b"
             ],
             [
              0.6666666666666666,
              "#ed7953"
             ],
             [
              0.7777777777777778,
              "#fb9f3a"
             ],
             [
              0.8888888888888888,
              "#fdca26"
             ],
             [
              1,
              "#f0f921"
             ]
            ],
            "type": "histogram2dcontour"
           }
          ],
          "mesh3d": [
           {
            "colorbar": {
             "outlinewidth": 0,
             "ticks": ""
            },
            "type": "mesh3d"
           }
          ],
          "parcoords": [
           {
            "line": {
             "colorbar": {
              "outlinewidth": 0,
              "ticks": ""
             }
            },
            "type": "parcoords"
           }
          ],
          "pie": [
           {
            "automargin": true,
            "type": "pie"
           }
          ],
          "scatter": [
           {
            "marker": {
             "colorbar": {
              "outlinewidth": 0,
              "ticks": ""
             }
            },
            "type": "scatter"
           }
          ],
          "scatter3d": [
           {
            "line": {
             "colorbar": {
              "outlinewidth": 0,
              "ticks": ""
             }
            },
            "marker": {
             "colorbar": {
              "outlinewidth": 0,
              "ticks": ""
             }
            },
            "type": "scatter3d"
           }
          ],
          "scattercarpet": [
           {
            "marker": {
             "colorbar": {
              "outlinewidth": 0,
              "ticks": ""
             }
            },
            "type": "scattercarpet"
           }
          ],
          "scattergeo": [
           {
            "marker": {
             "colorbar": {
              "outlinewidth": 0,
              "ticks": ""
             }
            },
            "type": "scattergeo"
           }
          ],
          "scattergl": [
           {
            "marker": {
             "colorbar": {
              "outlinewidth": 0,
              "ticks": ""
             }
            },
            "type": "scattergl"
           }
          ],
          "scattermapbox": [
           {
            "marker": {
             "colorbar": {
              "outlinewidth": 0,
              "ticks": ""
             }
            },
            "type": "scattermapbox"
           }
          ],
          "scatterpolar": [
           {
            "marker": {
             "colorbar": {
              "outlinewidth": 0,
              "ticks": ""
             }
            },
            "type": "scatterpolar"
           }
          ],
          "scatterpolargl": [
           {
            "marker": {
             "colorbar": {
              "outlinewidth": 0,
              "ticks": ""
             }
            },
            "type": "scatterpolargl"
           }
          ],
          "scatterternary": [
           {
            "marker": {
             "colorbar": {
              "outlinewidth": 0,
              "ticks": ""
             }
            },
            "type": "scatterternary"
           }
          ],
          "surface": [
           {
            "colorbar": {
             "outlinewidth": 0,
             "ticks": ""
            },
            "colorscale": [
             [
              0,
              "#0d0887"
             ],
             [
              0.1111111111111111,
              "#46039f"
             ],
             [
              0.2222222222222222,
              "#7201a8"
             ],
             [
              0.3333333333333333,
              "#9c179e"
             ],
             [
              0.4444444444444444,
              "#bd3786"
             ],
             [
              0.5555555555555556,
              "#d8576b"
             ],
             [
              0.6666666666666666,
              "#ed7953"
             ],
             [
              0.7777777777777778,
              "#fb9f3a"
             ],
             [
              0.8888888888888888,
              "#fdca26"
             ],
             [
              1,
              "#f0f921"
             ]
            ],
            "type": "surface"
           }
          ],
          "table": [
           {
            "cells": {
             "fill": {
              "color": "#EBF0F8"
             },
             "line": {
              "color": "white"
             }
            },
            "header": {
             "fill": {
              "color": "#C8D4E3"
             },
             "line": {
              "color": "white"
             }
            },
            "type": "table"
           }
          ]
         },
         "layout": {
          "annotationdefaults": {
           "arrowcolor": "#2a3f5f",
           "arrowhead": 0,
           "arrowwidth": 1
          },
          "autotypenumbers": "strict",
          "coloraxis": {
           "colorbar": {
            "outlinewidth": 0,
            "ticks": ""
           }
          },
          "colorscale": {
           "diverging": [
            [
             0,
             "#8e0152"
            ],
            [
             0.1,
             "#c51b7d"
            ],
            [
             0.2,
             "#de77ae"
            ],
            [
             0.3,
             "#f1b6da"
            ],
            [
             0.4,
             "#fde0ef"
            ],
            [
             0.5,
             "#f7f7f7"
            ],
            [
             0.6,
             "#e6f5d0"
            ],
            [
             0.7,
             "#b8e186"
            ],
            [
             0.8,
             "#7fbc41"
            ],
            [
             0.9,
             "#4d9221"
            ],
            [
             1,
             "#276419"
            ]
           ],
           "sequential": [
            [
             0,
             "#0d0887"
            ],
            [
             0.1111111111111111,
             "#46039f"
            ],
            [
             0.2222222222222222,
             "#7201a8"
            ],
            [
             0.3333333333333333,
             "#9c179e"
            ],
            [
             0.4444444444444444,
             "#bd3786"
            ],
            [
             0.5555555555555556,
             "#d8576b"
            ],
            [
             0.6666666666666666,
             "#ed7953"
            ],
            [
             0.7777777777777778,
             "#fb9f3a"
            ],
            [
             0.8888888888888888,
             "#fdca26"
            ],
            [
             1,
             "#f0f921"
            ]
           ],
           "sequentialminus": [
            [
             0,
             "#0d0887"
            ],
            [
             0.1111111111111111,
             "#46039f"
            ],
            [
             0.2222222222222222,
             "#7201a8"
            ],
            [
             0.3333333333333333,
             "#9c179e"
            ],
            [
             0.4444444444444444,
             "#bd3786"
            ],
            [
             0.5555555555555556,
             "#d8576b"
            ],
            [
             0.6666666666666666,
             "#ed7953"
            ],
            [
             0.7777777777777778,
             "#fb9f3a"
            ],
            [
             0.8888888888888888,
             "#fdca26"
            ],
            [
             1,
             "#f0f921"
            ]
           ]
          },
          "colorway": [
           "#636efa",
           "#EF553B",
           "#00cc96",
           "#ab63fa",
           "#FFA15A",
           "#19d3f3",
           "#FF6692",
           "#B6E880",
           "#FF97FF",
           "#FECB52"
          ],
          "font": {
           "color": "#2a3f5f"
          },
          "geo": {
           "bgcolor": "white",
           "lakecolor": "white",
           "landcolor": "#E5ECF6",
           "showlakes": true,
           "showland": true,
           "subunitcolor": "white"
          },
          "hoverlabel": {
           "align": "left"
          },
          "hovermode": "closest",
          "mapbox": {
           "style": "light"
          },
          "paper_bgcolor": "white",
          "plot_bgcolor": "#E5ECF6",
          "polar": {
           "angularaxis": {
            "gridcolor": "white",
            "linecolor": "white",
            "ticks": ""
           },
           "bgcolor": "#E5ECF6",
           "radialaxis": {
            "gridcolor": "white",
            "linecolor": "white",
            "ticks": ""
           }
          },
          "scene": {
           "xaxis": {
            "backgroundcolor": "#E5ECF6",
            "gridcolor": "white",
            "gridwidth": 2,
            "linecolor": "white",
            "showbackground": true,
            "ticks": "",
            "zerolinecolor": "white"
           },
           "yaxis": {
            "backgroundcolor": "#E5ECF6",
            "gridcolor": "white",
            "gridwidth": 2,
            "linecolor": "white",
            "showbackground": true,
            "ticks": "",
            "zerolinecolor": "white"
           },
           "zaxis": {
            "backgroundcolor": "#E5ECF6",
            "gridcolor": "white",
            "gridwidth": 2,
            "linecolor": "white",
            "showbackground": true,
            "ticks": "",
            "zerolinecolor": "white"
           }
          },
          "shapedefaults": {
           "line": {
            "color": "#2a3f5f"
           }
          },
          "ternary": {
           "aaxis": {
            "gridcolor": "white",
            "linecolor": "white",
            "ticks": ""
           },
           "baxis": {
            "gridcolor": "white",
            "linecolor": "white",
            "ticks": ""
           },
           "bgcolor": "#E5ECF6",
           "caxis": {
            "gridcolor": "white",
            "linecolor": "white",
            "ticks": ""
           }
          },
          "title": {
           "x": 0.05
          },
          "xaxis": {
           "automargin": true,
           "gridcolor": "white",
           "linecolor": "white",
           "ticks": "",
           "title": {
            "standoff": 15
           },
           "zerolinecolor": "white",
           "zerolinewidth": 2
          },
          "yaxis": {
           "automargin": true,
           "gridcolor": "white",
           "linecolor": "white",
           "ticks": "",
           "title": {
            "standoff": 15
           },
           "zerolinecolor": "white",
           "zerolinewidth": 2
          }
         }
        },
        "xaxis": {
         "anchor": "y",
         "domain": [
          0,
          1
         ],
         "title": {
          "text": "region"
         }
        },
        "yaxis": {
         "anchor": "x",
         "domain": [
          0,
          1
         ],
         "title": {
          "text": "value"
         }
        }
       }
      },
      "text/html": [
       "<div>                            <div id=\"2c95635a-c7c9-47b2-ba51-36afbc93bea9\" class=\"plotly-graph-div\" style=\"height:525px; width:100%;\"></div>            <script type=\"text/javascript\">                require([\"plotly\"], function(Plotly) {                    window.PLOTLYENV=window.PLOTLYENV || {};                                    if (document.getElementById(\"2c95635a-c7c9-47b2-ba51-36afbc93bea9\")) {                    Plotly.newPlot(                        \"2c95635a-c7c9-47b2-ba51-36afbc93bea9\",                        [{\"alignmentgroup\":\"True\",\"hovertemplate\":\"variable=wine<br>region=%{x}<br>value=%{y}<extra></extra>\",\"legendgroup\":\"wine\",\"marker\":{\"color\":\"#636efa\",\"pattern\":{\"shape\":\"\"}},\"name\":\"wine\",\"offsetgroup\":\"wine\",\"orientation\":\"v\",\"showlegend\":true,\"textposition\":\"auto\",\"x\":[\"Republic of Dagestan\",\"Republic of Ingushetia\",\"Republic of North Ossetia-Alania\",\"Karachay-Cherkess Republic\",\"Republic of Kalmykia\"],\"xaxis\":\"x\",\"y\":[2.635263157894737,7.45,1.743157894736842,2.1189473684210527,3.4721052631578946],\"yaxis\":\"y\",\"type\":\"bar\"},{\"alignmentgroup\":\"True\",\"hovertemplate\":\"variable=beer<br>region=%{x}<br>value=%{y}<extra></extra>\",\"legendgroup\":\"beer\",\"marker\":{\"color\":\"#EF553B\",\"pattern\":{\"shape\":\"\"}},\"name\":\"beer\",\"offsetgroup\":\"beer\",\"orientation\":\"v\",\"showlegend\":true,\"textposition\":\"auto\",\"x\":[\"Republic of Dagestan\",\"Republic of Ingushetia\",\"Republic of North Ossetia-Alania\",\"Karachay-Cherkess Republic\",\"Republic of Kalmykia\"],\"xaxis\":\"x\",\"y\":[4.644210526315789,8.625,17.439473684210526,20.880526315789474,19.531578947368423],\"yaxis\":\"y\",\"type\":\"bar\"},{\"alignmentgroup\":\"True\",\"hovertemplate\":\"variable=vodka<br>region=%{x}<br>value=%{y}<extra></extra>\",\"legendgroup\":\"vodka\",\"marker\":{\"color\":\"#00cc96\",\"pattern\":{\"shape\":\"\"}},\"name\":\"vodka\",\"offsetgroup\":\"vodka\",\"orientation\":\"v\",\"showlegend\":true,\"textposition\":\"auto\",\"x\":[\"Republic of Dagestan\",\"Republic of Ingushetia\",\"Republic of North Ossetia-Alania\",\"Karachay-Cherkess Republic\",\"Republic of Kalmykia\"],\"xaxis\":\"x\",\"y\":[6.714736842105263,4.125,4.897368421052631,6.435263157894736,8.866842105263158],\"yaxis\":\"y\",\"type\":\"bar\"},{\"alignmentgroup\":\"True\",\"hovertemplate\":\"variable=champagne<br>region=%{x}<br>value=%{y}<extra></extra>\",\"legendgroup\":\"champagne\",\"marker\":{\"color\":\"#ab63fa\",\"pattern\":{\"shape\":\"\"}},\"name\":\"champagne\",\"offsetgroup\":\"champagne\",\"orientation\":\"v\",\"showlegend\":true,\"textposition\":\"auto\",\"x\":[\"Republic of Dagestan\",\"Republic of Ingushetia\",\"Republic of North Ossetia-Alania\",\"Karachay-Cherkess Republic\",\"Republic of Kalmykia\"],\"xaxis\":\"x\",\"y\":[0.6410526315789473,0.925,0.7673684210526316,0.31947368421052635,0.7436842105263158],\"yaxis\":\"y\",\"type\":\"bar\"},{\"alignmentgroup\":\"True\",\"hovertemplate\":\"variable=brandy<br>region=%{x}<br>value=%{y}<extra></extra>\",\"legendgroup\":\"brandy\",\"marker\":{\"color\":\"#FFA15A\",\"pattern\":{\"shape\":\"\"}},\"name\":\"brandy\",\"offsetgroup\":\"brandy\",\"orientation\":\"v\",\"showlegend\":true,\"textposition\":\"auto\",\"x\":[\"Republic of Dagestan\",\"Republic of Ingushetia\",\"Republic of North Ossetia-Alania\",\"Karachay-Cherkess Republic\",\"Republic of Kalmykia\"],\"xaxis\":\"x\",\"y\":[0.27210526315789474,0.9,0.14,0.27578947368421053,0.28],\"yaxis\":\"y\",\"type\":\"bar\"}],                        {\"template\":{\"data\":{\"bar\":[{\"error_x\":{\"color\":\"#2a3f5f\"},\"error_y\":{\"color\":\"#2a3f5f\"},\"marker\":{\"line\":{\"color\":\"#E5ECF6\",\"width\":0.5},\"pattern\":{\"fillmode\":\"overlay\",\"size\":10,\"solidity\":0.2}},\"type\":\"bar\"}],\"barpolar\":[{\"marker\":{\"line\":{\"color\":\"#E5ECF6\",\"width\":0.5},\"pattern\":{\"fillmode\":\"overlay\",\"size\":10,\"solidity\":0.2}},\"type\":\"barpolar\"}],\"carpet\":[{\"aaxis\":{\"endlinecolor\":\"#2a3f5f\",\"gridcolor\":\"white\",\"linecolor\":\"white\",\"minorgridcolor\":\"white\",\"startlinecolor\":\"#2a3f5f\"},\"baxis\":{\"endlinecolor\":\"#2a3f5f\",\"gridcolor\":\"white\",\"linecolor\":\"white\",\"minorgridcolor\":\"white\",\"startlinecolor\":\"#2a3f5f\"},\"type\":\"carpet\"}],\"choropleth\":[{\"colorbar\":{\"outlinewidth\":0,\"ticks\":\"\"},\"type\":\"choropleth\"}],\"contour\":[{\"colorbar\":{\"outlinewidth\":0,\"ticks\":\"\"},\"colorscale\":[[0.0,\"#0d0887\"],[0.1111111111111111,\"#46039f\"],[0.2222222222222222,\"#7201a8\"],[0.3333333333333333,\"#9c179e\"],[0.4444444444444444,\"#bd3786\"],[0.5555555555555556,\"#d8576b\"],[0.6666666666666666,\"#ed7953\"],[0.7777777777777778,\"#fb9f3a\"],[0.8888888888888888,\"#fdca26\"],[1.0,\"#f0f921\"]],\"type\":\"contour\"}],\"contourcarpet\":[{\"colorbar\":{\"outlinewidth\":0,\"ticks\":\"\"},\"type\":\"contourcarpet\"}],\"heatmap\":[{\"colorbar\":{\"outlinewidth\":0,\"ticks\":\"\"},\"colorscale\":[[0.0,\"#0d0887\"],[0.1111111111111111,\"#46039f\"],[0.2222222222222222,\"#7201a8\"],[0.3333333333333333,\"#9c179e\"],[0.4444444444444444,\"#bd3786\"],[0.5555555555555556,\"#d8576b\"],[0.6666666666666666,\"#ed7953\"],[0.7777777777777778,\"#fb9f3a\"],[0.8888888888888888,\"#fdca26\"],[1.0,\"#f0f921\"]],\"type\":\"heatmap\"}],\"heatmapgl\":[{\"colorbar\":{\"outlinewidth\":0,\"ticks\":\"\"},\"colorscale\":[[0.0,\"#0d0887\"],[0.1111111111111111,\"#46039f\"],[0.2222222222222222,\"#7201a8\"],[0.3333333333333333,\"#9c179e\"],[0.4444444444444444,\"#bd3786\"],[0.5555555555555556,\"#d8576b\"],[0.6666666666666666,\"#ed7953\"],[0.7777777777777778,\"#fb9f3a\"],[0.8888888888888888,\"#fdca26\"],[1.0,\"#f0f921\"]],\"type\":\"heatmapgl\"}],\"histogram\":[{\"marker\":{\"pattern\":{\"fillmode\":\"overlay\",\"size\":10,\"solidity\":0.2}},\"type\":\"histogram\"}],\"histogram2d\":[{\"colorbar\":{\"outlinewidth\":0,\"ticks\":\"\"},\"colorscale\":[[0.0,\"#0d0887\"],[0.1111111111111111,\"#46039f\"],[0.2222222222222222,\"#7201a8\"],[0.3333333333333333,\"#9c179e\"],[0.4444444444444444,\"#bd3786\"],[0.5555555555555556,\"#d8576b\"],[0.6666666666666666,\"#ed7953\"],[0.7777777777777778,\"#fb9f3a\"],[0.8888888888888888,\"#fdca26\"],[1.0,\"#f0f921\"]],\"type\":\"histogram2d\"}],\"histogram2dcontour\":[{\"colorbar\":{\"outlinewidth\":0,\"ticks\":\"\"},\"colorscale\":[[0.0,\"#0d0887\"],[0.1111111111111111,\"#46039f\"],[0.2222222222222222,\"#7201a8\"],[0.3333333333333333,\"#9c179e\"],[0.4444444444444444,\"#bd3786\"],[0.5555555555555556,\"#d8576b\"],[0.6666666666666666,\"#ed7953\"],[0.7777777777777778,\"#fb9f3a\"],[0.8888888888888888,\"#fdca26\"],[1.0,\"#f0f921\"]],\"type\":\"histogram2dcontour\"}],\"mesh3d\":[{\"colorbar\":{\"outlinewidth\":0,\"ticks\":\"\"},\"type\":\"mesh3d\"}],\"parcoords\":[{\"line\":{\"colorbar\":{\"outlinewidth\":0,\"ticks\":\"\"}},\"type\":\"parcoords\"}],\"pie\":[{\"automargin\":true,\"type\":\"pie\"}],\"scatter\":[{\"marker\":{\"colorbar\":{\"outlinewidth\":0,\"ticks\":\"\"}},\"type\":\"scatter\"}],\"scatter3d\":[{\"line\":{\"colorbar\":{\"outlinewidth\":0,\"ticks\":\"\"}},\"marker\":{\"colorbar\":{\"outlinewidth\":0,\"ticks\":\"\"}},\"type\":\"scatter3d\"}],\"scattercarpet\":[{\"marker\":{\"colorbar\":{\"outlinewidth\":0,\"ticks\":\"\"}},\"type\":\"scattercarpet\"}],\"scattergeo\":[{\"marker\":{\"colorbar\":{\"outlinewidth\":0,\"ticks\":\"\"}},\"type\":\"scattergeo\"}],\"scattergl\":[{\"marker\":{\"colorbar\":{\"outlinewidth\":0,\"ticks\":\"\"}},\"type\":\"scattergl\"}],\"scattermapbox\":[{\"marker\":{\"colorbar\":{\"outlinewidth\":0,\"ticks\":\"\"}},\"type\":\"scattermapbox\"}],\"scatterpolar\":[{\"marker\":{\"colorbar\":{\"outlinewidth\":0,\"ticks\":\"\"}},\"type\":\"scatterpolar\"}],\"scatterpolargl\":[{\"marker\":{\"colorbar\":{\"outlinewidth\":0,\"ticks\":\"\"}},\"type\":\"scatterpolargl\"}],\"scatterternary\":[{\"marker\":{\"colorbar\":{\"outlinewidth\":0,\"ticks\":\"\"}},\"type\":\"scatterternary\"}],\"surface\":[{\"colorbar\":{\"outlinewidth\":0,\"ticks\":\"\"},\"colorscale\":[[0.0,\"#0d0887\"],[0.1111111111111111,\"#46039f\"],[0.2222222222222222,\"#7201a8\"],[0.3333333333333333,\"#9c179e\"],[0.4444444444444444,\"#bd3786\"],[0.5555555555555556,\"#d8576b\"],[0.6666666666666666,\"#ed7953\"],[0.7777777777777778,\"#fb9f3a\"],[0.8888888888888888,\"#fdca26\"],[1.0,\"#f0f921\"]],\"type\":\"surface\"}],\"table\":[{\"cells\":{\"fill\":{\"color\":\"#EBF0F8\"},\"line\":{\"color\":\"white\"}},\"header\":{\"fill\":{\"color\":\"#C8D4E3\"},\"line\":{\"color\":\"white\"}},\"type\":\"table\"}]},\"layout\":{\"annotationdefaults\":{\"arrowcolor\":\"#2a3f5f\",\"arrowhead\":0,\"arrowwidth\":1},\"autotypenumbers\":\"strict\",\"coloraxis\":{\"colorbar\":{\"outlinewidth\":0,\"ticks\":\"\"}},\"colorscale\":{\"diverging\":[[0,\"#8e0152\"],[0.1,\"#c51b7d\"],[0.2,\"#de77ae\"],[0.3,\"#f1b6da\"],[0.4,\"#fde0ef\"],[0.5,\"#f7f7f7\"],[0.6,\"#e6f5d0\"],[0.7,\"#b8e186\"],[0.8,\"#7fbc41\"],[0.9,\"#4d9221\"],[1,\"#276419\"]],\"sequential\":[[0.0,\"#0d0887\"],[0.1111111111111111,\"#46039f\"],[0.2222222222222222,\"#7201a8\"],[0.3333333333333333,\"#9c179e\"],[0.4444444444444444,\"#bd3786\"],[0.5555555555555556,\"#d8576b\"],[0.6666666666666666,\"#ed7953\"],[0.7777777777777778,\"#fb9f3a\"],[0.8888888888888888,\"#fdca26\"],[1.0,\"#f0f921\"]],\"sequentialminus\":[[0.0,\"#0d0887\"],[0.1111111111111111,\"#46039f\"],[0.2222222222222222,\"#7201a8\"],[0.3333333333333333,\"#9c179e\"],[0.4444444444444444,\"#bd3786\"],[0.5555555555555556,\"#d8576b\"],[0.6666666666666666,\"#ed7953\"],[0.7777777777777778,\"#fb9f3a\"],[0.8888888888888888,\"#fdca26\"],[1.0,\"#f0f921\"]]},\"colorway\":[\"#636efa\",\"#EF553B\",\"#00cc96\",\"#ab63fa\",\"#FFA15A\",\"#19d3f3\",\"#FF6692\",\"#B6E880\",\"#FF97FF\",\"#FECB52\"],\"font\":{\"color\":\"#2a3f5f\"},\"geo\":{\"bgcolor\":\"white\",\"lakecolor\":\"white\",\"landcolor\":\"#E5ECF6\",\"showlakes\":true,\"showland\":true,\"subunitcolor\":\"white\"},\"hoverlabel\":{\"align\":\"left\"},\"hovermode\":\"closest\",\"mapbox\":{\"style\":\"light\"},\"paper_bgcolor\":\"white\",\"plot_bgcolor\":\"#E5ECF6\",\"polar\":{\"angularaxis\":{\"gridcolor\":\"white\",\"linecolor\":\"white\",\"ticks\":\"\"},\"bgcolor\":\"#E5ECF6\",\"radialaxis\":{\"gridcolor\":\"white\",\"linecolor\":\"white\",\"ticks\":\"\"}},\"scene\":{\"xaxis\":{\"backgroundcolor\":\"#E5ECF6\",\"gridcolor\":\"white\",\"gridwidth\":2,\"linecolor\":\"white\",\"showbackground\":true,\"ticks\":\"\",\"zerolinecolor\":\"white\"},\"yaxis\":{\"backgroundcolor\":\"#E5ECF6\",\"gridcolor\":\"white\",\"gridwidth\":2,\"linecolor\":\"white\",\"showbackground\":true,\"ticks\":\"\",\"zerolinecolor\":\"white\"},\"zaxis\":{\"backgroundcolor\":\"#E5ECF6\",\"gridcolor\":\"white\",\"gridwidth\":2,\"linecolor\":\"white\",\"showbackground\":true,\"ticks\":\"\",\"zerolinecolor\":\"white\"}},\"shapedefaults\":{\"line\":{\"color\":\"#2a3f5f\"}},\"ternary\":{\"aaxis\":{\"gridcolor\":\"white\",\"linecolor\":\"white\",\"ticks\":\"\"},\"baxis\":{\"gridcolor\":\"white\",\"linecolor\":\"white\",\"ticks\":\"\"},\"bgcolor\":\"#E5ECF6\",\"caxis\":{\"gridcolor\":\"white\",\"linecolor\":\"white\",\"ticks\":\"\"}},\"title\":{\"x\":0.05},\"xaxis\":{\"automargin\":true,\"gridcolor\":\"white\",\"linecolor\":\"white\",\"ticks\":\"\",\"title\":{\"standoff\":15},\"zerolinecolor\":\"white\",\"zerolinewidth\":2},\"yaxis\":{\"automargin\":true,\"gridcolor\":\"white\",\"linecolor\":\"white\",\"ticks\":\"\",\"title\":{\"standoff\":15},\"zerolinecolor\":\"white\",\"zerolinewidth\":2}}},\"xaxis\":{\"anchor\":\"y\",\"domain\":[0.0,1.0],\"title\":{\"text\":\"region\"}},\"yaxis\":{\"anchor\":\"x\",\"domain\":[0.0,1.0],\"title\":{\"text\":\"value\"}},\"legend\":{\"title\":{\"text\":\"variable\"},\"tracegroupgap\":0},\"margin\":{\"t\":60},\"barmode\":\"relative\"},                        {\"responsive\": true}                    ).then(function(){\n",
       "                            \n",
       "var gd = document.getElementById('2c95635a-c7c9-47b2-ba51-36afbc93bea9');\n",
       "var x = new MutationObserver(function (mutations, observer) {{\n",
       "        var display = window.getComputedStyle(gd).display;\n",
       "        if (!display || display === 'none') {{\n",
       "            console.log([gd, 'removed!']);\n",
       "            Plotly.purge(gd);\n",
       "            observer.disconnect();\n",
       "        }}\n",
       "}});\n",
       "\n",
       "// Listen for the removal of the full notebook cells\n",
       "var notebookContainer = gd.closest('#notebook-container');\n",
       "if (notebookContainer) {{\n",
       "    x.observe(notebookContainer, {childList: true});\n",
       "}}\n",
       "\n",
       "// Listen for the clearing of the current output cell\n",
       "var outputEl = gd.closest('.output');\n",
       "if (outputEl) {{\n",
       "    x.observe(outputEl, {childList: true});\n",
       "}}\n",
       "\n",
       "                        })                };                });            </script>        </div>"
      ]
     },
     "metadata": {},
     "output_type": "display_data"
    }
   ],
   "source": [
    "fig = px.bar(df_region.sort_values(by = \"total_volume_mean\", ascending = True).head(5), x='region', y=drink_cat)#.update_xaxes(categoryorder=\"total descending\")\n",
    "fig.show()"
   ]
  },
  {
   "cell_type": "markdown",
   "id": "327536ad",
   "metadata": {},
   "source": [
    "The republic with the lowest alcohol sales per capita is the Chechen Republic. Not surprising since the population is predominantly muslim (95% according to wikipedia). Similar goes for the other five regions with the lowest alcohol sales. Interessting is that the Chechen Republic it is the only region without a drop for vodka, while with others there is a significant proportion of vodka in the total volume."
   ]
  },
  {
   "cell_type": "markdown",
   "id": "9b627096",
   "metadata": {},
   "source": [
    "### d. What role does the level of urbanization play in the alcohol consumption in different regions?"
   ]
  },
  {
   "cell_type": "code",
   "execution_count": 156,
   "id": "f5c5a438",
   "metadata": {},
   "outputs": [
    {
     "data": {
      "application/vnd.plotly.v1+json": {
       "config": {
        "plotlyServerURL": "https://plot.ly"
       },
       "data": [
        {
         "alignmentgroup": "True",
         "hovertemplate": "region=%{x}<br>total_volume_mean=%{y}<br>urbanization=%{marker.color}<extra></extra>",
         "legendgroup": "",
         "marker": {
          "color": [
           54.18473684210526,
           27.05315789473684,
           66.60105263157895,
           75.45263157894736,
           67.27631578947368,
           65.80947368421053,
           68.83526315789473,
           81.91947368421053,
           66.37315789473683,
           59.98315789473685,
           79.39105263157894,
           81.49315789473684,
           67.47526315789473,
           55.72263157894737,
           77.56842105263158,
           75.23315789473685,
           79.11947368421052,
           43.66,
           85.83421052631579,
           81.2442105263158,
           91.29789473684211,
           73.01631578947368,
           76.22842105263157,
           68.76631578947368,
           53.3778947368421,
           75.91052631578947,
           58.63263157894737,
           63.39052631578948,
           65.79894736842105,
           63.86105263157896,
           93.63157894736842,
           63.409473684210525,
           99.7578947368421,
           80.18157894736842,
           92.43368421052632,
           66.19947368421053,
           78.50894736842106,
           70.45473684210526,
           76.26894736842105,
           70.25052631578947,
           59.43421052631579,
           64.67736842105263,
           66.19263157894736,
           75.3678947368421,
           76.85631578947368,
           68.18157894736842,
           50.67631578947368,
           61.8757894736842,
           58.41210526315789,
           50.75,
           43.992105263157896,
           42.565,
           43.66315789473684,
           76.68526315789474,
           69.76368421052632,
           59.86526315789474,
           64.94315789473684,
           74.75368421052632,
           67.3978947368421,
           69.88684210526317,
           100,
           64.41473684210527,
           82.32105263157894,
           80.34473684210526,
           74.0957894736842,
           92.55000000000001,
           71.47157894736843,
           56.646842105263154,
           85.28210526315789,
           58.17,
           69.16947368421053,
           79.6757894736842,
           52.01157894736842,
           73.81,
           67.18736842105262,
           68.7163157894737,
           73.4042105263158,
           78.39157894736843,
           75.57315789473685,
           69.79421052631578,
           63.223684210526315,
           84.03894736842105,
           81.39368421052632,
           65.07
          ],
          "coloraxis": "coloraxis",
          "pattern": {
           "shape": ""
          }
         },
         "name": "",
         "offsetgroup": "",
         "orientation": "v",
         "showlegend": false,
         "textposition": "auto",
         "type": "bar",
         "x": [
          "Altai Krai",
          "Altai Republic",
          "Amur Oblast",
          "Arkhangelsk Oblast",
          "Astrakhan Oblast",
          "Belgorod Oblast",
          "Bryansk Oblast",
          "Chelyabinsk Oblast",
          "Chukotka Autonomous Okrug",
          "Chuvash Republic",
          "Irkutsk Oblast",
          "Ivanovo Oblast",
          "Jewish Autonomous Oblast",
          "Kabardino-Balkar Republic",
          "Kaliningrad Oblast",
          "Kaluga Oblast",
          "Kamchatka Krai",
          "Karachay-Cherkess Republic",
          "Kemerovo Oblast",
          "Khabarovsk Krai",
          "Khanty–Mansi Autonomous Okrug – Yugra",
          "Kirov Oblast",
          "Komi Republic",
          "Kostroma Oblast",
          "Krasnodar Krai",
          "Krasnoyarsk Krai",
          "Kurgan Oblast",
          "Kursk Oblast",
          "Leningrad Oblast",
          "Lipetsk Oblast",
          "Magadan Oblast",
          "Mari El Republic",
          "Moscow",
          "Moscow Oblast",
          "Murmansk Oblast",
          "Nenets Autonomous Okrug",
          "Nizhny Novgorod Oblast",
          "Novgorod Oblast",
          "Novosibirsk Oblast",
          "Omsk Oblast",
          "Orenburg Oblast",
          "Oryol Oblast",
          "Penza Oblast",
          "Perm Krai",
          "Primorsky Krai",
          "Pskov Oblast",
          "Republic of Adygea",
          "Republic of Bashkortostan",
          "Republic of Buryatia",
          "Republic of Crimea",
          "Republic of Dagestan",
          "Republic of Ingushetia",
          "Republic of Kalmykia",
          "Republic of Karelia",
          "Republic of Khakassia",
          "Republic of Mordovia",
          "Republic of North Ossetia-Alania",
          "Republic of Tatarstan",
          "Rostov Oblast",
          "Ryazan Oblast",
          "Saint Petersburg",
          "Sakha (Yakutia) Republic",
          "Sakhalin Oblast",
          "Samara Oblast",
          "Saratov Oblast",
          "Sevastopol",
          "Smolensk Oblast",
          "Stavropol Krai",
          "Sverdlovsk Oblast",
          "Tambov Oblast",
          "Tomsk Oblast",
          "Tula Oblast",
          "Tuva Republic",
          "Tver Oblast",
          "Tyumen Oblast",
          "Udmurt Republic",
          "Ulyanovsk Oblast",
          "Vladimir Oblast",
          "Volgograd Oblast",
          "Vologda Oblast",
          "Voronezh Oblast",
          "Yamalo-Nenets Autonomous Okrug",
          "Yaroslavl Oblast",
          "Zabaykalsky Krai"
         ],
         "xaxis": "x",
         "y": [
          62.45736842105263,
          52.78631578947368,
          74.32842105263158,
          75.58947368421055,
          69.68421052631578,
          52.339999999999996,
          59.772105263157904,
          96.06105263157895,
          35.29789473684211,
          54.293684210526315,
          82.99368421052631,
          93.91526315789474,
          61.39842105263157,
          34.24526315789474,
          80.45473684210526,
          73.62894736842105,
          90.54473684210527,
          30.03,
          80.23894736842104,
          93.4721052631579,
          96.54894736842105,
          77.89684210526315,
          98.12947368421054,
          64.58736842105263,
          71.55684210526317,
          83.39052631578949,
          72.20736842105262,
          70.25105263157894,
          87.70842105263159,
          71.4642105263158,
          73.18736842105264,
          47.64473684210526,
          115.73631578947368,
          86.62,
          73.21684210526315,
          77.05105263157894,
          67.71263157894735,
          68.52315789473685,
          83.96052631578947,
          91.6078947368421,
          59.74526315789473,
          61.26947368421053,
          71.08105263157896,
          83.78736842105263,
          71.5842105263158,
          70.2142105263158,
          40.22105263157894,
          68.20052631578947,
          51.94105263157895,
          44.26666666666666,
          14.907368421052633,
          22.025,
          32.894210526315796,
          70.26947368421052,
          85.46842105263156,
          54.73315789473684,
          24.98736842105263,
          76.25578947368422,
          60.94578947368421,
          66.89052631578949,
          106.7357894736842,
          58.48421052631579,
          77.26526315789474,
          64.75157894736842,
          52.91473684210526,
          35.166666666666664,
          88.53052631578949,
          66.79894736842105,
          94.95526315789473,
          65.64842105263158,
          66.08052631578947,
          58.80947368421053,
          64.83894736842106,
          78.45368421052632,
          99.58578947368422,
          73.73263157894738,
          60.377368421052644,
          63.897368421052626,
          72.26315789473684,
          95.1284210526316,
          71.36736842105263,
          102.98052631578945,
          87.28105263157894,
          90.40947368421054
         ],
         "yaxis": "y"
        }
       ],
       "layout": {
        "barmode": "relative",
        "coloraxis": {
         "colorbar": {
          "title": {
           "text": "urbanization"
          }
         },
         "colorscale": [
          [
           0,
           "#0d0887"
          ],
          [
           0.1111111111111111,
           "#46039f"
          ],
          [
           0.2222222222222222,
           "#7201a8"
          ],
          [
           0.3333333333333333,
           "#9c179e"
          ],
          [
           0.4444444444444444,
           "#bd3786"
          ],
          [
           0.5555555555555556,
           "#d8576b"
          ],
          [
           0.6666666666666666,
           "#ed7953"
          ],
          [
           0.7777777777777778,
           "#fb9f3a"
          ],
          [
           0.8888888888888888,
           "#fdca26"
          ],
          [
           1,
           "#f0f921"
          ]
         ]
        },
        "legend": {
         "tracegroupgap": 0
        },
        "margin": {
         "t": 60
        },
        "template": {
         "data": {
          "bar": [
           {
            "error_x": {
             "color": "#2a3f5f"
            },
            "error_y": {
             "color": "#2a3f5f"
            },
            "marker": {
             "line": {
              "color": "#E5ECF6",
              "width": 0.5
             },
             "pattern": {
              "fillmode": "overlay",
              "size": 10,
              "solidity": 0.2
             }
            },
            "type": "bar"
           }
          ],
          "barpolar": [
           {
            "marker": {
             "line": {
              "color": "#E5ECF6",
              "width": 0.5
             },
             "pattern": {
              "fillmode": "overlay",
              "size": 10,
              "solidity": 0.2
             }
            },
            "type": "barpolar"
           }
          ],
          "carpet": [
           {
            "aaxis": {
             "endlinecolor": "#2a3f5f",
             "gridcolor": "white",
             "linecolor": "white",
             "minorgridcolor": "white",
             "startlinecolor": "#2a3f5f"
            },
            "baxis": {
             "endlinecolor": "#2a3f5f",
             "gridcolor": "white",
             "linecolor": "white",
             "minorgridcolor": "white",
             "startlinecolor": "#2a3f5f"
            },
            "type": "carpet"
           }
          ],
          "choropleth": [
           {
            "colorbar": {
             "outlinewidth": 0,
             "ticks": ""
            },
            "type": "choropleth"
           }
          ],
          "contour": [
           {
            "colorbar": {
             "outlinewidth": 0,
             "ticks": ""
            },
            "colorscale": [
             [
              0,
              "#0d0887"
             ],
             [
              0.1111111111111111,
              "#46039f"
             ],
             [
              0.2222222222222222,
              "#7201a8"
             ],
             [
              0.3333333333333333,
              "#9c179e"
             ],
             [
              0.4444444444444444,
              "#bd3786"
             ],
             [
              0.5555555555555556,
              "#d8576b"
             ],
             [
              0.6666666666666666,
              "#ed7953"
             ],
             [
              0.7777777777777778,
              "#fb9f3a"
             ],
             [
              0.8888888888888888,
              "#fdca26"
             ],
             [
              1,
              "#f0f921"
             ]
            ],
            "type": "contour"
           }
          ],
          "contourcarpet": [
           {
            "colorbar": {
             "outlinewidth": 0,
             "ticks": ""
            },
            "type": "contourcarpet"
           }
          ],
          "heatmap": [
           {
            "colorbar": {
             "outlinewidth": 0,
             "ticks": ""
            },
            "colorscale": [
             [
              0,
              "#0d0887"
             ],
             [
              0.1111111111111111,
              "#46039f"
             ],
             [
              0.2222222222222222,
              "#7201a8"
             ],
             [
              0.3333333333333333,
              "#9c179e"
             ],
             [
              0.4444444444444444,
              "#bd3786"
             ],
             [
              0.5555555555555556,
              "#d8576b"
             ],
             [
              0.6666666666666666,
              "#ed7953"
             ],
             [
              0.7777777777777778,
              "#fb9f3a"
             ],
             [
              0.8888888888888888,
              "#fdca26"
             ],
             [
              1,
              "#f0f921"
             ]
            ],
            "type": "heatmap"
           }
          ],
          "heatmapgl": [
           {
            "colorbar": {
             "outlinewidth": 0,
             "ticks": ""
            },
            "colorscale": [
             [
              0,
              "#0d0887"
             ],
             [
              0.1111111111111111,
              "#46039f"
             ],
             [
              0.2222222222222222,
              "#7201a8"
             ],
             [
              0.3333333333333333,
              "#9c179e"
             ],
             [
              0.4444444444444444,
              "#bd3786"
             ],
             [
              0.5555555555555556,
              "#d8576b"
             ],
             [
              0.6666666666666666,
              "#ed7953"
             ],
             [
              0.7777777777777778,
              "#fb9f3a"
             ],
             [
              0.8888888888888888,
              "#fdca26"
             ],
             [
              1,
              "#f0f921"
             ]
            ],
            "type": "heatmapgl"
           }
          ],
          "histogram": [
           {
            "marker": {
             "pattern": {
              "fillmode": "overlay",
              "size": 10,
              "solidity": 0.2
             }
            },
            "type": "histogram"
           }
          ],
          "histogram2d": [
           {
            "colorbar": {
             "outlinewidth": 0,
             "ticks": ""
            },
            "colorscale": [
             [
              0,
              "#0d0887"
             ],
             [
              0.1111111111111111,
              "#46039f"
             ],
             [
              0.2222222222222222,
              "#7201a8"
             ],
             [
              0.3333333333333333,
              "#9c179e"
             ],
             [
              0.4444444444444444,
              "#bd3786"
             ],
             [
              0.5555555555555556,
              "#d8576b"
             ],
             [
              0.6666666666666666,
              "#ed7953"
             ],
             [
              0.7777777777777778,
              "#fb9f3a"
             ],
             [
              0.8888888888888888,
              "#fdca26"
             ],
             [
              1,
              "#f0f921"
             ]
            ],
            "type": "histogram2d"
           }
          ],
          "histogram2dcontour": [
           {
            "colorbar": {
             "outlinewidth": 0,
             "ticks": ""
            },
            "colorscale": [
             [
              0,
              "#0d0887"
             ],
             [
              0.1111111111111111,
              "#46039f"
             ],
             [
              0.2222222222222222,
              "#7201a8"
             ],
             [
              0.3333333333333333,
              "#9c179e"
             ],
             [
              0.4444444444444444,
              "#bd3786"
             ],
             [
              0.5555555555555556,
              "#d8576b"
             ],
             [
              0.6666666666666666,
              "#ed7953"
             ],
             [
              0.7777777777777778,
              "#fb9f3a"
             ],
             [
              0.8888888888888888,
              "#fdca26"
             ],
             [
              1,
              "#f0f921"
             ]
            ],
            "type": "histogram2dcontour"
           }
          ],
          "mesh3d": [
           {
            "colorbar": {
             "outlinewidth": 0,
             "ticks": ""
            },
            "type": "mesh3d"
           }
          ],
          "parcoords": [
           {
            "line": {
             "colorbar": {
              "outlinewidth": 0,
              "ticks": ""
             }
            },
            "type": "parcoords"
           }
          ],
          "pie": [
           {
            "automargin": true,
            "type": "pie"
           }
          ],
          "scatter": [
           {
            "marker": {
             "colorbar": {
              "outlinewidth": 0,
              "ticks": ""
             }
            },
            "type": "scatter"
           }
          ],
          "scatter3d": [
           {
            "line": {
             "colorbar": {
              "outlinewidth": 0,
              "ticks": ""
             }
            },
            "marker": {
             "colorbar": {
              "outlinewidth": 0,
              "ticks": ""
             }
            },
            "type": "scatter3d"
           }
          ],
          "scattercarpet": [
           {
            "marker": {
             "colorbar": {
              "outlinewidth": 0,
              "ticks": ""
             }
            },
            "type": "scattercarpet"
           }
          ],
          "scattergeo": [
           {
            "marker": {
             "colorbar": {
              "outlinewidth": 0,
              "ticks": ""
             }
            },
            "type": "scattergeo"
           }
          ],
          "scattergl": [
           {
            "marker": {
             "colorbar": {
              "outlinewidth": 0,
              "ticks": ""
             }
            },
            "type": "scattergl"
           }
          ],
          "scattermapbox": [
           {
            "marker": {
             "colorbar": {
              "outlinewidth": 0,
              "ticks": ""
             }
            },
            "type": "scattermapbox"
           }
          ],
          "scatterpolar": [
           {
            "marker": {
             "colorbar": {
              "outlinewidth": 0,
              "ticks": ""
             }
            },
            "type": "scatterpolar"
           }
          ],
          "scatterpolargl": [
           {
            "marker": {
             "colorbar": {
              "outlinewidth": 0,
              "ticks": ""
             }
            },
            "type": "scatterpolargl"
           }
          ],
          "scatterternary": [
           {
            "marker": {
             "colorbar": {
              "outlinewidth": 0,
              "ticks": ""
             }
            },
            "type": "scatterternary"
           }
          ],
          "surface": [
           {
            "colorbar": {
             "outlinewidth": 0,
             "ticks": ""
            },
            "colorscale": [
             [
              0,
              "#0d0887"
             ],
             [
              0.1111111111111111,
              "#46039f"
             ],
             [
              0.2222222222222222,
              "#7201a8"
             ],
             [
              0.3333333333333333,
              "#9c179e"
             ],
             [
              0.4444444444444444,
              "#bd3786"
             ],
             [
              0.5555555555555556,
              "#d8576b"
             ],
             [
              0.6666666666666666,
              "#ed7953"
             ],
             [
              0.7777777777777778,
              "#fb9f3a"
             ],
             [
              0.8888888888888888,
              "#fdca26"
             ],
             [
              1,
              "#f0f921"
             ]
            ],
            "type": "surface"
           }
          ],
          "table": [
           {
            "cells": {
             "fill": {
              "color": "#EBF0F8"
             },
             "line": {
              "color": "white"
             }
            },
            "header": {
             "fill": {
              "color": "#C8D4E3"
             },
             "line": {
              "color": "white"
             }
            },
            "type": "table"
           }
          ]
         },
         "layout": {
          "annotationdefaults": {
           "arrowcolor": "#2a3f5f",
           "arrowhead": 0,
           "arrowwidth": 1
          },
          "autotypenumbers": "strict",
          "coloraxis": {
           "colorbar": {
            "outlinewidth": 0,
            "ticks": ""
           }
          },
          "colorscale": {
           "diverging": [
            [
             0,
             "#8e0152"
            ],
            [
             0.1,
             "#c51b7d"
            ],
            [
             0.2,
             "#de77ae"
            ],
            [
             0.3,
             "#f1b6da"
            ],
            [
             0.4,
             "#fde0ef"
            ],
            [
             0.5,
             "#f7f7f7"
            ],
            [
             0.6,
             "#e6f5d0"
            ],
            [
             0.7,
             "#b8e186"
            ],
            [
             0.8,
             "#7fbc41"
            ],
            [
             0.9,
             "#4d9221"
            ],
            [
             1,
             "#276419"
            ]
           ],
           "sequential": [
            [
             0,
             "#0d0887"
            ],
            [
             0.1111111111111111,
             "#46039f"
            ],
            [
             0.2222222222222222,
             "#7201a8"
            ],
            [
             0.3333333333333333,
             "#9c179e"
            ],
            [
             0.4444444444444444,
             "#bd3786"
            ],
            [
             0.5555555555555556,
             "#d8576b"
            ],
            [
             0.6666666666666666,
             "#ed7953"
            ],
            [
             0.7777777777777778,
             "#fb9f3a"
            ],
            [
             0.8888888888888888,
             "#fdca26"
            ],
            [
             1,
             "#f0f921"
            ]
           ],
           "sequentialminus": [
            [
             0,
             "#0d0887"
            ],
            [
             0.1111111111111111,
             "#46039f"
            ],
            [
             0.2222222222222222,
             "#7201a8"
            ],
            [
             0.3333333333333333,
             "#9c179e"
            ],
            [
             0.4444444444444444,
             "#bd3786"
            ],
            [
             0.5555555555555556,
             "#d8576b"
            ],
            [
             0.6666666666666666,
             "#ed7953"
            ],
            [
             0.7777777777777778,
             "#fb9f3a"
            ],
            [
             0.8888888888888888,
             "#fdca26"
            ],
            [
             1,
             "#f0f921"
            ]
           ]
          },
          "colorway": [
           "#636efa",
           "#EF553B",
           "#00cc96",
           "#ab63fa",
           "#FFA15A",
           "#19d3f3",
           "#FF6692",
           "#B6E880",
           "#FF97FF",
           "#FECB52"
          ],
          "font": {
           "color": "#2a3f5f"
          },
          "geo": {
           "bgcolor": "white",
           "lakecolor": "white",
           "landcolor": "#E5ECF6",
           "showlakes": true,
           "showland": true,
           "subunitcolor": "white"
          },
          "hoverlabel": {
           "align": "left"
          },
          "hovermode": "closest",
          "mapbox": {
           "style": "light"
          },
          "paper_bgcolor": "white",
          "plot_bgcolor": "#E5ECF6",
          "polar": {
           "angularaxis": {
            "gridcolor": "white",
            "linecolor": "white",
            "ticks": ""
           },
           "bgcolor": "#E5ECF6",
           "radialaxis": {
            "gridcolor": "white",
            "linecolor": "white",
            "ticks": ""
           }
          },
          "scene": {
           "xaxis": {
            "backgroundcolor": "#E5ECF6",
            "gridcolor": "white",
            "gridwidth": 2,
            "linecolor": "white",
            "showbackground": true,
            "ticks": "",
            "zerolinecolor": "white"
           },
           "yaxis": {
            "backgroundcolor": "#E5ECF6",
            "gridcolor": "white",
            "gridwidth": 2,
            "linecolor": "white",
            "showbackground": true,
            "ticks": "",
            "zerolinecolor": "white"
           },
           "zaxis": {
            "backgroundcolor": "#E5ECF6",
            "gridcolor": "white",
            "gridwidth": 2,
            "linecolor": "white",
            "showbackground": true,
            "ticks": "",
            "zerolinecolor": "white"
           }
          },
          "shapedefaults": {
           "line": {
            "color": "#2a3f5f"
           }
          },
          "ternary": {
           "aaxis": {
            "gridcolor": "white",
            "linecolor": "white",
            "ticks": ""
           },
           "baxis": {
            "gridcolor": "white",
            "linecolor": "white",
            "ticks": ""
           },
           "bgcolor": "#E5ECF6",
           "caxis": {
            "gridcolor": "white",
            "linecolor": "white",
            "ticks": ""
           }
          },
          "title": {
           "x": 0.05
          },
          "xaxis": {
           "automargin": true,
           "gridcolor": "white",
           "linecolor": "white",
           "ticks": "",
           "title": {
            "standoff": 15
           },
           "zerolinecolor": "white",
           "zerolinewidth": 2
          },
          "yaxis": {
           "automargin": true,
           "gridcolor": "white",
           "linecolor": "white",
           "ticks": "",
           "title": {
            "standoff": 15
           },
           "zerolinecolor": "white",
           "zerolinewidth": 2
          }
         }
        },
        "xaxis": {
         "anchor": "y",
         "categoryorder": "total descending",
         "domain": [
          0,
          1
         ],
         "title": {
          "text": "region"
         }
        },
        "yaxis": {
         "anchor": "x",
         "domain": [
          0,
          1
         ],
         "title": {
          "text": "total_volume_mean"
         }
        }
       }
      },
      "text/html": [
       "<div>                            <div id=\"33a303d4-2fb6-428b-9cbc-9bb7c202f0b2\" class=\"plotly-graph-div\" style=\"height:525px; width:100%;\"></div>            <script type=\"text/javascript\">                require([\"plotly\"], function(Plotly) {                    window.PLOTLYENV=window.PLOTLYENV || {};                                    if (document.getElementById(\"33a303d4-2fb6-428b-9cbc-9bb7c202f0b2\")) {                    Plotly.newPlot(                        \"33a303d4-2fb6-428b-9cbc-9bb7c202f0b2\",                        [{\"alignmentgroup\":\"True\",\"hovertemplate\":\"region=%{x}<br>total_volume_mean=%{y}<br>urbanization=%{marker.color}<extra></extra>\",\"legendgroup\":\"\",\"marker\":{\"color\":[54.18473684210526,27.05315789473684,66.60105263157895,75.45263157894736,67.27631578947368,65.80947368421053,68.83526315789473,81.91947368421053,66.37315789473683,59.98315789473685,79.39105263157894,81.49315789473684,67.47526315789473,55.72263157894737,77.56842105263158,75.23315789473685,79.11947368421052,43.66,85.83421052631579,81.2442105263158,91.29789473684211,73.01631578947368,76.22842105263157,68.76631578947368,53.3778947368421,75.91052631578947,58.63263157894737,63.39052631578948,65.79894736842105,63.86105263157896,93.63157894736842,63.409473684210525,99.7578947368421,80.18157894736842,92.43368421052632,66.19947368421053,78.50894736842106,70.45473684210526,76.26894736842105,70.25052631578947,59.43421052631579,64.67736842105263,66.19263157894736,75.3678947368421,76.85631578947368,68.18157894736842,50.67631578947368,61.8757894736842,58.41210526315789,50.75,43.992105263157896,42.565,43.66315789473684,76.68526315789474,69.76368421052632,59.86526315789474,64.94315789473684,74.75368421052632,67.3978947368421,69.88684210526317,100.0,64.41473684210527,82.32105263157894,80.34473684210526,74.0957894736842,92.55000000000001,71.47157894736843,56.646842105263154,85.28210526315789,58.17,69.16947368421053,79.6757894736842,52.01157894736842,73.81,67.18736842105262,68.7163157894737,73.4042105263158,78.39157894736843,75.57315789473685,69.79421052631578,63.223684210526315,84.03894736842105,81.39368421052632,65.07],\"coloraxis\":\"coloraxis\",\"pattern\":{\"shape\":\"\"}},\"name\":\"\",\"offsetgroup\":\"\",\"orientation\":\"v\",\"showlegend\":false,\"textposition\":\"auto\",\"x\":[\"Altai Krai\",\"Altai Republic\",\"Amur Oblast\",\"Arkhangelsk Oblast\",\"Astrakhan Oblast\",\"Belgorod Oblast\",\"Bryansk Oblast\",\"Chelyabinsk Oblast\",\"Chukotka Autonomous Okrug\",\"Chuvash Republic\",\"Irkutsk Oblast\",\"Ivanovo Oblast\",\"Jewish Autonomous Oblast\",\"Kabardino-Balkar Republic\",\"Kaliningrad Oblast\",\"Kaluga Oblast\",\"Kamchatka Krai\",\"Karachay-Cherkess Republic\",\"Kemerovo Oblast\",\"Khabarovsk Krai\",\"Khanty\\u2013Mansi Autonomous Okrug \\u2013 Yugra\",\"Kirov Oblast\",\"Komi Republic\",\"Kostroma Oblast\",\"Krasnodar Krai\",\"Krasnoyarsk Krai\",\"Kurgan Oblast\",\"Kursk Oblast\",\"Leningrad Oblast\",\"Lipetsk Oblast\",\"Magadan Oblast\",\"Mari El Republic\",\"Moscow\",\"Moscow Oblast\",\"Murmansk Oblast\",\"Nenets Autonomous Okrug\",\"Nizhny Novgorod Oblast\",\"Novgorod Oblast\",\"Novosibirsk Oblast\",\"Omsk Oblast\",\"Orenburg Oblast\",\"Oryol Oblast\",\"Penza Oblast\",\"Perm Krai\",\"Primorsky Krai\",\"Pskov Oblast\",\"Republic of Adygea\",\"Republic of Bashkortostan\",\"Republic of Buryatia\",\"Republic of Crimea\",\"Republic of Dagestan\",\"Republic of Ingushetia\",\"Republic of Kalmykia\",\"Republic of Karelia\",\"Republic of Khakassia\",\"Republic of Mordovia\",\"Republic of North Ossetia-Alania\",\"Republic of Tatarstan\",\"Rostov Oblast\",\"Ryazan Oblast\",\"Saint Petersburg\",\"Sakha (Yakutia) Republic\",\"Sakhalin Oblast\",\"Samara Oblast\",\"Saratov Oblast\",\"Sevastopol\",\"Smolensk Oblast\",\"Stavropol Krai\",\"Sverdlovsk Oblast\",\"Tambov Oblast\",\"Tomsk Oblast\",\"Tula Oblast\",\"Tuva Republic\",\"Tver Oblast\",\"Tyumen Oblast\",\"Udmurt Republic\",\"Ulyanovsk Oblast\",\"Vladimir Oblast\",\"Volgograd Oblast\",\"Vologda Oblast\",\"Voronezh Oblast\",\"Yamalo-Nenets Autonomous Okrug\",\"Yaroslavl Oblast\",\"Zabaykalsky Krai\"],\"xaxis\":\"x\",\"y\":[62.45736842105263,52.78631578947368,74.32842105263158,75.58947368421055,69.68421052631578,52.339999999999996,59.772105263157904,96.06105263157895,35.29789473684211,54.293684210526315,82.99368421052631,93.91526315789474,61.39842105263157,34.24526315789474,80.45473684210526,73.62894736842105,90.54473684210527,30.03,80.23894736842104,93.4721052631579,96.54894736842105,77.89684210526315,98.12947368421054,64.58736842105263,71.55684210526317,83.39052631578949,72.20736842105262,70.25105263157894,87.70842105263159,71.4642105263158,73.18736842105264,47.64473684210526,115.73631578947368,86.62,73.21684210526315,77.05105263157894,67.71263157894735,68.52315789473685,83.96052631578947,91.6078947368421,59.74526315789473,61.26947368421053,71.08105263157896,83.78736842105263,71.5842105263158,70.2142105263158,40.22105263157894,68.20052631578947,51.94105263157895,44.26666666666666,14.907368421052633,22.025,32.894210526315796,70.26947368421052,85.46842105263156,54.73315789473684,24.98736842105263,76.25578947368422,60.94578947368421,66.89052631578949,106.7357894736842,58.48421052631579,77.26526315789474,64.75157894736842,52.91473684210526,35.166666666666664,88.53052631578949,66.79894736842105,94.95526315789473,65.64842105263158,66.08052631578947,58.80947368421053,64.83894736842106,78.45368421052632,99.58578947368422,73.73263157894738,60.377368421052644,63.897368421052626,72.26315789473684,95.1284210526316,71.36736842105263,102.98052631578945,87.28105263157894,90.40947368421054],\"yaxis\":\"y\",\"type\":\"bar\"}],                        {\"template\":{\"data\":{\"bar\":[{\"error_x\":{\"color\":\"#2a3f5f\"},\"error_y\":{\"color\":\"#2a3f5f\"},\"marker\":{\"line\":{\"color\":\"#E5ECF6\",\"width\":0.5},\"pattern\":{\"fillmode\":\"overlay\",\"size\":10,\"solidity\":0.2}},\"type\":\"bar\"}],\"barpolar\":[{\"marker\":{\"line\":{\"color\":\"#E5ECF6\",\"width\":0.5},\"pattern\":{\"fillmode\":\"overlay\",\"size\":10,\"solidity\":0.2}},\"type\":\"barpolar\"}],\"carpet\":[{\"aaxis\":{\"endlinecolor\":\"#2a3f5f\",\"gridcolor\":\"white\",\"linecolor\":\"white\",\"minorgridcolor\":\"white\",\"startlinecolor\":\"#2a3f5f\"},\"baxis\":{\"endlinecolor\":\"#2a3f5f\",\"gridcolor\":\"white\",\"linecolor\":\"white\",\"minorgridcolor\":\"white\",\"startlinecolor\":\"#2a3f5f\"},\"type\":\"carpet\"}],\"choropleth\":[{\"colorbar\":{\"outlinewidth\":0,\"ticks\":\"\"},\"type\":\"choropleth\"}],\"contour\":[{\"colorbar\":{\"outlinewidth\":0,\"ticks\":\"\"},\"colorscale\":[[0.0,\"#0d0887\"],[0.1111111111111111,\"#46039f\"],[0.2222222222222222,\"#7201a8\"],[0.3333333333333333,\"#9c179e\"],[0.4444444444444444,\"#bd3786\"],[0.5555555555555556,\"#d8576b\"],[0.6666666666666666,\"#ed7953\"],[0.7777777777777778,\"#fb9f3a\"],[0.8888888888888888,\"#fdca26\"],[1.0,\"#f0f921\"]],\"type\":\"contour\"}],\"contourcarpet\":[{\"colorbar\":{\"outlinewidth\":0,\"ticks\":\"\"},\"type\":\"contourcarpet\"}],\"heatmap\":[{\"colorbar\":{\"outlinewidth\":0,\"ticks\":\"\"},\"colorscale\":[[0.0,\"#0d0887\"],[0.1111111111111111,\"#46039f\"],[0.2222222222222222,\"#7201a8\"],[0.3333333333333333,\"#9c179e\"],[0.4444444444444444,\"#bd3786\"],[0.5555555555555556,\"#d8576b\"],[0.6666666666666666,\"#ed7953\"],[0.7777777777777778,\"#fb9f3a\"],[0.8888888888888888,\"#fdca26\"],[1.0,\"#f0f921\"]],\"type\":\"heatmap\"}],\"heatmapgl\":[{\"colorbar\":{\"outlinewidth\":0,\"ticks\":\"\"},\"colorscale\":[[0.0,\"#0d0887\"],[0.1111111111111111,\"#46039f\"],[0.2222222222222222,\"#7201a8\"],[0.3333333333333333,\"#9c179e\"],[0.4444444444444444,\"#bd3786\"],[0.5555555555555556,\"#d8576b\"],[0.6666666666666666,\"#ed7953\"],[0.7777777777777778,\"#fb9f3a\"],[0.8888888888888888,\"#fdca26\"],[1.0,\"#f0f921\"]],\"type\":\"heatmapgl\"}],\"histogram\":[{\"marker\":{\"pattern\":{\"fillmode\":\"overlay\",\"size\":10,\"solidity\":0.2}},\"type\":\"histogram\"}],\"histogram2d\":[{\"colorbar\":{\"outlinewidth\":0,\"ticks\":\"\"},\"colorscale\":[[0.0,\"#0d0887\"],[0.1111111111111111,\"#46039f\"],[0.2222222222222222,\"#7201a8\"],[0.3333333333333333,\"#9c179e\"],[0.4444444444444444,\"#bd3786\"],[0.5555555555555556,\"#d8576b\"],[0.6666666666666666,\"#ed7953\"],[0.7777777777777778,\"#fb9f3a\"],[0.8888888888888888,\"#fdca26\"],[1.0,\"#f0f921\"]],\"type\":\"histogram2d\"}],\"histogram2dcontour\":[{\"colorbar\":{\"outlinewidth\":0,\"ticks\":\"\"},\"colorscale\":[[0.0,\"#0d0887\"],[0.1111111111111111,\"#46039f\"],[0.2222222222222222,\"#7201a8\"],[0.3333333333333333,\"#9c179e\"],[0.4444444444444444,\"#bd3786\"],[0.5555555555555556,\"#d8576b\"],[0.6666666666666666,\"#ed7953\"],[0.7777777777777778,\"#fb9f3a\"],[0.8888888888888888,\"#fdca26\"],[1.0,\"#f0f921\"]],\"type\":\"histogram2dcontour\"}],\"mesh3d\":[{\"colorbar\":{\"outlinewidth\":0,\"ticks\":\"\"},\"type\":\"mesh3d\"}],\"parcoords\":[{\"line\":{\"colorbar\":{\"outlinewidth\":0,\"ticks\":\"\"}},\"type\":\"parcoords\"}],\"pie\":[{\"automargin\":true,\"type\":\"pie\"}],\"scatter\":[{\"marker\":{\"colorbar\":{\"outlinewidth\":0,\"ticks\":\"\"}},\"type\":\"scatter\"}],\"scatter3d\":[{\"line\":{\"colorbar\":{\"outlinewidth\":0,\"ticks\":\"\"}},\"marker\":{\"colorbar\":{\"outlinewidth\":0,\"ticks\":\"\"}},\"type\":\"scatter3d\"}],\"scattercarpet\":[{\"marker\":{\"colorbar\":{\"outlinewidth\":0,\"ticks\":\"\"}},\"type\":\"scattercarpet\"}],\"scattergeo\":[{\"marker\":{\"colorbar\":{\"outlinewidth\":0,\"ticks\":\"\"}},\"type\":\"scattergeo\"}],\"scattergl\":[{\"marker\":{\"colorbar\":{\"outlinewidth\":0,\"ticks\":\"\"}},\"type\":\"scattergl\"}],\"scattermapbox\":[{\"marker\":{\"colorbar\":{\"outlinewidth\":0,\"ticks\":\"\"}},\"type\":\"scattermapbox\"}],\"scatterpolar\":[{\"marker\":{\"colorbar\":{\"outlinewidth\":0,\"ticks\":\"\"}},\"type\":\"scatterpolar\"}],\"scatterpolargl\":[{\"marker\":{\"colorbar\":{\"outlinewidth\":0,\"ticks\":\"\"}},\"type\":\"scatterpolargl\"}],\"scatterternary\":[{\"marker\":{\"colorbar\":{\"outlinewidth\":0,\"ticks\":\"\"}},\"type\":\"scatterternary\"}],\"surface\":[{\"colorbar\":{\"outlinewidth\":0,\"ticks\":\"\"},\"colorscale\":[[0.0,\"#0d0887\"],[0.1111111111111111,\"#46039f\"],[0.2222222222222222,\"#7201a8\"],[0.3333333333333333,\"#9c179e\"],[0.4444444444444444,\"#bd3786\"],[0.5555555555555556,\"#d8576b\"],[0.6666666666666666,\"#ed7953\"],[0.7777777777777778,\"#fb9f3a\"],[0.8888888888888888,\"#fdca26\"],[1.0,\"#f0f921\"]],\"type\":\"surface\"}],\"table\":[{\"cells\":{\"fill\":{\"color\":\"#EBF0F8\"},\"line\":{\"color\":\"white\"}},\"header\":{\"fill\":{\"color\":\"#C8D4E3\"},\"line\":{\"color\":\"white\"}},\"type\":\"table\"}]},\"layout\":{\"annotationdefaults\":{\"arrowcolor\":\"#2a3f5f\",\"arrowhead\":0,\"arrowwidth\":1},\"autotypenumbers\":\"strict\",\"coloraxis\":{\"colorbar\":{\"outlinewidth\":0,\"ticks\":\"\"}},\"colorscale\":{\"diverging\":[[0,\"#8e0152\"],[0.1,\"#c51b7d\"],[0.2,\"#de77ae\"],[0.3,\"#f1b6da\"],[0.4,\"#fde0ef\"],[0.5,\"#f7f7f7\"],[0.6,\"#e6f5d0\"],[0.7,\"#b8e186\"],[0.8,\"#7fbc41\"],[0.9,\"#4d9221\"],[1,\"#276419\"]],\"sequential\":[[0.0,\"#0d0887\"],[0.1111111111111111,\"#46039f\"],[0.2222222222222222,\"#7201a8\"],[0.3333333333333333,\"#9c179e\"],[0.4444444444444444,\"#bd3786\"],[0.5555555555555556,\"#d8576b\"],[0.6666666666666666,\"#ed7953\"],[0.7777777777777778,\"#fb9f3a\"],[0.8888888888888888,\"#fdca26\"],[1.0,\"#f0f921\"]],\"sequentialminus\":[[0.0,\"#0d0887\"],[0.1111111111111111,\"#46039f\"],[0.2222222222222222,\"#7201a8\"],[0.3333333333333333,\"#9c179e\"],[0.4444444444444444,\"#bd3786\"],[0.5555555555555556,\"#d8576b\"],[0.6666666666666666,\"#ed7953\"],[0.7777777777777778,\"#fb9f3a\"],[0.8888888888888888,\"#fdca26\"],[1.0,\"#f0f921\"]]},\"colorway\":[\"#636efa\",\"#EF553B\",\"#00cc96\",\"#ab63fa\",\"#FFA15A\",\"#19d3f3\",\"#FF6692\",\"#B6E880\",\"#FF97FF\",\"#FECB52\"],\"font\":{\"color\":\"#2a3f5f\"},\"geo\":{\"bgcolor\":\"white\",\"lakecolor\":\"white\",\"landcolor\":\"#E5ECF6\",\"showlakes\":true,\"showland\":true,\"subunitcolor\":\"white\"},\"hoverlabel\":{\"align\":\"left\"},\"hovermode\":\"closest\",\"mapbox\":{\"style\":\"light\"},\"paper_bgcolor\":\"white\",\"plot_bgcolor\":\"#E5ECF6\",\"polar\":{\"angularaxis\":{\"gridcolor\":\"white\",\"linecolor\":\"white\",\"ticks\":\"\"},\"bgcolor\":\"#E5ECF6\",\"radialaxis\":{\"gridcolor\":\"white\",\"linecolor\":\"white\",\"ticks\":\"\"}},\"scene\":{\"xaxis\":{\"backgroundcolor\":\"#E5ECF6\",\"gridcolor\":\"white\",\"gridwidth\":2,\"linecolor\":\"white\",\"showbackground\":true,\"ticks\":\"\",\"zerolinecolor\":\"white\"},\"yaxis\":{\"backgroundcolor\":\"#E5ECF6\",\"gridcolor\":\"white\",\"gridwidth\":2,\"linecolor\":\"white\",\"showbackground\":true,\"ticks\":\"\",\"zerolinecolor\":\"white\"},\"zaxis\":{\"backgroundcolor\":\"#E5ECF6\",\"gridcolor\":\"white\",\"gridwidth\":2,\"linecolor\":\"white\",\"showbackground\":true,\"ticks\":\"\",\"zerolinecolor\":\"white\"}},\"shapedefaults\":{\"line\":{\"color\":\"#2a3f5f\"}},\"ternary\":{\"aaxis\":{\"gridcolor\":\"white\",\"linecolor\":\"white\",\"ticks\":\"\"},\"baxis\":{\"gridcolor\":\"white\",\"linecolor\":\"white\",\"ticks\":\"\"},\"bgcolor\":\"#E5ECF6\",\"caxis\":{\"gridcolor\":\"white\",\"linecolor\":\"white\",\"ticks\":\"\"}},\"title\":{\"x\":0.05},\"xaxis\":{\"automargin\":true,\"gridcolor\":\"white\",\"linecolor\":\"white\",\"ticks\":\"\",\"title\":{\"standoff\":15},\"zerolinecolor\":\"white\",\"zerolinewidth\":2},\"yaxis\":{\"automargin\":true,\"gridcolor\":\"white\",\"linecolor\":\"white\",\"ticks\":\"\",\"title\":{\"standoff\":15},\"zerolinecolor\":\"white\",\"zerolinewidth\":2}}},\"xaxis\":{\"anchor\":\"y\",\"domain\":[0.0,1.0],\"title\":{\"text\":\"region\"},\"categoryorder\":\"total descending\"},\"yaxis\":{\"anchor\":\"x\",\"domain\":[0.0,1.0],\"title\":{\"text\":\"total_volume_mean\"}},\"coloraxis\":{\"colorbar\":{\"title\":{\"text\":\"urbanization\"}},\"colorscale\":[[0.0,\"#0d0887\"],[0.1111111111111111,\"#46039f\"],[0.2222222222222222,\"#7201a8\"],[0.3333333333333333,\"#9c179e\"],[0.4444444444444444,\"#bd3786\"],[0.5555555555555556,\"#d8576b\"],[0.6666666666666666,\"#ed7953\"],[0.7777777777777778,\"#fb9f3a\"],[0.8888888888888888,\"#fdca26\"],[1.0,\"#f0f921\"]]},\"legend\":{\"tracegroupgap\":0},\"margin\":{\"t\":60},\"barmode\":\"relative\"},                        {\"responsive\": true}                    ).then(function(){\n",
       "                            \n",
       "var gd = document.getElementById('33a303d4-2fb6-428b-9cbc-9bb7c202f0b2');\n",
       "var x = new MutationObserver(function (mutations, observer) {{\n",
       "        var display = window.getComputedStyle(gd).display;\n",
       "        if (!display || display === 'none') {{\n",
       "            console.log([gd, 'removed!']);\n",
       "            Plotly.purge(gd);\n",
       "            observer.disconnect();\n",
       "        }}\n",
       "}});\n",
       "\n",
       "// Listen for the removal of the full notebook cells\n",
       "var notebookContainer = gd.closest('#notebook-container');\n",
       "if (notebookContainer) {{\n",
       "    x.observe(notebookContainer, {childList: true});\n",
       "}}\n",
       "\n",
       "// Listen for the clearing of the current output cell\n",
       "var outputEl = gd.closest('.output');\n",
       "if (outputEl) {{\n",
       "    x.observe(outputEl, {childList: true});\n",
       "}}\n",
       "\n",
       "                        })                };                });            </script>        </div>"
      ]
     },
     "metadata": {},
     "output_type": "display_data"
    }
   ],
   "source": [
    "fig = px.bar(df_region, x='region', y=\"total_volume_mean\", color = \"urbanization\").update_xaxes(categoryorder=\"total descending\")\n",
    "fig.show()"
   ]
  },
  {
   "cell_type": "markdown",
   "id": "01d1fe23",
   "metadata": {},
   "source": []
  },
  {
   "cell_type": "code",
   "execution_count": 157,
   "id": "e0e2caf9",
   "metadata": {},
   "outputs": [
    {
     "data": {
      "image/png": "[encoded data removed]",
      "text/plain": [
       "<Figure size 864x720 with 2 Axes>"
      ]
     },
     "metadata": {
      "needs_background": "light"
     },
     "output_type": "display_data"
    }
   ],
   "source": [
    "#Using Pearson Correlation\n",
    "plt.figure(figsize=(12,10))\n",
    "df_1 = df.drop([\"death_rate\",\"wine\",\"birth_rate\",\"year\", \"beer\", \"vodka\",\"region\",\"gdw\",\"champagne\",\"brandy\", \"npg\"], axis = 1)\n",
    "cor = df_1.corr()\n",
    "sns.heatmap(cor, annot=True, cmap=plt.cm.Reds)\n",
    "plt.show()"
   ]
  },
  {
   "cell_type": "markdown",
   "id": "7e656025",
   "metadata": {},
   "source": [
    "It seems that regions with higher urbanization levels tend to drink more. There is also a good correlation between the urbanization level and alcohol consumption. However, of course, this doesn't describe the cause of the alchocol consumption levels since there are many other factors such as standard of living that most probably play a role."
   ]
  },
  {
   "cell_type": "code",
   "execution_count": null,
   "id": "2b47f956",
   "metadata": {},
   "outputs": [],
   "source": []
  }
 ],
 "metadata": {
  "kernelspec": {
   "display_name": "Python 3 (ipykernel)",
   "language": "python",
   "name": "python3"
  },
  "language_info": {
   "codemirror_mode": {
    "name": "ipython",
    "version": 3
   },
   "file_extension": ".py",
   "mimetype": "text/x-python",
   "name": "python",
   "nbconvert_exporter": "python",
   "pygments_lexer": "ipython3",
   "version": "3.9.7"
  }
 },
 "nbformat": 4,
 "nbformat_minor": 5
}
